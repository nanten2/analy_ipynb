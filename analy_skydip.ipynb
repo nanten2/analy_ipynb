{
 "cells": [
  {
   "cell_type": "code",
   "execution_count": 1,
   "metadata": {},
   "outputs": [],
   "source": [
    "%matplotlib inline\n",
    "import numpy as np\n",
    "import astropy.io as fits\n",
    "import math\n",
    "import matplotlib as mpl\n",
    "import matplotlib.pylab as plt\n",
    "from scipy.optimize import curve_fit\n",
    "import sys\n",
    "\n",
    "sys.path.append('/home/amigos/otf_yamada/python_modules/analy_n2data/')"
   ]
  },
  {
   "cell_type": "code",
   "execution_count": 2,
   "metadata": {},
   "outputs": [],
   "source": [
    "import n2analy"
   ]
  },
  {
   "cell_type": "code",
   "execution_count": 16,
   "metadata": {},
   "outputs": [
    {
     "name": "stderr",
     "output_type": "stream",
     "text": [
      "100%|██████████| 3/3 [00:00<00:00, 290.97it/s]\n",
      "100%|██████████| 3/3 [00:00<00:00, 327.87it/s]\n",
      "100%|██████████| 3/3 [00:00<00:00, 376.22it/s]\n",
      "100%|██████████| 3/3 [00:00<00:00, 391.84it/s]\n",
      "100%|██████████| 3/3 [00:00<00:00, 426.37it/s]\n",
      "100%|██████████| 3/3 [00:00<00:00, 437.80it/s]"
     ]
    },
    {
     "name": "stdout",
     "output_type": "stream",
     "text": [
      "read end\n",
      " 20.0\n",
      " 25.0\n",
      " 30.0\n",
      " 45.0\n",
      " 60.0\n",
      " 70.0\n",
      " 80.0\n",
      " 99.0\n",
      "HOT 0.0\n",
      "HOT 20.0\n",
      "HOT 25.0\n",
      "HOT 30.0\n",
      "HOT 45.0\n",
      "HOT 60.0\n",
      "HOT 70.0\n",
      "HOT 80.0\n",
      "SKY 0.0\n",
      "SKY 99.0\n",
      "read end\n",
      " 20.0\n",
      " 25.0\n",
      " 30.0\n",
      " 45.0\n",
      " 60.0\n",
      " 70.0\n",
      " 80.0\n",
      " 99.0\n",
      "HOT 0.0\n",
      "HOT 20.0\n",
      "HOT 25.0\n",
      "HOT 30.0\n",
      "HOT 45.0\n",
      "HOT 60.0\n",
      "HOT 70.0\n",
      "HOT 80.0\n",
      "SKY 0.0\n",
      "SKY 99.0\n",
      "read end\n",
      " 20.0\n",
      " 25.0\n",
      " 30.0\n",
      " 45.0\n",
      " 60.0\n",
      " 70.0\n",
      " 80.0\n",
      " 99.0\n",
      "HOT 0.0\n",
      "HOT 20.0\n",
      "HOT 25.0\n",
      "HOT 30.0\n",
      "HOT 45.0\n",
      "HOT 60.0\n",
      "HOT 70.0\n",
      "HOT 80.0\n",
      "SKY 0.0\n",
      "SKY 99.0\n",
      "read end\n",
      " 20.0\n",
      " 25.0\n",
      " 30.0\n",
      " 45.0\n",
      " 60.0\n",
      " 70.0\n",
      " 80.0\n",
      " 99.0\n",
      "HOT 0.0\n",
      "HOT 20.0\n",
      "HOT 25.0\n",
      "HOT 30.0\n",
      "HOT 45.0\n",
      "HOT 60.0\n",
      "HOT 70.0\n",
      "HOT 80.0\n",
      "SKY 0.0\n",
      "SKY 99.0\n",
      "read end\n",
      " 20.0\n",
      " 25.0\n",
      " 30.0\n",
      " 45.0\n",
      " 60.0\n",
      " 70.0\n",
      " 80.0\n",
      " 99.0\n",
      "HOT 0.0\n",
      "HOT 20.0\n",
      "HOT 25.0\n",
      "HOT 30.0\n",
      "HOT 45.0\n",
      "HOT 60.0\n",
      "HOT 70.0\n",
      "HOT 80.0\n",
      "SKY 0.0\n",
      "SKY 99.0\n",
      "read end\n",
      " 20.0\n",
      " 25.0\n",
      " 30.0\n",
      " 45.0\n",
      " 60.0\n",
      " 70.0\n",
      " 80.0\n",
      " 99.0\n",
      "HOT 0.0\n",
      "HOT 20.0\n",
      "HOT 25.0\n",
      "HOT 30.0\n",
      "HOT 45.0\n",
      "HOT 60.0\n",
      "HOT 70.0\n",
      "HOT 80.0\n",
      "SKY 0.0\n",
      "SKY 99.0\n",
      "read end\n"
     ]
    },
    {
     "name": "stderr",
     "output_type": "stream",
     "text": [
      "\n",
      "100%|██████████| 3/3 [00:00<00:00, 477.02it/s]\n",
      "100%|██████████| 3/3 [00:00<00:00, 417.09it/s]\n",
      "100%|██████████| 3/3 [00:00<00:00, 434.69it/s]\n",
      "100%|██████████| 3/3 [00:00<00:00, 461.49it/s]\n",
      "100%|██████████| 3/3 [00:00<00:00, 481.35it/s]\n",
      "100%|██████████| 3/3 [00:00<00:00, 475.11it/s]\n",
      "100%|██████████| 3/3 [00:00<00:00, 482.75it/s]\n",
      "  0%|          | 0/3 [00:00<?, ?it/s]"
     ]
    },
    {
     "name": "stdout",
     "output_type": "stream",
     "text": [
      " 20.0\n",
      " 25.0\n",
      " 30.0\n",
      " 45.0\n",
      " 60.0\n",
      " 70.0\n",
      " 80.0\n",
      " 99.0\n",
      "HOT 0.0\n",
      "HOT 20.0\n",
      "HOT 25.0\n",
      "HOT 30.0\n",
      "HOT 45.0\n",
      "HOT 60.0\n",
      "HOT 70.0\n",
      "HOT 80.0\n",
      "SKY 0.0\n",
      "SKY 99.0\n",
      "read end\n",
      " 20.0\n",
      " 25.0\n",
      " 30.0\n",
      " 45.0\n",
      " 60.0\n",
      " 70.0\n",
      " 80.0\n",
      " 99.0\n",
      "HOT 0.0\n",
      "HOT 20.0\n",
      "HOT 25.0\n",
      "HOT 30.0\n",
      "HOT 45.0\n",
      "HOT 60.0\n",
      "HOT 70.0\n",
      "HOT 80.0\n",
      "SKY 0.0\n",
      "SKY 99.0\n",
      "read end\n",
      " 20.0\n",
      " 25.0\n",
      " 30.0\n",
      " 45.0\n",
      " 60.0\n",
      " 70.0\n",
      " 80.0\n",
      " 99.0\n",
      "HOT 0.0\n",
      "HOT 20.0\n",
      "HOT 25.0\n",
      "HOT 30.0\n",
      "HOT 45.0\n",
      "HOT 60.0\n",
      "HOT 70.0\n",
      "HOT 80.0\n",
      "SKY 0.0\n",
      "SKY 99.0\n",
      "read end\n",
      " 20.0\n",
      " 25.0\n",
      " 30.0\n",
      " 45.0\n",
      " 60.0\n",
      " 70.0\n",
      " 80.0\n",
      " 99.0\n",
      "HOT 0.0\n",
      "HOT 20.0\n",
      "HOT 25.0\n",
      "HOT 30.0\n",
      "HOT 45.0\n",
      "HOT 60.0\n",
      "HOT 70.0\n",
      "HOT 80.0\n",
      "SKY 0.0\n",
      "SKY 99.0\n",
      "read end\n",
      " 20.0\n",
      " 25.0\n",
      " 30.0\n",
      " 45.0\n",
      " 60.0\n",
      " 70.0\n",
      " 80.0\n",
      " 99.0\n",
      "HOT 0.0\n",
      "HOT 20.0\n",
      "HOT 25.0\n",
      "HOT 30.0\n",
      "HOT 45.0\n",
      "HOT 60.0\n",
      "HOT 70.0\n",
      "HOT 80.0\n",
      "SKY 0.0\n",
      "SKY 99.0\n",
      "read end\n",
      " 20.0\n",
      " 25.0\n",
      " 30.0\n",
      " 45.0\n",
      " 60.0\n",
      " 70.0\n",
      " 80.0\n",
      " 99.0\n",
      "HOT 0.0\n",
      "HOT 20.0\n",
      "HOT 25.0\n",
      "HOT 30.0\n",
      "HOT 45.0\n",
      "HOT 60.0\n",
      "HOT 70.0\n",
      "HOT 80.0\n",
      "SKY 0.0\n",
      "SKY 99.0\n",
      "read end\n",
      " 20.0\n",
      " 25.0\n",
      " 30.0\n",
      " 45.0\n",
      " 60.0\n",
      " 70.0\n",
      " 80.0\n",
      " 99.0\n",
      "HOT 0.0\n",
      "HOT 20.0\n",
      "HOT 25.0\n",
      "HOT 30.0\n",
      "HOT 45.0\n",
      "HOT 60.0\n",
      "HOT 70.0\n",
      "HOT 80.0\n",
      "SKY 0.0\n",
      "SKY 99.0\n",
      "read end\n",
      " 20.0\n",
      " 25.0\n",
      " 30.0\n"
     ]
    },
    {
     "name": "stderr",
     "output_type": "stream",
     "text": [
      "100%|██████████| 3/3 [00:00<00:00, 469.07it/s]\n",
      "100%|██████████| 3/3 [00:00<00:00, 489.84it/s]\n",
      "100%|██████████| 3/3 [00:00<00:00, 490.43it/s]\n"
     ]
    },
    {
     "name": "stdout",
     "output_type": "stream",
     "text": [
      " 45.0\n",
      " 60.0\n",
      " 70.0\n",
      " 80.0\n",
      " 99.0\n",
      "HOT 0.0\n",
      "HOT 20.0\n",
      "HOT 25.0\n",
      "HOT 30.0\n",
      "HOT 45.0\n",
      "HOT 60.0\n",
      "HOT 70.0\n",
      "HOT 80.0\n",
      "SKY 0.0\n",
      "SKY 99.0\n",
      "read end\n",
      " 20.0\n",
      " 25.0\n",
      " 30.0\n",
      " 45.0\n",
      " 60.0\n",
      " 70.0\n",
      " 80.0\n",
      " 99.0\n",
      "HOT 0.0\n",
      "HOT 20.0\n",
      "HOT 25.0\n",
      "HOT 30.0\n",
      "HOT 45.0\n",
      "HOT 60.0\n",
      "HOT 70.0\n",
      "HOT 80.0\n",
      "SKY 0.0\n",
      "SKY 99.0\n",
      "read end\n",
      " 20.0\n",
      " 25.0\n",
      " 30.0\n",
      " 45.0\n",
      " 60.0\n",
      " 70.0\n",
      " 80.0\n",
      " 99.0\n",
      "HOT 0.0\n",
      "HOT 20.0\n",
      "HOT 25.0\n",
      "HOT 30.0\n",
      "HOT 45.0\n",
      "HOT 60.0\n",
      "HOT 70.0\n",
      "HOT 80.0\n",
      "SKY 0.0\n",
      "SKY 99.0\n"
     ]
    }
   ],
   "source": [
    "path = ('/home/amigos/seigyo/hdd/HDD_4/data/home/amigos/hdd/data/skydip_xffts/20191010071059/')\n",
    "path = ('/home/amigos/seigyo/hdd/HDD_4/data/home/amigos/hdd/data/skydip_xffts/20191010130141/')\n",
    "path = ('/home/amigos/seigyo/hdd/HDD_4/data/home/amigos/hdd/data/skydip_xffts/20191011085746/')\n",
    "data_1 = n2analy.get_tpdata(path, '01')\n",
    "data_2 = n2analy.get_tpdata(path, '02')\n",
    "data_3 = n2analy.get_tpdata(path, '03')\n",
    "data_4 = n2analy.get_tpdata(path, '04')\n",
    "data_5 = n2analy.get_tpdata(path, '05')\n",
    "data_6 = n2analy.get_tpdata(path, '06')\n",
    "data_7 = n2analy.get_tpdata(path, '07')\n",
    "data_8 = n2analy.get_tpdata(path, '08')\n",
    "data_9 = n2analy.get_tpdata(path, '09')\n",
    "data_10 = n2analy.get_tpdata(path, '10')\n",
    "data_11 = n2analy.get_tpdata(path, '11')\n",
    "data_12 = n2analy.get_tpdata(path, '12')\n",
    "data_13 = n2analy.get_tpdata(path, '13')\n",
    "data_14 = n2analy.get_tpdata(path, '14')\n",
    "data_15 = n2analy.get_tpdata(path, '15')\n",
    "data_16 = n2analy.get_tpdata(path, '16')"
   ]
  },
  {
   "cell_type": "code",
   "execution_count": 17,
   "metadata": {},
   "outputs": [],
   "source": [
    "data_list = [data_1, data_2, data_3, data_4, data_5, data_6, data_7, data_8, data_9, data_10, data_11, data_12, data_13, data_14, data_15, data_16]"
   ]
  },
  {
   "cell_type": "code",
   "execution_count": 18,
   "metadata": {},
   "outputs": [
    {
     "name": "stdout",
     "output_type": "stream",
     "text": [
      "[3.73123801e+13 3.73692447e+13 3.73589018e+13 ... 3.77768494e+13\n",
      " 3.77209101e+13 3.77848487e+13]\n"
     ]
    }
   ],
   "source": [
    "print(np.array(data_list[0]))"
   ]
  },
  {
   "cell_type": "code",
   "execution_count": null,
   "metadata": {},
   "outputs": [],
   "source": []
  },
  {
   "cell_type": "code",
   "execution_count": 19,
   "metadata": {},
   "outputs": [
    {
     "name": "stdout",
     "output_type": "stream",
     "text": [
      "(16, 9)\n"
     ]
    }
   ],
   "source": [
    "#classify obsmode\n",
    "data_list2 = []\n",
    "hot_list = []\n",
    "\n",
    "for i in data_list:\n",
    "    skymask = i['obsmode'] == 'SKY'\n",
    "    hotmask = i['obsmode'] == 'HOT'\n",
    "    data_list2.append(np.array(i)[skymask])\n",
    "    hot_list.append(np.array(i)[hotmask])\n",
    "    \n",
    "print(np.array(hot_list).shape)"
   ]
  },
  {
   "cell_type": "code",
   "execution_count": 20,
   "metadata": {},
   "outputs": [],
   "source": [
    "tp_list = []\n",
    "\n",
    "for i in data_list:\n",
    "    sequence1 = []\n",
    "    el_80_mask = i['scannum'] == '80.0'\n",
    "    el_70_mask = i['scannum'] == '70.0'\n",
    "    el_60_mask = i['scannum'] == '60.0'\n",
    "    el_45_mask = i['scannum'] == '45.0'\n",
    "    el_30_mask = i['scannum'] == '30.0'\n",
    "    el_25_mask = i['scannum'] == '25.0'\n",
    "    el_20_mask = i['scannum'] == '20.0'\n",
    "    \n",
    "    sequence1.append(np.mean(np.array(i[el_80_mask])))\n",
    "    sequence1.append(np.mean(np.array(i[el_70_mask])))\n",
    "    sequence1.append(np.mean(np.array(i[el_60_mask])))\n",
    "    sequence1.append(np.mean(np.array(i[el_45_mask])))\n",
    "    sequence1.append(np.mean(np.array(i[el_30_mask])))\n",
    "    sequence1.append(np.mean(np.array(i[el_25_mask])))\n",
    "    sequence1.append(np.mean(np.array(i[el_20_mask])))\n",
    "    \n",
    "    tp_list.append(sequence1)"
   ]
  },
  {
   "cell_type": "code",
   "execution_count": 21,
   "metadata": {},
   "outputs": [
    {
     "data": {
      "text/plain": [
       "(16, 7)"
      ]
     },
     "execution_count": 21,
     "metadata": {},
     "output_type": "execute_result"
    }
   ],
   "source": [
    "np.array(tp_list).shape"
   ]
  },
  {
   "cell_type": "code",
   "execution_count": 22,
   "metadata": {},
   "outputs": [
    {
     "name": "stdout",
     "output_type": "stream",
     "text": [
      "(16,)\n",
      "(16, 7)\n"
     ]
    }
   ],
   "source": [
    "# calc tau\n",
    "#log(p_hot-p_sky)のlistの作成   \n",
    "\n",
    "hot_list_mean = []\n",
    "for i in hot_list:\n",
    "    hot_list_mean.append(np.mean(np.array(i)))\n",
    "    \n",
    "print(np.array(hot_list_mean).shape)\n",
    "\n",
    "print(np.array(tp_list).shape)"
   ]
  },
  {
   "cell_type": "code",
   "execution_count": 23,
   "metadata": {},
   "outputs": [],
   "source": [
    "d_hot_sky = []\n",
    "d_hot_sky_tempo = []\n",
    "\n",
    "tp_list = np.array(tp_list)\n",
    "\n",
    "\n",
    "for j in range(len(tp_list)):\n",
    "    d_hot_sky1=[]\n",
    "    hot_list_mean_ = hot_list_mean[j]\n",
    "    for i in tp_list[j]:\n",
    "        #print(i)\n",
    "        #print(hot_list_mean)\n",
    "        #print(i)\n",
    "        d_temp = hot_list_mean_ - i\n",
    "        #print(d_temp)\n",
    "        #print(d_temp)\n",
    "        try:\n",
    "            d_temp2 = math.log(d_temp)\n",
    "        except:\n",
    "            d_temp2 = 0\n",
    "        d_hot_sky1.append(d_temp2)\n",
    "    d_hot_sky.append(d_hot_sky1)"
   ]
  },
  {
   "cell_type": "code",
   "execution_count": 24,
   "metadata": {},
   "outputs": [
    {
     "data": {
      "text/plain": [
       "(16, 7)"
      ]
     },
     "execution_count": 24,
     "metadata": {},
     "output_type": "execute_result"
    }
   ],
   "source": [
    "np.array(d_hot_sky).shape"
   ]
  },
  {
   "cell_type": "code",
   "execution_count": 25,
   "metadata": {},
   "outputs": [
    {
     "name": "stdout",
     "output_type": "stream",
     "text": [
      "[1.0154266118857451, 1.064177772475912, 1.1547005383792515, 1.414213562373095, 1.9999999999999996, 2.3662015831524985, 2.9238044001630863]\n",
      "[1.0154266118857451, 1.064177772475912, 1.1547005383792515, 1.414213562373095, 1.9999999999999996, 2.3662015831524985, 2.9238044001630863]\n",
      "(16, 7)\n"
     ]
    }
   ],
   "source": [
    "#seczの計算  \n",
    "z = [80, 70, 60, 45, 30, 25, 20]\n",
    "_z = []\n",
    "for i in range(len(z)):\n",
    "    __z = 90 - z[i]\n",
    "    _z.append(__z)\n",
    "\n",
    "secz = []\n",
    "for i in range(len(_z)):\n",
    "    secz_temp = (_z[i]/180)*math.pi\n",
    "    secz.append(1/math.cos(secz_temp))\n",
    "\n",
    "#print(d_hot_sky1)\n",
    "#print(d_hot_sky2)\n",
    "\n",
    "#print(secz)\n",
    "\n",
    "_secz = sorted(secz, reverse=False)\n",
    "#print(secz)\n",
    "import matplotlib.pyplot as plt2\n",
    "#fig = plt2.figure(figsize=(20.0, 6.0))\n",
    "#ax = fig.add_subplot(111)\n",
    "#ax.plot(d_hot_sky1)\n",
    "#plt2.plot(secz, d_hot_sky[0])\n",
    "#plt2.plot(secz, d_hot_sky[1])\n",
    "#plt2.show\n",
    "\n",
    "print(np.array(d_hot_sky).shape)"
   ]
  },
  {
   "cell_type": "code",
   "execution_count": null,
   "metadata": {},
   "outputs": [],
   "source": []
  },
  {
   "cell_type": "code",
   "execution_count": 27,
   "metadata": {},
   "outputs": [],
   "source": [
    "fit_array_list =[]\n",
    "\n",
    "for i in d_hot_sky:\n",
    "    try:\n",
    "        fit = np.polyfit(secz, np.array(i),1)\n",
    "        fit_array_list.append(fit)\n",
    "    except:\n",
    "        fit_array_list.append(np.zeros(2))\n",
    "    \n",
    "#print(np.array(fit_array_list[1][0][1]))\n",
    "\n",
    "\n",
    "fit_array_list_debug=[]\n",
    "\n",
    "\n",
    "        \n"
   ]
  },
  {
   "cell_type": "code",
   "execution_count": 28,
   "metadata": {},
   "outputs": [
    {
     "name": "stderr",
     "output_type": "stream",
     "text": [
      "No handles with labels found to put in legend.\n",
      "No handles with labels found to put in legend.\n",
      "No handles with labels found to put in legend.\n",
      "No handles with labels found to put in legend.\n",
      "No handles with labels found to put in legend.\n",
      "No handles with labels found to put in legend.\n",
      "No handles with labels found to put in legend.\n",
      "No handles with labels found to put in legend.\n",
      "No handles with labels found to put in legend.\n",
      "No handles with labels found to put in legend.\n"
     ]
    },
    {
     "data": {
      "image/png": "[encoded data removed]",
      "text/plain": [
       "<Figure size 1152x1152 with 16 Axes>"
      ]
     },
     "metadata": {
      "needs_background": "light"
     },
     "output_type": "display_data"
    }
   ],
   "source": [
    "fig = plt.figure(figsize=(16,16))\n",
    "ax = [fig.add_subplot(4, 4, i+1) for i in range(16)]\n",
    "    \n",
    "for i, _ax in enumerate(ax):\n",
    "    if (-1*fit_array_list[i][0] >= 1) or (-1*fit_array_list[i][0] <= 0):\n",
    "        _ax.text(0.3, 0.5, 'bad data', transform = _ax.transAxes, fontsize=25)\n",
    "    else:\n",
    "        try:\n",
    "            _ax.plot(secz, np.poly1d(fit_array_list[i])(secz), label=\"dfs1\")\n",
    "            _ax.plot(secz, d_hot_sky[i], 'o')\n",
    "            _ax.text(0.1, 0.1, 'tau = {:.4f}'.format(-1*fit_array_list[i][0]), transform = _ax.transAxes)\n",
    "        except:\n",
    "            _ax.text(0.3, 0.5, 'bad data', transform = _ax.transAxes, fontsize=25)\n",
    "\n",
    "    _ax.set_xlabel('secZ')\n",
    "    _ax.set_ylabel(\"count\")\n",
    "    _ax.set_yscale(\"log\")\n",
    "    _ax.set_title('IF : {}'.format(i+1))\n",
    "    _ax.legend()\n",
    "    _ax.grid()\n",
    "    \n",
    "plt.tight_layout()"
   ]
  },
  {
   "cell_type": "code",
   "execution_count": null,
   "metadata": {},
   "outputs": [],
   "source": []
  },
  {
   "cell_type": "code",
   "execution_count": null,
   "metadata": {
    "scrolled": true
   },
   "outputs": [],
   "source": []
  },
  {
   "cell_type": "code",
   "execution_count": null,
   "metadata": {},
   "outputs": [],
   "source": []
  },
  {
   "cell_type": "code",
   "execution_count": null,
   "metadata": {},
   "outputs": [],
   "source": []
  },
  {
   "cell_type": "code",
   "execution_count": null,
   "metadata": {},
   "outputs": [],
   "source": []
  },
  {
   "cell_type": "code",
   "execution_count": null,
   "metadata": {},
   "outputs": [],
   "source": []
  },
  {
   "cell_type": "code",
   "execution_count": null,
   "metadata": {},
   "outputs": [],
   "source": []
  },
  {
   "cell_type": "code",
   "execution_count": null,
   "metadata": {},
   "outputs": [],
   "source": []
  },
  {
   "cell_type": "code",
   "execution_count": null,
   "metadata": {},
   "outputs": [],
   "source": []
  },
  {
   "cell_type": "code",
   "execution_count": null,
   "metadata": {},
   "outputs": [],
   "source": []
  },
  {
   "cell_type": "code",
   "execution_count": null,
   "metadata": {},
   "outputs": [],
   "source": []
  },
  {
   "cell_type": "code",
   "execution_count": null,
   "metadata": {},
   "outputs": [],
   "source": []
  },
  {
   "cell_type": "code",
   "execution_count": null,
   "metadata": {},
   "outputs": [],
   "source": []
  },
  {
   "cell_type": "code",
   "execution_count": null,
   "metadata": {},
   "outputs": [],
   "source": []
  },
  {
   "cell_type": "code",
   "execution_count": null,
   "metadata": {},
   "outputs": [],
   "source": []
  },
  {
   "cell_type": "code",
   "execution_count": null,
   "metadata": {},
   "outputs": [],
   "source": []
  },
  {
   "cell_type": "code",
   "execution_count": null,
   "metadata": {},
   "outputs": [],
   "source": []
  }
 ],
 "metadata": {
  "kernelspec": {
   "display_name": "analy-Eyq-irNF",
   "language": "python",
   "name": "analy-eyq-irnf"
  },
  "language_info": {
   "codemirror_mode": {
    "name": "ipython",
    "version": 3
   },
   "file_extension": ".py",
   "mimetype": "text/x-python",
   "name": "python",
   "nbconvert_exporter": "python",
   "pygments_lexer": "ipython3",
   "version": "3.7.0"
  }
 },
 "nbformat": 4,
 "nbformat_minor": 2
}
