{
 "cells": [
  {
   "cell_type": "markdown",
   "metadata": {},
   "source": [
    "### 観測データ\n",
    "解析に必要なデータ\n",
    "- XFFTS data\n",
    "- encoder (doppler計算できない)\n",
    "- weather status\n",
    "- hosei copy\n",
    "- obs copy\n",
    "\n",
    "\n",
    "### 解析フロー\n",
    "\n",
    "- doppler tracking[x]\n",
    "- Chopper Wheel [o]\n",
    "- baseline fitting [o]\n",
    "- Scaling(from standard object?) [x]\n",
    "- regrid [o]\n",
    "    - rms [o]\n",
    "    - distance [o]\n",
    "- +header [o]\n",
    "- 3d-fits[o]"
   ]
  },
  {
   "cell_type": "code",
   "execution_count": 34,
   "metadata": {},
   "outputs": [
    {
     "name": "stdout",
     "output_type": "stream",
     "text": [
      "hosei_230.txt  ps_OriKL.obs  weather.csv  xffts.ndf\r\n"
     ]
    }
   ],
   "source": [
    "!ls /home/amigos/data/position_switching2019/n20190831094711_12CO_2-1_otf_OriKL/\n",
    "import time\n",
    "start_time = time.time()"
   ]
  },
  {
   "cell_type": "code",
   "execution_count": 35,
   "metadata": {},
   "outputs": [],
   "source": [
    "#radec 変換データ作成\n",
    "#! python analy_coordinates.py\n",
    "import sys\n",
    "sys.path.append(\"../script/\")\n",
    "import subprocess\n",
    "import os\n",
    "import numpy\n",
    "import matplotlib.pyplot as plt\n",
    "from tqdm import tqdm\n",
    "from joblib import Parallel, delayed\n",
    "import numba\n",
    "from astropy.io import fits\n",
    "import glob\n",
    "from scipy import interpolate\n",
    "###以下独自\n",
    "import n2df\n",
    "import read_obsfile\n",
    "import analy_doppler_nanten"
   ]
  },
  {
   "cell_type": "code",
   "execution_count": 36,
   "metadata": {
    "collapsed": true
   },
   "outputs": [],
   "source": [
    "analy_dir = \"/home/amigos/data/position_switching2019/n20190831094711_12CO_2-1_otf_OriKL/\"\n",
    "analy_dir = \"/home/amigos/data/position_switching2019/n20190904073619_12CO_2-1_otf_OriKL/\" # hosei parameters= 0\n",
    "analy_dir = \"/home/amigos/data/position_switching2019/n20190905095023_12CO_2-1_otf_OriKL\"\n",
    "subprocess.getoutput([\"ls {}\".format(analy_dir)]).split(\"\\n\")\n",
    "obspath = glob.glob(analy_dir+\"/*obs\")\n",
    "obs = read_obsfile.read(obspath[0])"
   ]
  },
  {
   "cell_type": "code",
   "execution_count": 37,
   "metadata": {},
   "outputs": [
    {
     "name": "stdout",
     "output_type": "stream",
     "text": [
      "      timestamp     intemp    outtemp    inhumi   outhumi     winddir  \\\n",
      "0  1.567677e+09  14.817523  16.467085  1.395623  8.417884  268.147779   \n",
      "1  1.567677e+09  14.909180  16.556446  1.844776  8.472555  268.014015   \n",
      "2  1.567677e+09  14.625453  16.492540  1.487004  8.999487  268.853837   \n",
      "3  1.567677e+09  15.186409  15.787022  1.766512  8.900847  268.869596   \n",
      "4  1.567677e+09  14.570461  16.331364  1.817098  8.081414  268.381161   \n",
      "\n",
      "     windsp       press      rain  cabin_temp1  cabin_temp2  dome_temp1  \\\n",
      "0  6.524384  570.536064  0.257755    21.365485    31.937307    9.883737   \n",
      "1  5.837036  570.196707  0.034876    21.838325    31.617535   10.777496   \n",
      "2  6.389095  570.745107  0.497449    22.261658    32.384257   10.199102   \n",
      "3  6.522879  570.884245  0.507436    21.674506    31.631646    9.902935   \n",
      "4  6.779379  570.321818  0.127823    21.684971    31.701229   10.574785   \n",
      "\n",
      "   dome_temp2  gen_temp1  gen_temp2  scan_num  obs_mode  \n",
      "0   12.957494   9.944345  13.781421         0       NaN  \n",
      "1   13.280505  10.342131  12.905265         1       NaN  \n",
      "2   13.274823  10.262406  13.851469         2       NaN  \n",
      "3   13.571896  10.140897  13.644290         3       NaN  \n",
      "4   13.636208  10.752429  13.481912         4       NaN  \n",
      "570.5367883004494 8.574437232847881 16.326891481494844\n"
     ]
    }
   ],
   "source": [
    "import log_weather\n",
    "import numpy\n",
    "###気象情報の読み込み\n",
    "weather_data = log_weather.Weather_log(os.path.join(analy_dir, \"weather.csv\")).read()\n",
    "print(weather_data)\n",
    "#気象データの確認\n",
    "press = numpy.mean(weather_data[\"press\"])\n",
    "humi = numpy.mean(weather_data[\"outhumi\"])\n",
    "temp = numpy.mean(weather_data[\"outtemp\"])\n",
    "lamda = 1300\n",
    "print(press, humi, temp)\n",
    "\n",
    "cabin_temp = weather_data[\"cabin_temp1\"]"
   ]
  },
  {
   "cell_type": "code",
   "execution_count": 38,
   "metadata": {
    "collapsed": true
   },
   "outputs": [],
   "source": [
    "array_num = 2#1~16IF "
   ]
  },
  {
   "cell_type": "markdown",
   "metadata": {},
   "source": [
    "### 分光データの読み出し\n"
   ]
  },
  {
   "cell_type": "code",
   "execution_count": 39,
   "metadata": {},
   "outputs": [
    {
     "name": "stderr",
     "output_type": "stream",
     "text": [
      "100%|██████████| 1468/1468 [00:00<00:00, 17899.21it/s]\n",
      "100%|██████████| 1468/1468 [00:00<00:00, 276854.24it/s]\n",
      "100%|██████████| 1468/1468 [00:00<00:00, 661144.45it/s]\n",
      "100%|██████████| 1468/1468 [00:00<00:00, 992622.65it/s]"
     ]
    },
    {
     "name": "stdout",
     "output_type": "stream",
     "text": [
      "CPU times: user 44 ms, sys: 56 ms, total: 100 ms\n",
      "Wall time: 108 ms\n"
     ]
    },
    {
     "name": "stderr",
     "output_type": "stream",
     "text": [
      "\n"
     ]
    }
   ],
   "source": [
    "%%time\n",
    "n = n2df.Read(os.path.join(analy_dir, \"xffts.ndf\"))\n",
    "array_data = n.read_onearray(array_num)#1IFの分光データ\n",
    "obs_mode = n.read_obs_mode()#観測モード（ON/OFF/HOT）\n",
    "scan_num = n.read_scan_num()#スキャンライン（0,1,2,3,4,...）\n",
    "###array_data, scan_num, obs_mode = n.read_for_otf(1)#3分くらいかかた\n",
    "timestamp = n.read_timestamp()"
   ]
  },
  {
   "cell_type": "markdown",
   "metadata": {},
   "source": [
    "### Doppler tracking"
   ]
  },
  {
   "cell_type": "code",
   "execution_count": 40,
   "metadata": {
    "collapsed": true
   },
   "outputs": [],
   "source": [
    "on_x = obs[\"lambda_on\"]\n",
    "on_y = obs[\"beta_on\"]\n",
    "off_x = obs[\"lambda_off\"]\n",
    "off_y = obs[\"beta_off\"]"
   ]
  },
  {
   "cell_type": "code",
   "execution_count": 110,
   "metadata": {},
   "outputs": [
    {
     "name": "stdout",
     "output_type": "stream",
     "text": [
      " vobs.npy already exists\n"
     ]
    }
   ],
   "source": [
    "from numpy import deg2rad\n",
    "if not os.path.exists(os.path.join(analy_dir, \"vobs.npy\")):\n",
    "    vobs = []\n",
    "    for i in range(len(array_data)):\n",
    "        if obs_mode[i] == \"ON\":\n",
    "            vobs.append(d.calc_vobs(deg2rad(on_x), deg2rad(on_y), timestamp[i]))\n",
    "        elif obs_mode[i] == \"OFF\" or obs_mode[i] == \"HOT\":\n",
    "            vobs.append(d.calc_vobs(deg2rad(off_x), deg2rad(off_y), timestamp[i]))\n",
    "    numpy.save(os.path.join(analy_dir, \"vobs\"), vobs)\n",
    "else:\n",
    "    print(\" vobs.npy already exists\")"
   ]
  },
  {
   "cell_type": "code",
   "execution_count": 49,
   "metadata": {
    "scrolled": true
   },
   "outputs": [
    {
     "name": "stderr",
     "output_type": "stream",
     "text": [
      "  3%|▎         | 38/1468 [00:00<00:03, 378.46it/s]"
     ]
    },
    {
     "name": "stdout",
     "output_type": "stream",
     "text": [
      "vobsは全て正\n"
     ]
    },
    {
     "name": "stderr",
     "output_type": "stream",
     "text": [
      "100%|██████████| 1468/1468 [00:03<00:00, 425.48it/s]\n",
      " 79%|███████▉  | 1163/1468 [00:00<00:00, 11623.80it/s]"
     ]
    },
    {
     "name": "stdout",
     "output_type": "stream",
     "text": [
      "[  -45.   -44.   -43. ... 32719. 32720. 32721.] 32767\n"
     ]
    },
    {
     "name": "stderr",
     "output_type": "stream",
     "text": [
      "100%|██████████| 1468/1468 [00:00<00:00, 11546.11it/s]\n"
     ]
    },
    {
     "data": {
      "text/plain": [
       "(1468, 32767)"
      ]
     },
     "execution_count": 49,
     "metadata": {},
     "output_type": "execute_result"
    }
   ],
   "source": [
    "vobs = numpy.load(os.path.join(analy_dir, \"vobs.npy\"))\n",
    "\n",
    "# For debug\n",
    "if numpy.count_nonzero(vobs>0) == len(vobs):\n",
    "    print(\"vobsは全て正\")\n",
    "elif numpy.count_nonzero(vobs<0) == len(vobs):\n",
    "    print(\"vobsは全て負\")\n",
    "else:\n",
    "    print(\"vobsは正も負もある\")\n",
    "\n",
    "# config\n",
    "dv = 0.167#km/s\n",
    "ch = numpy.linspace(0, 32767, 32768)\n",
    "bch = list(map(int, vobs//dv))#ch数の移動\n",
    "slide_ch = (vobs/dv) - bch#interpolationによる移動量\n",
    "\n",
    "dp_data = []\n",
    "xx_data = []\n",
    "for i in tqdm(range(len(vobs))):\n",
    "    f = interpolate.interp1d(ch, array_data[i])\n",
    "    ch2 = ch+slide_ch[i]\n",
    "    if slide_ch[i] > 0:\n",
    "        n = f(ch2[:-1])\n",
    "    elif slide_ch[i] <0:\n",
    "        n = f(ch2[1:])\n",
    "    new_p = n\n",
    "    xx = ch[:-1] - bch[i]\n",
    "    yy = new_p\n",
    "    xx_data.append(xx)\n",
    "    dp_data.append(yy)\n",
    "    \n",
    "xx_data = numpy.array(xx_data)\n",
    "xx_min = numpy.max(xx_data.T[0])#regridの最小値\n",
    "xx_max = numpy.min(xx_data.T[-1])#regirdの最大値\n",
    "\n",
    "new_xx = numpy.arange(xx_min, xx_max+1, 1)\n",
    "print(new_xx, len(new_xx))\n",
    "vlen = len(new_xx)\n",
    "\n",
    "mask_list= []\n",
    "for i in range(len(xx_data)):\n",
    "    mask = (xx_data[i] >= xx_min) & (xx_data[i] <= xx_max)\n",
    "    mask_list.append(mask)\n",
    "    \n",
    "new_yy_list = []\n",
    "for i in tqdm(range(len(xx_data))):\n",
    "    new_yy_list.append(dp_data[i][mask_list[i]])\n",
    "    \n",
    "len(new_xx)\n",
    "origin_array_data = array_data\n",
    "array_data = new_yy_list\n",
    "numpy.shape(array_data)"
   ]
  },
  {
   "cell_type": "code",
   "execution_count": 50,
   "metadata": {
    "collapsed": true
   },
   "outputs": [],
   "source": [
    "###index探し\n",
    "obs_mode = numpy.array(obs_mode)\n",
    "scan_num = numpy.array(scan_num)\n",
    "\n",
    "offmask = obs_mode == \"OFF\"\n",
    "offindex = numpy.where(offmask == True)\n",
    "\n",
    "hotmask = obs_mode == \"HOT\"\n",
    "hotindex = numpy.where(hotmask == True)\n",
    "\n",
    "onmask = obs_mode == \"ON\"\n",
    "onindex = numpy.where(onmask == True)\n",
    "\n",
    "max_scannum = numpy.max(scan_num)#Caution! scan num starts from 0, so scan number of 26 indicates 27 times scan"
   ]
  },
  {
   "cell_type": "code",
   "execution_count": 51,
   "metadata": {},
   "outputs": [
    {
     "data": {
      "image/png": "[encoded data removed]",
      "text/plain": [
       "<Figure size 432x288 with 1 Axes>"
      ]
     },
     "metadata": {},
     "output_type": "display_data"
    }
   ],
   "source": [
    "#一応indexの可視化\n",
    "plt.plot(offindex[0], [1]*len(offindex[0]),\".\" , label = \"off\")\n",
    "plt.plot(hotindex[0], [1]*len(hotindex[0]),\".\" , label = \"hot\")\n",
    "plt.plot(onindex[0], [1]*len(onindex[0]),\".\" , label = \"on\")\n",
    "plt.legend()\n",
    "plt.show()"
   ]
  },
  {
   "cell_type": "code",
   "execution_count": 52,
   "metadata": {},
   "outputs": [
    {
     "name": "stdout",
     "output_type": "stream",
     "text": [
      "[0 0 0 ... 5 5 5]\n"
     ]
    },
    {
     "data": {
      "image/png": "[encoded data removed]",
      "text/plain": [
       "<Figure size 432x288 with 1 Axes>"
      ]
     },
     "metadata": {},
     "output_type": "display_data"
    },
    {
     "data": {
      "image/png": "[encoded data removed]",
      "text/plain": [
       "<Figure size 432x288 with 1 Axes>"
      ]
     },
     "metadata": {},
     "output_type": "display_data"
    },
    {
     "data": {
      "image/png": "[encoded data removed]",
      "text/plain": [
       "<Figure size 432x288 with 1 Axes>"
      ]
     },
     "metadata": {},
     "output_type": "display_data"
    }
   ],
   "source": [
    "#OFF 点のscan number を取得\n",
    "scan_num = numpy.array(scan_num)\n",
    "print(scan_num)\n",
    "offindex[0]\n",
    "plt.plot(scan_num[offindex[0]])\n",
    "plt.grid()\n",
    "plt.show()\n",
    "\n",
    "#HOT 点のscan number を取得\n",
    "scan_num = numpy.array(scan_num)\n",
    "hotindex[0]\n",
    "plt.plot(scan_num[hotindex[0]])\n",
    "plt.grid()\n",
    "plt.show()\n",
    "\n",
    "# ON 点のscan number を取得\n",
    "scan_num = numpy.array(scan_num)\n",
    "plt.plot(scan_num[onindex[0]])\n",
    "plt.grid()\n",
    "plt.show()"
   ]
  },
  {
   "cell_type": "markdown",
   "metadata": {},
   "source": [
    "### hot/offの積分"
   ]
  },
  {
   "cell_type": "code",
   "execution_count": 194,
   "metadata": {},
   "outputs": [
    {
     "name": "stderr",
     "output_type": "stream",
     "text": [
      "100%|██████████| 6/6 [00:00<00:00, 321.09it/s]"
     ]
    },
    {
     "name": "stdout",
     "output_type": "stream",
     "text": [
      "[0 1 2 3 4 5]\n"
     ]
    },
    {
     "name": "stderr",
     "output_type": "stream",
     "text": [
      "\n"
     ]
    }
   ],
   "source": [
    "#HOT積分\n",
    "print(numpy.unique(scan_num[hotindex[0]]))#HOT のscan number\n",
    "hotnum = numpy.unique(scan_num[hotindex[0]])#HOTの数\n",
    "\n",
    "hotdata = []\n",
    "\n",
    "for i in tqdm(hotnum):#i = scan number\n",
    "    mask = scan_num == i#特定のscannumのindexを抜き出す\n",
    "    index = numpy.where(mask == True)#特定のscannumのindex変数\n",
    "   ### \n",
    "    c = numpy.in1d(index[0], hotindex[0])#特定のscannumのindex&HOT index\n",
    "    c = numpy.where(c == True)[0]\n",
    "    ###\n",
    "    mm = index[0][c]#scan numの値でフィルターしたhot\n",
    "    #print(mm)\n",
    "    ###積分\n",
    "    tmp = [array_data[j] for j in mm]\n",
    "    hotdata.append(sum(tmp)/len(tmp))\n",
    "    pass\n",
    "\n",
    "#下は擬似データの質が低いための処理。将来的に削除\n",
    "#hotdata = numpy.array(hotdata)\n",
    "#hotdata = hotdata + 5000"
   ]
  },
  {
   "cell_type": "code",
   "execution_count": 195,
   "metadata": {},
   "outputs": [
    {
     "name": "stderr",
     "output_type": "stream",
     "text": [
      "100%|██████████| 5/5 [00:00<00:00, 328.43it/s]"
     ]
    },
    {
     "name": "stdout",
     "output_type": "stream",
     "text": [
      "[0 1 2 3 4]\n"
     ]
    },
    {
     "name": "stderr",
     "output_type": "stream",
     "text": [
      "\n"
     ]
    }
   ],
   "source": [
    "##OFFの積分\n",
    "print(numpy.unique(scan_num[offindex[0]]))#HOT のscan number\n",
    "offnum = numpy.unique(scan_num[offindex[0]])#HOTの数\n",
    "\n",
    "offdata = []\n",
    "scan_num = numpy.array(scan_num)\n",
    "\n",
    "for i in tqdm(offnum):\n",
    "    mask = scan_num == i#特定のscannumのindexを抜き出す\n",
    "    index = numpy.where(mask == True)#特定のscannumのindex変数\n",
    "   ### \n",
    "    c = numpy.in1d(index[0], offindex[0])#特定のscannumのindex&HOT index\n",
    "    c = numpy.where(c == True)[0]#scannumとhotで絞ったindex\n",
    "    mm = index[0][c]#scan numの値でフィルターしたhot\n",
    "    tmp = [array_data[j] for j in mm]\n",
    "    offdata.append(sum(tmp)/len(tmp))"
   ]
  },
  {
   "cell_type": "code",
   "execution_count": 196,
   "metadata": {},
   "outputs": [
    {
     "name": "stderr",
     "output_type": "stream",
     "text": [
      "100%|██████████| 5/5 [00:00<00:00, 313.07it/s]"
     ]
    },
    {
     "name": "stdout",
     "output_type": "stream",
     "text": [
      "[0 1 2 3 4]\n"
     ]
    },
    {
     "name": "stderr",
     "output_type": "stream",
     "text": [
      "\n"
     ]
    }
   ],
   "source": [
    "##ONの積分\n",
    "print(numpy.unique(scan_num[onindex[0]]))#HOT のscan number\n",
    "on_num = numpy.unique(scan_num[onindex[0]])#HOTの数\n",
    "\n",
    "ondata = []\n",
    "scan_num = numpy.array(scan_num)\n",
    "\n",
    "for i in tqdm(on_num):\n",
    "    mask = scan_num == i#特定のscannumのindexを抜き出す\n",
    "    index = numpy.where(mask == True)#特定のscannumのindex変数\n",
    "   ### \n",
    "    c = numpy.in1d(index[0], onindex[0])#特定のscannumのindex&HOT index\n",
    "    c = numpy.where(c == True)[0]#scannumとhotで絞ったindex\n",
    "    mm = index[0][c]#scan numの値でフィルターしたhot\n",
    "    tmp = [array_data[j] for j in mm]\n",
    "    ondata.append(sum(tmp)/len(tmp))"
   ]
  },
  {
   "cell_type": "markdown",
   "metadata": {},
   "source": [
    "Hot のデータはscan line分あるわけでないので補完\n",
    "Off もscan line 分ある観測プログラムしかないはずだが、一応補完\n",
    "\n",
    "補完の方法は次のOFF/HOTの点の観測を行うまでは直近のデータを採用する形"
   ]
  },
  {
   "cell_type": "code",
   "execution_count": 197,
   "metadata": {
    "collapsed": true
   },
   "outputs": [],
   "source": [
    "# ###Choper wheel\n",
    "@numba.jit\n",
    "def chopper_wheel(on, off, hot, temprature = 300):\n",
    "    Tastar = temprature * (on - off)/(hot - off)\n",
    "    return Tastar"
   ]
  },
  {
   "cell_type": "code",
   "execution_count": 198,
   "metadata": {},
   "outputs": [],
   "source": [
    "chdata = [chopper_wheel(ondata[i], offdata[i], hotdata[i]) for i in range(len(ondata))]"
   ]
  },
  {
   "cell_type": "code",
   "execution_count": 199,
   "metadata": {},
   "outputs": [
    {
     "data": {
      "image/png": "[encoded data removed]",
      "text/plain": [
       "<Figure size 432x288 with 1 Axes>"
      ]
     },
     "metadata": {},
     "output_type": "display_data"
    }
   ],
   "source": [
    "plt.plot(ondata[i])\n",
    "#plt.plot(chdata[0])\n",
    "#plt.xlim(8000, 8200)\n",
    "#plt.ylim(-2,30)\n",
    "plt.show()"
   ]
  },
  {
   "cell_type": "markdown",
   "metadata": {},
   "source": [
    "## Baseline fitting"
   ]
  },
  {
   "cell_type": "code",
   "execution_count": 200,
   "metadata": {},
   "outputs": [
    {
     "name": "stderr",
     "output_type": "stream",
     "text": [
      "100%|██████████| 5/5 [00:00<00:00, 349.52it/s]"
     ]
    },
    {
     "name": "stdout",
     "output_type": "stream",
     "text": [
      "3000 7500 8500 30000\n"
     ]
    },
    {
     "name": "stderr",
     "output_type": "stream",
     "text": [
      "\n"
     ]
    }
   ],
   "source": [
    "#baseline fitting parameter\n",
    "center = 8000\n",
    "width = 1000\n",
    "start = 3000\n",
    "end = 30000\n",
    "\n",
    "#baseline fitting function\n",
    "def f(x, a, b, c):\n",
    "    return a*x**2 + b*x + c\n",
    "\n",
    "def  baseline_fitting(arr_x, arr_y, index1, index2, index3, index4):\n",
    "    tmpdata_y1 = arr_y[index1:index2]\n",
    "    tmpdata_y2 = arr_y[index3:index4]\n",
    "    tmpdata_x1 = arr_x[index1:index2]\n",
    "    tmpdata_x2 = arr_x[index3:index4]\n",
    "    x = numpy.concatenate([tmpdata_x1, tmpdata_x2])\n",
    "    y = numpy.concatenate([tmpdata_y1, tmpdata_y2])\n",
    "    param = numpy.polyfit(x, y, 2)\n",
    "    arr_y = arr_y - f(arr_x, *param)\n",
    "    return arr_y\n",
    "    \n",
    "#ch\n",
    "xindex = numpy.linspace(0, vlen, vlen)\n",
    "\n",
    "#baseline fitting index\n",
    "index1 = int(start)\n",
    "index2 = int(center - width/2)\n",
    "index3 = int(center + width/2)\n",
    "index4 = int(end)\n",
    "print(index1, index2, index3, index4)\n",
    "\n",
    "testoffset = numpy.linspace(1, vlen, vlen)\n",
    "\n",
    "for i in tqdm(range(len(chdata))):\n",
    "    chdata[i] = chdata[i] + testoffset#ベースラインフィッティングできているかの確認のため\n",
    "    origin = chdata[i]#for debug, this will be deleted\n",
    "    chdata[i] = baseline_fitting(xindex, chdata[i], index1, index2, index3, index4)\n",
    "    \n",
    "    \n",
    "plt.plot(chdata[i], label=\"after chopper wheel\")#after chopper wheel\n",
    "plt.plot(origin, label=\"before chopper wheel\")#before chopper wheel\n",
    "plt.legend()\n",
    "plt.grid()"
   ]
  },
  {
   "cell_type": "code",
   "execution_count": 201,
   "metadata": {},
   "outputs": [
    {
     "data": {
      "image/png": "[encoded data removed]",
      "text/plain": [
       "<Figure size 432x288 with 1 Axes>"
      ]
     },
     "metadata": {},
     "output_type": "display_data"
    }
   ],
   "source": [
    "plt.plot(chdata[0])\n",
    "plt.show()"
   ]
  },
  {
   "cell_type": "code",
   "execution_count": 202,
   "metadata": {
    "collapsed": true
   },
   "outputs": [],
   "source": [
    "#Vlsrの計算\n",
    "vlsr = (new_xx - 16384)*dv"
   ]
  },
  {
   "cell_type": "markdown",
   "metadata": {
    "collapsed": true
   },
   "source": [
    "### astropyでfitsに書き出す"
   ]
  },
  {
   "cell_type": "markdown",
   "metadata": {},
   "source": [
    "ヘッダーの作成"
   ]
  },
  {
   "cell_type": "code",
   "execution_count": 203,
   "metadata": {
    "collapsed": true
   },
   "outputs": [],
   "source": [
    "# header_dict = {\n",
    "# \"object\": obs[\"object\"],\n",
    "# \"crval1\": obs[\"lambda_on\"],\n",
    "# \"cdelt1\": obs[\"grid\"]/3600,\n",
    "# \"crpix1\": obs[\"N\"]-1/2,#中心ピクセル\n",
    "# \"crval2\": obs[\"beta_on\"],\n",
    "# \"cdelt2\": obs[\"grid\"]/3600,\n",
    "# \"crpix2\": obs[\"N\"]-1/2, #中心ピクセル\n",
    "# \"cdelt3\": 0.16,# km/s \n",
    "# \"crval3\": 0\n",
    "# }\n",
    "\n",
    "# temp = \"\"\"\n",
    "# SIMPLE  =                    T                                                  \n",
    "# BITPIX  =                  -32                                                  \n",
    "# NAXIS   =                    3                                                  \n",
    "# NAXIS1  =                  31                                                 \n",
    "# NAXIS2  =                  31                                                 \n",
    "# NAXIS3  =                   32768                                                  \n",
    "# OBJECT  = '{object}              '                                                  \n",
    "# TELESCOP= 'NANTEN2            '                                                  \n",
    "# INSTRUME= 'MULT2-11          '                                                  \n",
    "# OBSERVER= 'z7510rk           '                                                  \n",
    "# DATE-OBS= '2007-12-30        '                                                  \n",
    "# DATE-MAP= '2012-01-19        '                                                  \n",
    "# BSCALE  =    0.10000000000E+01                                                  \n",
    "# BZERO   =    0.00000000000E+01                                                  \n",
    "# BUNIT   = 'K                 '                                                  \n",
    "# EPOCH   =    0.20000000000E+04                                                  \n",
    "# OBSRA   =    8.38104170000E+01                                                  \n",
    "# OBSDEC  =   -5.37511100000E+00                                                  \n",
    "# DATAMAX =    1.16774444580E+02                                                  \n",
    "# DATAMIN =   -8.33924560547E+01                                                  \n",
    "# CTYPE1  = 'RA---GLS          '                                                  \n",
    "# CRVAL1  =    {crval1}                                                  \n",
    "# CDELT1  =    {cdelt1}                                                  \n",
    "# CRPIX1  =      {crpix1}\n",
    "# CROTA1  =     0.0000000000E+00                                                  \n",
    "# CTYPE2  = 'DEC--GLS          '                                                  \n",
    "# CRVAL2  =   {crval2}                                                  \n",
    "# CDELT2  =   {cdelt2}                                               \n",
    "# CRPIX2  =     {crpix2}                                               \n",
    "# CROTA2  =     0.0000000000E+00                                                  \n",
    "# CTYPE3  = 'VELO-LSR          '                                                  \n",
    "# CRVAL3  =    2.50000000000E+02                                                  \n",
    "# CDELT3  =    5.00000000000E+02                                                  \n",
    "# CRPIX3  =    1.00000000000E+00                                                  \n",
    "# CROTA3  =    0.00000000000E+00                                                  \n",
    "# BLANK   =   -1.00000000000E+00 \"\"\".format(**header_dict)"
   ]
  },
  {
   "cell_type": "code",
   "execution_count": 204,
   "metadata": {
    "collapsed": true
   },
   "outputs": [],
   "source": [
    "#target_header = fits.Header.fromstring(temp, sep = \"\\n\")"
   ]
  },
  {
   "cell_type": "code",
   "execution_count": 205,
   "metadata": {},
   "outputs": [
    {
     "ename": "KeyError",
     "evalue": "'object'",
     "output_type": "error",
     "traceback": [
      "\u001b[0;31m---------------------------------------------------------------------------\u001b[0m",
      "\u001b[0;31mKeyError\u001b[0m                                  Traceback (most recent call last)",
      "\u001b[0;32m<ipython-input-205-909dcad82eee>\u001b[0m in \u001b[0;36m<module>\u001b[0;34m()\u001b[0m\n\u001b[1;32m      4\u001b[0m \u001b[0;31m#hdulist.writeto(\"ps.fits\", overwrite = True)\u001b[0m\u001b[0;34m\u001b[0m\u001b[0;34m\u001b[0m\u001b[0m\n\u001b[1;32m      5\u001b[0m \u001b[0mhdu1\u001b[0m \u001b[0;34m=\u001b[0m \u001b[0mfits\u001b[0m\u001b[0;34m.\u001b[0m\u001b[0mPrimaryHDU\u001b[0m\u001b[0;34m(\u001b[0m\u001b[0;34m)\u001b[0m\u001b[0;34m\u001b[0m\u001b[0m\n\u001b[0;32m----> 6\u001b[0;31m \u001b[0mhdu2\u001b[0m \u001b[0;34m=\u001b[0m \u001b[0mfits\u001b[0m\u001b[0;34m.\u001b[0m\u001b[0mImageHDU\u001b[0m\u001b[0;34m(\u001b[0m\u001b[0;34m[\u001b[0m\u001b[0mchdata\u001b[0m\u001b[0;34m,\u001b[0m \u001b[0mvlsr\u001b[0m\u001b[0;34m]\u001b[0m\u001b[0;34m)\u001b[0m\u001b[0;34m\u001b[0m\u001b[0m\n\u001b[0m\u001b[1;32m      7\u001b[0m \u001b[0mhdulist\u001b[0m \u001b[0;34m=\u001b[0m \u001b[0mfits\u001b[0m\u001b[0;34m.\u001b[0m\u001b[0mHDUList\u001b[0m\u001b[0;34m(\u001b[0m\u001b[0;34m[\u001b[0m\u001b[0mhdu1\u001b[0m\u001b[0;34m,\u001b[0m \u001b[0mhdu2\u001b[0m\u001b[0;34m]\u001b[0m\u001b[0;34m)\u001b[0m\u001b[0;34m\u001b[0m\u001b[0m\n\u001b[1;32m      8\u001b[0m \u001b[0mhdulist\u001b[0m\u001b[0;34m.\u001b[0m\u001b[0mwriteto\u001b[0m\u001b[0;34m(\u001b[0m\u001b[0;34m\"ps.fits\"\u001b[0m\u001b[0;34m,\u001b[0m \u001b[0moverwrite\u001b[0m \u001b[0;34m=\u001b[0m \u001b[0;32mTrue\u001b[0m\u001b[0;34m)\u001b[0m\u001b[0;34m\u001b[0m\u001b[0m\n",
      "\u001b[0;32m~/.pyenv/versions/anaconda3-4.4.0/lib/python3.6/site-packages/astropy/io/fits/hdu/image.py\u001b[0m in \u001b[0;36m__init__\u001b[0;34m(self, data, header, name, do_not_scale_image_data, uint, scale_back, ver)\u001b[0m\n\u001b[1;32m   1101\u001b[0m             \u001b[0mdata\u001b[0m\u001b[0;34m=\u001b[0m\u001b[0mdata\u001b[0m\u001b[0;34m,\u001b[0m \u001b[0mheader\u001b[0m\u001b[0;34m=\u001b[0m\u001b[0mheader\u001b[0m\u001b[0;34m,\u001b[0m \u001b[0mname\u001b[0m\u001b[0;34m=\u001b[0m\u001b[0mname\u001b[0m\u001b[0;34m,\u001b[0m\u001b[0;34m\u001b[0m\u001b[0m\n\u001b[1;32m   1102\u001b[0m             \u001b[0mdo_not_scale_image_data\u001b[0m\u001b[0;34m=\u001b[0m\u001b[0mdo_not_scale_image_data\u001b[0m\u001b[0;34m,\u001b[0m \u001b[0muint\u001b[0m\u001b[0;34m=\u001b[0m\u001b[0muint\u001b[0m\u001b[0;34m,\u001b[0m\u001b[0;34m\u001b[0m\u001b[0m\n\u001b[0;32m-> 1103\u001b[0;31m             scale_back=scale_back, ver=ver)\n\u001b[0m\u001b[1;32m   1104\u001b[0m \u001b[0;34m\u001b[0m\u001b[0m\n\u001b[1;32m   1105\u001b[0m     \u001b[0;34m@\u001b[0m\u001b[0mclassmethod\u001b[0m\u001b[0;34m\u001b[0m\u001b[0m\n",
      "\u001b[0;32m~/.pyenv/versions/anaconda3-4.4.0/lib/python3.6/site-packages/astropy/io/fits/hdu/image.py\u001b[0m in \u001b[0;36m__init__\u001b[0;34m(self, data, header, do_not_scale_image_data, uint, scale_back, ignore_blank, **kwargs)\u001b[0m\n\u001b[1;32m    152\u001b[0m             \u001b[0;31m# appropriate BITPIX for the data, and always sets _bzero=0 and\u001b[0m\u001b[0;34m\u001b[0m\u001b[0;34m\u001b[0m\u001b[0m\n\u001b[1;32m    153\u001b[0m             \u001b[0;31m# _bscale=1.\u001b[0m\u001b[0;34m\u001b[0m\u001b[0;34m\u001b[0m\u001b[0m\n\u001b[0;32m--> 154\u001b[0;31m             \u001b[0mself\u001b[0m\u001b[0;34m.\u001b[0m\u001b[0mdata\u001b[0m \u001b[0;34m=\u001b[0m \u001b[0mdata\u001b[0m\u001b[0;34m\u001b[0m\u001b[0m\n\u001b[0m\u001b[1;32m    155\u001b[0m             \u001b[0mself\u001b[0m\u001b[0;34m.\u001b[0m\u001b[0mupdate_header\u001b[0m\u001b[0;34m(\u001b[0m\u001b[0;34m)\u001b[0m\u001b[0;34m\u001b[0m\u001b[0m\n\u001b[1;32m    156\u001b[0m \u001b[0;34m\u001b[0m\u001b[0m\n",
      "\u001b[0;32m~/.pyenv/versions/anaconda3-4.4.0/lib/python3.6/site-packages/astropy/utils/decorators.py\u001b[0m in \u001b[0;36m__set__\u001b[0;34m(self, obj, val)\u001b[0m\n\u001b[1;32m    735\u001b[0m         \u001b[0mobj_dict\u001b[0m \u001b[0;34m=\u001b[0m \u001b[0mobj\u001b[0m\u001b[0;34m.\u001b[0m\u001b[0m__dict__\u001b[0m\u001b[0;34m\u001b[0m\u001b[0m\n\u001b[1;32m    736\u001b[0m         \u001b[0;32mif\u001b[0m \u001b[0mself\u001b[0m\u001b[0;34m.\u001b[0m\u001b[0mfset\u001b[0m\u001b[0;34m:\u001b[0m\u001b[0;34m\u001b[0m\u001b[0m\n\u001b[0;32m--> 737\u001b[0;31m             \u001b[0mret\u001b[0m \u001b[0;34m=\u001b[0m \u001b[0mself\u001b[0m\u001b[0;34m.\u001b[0m\u001b[0mfset\u001b[0m\u001b[0;34m(\u001b[0m\u001b[0mobj\u001b[0m\u001b[0;34m,\u001b[0m \u001b[0mval\u001b[0m\u001b[0;34m)\u001b[0m\u001b[0;34m\u001b[0m\u001b[0m\n\u001b[0m\u001b[1;32m    738\u001b[0m             \u001b[0;32mif\u001b[0m \u001b[0mret\u001b[0m \u001b[0;32mis\u001b[0m \u001b[0;32mnot\u001b[0m \u001b[0;32mNone\u001b[0m \u001b[0;32mand\u001b[0m \u001b[0mobj_dict\u001b[0m\u001b[0;34m.\u001b[0m\u001b[0mget\u001b[0m\u001b[0;34m(\u001b[0m\u001b[0mself\u001b[0m\u001b[0;34m.\u001b[0m\u001b[0m_key\u001b[0m\u001b[0;34m)\u001b[0m \u001b[0;32mis\u001b[0m \u001b[0mret\u001b[0m\u001b[0;34m:\u001b[0m\u001b[0;34m\u001b[0m\u001b[0m\n\u001b[1;32m    739\u001b[0m                 \u001b[0;31m# By returning the value set the setter signals that it took\u001b[0m\u001b[0;34m\u001b[0m\u001b[0;34m\u001b[0m\u001b[0m\n",
      "\u001b[0;32m~/.pyenv/versions/anaconda3-4.4.0/lib/python3.6/site-packages/astropy/io/fits/hdu/image.py\u001b[0m in \u001b[0;36mdata\u001b[0;34m(self, data)\u001b[0m\n\u001b[1;32m    273\u001b[0m             \u001b[0;31m# Set new values of bitpix, bzero, and bscale now, but wait to\u001b[0m\u001b[0;34m\u001b[0m\u001b[0;34m\u001b[0m\u001b[0m\n\u001b[1;32m    274\u001b[0m             \u001b[0;31m# revise original values until header is updated.\u001b[0m\u001b[0;34m\u001b[0m\u001b[0;34m\u001b[0m\u001b[0m\n\u001b[0;32m--> 275\u001b[0;31m             \u001b[0mself\u001b[0m\u001b[0;34m.\u001b[0m\u001b[0m_bitpix\u001b[0m \u001b[0;34m=\u001b[0m \u001b[0mDTYPE2BITPIX\u001b[0m\u001b[0;34m[\u001b[0m\u001b[0mdata\u001b[0m\u001b[0;34m.\u001b[0m\u001b[0mdtype\u001b[0m\u001b[0;34m.\u001b[0m\u001b[0mname\u001b[0m\u001b[0;34m]\u001b[0m\u001b[0;34m\u001b[0m\u001b[0m\n\u001b[0m\u001b[1;32m    276\u001b[0m             \u001b[0mself\u001b[0m\u001b[0;34m.\u001b[0m\u001b[0m_bscale\u001b[0m \u001b[0;34m=\u001b[0m \u001b[0;36m1\u001b[0m\u001b[0;34m\u001b[0m\u001b[0m\n\u001b[1;32m    277\u001b[0m             \u001b[0mself\u001b[0m\u001b[0;34m.\u001b[0m\u001b[0m_bzero\u001b[0m \u001b[0;34m=\u001b[0m \u001b[0;36m0\u001b[0m\u001b[0;34m\u001b[0m\u001b[0m\n",
      "\u001b[0;31mKeyError\u001b[0m: 'object'"
     ]
    }
   ],
   "source": [
    "#書き出し\n",
    "#hdu = fits.PrimaryHDU([chdata, vlsr])\n",
    "#hdulist = fits.HDUList([hdu])\n",
    "#hdulist.writeto(\"ps.fits\", overwrite = True)\n",
    "hdu1 = fits.PrimaryHDU()\n",
    "hdu2 = fits.ImageHDU([chdata, vlsr])\n",
    "hdulist = fits.HDUList([hdu1, hdu2])\n",
    "hdulist.writeto(\"ps.fits\", overwrite = True)"
   ]
  },
  {
   "cell_type": "code",
   "execution_count": 206,
   "metadata": {
    "collapsed": true
   },
   "outputs": [],
   "source": [
    "##読み込み\n",
    "hdu_list = fits.open(\"ps.fits\")\n",
    "hdu_r = hdu_list[1]\n",
    "data = hdu_r.data\n",
    "header = hdu_r.header"
   ]
  },
  {
   "cell_type": "code",
   "execution_count": 207,
   "metadata": {},
   "outputs": [
    {
     "name": "stdout",
     "output_type": "stream",
     "text": [
      "required time : 3905.153838157654\n"
     ]
    }
   ],
   "source": [
    "#解析にかかった時間を出すため\n",
    "print(\"required time : {}\".format(time.time() - start_time))"
   ]
  },
  {
   "cell_type": "code",
   "execution_count": 208,
   "metadata": {},
   "outputs": [
    {
     "data": {
      "text/plain": [
       "32767"
      ]
     },
     "execution_count": 208,
     "metadata": {},
     "output_type": "execute_result"
    }
   ],
   "source": [
    "len(data[4])"
   ]
  },
  {
   "cell_type": "code",
   "execution_count": 209,
   "metadata": {},
   "outputs": [
    {
     "data": {
      "image/png": "[encoded data removed]",
      "text/plain": [
       "<Figure size 432x288 with 1 Axes>"
      ]
     },
     "metadata": {},
     "output_type": "display_data"
    }
   ],
   "source": [
    "plt.plot(vlsr, chdata[0])\n",
    "plt.grid()\n",
    "plt.xlabel(\"Vlsr [km/s]\")\n",
    "plt.xlim(-1420, -1360)\n",
    "plt.ylim(-2, 30)\n",
    "plt.show()"
   ]
  },
  {
   "cell_type": "code",
   "execution_count": 210,
   "metadata": {},
   "outputs": [
    {
     "ename": "AttributeError",
     "evalue": "Unknown property on",
     "output_type": "error",
     "traceback": [
      "\u001b[0;31m---------------------------------------------------------------------------\u001b[0m",
      "\u001b[0;31mAttributeError\u001b[0m                            Traceback (most recent call last)",
      "\u001b[0;32m<ipython-input-210-d32141d85bfd>\u001b[0m in \u001b[0;36m<module>\u001b[0;34m()\u001b[0m\n\u001b[1;32m      1\u001b[0m \u001b[0mplt\u001b[0m\u001b[0;34m.\u001b[0m\u001b[0mplot\u001b[0m\u001b[0;34m(\u001b[0m\u001b[0mhotdata\u001b[0m\u001b[0;34m[\u001b[0m\u001b[0;36m0\u001b[0m\u001b[0;34m]\u001b[0m\u001b[0;34m,\u001b[0m \u001b[0mlabel\u001b[0m\u001b[0;34m=\u001b[0m\u001b[0;34m\"hot\"\u001b[0m\u001b[0;34m)\u001b[0m\u001b[0;34m\u001b[0m\u001b[0m\n\u001b[0;32m----> 2\u001b[0;31m \u001b[0mplt\u001b[0m\u001b[0;34m.\u001b[0m\u001b[0mplot\u001b[0m\u001b[0;34m(\u001b[0m\u001b[0mondata\u001b[0m\u001b[0;34m[\u001b[0m\u001b[0;36m0\u001b[0m\u001b[0;34m]\u001b[0m\u001b[0;34m,\u001b[0m \u001b[0mon\u001b[0m\u001b[0;34m=\u001b[0m\u001b[0;34m\"on\"\u001b[0m\u001b[0;34m)\u001b[0m\u001b[0;34m\u001b[0m\u001b[0m\n\u001b[0m\u001b[1;32m      3\u001b[0m \u001b[0mplt\u001b[0m\u001b[0;34m.\u001b[0m\u001b[0mplot\u001b[0m\u001b[0;34m(\u001b[0m\u001b[0moffdata\u001b[0m\u001b[0;34m[\u001b[0m\u001b[0;36m0\u001b[0m\u001b[0;34m]\u001b[0m\u001b[0;34m,\u001b[0m \u001b[0moff\u001b[0m\u001b[0;34m=\u001b[0m\u001b[0;34m\"off\"\u001b[0m\u001b[0;34m)\u001b[0m\u001b[0;34m\u001b[0m\u001b[0m\n\u001b[1;32m      4\u001b[0m \u001b[0mplt\u001b[0m\u001b[0;34m.\u001b[0m\u001b[0mplot\u001b[0m\u001b[0;34m(\u001b[0m\u001b[0marray_data\u001b[0m\u001b[0;34m[\u001b[0m\u001b[0;36m0\u001b[0m\u001b[0;34m]\u001b[0m\u001b[0;34m,\u001b[0m \u001b[0;34m)\u001b[0m\u001b[0;34m\u001b[0m\u001b[0m\n\u001b[1;32m      5\u001b[0m \u001b[0mplt\u001b[0m\u001b[0;34m.\u001b[0m\u001b[0mshow\u001b[0m\u001b[0;34m(\u001b[0m\u001b[0;34m)\u001b[0m\u001b[0;34m\u001b[0m\u001b[0m\n",
      "\u001b[0;32m~/.pyenv/versions/anaconda3-4.4.0/lib/python3.6/site-packages/matplotlib/pyplot.py\u001b[0m in \u001b[0;36mplot\u001b[0;34m(*args, **kwargs)\u001b[0m\n\u001b[1;32m   3361\u001b[0m                       mplDeprecation)\n\u001b[1;32m   3362\u001b[0m     \u001b[0;32mtry\u001b[0m\u001b[0;34m:\u001b[0m\u001b[0;34m\u001b[0m\u001b[0m\n\u001b[0;32m-> 3363\u001b[0;31m         \u001b[0mret\u001b[0m \u001b[0;34m=\u001b[0m \u001b[0max\u001b[0m\u001b[0;34m.\u001b[0m\u001b[0mplot\u001b[0m\u001b[0;34m(\u001b[0m\u001b[0;34m*\u001b[0m\u001b[0margs\u001b[0m\u001b[0;34m,\u001b[0m \u001b[0;34m**\u001b[0m\u001b[0mkwargs\u001b[0m\u001b[0;34m)\u001b[0m\u001b[0;34m\u001b[0m\u001b[0m\n\u001b[0m\u001b[1;32m   3364\u001b[0m     \u001b[0;32mfinally\u001b[0m\u001b[0;34m:\u001b[0m\u001b[0;34m\u001b[0m\u001b[0m\n\u001b[1;32m   3365\u001b[0m         \u001b[0max\u001b[0m\u001b[0;34m.\u001b[0m\u001b[0m_hold\u001b[0m \u001b[0;34m=\u001b[0m \u001b[0mwashold\u001b[0m\u001b[0;34m\u001b[0m\u001b[0m\n",
      "\u001b[0;32m~/.pyenv/versions/anaconda3-4.4.0/lib/python3.6/site-packages/matplotlib/__init__.py\u001b[0m in \u001b[0;36minner\u001b[0;34m(ax, *args, **kwargs)\u001b[0m\n\u001b[1;32m   1865\u001b[0m                         \u001b[0;34m\"the Matplotlib list!)\"\u001b[0m \u001b[0;34m%\u001b[0m \u001b[0;34m(\u001b[0m\u001b[0mlabel_namer\u001b[0m\u001b[0;34m,\u001b[0m \u001b[0mfunc\u001b[0m\u001b[0;34m.\u001b[0m\u001b[0m__name__\u001b[0m\u001b[0;34m)\u001b[0m\u001b[0;34m,\u001b[0m\u001b[0;34m\u001b[0m\u001b[0m\n\u001b[1;32m   1866\u001b[0m                         RuntimeWarning, stacklevel=2)\n\u001b[0;32m-> 1867\u001b[0;31m             \u001b[0;32mreturn\u001b[0m \u001b[0mfunc\u001b[0m\u001b[0;34m(\u001b[0m\u001b[0max\u001b[0m\u001b[0;34m,\u001b[0m \u001b[0;34m*\u001b[0m\u001b[0margs\u001b[0m\u001b[0;34m,\u001b[0m \u001b[0;34m**\u001b[0m\u001b[0mkwargs\u001b[0m\u001b[0;34m)\u001b[0m\u001b[0;34m\u001b[0m\u001b[0m\n\u001b[0m\u001b[1;32m   1868\u001b[0m \u001b[0;34m\u001b[0m\u001b[0m\n\u001b[1;32m   1869\u001b[0m         inner.__doc__ = _add_data_doc(inner.__doc__,\n",
      "\u001b[0;32m~/.pyenv/versions/anaconda3-4.4.0/lib/python3.6/site-packages/matplotlib/axes/_axes.py\u001b[0m in \u001b[0;36mplot\u001b[0;34m(self, *args, **kwargs)\u001b[0m\n\u001b[1;32m   1526\u001b[0m         \u001b[0mkwargs\u001b[0m \u001b[0;34m=\u001b[0m \u001b[0mcbook\u001b[0m\u001b[0;34m.\u001b[0m\u001b[0mnormalize_kwargs\u001b[0m\u001b[0;34m(\u001b[0m\u001b[0mkwargs\u001b[0m\u001b[0;34m,\u001b[0m \u001b[0m_alias_map\u001b[0m\u001b[0;34m)\u001b[0m\u001b[0;34m\u001b[0m\u001b[0m\n\u001b[1;32m   1527\u001b[0m \u001b[0;34m\u001b[0m\u001b[0m\n\u001b[0;32m-> 1528\u001b[0;31m         \u001b[0;32mfor\u001b[0m \u001b[0mline\u001b[0m \u001b[0;32min\u001b[0m \u001b[0mself\u001b[0m\u001b[0;34m.\u001b[0m\u001b[0m_get_lines\u001b[0m\u001b[0;34m(\u001b[0m\u001b[0;34m*\u001b[0m\u001b[0margs\u001b[0m\u001b[0;34m,\u001b[0m \u001b[0;34m**\u001b[0m\u001b[0mkwargs\u001b[0m\u001b[0;34m)\u001b[0m\u001b[0;34m:\u001b[0m\u001b[0;34m\u001b[0m\u001b[0m\n\u001b[0m\u001b[1;32m   1529\u001b[0m             \u001b[0mself\u001b[0m\u001b[0;34m.\u001b[0m\u001b[0madd_line\u001b[0m\u001b[0;34m(\u001b[0m\u001b[0mline\u001b[0m\u001b[0;34m)\u001b[0m\u001b[0;34m\u001b[0m\u001b[0m\n\u001b[1;32m   1530\u001b[0m             \u001b[0mlines\u001b[0m\u001b[0;34m.\u001b[0m\u001b[0mappend\u001b[0m\u001b[0;34m(\u001b[0m\u001b[0mline\u001b[0m\u001b[0;34m)\u001b[0m\u001b[0;34m\u001b[0m\u001b[0m\n",
      "\u001b[0;32m~/.pyenv/versions/anaconda3-4.4.0/lib/python3.6/site-packages/matplotlib/axes/_base.py\u001b[0m in \u001b[0;36m_grab_next_args\u001b[0;34m(self, *args, **kwargs)\u001b[0m\n\u001b[1;32m    404\u001b[0m                 \u001b[0mthis\u001b[0m \u001b[0;34m+=\u001b[0m \u001b[0margs\u001b[0m\u001b[0;34m[\u001b[0m\u001b[0;36m0\u001b[0m\u001b[0;34m]\u001b[0m\u001b[0;34m,\u001b[0m\u001b[0;34m\u001b[0m\u001b[0m\n\u001b[1;32m    405\u001b[0m                 \u001b[0margs\u001b[0m \u001b[0;34m=\u001b[0m \u001b[0margs\u001b[0m\u001b[0;34m[\u001b[0m\u001b[0;36m1\u001b[0m\u001b[0;34m:\u001b[0m\u001b[0;34m]\u001b[0m\u001b[0;34m\u001b[0m\u001b[0m\n\u001b[0;32m--> 406\u001b[0;31m             \u001b[0;32mfor\u001b[0m \u001b[0mseg\u001b[0m \u001b[0;32min\u001b[0m \u001b[0mself\u001b[0m\u001b[0;34m.\u001b[0m\u001b[0m_plot_args\u001b[0m\u001b[0;34m(\u001b[0m\u001b[0mthis\u001b[0m\u001b[0;34m,\u001b[0m \u001b[0mkwargs\u001b[0m\u001b[0;34m)\u001b[0m\u001b[0;34m:\u001b[0m\u001b[0;34m\u001b[0m\u001b[0m\n\u001b[0m\u001b[1;32m    407\u001b[0m                 \u001b[0;32myield\u001b[0m \u001b[0mseg\u001b[0m\u001b[0;34m\u001b[0m\u001b[0m\n\u001b[1;32m    408\u001b[0m \u001b[0;34m\u001b[0m\u001b[0m\n",
      "\u001b[0;32m~/.pyenv/versions/anaconda3-4.4.0/lib/python3.6/site-packages/matplotlib/axes/_base.py\u001b[0m in \u001b[0;36m_plot_args\u001b[0;34m(self, tup, kwargs)\u001b[0m\n\u001b[1;32m    394\u001b[0m                                   \"with non-matching shapes is deprecated.\")\n\u001b[1;32m    395\u001b[0m         \u001b[0;32mfor\u001b[0m \u001b[0mj\u001b[0m \u001b[0;32min\u001b[0m \u001b[0mxrange\u001b[0m\u001b[0;34m(\u001b[0m\u001b[0mmax\u001b[0m\u001b[0;34m(\u001b[0m\u001b[0mncx\u001b[0m\u001b[0;34m,\u001b[0m \u001b[0mncy\u001b[0m\u001b[0;34m)\u001b[0m\u001b[0;34m)\u001b[0m\u001b[0;34m:\u001b[0m\u001b[0;34m\u001b[0m\u001b[0m\n\u001b[0;32m--> 396\u001b[0;31m             \u001b[0mseg\u001b[0m \u001b[0;34m=\u001b[0m \u001b[0mfunc\u001b[0m\u001b[0;34m(\u001b[0m\u001b[0mx\u001b[0m\u001b[0;34m[\u001b[0m\u001b[0;34m:\u001b[0m\u001b[0;34m,\u001b[0m \u001b[0mj\u001b[0m \u001b[0;34m%\u001b[0m \u001b[0mncx\u001b[0m\u001b[0;34m]\u001b[0m\u001b[0;34m,\u001b[0m \u001b[0my\u001b[0m\u001b[0;34m[\u001b[0m\u001b[0;34m:\u001b[0m\u001b[0;34m,\u001b[0m \u001b[0mj\u001b[0m \u001b[0;34m%\u001b[0m \u001b[0mncy\u001b[0m\u001b[0;34m]\u001b[0m\u001b[0;34m,\u001b[0m \u001b[0mkw\u001b[0m\u001b[0;34m,\u001b[0m \u001b[0mkwargs\u001b[0m\u001b[0;34m)\u001b[0m\u001b[0;34m\u001b[0m\u001b[0m\n\u001b[0m\u001b[1;32m    397\u001b[0m             \u001b[0mret\u001b[0m\u001b[0;34m.\u001b[0m\u001b[0mappend\u001b[0m\u001b[0;34m(\u001b[0m\u001b[0mseg\u001b[0m\u001b[0;34m)\u001b[0m\u001b[0;34m\u001b[0m\u001b[0m\n\u001b[1;32m    398\u001b[0m         \u001b[0;32mreturn\u001b[0m \u001b[0mret\u001b[0m\u001b[0;34m\u001b[0m\u001b[0m\n",
      "\u001b[0;32m~/.pyenv/versions/anaconda3-4.4.0/lib/python3.6/site-packages/matplotlib/axes/_base.py\u001b[0m in \u001b[0;36m_makeline\u001b[0;34m(self, x, y, kw, kwargs)\u001b[0m\n\u001b[1;32m    298\u001b[0m         \u001b[0mdefault_dict\u001b[0m \u001b[0;34m=\u001b[0m \u001b[0mself\u001b[0m\u001b[0;34m.\u001b[0m\u001b[0m_getdefaults\u001b[0m\u001b[0;34m(\u001b[0m\u001b[0;32mNone\u001b[0m\u001b[0;34m,\u001b[0m \u001b[0mkw\u001b[0m\u001b[0;34m)\u001b[0m\u001b[0;34m\u001b[0m\u001b[0m\n\u001b[1;32m    299\u001b[0m         \u001b[0mself\u001b[0m\u001b[0;34m.\u001b[0m\u001b[0m_setdefaults\u001b[0m\u001b[0;34m(\u001b[0m\u001b[0mdefault_dict\u001b[0m\u001b[0;34m,\u001b[0m \u001b[0mkw\u001b[0m\u001b[0;34m)\u001b[0m\u001b[0;34m\u001b[0m\u001b[0m\n\u001b[0;32m--> 300\u001b[0;31m         \u001b[0mseg\u001b[0m \u001b[0;34m=\u001b[0m \u001b[0mmlines\u001b[0m\u001b[0;34m.\u001b[0m\u001b[0mLine2D\u001b[0m\u001b[0;34m(\u001b[0m\u001b[0mx\u001b[0m\u001b[0;34m,\u001b[0m \u001b[0my\u001b[0m\u001b[0;34m,\u001b[0m \u001b[0;34m**\u001b[0m\u001b[0mkw\u001b[0m\u001b[0;34m)\u001b[0m\u001b[0;34m\u001b[0m\u001b[0m\n\u001b[0m\u001b[1;32m    301\u001b[0m         \u001b[0;32mreturn\u001b[0m \u001b[0mseg\u001b[0m\u001b[0;34m\u001b[0m\u001b[0m\n\u001b[1;32m    302\u001b[0m \u001b[0;34m\u001b[0m\u001b[0m\n",
      "\u001b[0;32m~/.pyenv/versions/anaconda3-4.4.0/lib/python3.6/site-packages/matplotlib/lines.py\u001b[0m in \u001b[0;36m__init__\u001b[0;34m(self, xdata, ydata, linewidth, linestyle, color, marker, markersize, markeredgewidth, markeredgecolor, markerfacecolor, markerfacecoloralt, fillstyle, antialiased, dash_capstyle, solid_capstyle, dash_joinstyle, solid_joinstyle, pickradius, drawstyle, markevery, **kwargs)\u001b[0m\n\u001b[1;32m    419\u001b[0m         \u001b[0;31m# update kwargs before updating data to give the caller a\u001b[0m\u001b[0;34m\u001b[0m\u001b[0;34m\u001b[0m\u001b[0m\n\u001b[1;32m    420\u001b[0m         \u001b[0;31m# chance to init axes (and hence unit support)\u001b[0m\u001b[0;34m\u001b[0m\u001b[0;34m\u001b[0m\u001b[0m\n\u001b[0;32m--> 421\u001b[0;31m         \u001b[0mself\u001b[0m\u001b[0;34m.\u001b[0m\u001b[0mupdate\u001b[0m\u001b[0;34m(\u001b[0m\u001b[0mkwargs\u001b[0m\u001b[0;34m)\u001b[0m\u001b[0;34m\u001b[0m\u001b[0m\n\u001b[0m\u001b[1;32m    422\u001b[0m         \u001b[0mself\u001b[0m\u001b[0;34m.\u001b[0m\u001b[0mpickradius\u001b[0m \u001b[0;34m=\u001b[0m \u001b[0mpickradius\u001b[0m\u001b[0;34m\u001b[0m\u001b[0m\n\u001b[1;32m    423\u001b[0m         \u001b[0mself\u001b[0m\u001b[0;34m.\u001b[0m\u001b[0mind_offset\u001b[0m \u001b[0;34m=\u001b[0m \u001b[0;36m0\u001b[0m\u001b[0;34m\u001b[0m\u001b[0m\n",
      "\u001b[0;32m~/.pyenv/versions/anaconda3-4.4.0/lib/python3.6/site-packages/matplotlib/artist.py\u001b[0m in \u001b[0;36mupdate\u001b[0;34m(self, props)\u001b[0m\n\u001b[1;32m    886\u001b[0m         \u001b[0;32mtry\u001b[0m\u001b[0;34m:\u001b[0m\u001b[0;34m\u001b[0m\u001b[0m\n\u001b[1;32m    887\u001b[0m             ret = [_update_property(self, k, v)\n\u001b[0;32m--> 888\u001b[0;31m                    for k, v in props.items()]\n\u001b[0m\u001b[1;32m    889\u001b[0m         \u001b[0;32mfinally\u001b[0m\u001b[0;34m:\u001b[0m\u001b[0;34m\u001b[0m\u001b[0m\n\u001b[1;32m    890\u001b[0m             \u001b[0mself\u001b[0m\u001b[0;34m.\u001b[0m\u001b[0meventson\u001b[0m \u001b[0;34m=\u001b[0m \u001b[0mstore\u001b[0m\u001b[0;34m\u001b[0m\u001b[0m\n",
      "\u001b[0;32m~/.pyenv/versions/anaconda3-4.4.0/lib/python3.6/site-packages/matplotlib/artist.py\u001b[0m in \u001b[0;36m<listcomp>\u001b[0;34m(.0)\u001b[0m\n\u001b[1;32m    886\u001b[0m         \u001b[0;32mtry\u001b[0m\u001b[0;34m:\u001b[0m\u001b[0;34m\u001b[0m\u001b[0m\n\u001b[1;32m    887\u001b[0m             ret = [_update_property(self, k, v)\n\u001b[0;32m--> 888\u001b[0;31m                    for k, v in props.items()]\n\u001b[0m\u001b[1;32m    889\u001b[0m         \u001b[0;32mfinally\u001b[0m\u001b[0;34m:\u001b[0m\u001b[0;34m\u001b[0m\u001b[0m\n\u001b[1;32m    890\u001b[0m             \u001b[0mself\u001b[0m\u001b[0;34m.\u001b[0m\u001b[0meventson\u001b[0m \u001b[0;34m=\u001b[0m \u001b[0mstore\u001b[0m\u001b[0;34m\u001b[0m\u001b[0m\n",
      "\u001b[0;32m~/.pyenv/versions/anaconda3-4.4.0/lib/python3.6/site-packages/matplotlib/artist.py\u001b[0m in \u001b[0;36m_update_property\u001b[0;34m(self, k, v)\u001b[0m\n\u001b[1;32m    879\u001b[0m                 \u001b[0mfunc\u001b[0m \u001b[0;34m=\u001b[0m \u001b[0mgetattr\u001b[0m\u001b[0;34m(\u001b[0m\u001b[0mself\u001b[0m\u001b[0;34m,\u001b[0m \u001b[0;34m'set_'\u001b[0m \u001b[0;34m+\u001b[0m \u001b[0mk\u001b[0m\u001b[0;34m,\u001b[0m \u001b[0;32mNone\u001b[0m\u001b[0;34m)\u001b[0m\u001b[0;34m\u001b[0m\u001b[0m\n\u001b[1;32m    880\u001b[0m                 \u001b[0;32mif\u001b[0m \u001b[0;32mnot\u001b[0m \u001b[0mcallable\u001b[0m\u001b[0;34m(\u001b[0m\u001b[0mfunc\u001b[0m\u001b[0;34m)\u001b[0m\u001b[0;34m:\u001b[0m\u001b[0;34m\u001b[0m\u001b[0m\n\u001b[0;32m--> 881\u001b[0;31m                     \u001b[0;32mraise\u001b[0m \u001b[0mAttributeError\u001b[0m\u001b[0;34m(\u001b[0m\u001b[0;34m'Unknown property %s'\u001b[0m \u001b[0;34m%\u001b[0m \u001b[0mk\u001b[0m\u001b[0;34m)\u001b[0m\u001b[0;34m\u001b[0m\u001b[0m\n\u001b[0m\u001b[1;32m    882\u001b[0m                 \u001b[0;32mreturn\u001b[0m \u001b[0mfunc\u001b[0m\u001b[0;34m(\u001b[0m\u001b[0mv\u001b[0m\u001b[0;34m)\u001b[0m\u001b[0;34m\u001b[0m\u001b[0m\n\u001b[1;32m    883\u001b[0m \u001b[0;34m\u001b[0m\u001b[0m\n",
      "\u001b[0;31mAttributeError\u001b[0m: Unknown property on"
     ]
    }
   ],
   "source": [
    "plt.plot(hotdata[0], label=\"hot\")\n",
    "plt.plot(ondata[0], on=\"on\")\n",
    "plt.plot(offdata[0], off=\"off\")\n",
    "plt.plot(array_data[0], )\n",
    "plt.show()"
   ]
  },
  {
   "cell_type": "code",
   "execution_count": null,
   "metadata": {},
   "outputs": [],
   "source": []
  },
  {
   "cell_type": "code",
   "execution_count": 211,
   "metadata": {},
   "outputs": [
    {
     "data": {
      "image/png": "[encoded data removed]",
      "text/plain": [
       "<Figure size 432x288 with 1 Axes>"
      ]
     },
     "metadata": {},
     "output_type": "display_data"
    }
   ],
   "source": [
    "plt.plot((ondata[0]-offdata[0])/(hotdata[0]-offdata[0]))\n",
    "plt.grid()\n",
    "plt.xlim(8000, 8200)\n",
    "plt.ylim(-0.1, 0.1)\n",
    "plt.show()"
   ]
  },
  {
   "cell_type": "code",
   "execution_count": 191,
   "metadata": {},
   "outputs": [
    {
     "data": {
      "image/png": "[encoded data removed]",
      "text/plain": [
       "<Figure size 432x288 with 1 Axes>"
      ]
     },
     "metadata": {},
     "output_type": "display_data"
    }
   ],
   "source": [
    "plt.plot(offdata[0])\n",
    "plt.ylim(4000,6000)\n",
    "plt.show()"
   ]
  },
  {
   "cell_type": "code",
   "execution_count": null,
   "metadata": {
    "collapsed": true
   },
   "outputs": [],
   "source": []
  }
 ],
 "metadata": {
  "kernelspec": {
   "display_name": "Python 3",
   "language": "python",
   "name": "python3"
  },
  "language_info": {
   "codemirror_mode": {
    "name": "ipython",
    "version": 3
   },
   "file_extension": ".py",
   "mimetype": "text/x-python",
   "name": "python",
   "nbconvert_exporter": "python",
   "pygments_lexer": "ipython3",
   "version": "3.6.3"
  },
  "widgets": {
   "state": {
    "69cef02b5de64cd28537b73db5eaafe1": {
     "views": [
      {
       "cell_index": 46
      }
     ]
    },
    "a1def446d82c496b9beef01c766bc416": {
     "views": [
      {
       "cell_index": 46
      }
     ]
    },
    "c8da718324cb4a21bc4082d13c81de6b": {
     "views": [
      {
       "cell_index": 46
      }
     ]
    }
   },
   "version": "1.2.0"
  }
 },
 "nbformat": 4,
 "nbformat_minor": 2
}
