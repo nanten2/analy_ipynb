{
 "cells": [
  {
   "cell_type": "markdown",
   "metadata": {},
   "source": [
    "### 観測データ\n",
    "解析に必要なデータ\n",
    "- XFFTS data\n",
    "- encoder (doppler計算できない)\n",
    "- weather status\n",
    "- hosei copy\n",
    "- obs copy\n",
    "\n",
    "\n",
    "### 解析フロー\n",
    "\n",
    "- doppler tracking[x]\n",
    "- Chopper Wheel [o]\n",
    "- baseline fitting [o]\n",
    "- Scaling(from standard object?) [x]\n",
    "- regrid [o]\n",
    "    - rms [o]\n",
    "    - distance [o]\n",
    "- +header [o]\n",
    "- 3d-fits[o]"
   ]
  },
  {
   "cell_type": "code",
   "execution_count": 10,
   "metadata": {},
   "outputs": [
    {
     "name": "stdout",
     "output_type": "stream",
     "text": [
      "hosei_230.txt  ps_OriKL.obs  weather.csv  xffts.ndf\r\n"
     ]
    }
   ],
   "source": [
    "!ls /home/amigos/data/position_switching2019/n20190831094711_12CO_2-1_otf_OriKL/\n",
    "import time\n",
    "start_time = time.time()"
   ]
  },
  {
   "cell_type": "code",
   "execution_count": 57,
   "metadata": {
    "collapsed": true
   },
   "outputs": [],
   "source": [
    "#radec 変換データ作成\n",
    "#! python analy_coordinates.py\n",
    "import sys\n",
    "sys.path.append(\"../script/\")\n",
    "import subprocess\n",
    "import os\n",
    "import numpy\n",
    "import matplotlib.pyplot as plt\n",
    "from tqdm import tqdm\n",
    "from joblib import Parallel, delayed\n",
    "import numba\n",
    "from astropy.io import fits\n",
    "import glob\n",
    "###以下独自\n",
    "import n2df\n",
    "import read_obsfile\n",
    "import analy_doppler_nanten"
   ]
  },
  {
   "cell_type": "code",
   "execution_count": 65,
   "metadata": {
    "collapsed": true
   },
   "outputs": [],
   "source": [
    "analy_dir = \"/home/amigos/data/position_switching2019/n20190831094711_12CO_2-1_otf_OriKL/\"\n",
    "analy_dir = \"/home/amigos/data/position_switching2019/n20190904073619_12CO_2-1_otf_OriKL/\" # hosei parameters= 0\n",
    "subprocess.getoutput([\"ls {}\".format(analy_dir)]).split(\"\\n\")\n",
    "obspath = glob.glob(analy_dir+\"/*obs\")\n",
    "obs = read_obsfile.read(obspath[0])"
   ]
  },
  {
   "cell_type": "code",
   "execution_count": 15,
   "metadata": {},
   "outputs": [
    {
     "name": "stdout",
     "output_type": "stream",
     "text": [
      "      timestamp     intemp    outtemp    inhumi   outhumi     winddir  \\\n",
      "0  1.567583e+09  14.956652  15.911570  1.751314  8.712573  268.297682   \n",
      "1  1.567583e+09  14.661236  15.885827  1.252074  8.030655  268.750100   \n",
      "2  1.567583e+09  14.466728  16.327802  1.903607  8.747741  268.233242   \n",
      "3  1.567583e+09  15.007114  16.614927  1.582627  8.367952  268.563059   \n",
      "4  1.567583e+09  14.577122  16.337344  1.702686  8.648920  268.249792   \n",
      "\n",
      "     windsp       press      rain  cabin_temp1  cabin_temp2  dome_temp1  \\\n",
      "0  6.752982  570.395694  0.619969    21.440811    32.531285   10.670156   \n",
      "1  6.184196  570.725141  0.223604    22.112163    32.064726   10.264792   \n",
      "2  6.586468  570.637256  0.969153    21.818540    32.567815   10.650784   \n",
      "3  6.184204  570.701967  0.321139    22.113329    31.744670   10.596939   \n",
      "4  5.956937  570.278695  0.898055    22.173852    32.571921   10.245508   \n",
      "\n",
      "   dome_temp2  gen_temp1  gen_temp2  scan_num  obs_mode  \n",
      "0   13.517497  10.332148  13.314338         0       NaN  \n",
      "1   13.668064  10.380973  13.226655         1       NaN  \n",
      "2   13.850599  10.094376  12.935933         2       NaN  \n",
      "3   13.260184  10.088564  13.457765         3       NaN  \n",
      "4   13.331220  10.184645  13.526712         4       NaN  \n",
      "570.5477505242909 8.501568129985053 16.21549395113712\n"
     ]
    }
   ],
   "source": [
    "import log_weather\n",
    "import numpy\n",
    "###気象情報の読み込み\n",
    "weather_data = log_weather.Weather_log(os.path.join(analy_dir, \"weather.csv\")).read()\n",
    "print(weather_data)\n",
    "#気象データの確認\n",
    "press = numpy.mean(weather_data[\"press\"])\n",
    "humi = numpy.mean(weather_data[\"outhumi\"])\n",
    "temp = numpy.mean(weather_data[\"outtemp\"])\n",
    "lamda = 1300\n",
    "print(press, humi, temp)\n",
    "\n",
    "cabin_temp = weather_data[\"cabin_temp1\"]"
   ]
  },
  {
   "cell_type": "code",
   "execution_count": 16,
   "metadata": {
    "collapsed": true
   },
   "outputs": [],
   "source": [
    "array_num = 2#1~16IF "
   ]
  },
  {
   "cell_type": "markdown",
   "metadata": {},
   "source": [
    "### 分光データの読み出し\n"
   ]
  },
  {
   "cell_type": "code",
   "execution_count": 116,
   "metadata": {},
   "outputs": [
    {
     "name": "stderr",
     "output_type": "stream",
     "text": [
      "100%|██████████| 1113/1113 [00:00<00:00, 21059.03it/s]\n",
      "100%|██████████| 1113/1113 [00:00<00:00, 278668.84it/s]\n",
      "100%|██████████| 1113/1113 [00:00<00:00, 578184.34it/s]\n",
      "100%|██████████| 1113/1113 [00:00<00:00, 349446.84it/s]"
     ]
    },
    {
     "name": "stdout",
     "output_type": "stream",
     "text": [
      "CPU times: user 40 ms, sys: 32 ms, total: 72 ms\n",
      "Wall time: 95.8 ms\n"
     ]
    },
    {
     "name": "stderr",
     "output_type": "stream",
     "text": [
      "\n"
     ]
    }
   ],
   "source": [
    "%%time\n",
    "n = n2df.Read(os.path.join(analy_dir, \"xffts.ndf\"))\n",
    "array_data = n.read_onearray(array_num)#1IFの分光データ\n",
    "obs_mode = n.read_obs_mode()#観測モード（ON/OFF/HOT）\n",
    "scan_num = n.read_scan_num()#スキャンライン（0,1,2,3,4,...）\n",
    "###array_data, scan_num, obs_mode = n.read_for_otf(1)#3分くらいかかた\n",
    "timestamp = n.read_timestamp()"
   ]
  },
  {
   "cell_type": "markdown",
   "metadata": {},
   "source": [
    "### Doppler tracking"
   ]
  },
  {
   "cell_type": "code",
   "execution_count": 117,
   "metadata": {},
   "outputs": [],
   "source": [
    "on_x = obs[\"lambda_on\"]\n",
    "on_y = obs[\"beta_on\"]\n",
    "off_x = obs[\"lambda_off\"]\n",
    "off_y = obs[\"beta_off\"]"
   ]
  },
  {
   "cell_type": "code",
   "execution_count": 118,
   "metadata": {
    "scrolled": true
   },
   "outputs": [
    {
     "name": "stderr",
     "output_type": "stream",
     "text": [
      "  3%|▎         | 35/1113 [00:00<00:03, 341.61it/s]"
     ]
    },
    {
     "name": "stdout",
     "output_type": "stream",
     "text": [
      "vobsは全て正\n",
      "(32768,)\n"
     ]
    },
    {
     "name": "stderr",
     "output_type": "stream",
     "text": [
      "100%|██████████| 1113/1113 [00:02<00:00, 374.11it/s]\n",
      "100%|██████████| 1113/1113 [00:00<00:00, 10746.63it/s]\n"
     ]
    }
   ],
   "source": [
    "#this will be added\n",
    "from numpy import deg2rad\n",
    "from scipy import interpolate\n",
    "\n",
    "d = analy_doppler_nanten.doppler_nanten()\n",
    "#vobs = [d.calc_vobs(deg2rad(xffts[0][i]),deg2rad(xffts[1][i]), xffts[2][i]) for i in tqdm(range(len(xffts[0])))]\n",
    "vobs = []\n",
    "# for i in range(len(array_data)):\n",
    "#     if obs_mode[i] == \"ON\":\n",
    "#         vobs.append(d.calc_vobs(deg2rad(on_x), deg2rad(on_y), timestamp[i]))\n",
    "#     elif obs_mode[i] == \"OFF\" or obs_mode[i] == \"HOT\":\n",
    "#         vobs.append(d.calc_vobs(deg2rad(off_x), deg2rad(off_y), timestamp[i]))      \n",
    "# numpy.save(os.path.join(analy_dir, \"vobs\"), vobs)\n",
    "vobs = numpy.load(os.path.join(analy_dir, \"./vobs.npy\"))\n",
    "\n",
    "vobs = numpy.array(vobs)\n",
    "if numpy.count_nonzero(vobs>0) == len(vobs):\n",
    "    print(\"vobsは全て正\")\n",
    "elif numpy.count_nonzero(vobs<0) == len(vobs):\n",
    "    print(\"vobsは全て負\")\n",
    "else:\n",
    "    print(\"vobsは正も負もある\")\n",
    "\n",
    "#config\n",
    "dv = 0.167#km/s\n",
    "ch = numpy.linspace(0, 32767, 32768)\n",
    "bch = list(map(int, vobs//dv))#ch数の移動\n",
    "slide_ch = (vobs/dv) - bch#interpolationによる移動量\n",
    "bch_max = numpy.max(bch)\n",
    "bch_min = numpy.min(bch)\n",
    "\n",
    "dp_data = []\n",
    "xx_data = []\n",
    "print(numpy.shape(array_data[1]))\n",
    "for i in tqdm(range(len(vobs))):\n",
    "    f = interpolate.interp1d(ch, array_data[i])\n",
    "    ch2 = ch+slide_ch[i]\n",
    "    if slide_ch[i] > 0:\n",
    "        n = f(ch2[:-1])\n",
    "    elif slide_ch[i] <0:\n",
    "        n = f(ch2[1:])\n",
    "    new_p = n\n",
    "    if vobs[i] >0:\n",
    "        xx = ch[:-1] - bch[i]\n",
    "        #yy = new_p[bch[i]:]\n",
    "        yy = new_p\n",
    "    elif vobs[i]<0:\n",
    "        xx = ch[:-1] - bch[i]\n",
    "        yy = new_p\n",
    "        #yy = new_p[:bch[i]]\n",
    "    xx_data.append(xx)\n",
    "    dp_data.append(yy)\n",
    "    \n",
    "xx_data = numpy.array(xx_data)\n",
    "xx_min = numpy.max(xx_data.T[0])#regridの最小値\n",
    "xx_max = numpy.min(xx_data.T[-1])#regirdの最大値\n",
    "\n",
    "new_xx = numpy.arange(xx_min, xx_max+1, 1)\n",
    "\n",
    "mask_list= []\n",
    "for i in range(len(xx_data)):\n",
    "    mask = (xx_data[i] >= xx_min) & (xx_data[i] <= xx_max)\n",
    "    mask_list.append(mask)\n",
    "    \n",
    "new_yy_list = []\n",
    "for i in tqdm(range(len(xx_data))):\n",
    "    new_yy_list.append(dp_data[i][mask_list[i]])\n",
    "origin_array_data = array_data\n",
    "array_data = new_yy_list\n",
    "\n",
    "len_array_data = len(array_data[0])"
   ]
  },
  {
   "cell_type": "code",
   "execution_count": 100,
   "metadata": {
    "collapsed": true
   },
   "outputs": [],
   "source": [
    "###index探し\n",
    "obs_mode = numpy.array(obs_mode)\n",
    "scan_num = numpy.array(scan_num)\n",
    "\n",
    "offmask = obs_mode == \"OFF\"\n",
    "offindex = numpy.where(offmask == True)\n",
    "\n",
    "hotmask = obs_mode == \"HOT\"\n",
    "hotindex = numpy.where(hotmask == True)\n",
    "\n",
    "onmask = obs_mode == \"ON\"\n",
    "onindex = numpy.where(onmask == True)\n",
    "\n",
    "max_scannum = numpy.max(scan_num)#Caution! scan num starts from 0, so scan number of 26 indicates 27 times scan"
   ]
  },
  {
   "cell_type": "code",
   "execution_count": 101,
   "metadata": {},
   "outputs": [
    {
     "data": {
      "image/png": "[encoded data removed]",
      "text/plain": [
       "<Figure size 432x288 with 1 Axes>"
      ]
     },
     "metadata": {},
     "output_type": "display_data"
    }
   ],
   "source": [
    "#一応indexの可視化\n",
    "plt.plot(offindex[0], [1]*len(offindex[0]),\".\" , label = \"off\")\n",
    "plt.plot(hotindex[0], [1]*len(hotindex[0]),\".\" , label = \"hot\")\n",
    "plt.plot(onindex[0], [1]*len(onindex[0]),\".\" , label = \"on\")\n",
    "plt.legend()\n",
    "plt.show()"
   ]
  },
  {
   "cell_type": "code",
   "execution_count": 102,
   "metadata": {},
   "outputs": [
    {
     "name": "stdout",
     "output_type": "stream",
     "text": [
      "[0 0 0 ... 5 5 5]\n"
     ]
    },
    {
     "data": {
      "image/png": "[encoded data removed]",
      "text/plain": [
       "<Figure size 432x288 with 1 Axes>"
      ]
     },
     "metadata": {},
     "output_type": "display_data"
    },
    {
     "data": {
      "image/png": "[encoded data removed]",
      "text/plain": [
       "<Figure size 432x288 with 1 Axes>"
      ]
     },
     "metadata": {},
     "output_type": "display_data"
    },
    {
     "data": {
      "image/png": "[encoded data removed]",
      "text/plain": [
       "<Figure size 432x288 with 1 Axes>"
      ]
     },
     "metadata": {},
     "output_type": "display_data"
    }
   ],
   "source": [
    "#OFF 点のscan number を取得\n",
    "scan_num = numpy.array(scan_num)\n",
    "print(scan_num)\n",
    "offindex[0]\n",
    "plt.plot(scan_num[offindex[0]])\n",
    "plt.grid()\n",
    "plt.show()\n",
    "\n",
    "#HOT 点のscan number を取得\n",
    "scan_num = numpy.array(scan_num)\n",
    "hotindex[0]\n",
    "plt.plot(scan_num[hotindex[0]])\n",
    "plt.grid()\n",
    "plt.show()\n",
    "\n",
    "# ON 点のscan number を取得\n",
    "scan_num = numpy.array(scan_num)\n",
    "plt.plot(scan_num[onindex[0]])\n",
    "plt.grid()\n",
    "plt.show()"
   ]
  },
  {
   "cell_type": "markdown",
   "metadata": {},
   "source": [
    "### hot/offの積分"
   ]
  },
  {
   "cell_type": "code",
   "execution_count": null,
   "metadata": {
    "collapsed": true
   },
   "outputs": [],
   "source": []
  },
  {
   "cell_type": "code",
   "execution_count": 103,
   "metadata": {},
   "outputs": [
    {
     "name": "stderr",
     "output_type": "stream",
     "text": [
      "100%|██████████| 5/5 [00:00<00:00, 363.75it/s]"
     ]
    },
    {
     "name": "stdout",
     "output_type": "stream",
     "text": [
      "[1 2 3 4 5]\n"
     ]
    },
    {
     "name": "stderr",
     "output_type": "stream",
     "text": [
      "\n"
     ]
    }
   ],
   "source": [
    "#HOT積分\n",
    "print(numpy.unique(scan_num[hotindex[0]]))#HOT のscan number\n",
    "hotnum = numpy.unique(scan_num[hotindex[0]])#HOTの数\n",
    "\n",
    "hotdata = []\n",
    "\n",
    "for i in tqdm(hotnum):#i = scan number\n",
    "    mask = scan_num == i#特定のscannumのindexを抜き出す\n",
    "    index = numpy.where(mask == True)#特定のscannumのindex変数\n",
    "   ### \n",
    "    c = numpy.in1d(index[0], hotindex[0])#特定のscannumのindex&HOT index\n",
    "    c = numpy.where(c == True)[0]\n",
    "    ###\n",
    "    mm = index[0][c]#scan numの値でフィルターしたhot\n",
    "    #print(mm)\n",
    "    ###積分\n",
    "    tmp = [array_data[j] for j in mm]\n",
    "    hotdata.append(sum(tmp)/len(tmp))\n",
    "    pass\n",
    "\n",
    "#下は擬似データの質が低いための処理。将来的に削除\n",
    "hotdata = numpy.array(hotdata)\n",
    "hotdata = hotdata + 5000"
   ]
  },
  {
   "cell_type": "code",
   "execution_count": 104,
   "metadata": {},
   "outputs": [
    {
     "name": "stderr",
     "output_type": "stream",
     "text": [
      "100%|██████████| 5/5 [00:00<00:00, 351.55it/s]"
     ]
    },
    {
     "name": "stdout",
     "output_type": "stream",
     "text": [
      "[0 1 2 3 4]\n"
     ]
    },
    {
     "name": "stderr",
     "output_type": "stream",
     "text": [
      "\n"
     ]
    }
   ],
   "source": [
    "##OFFの積分\n",
    "print(numpy.unique(scan_num[offindex[0]]))#HOT のscan number\n",
    "offnum = numpy.unique(scan_num[offindex[0]])#HOTの数\n",
    "\n",
    "offdata = []\n",
    "scan_num = numpy.array(scan_num)\n",
    "\n",
    "for i in tqdm(offnum):\n",
    "    mask = scan_num == i#特定のscannumのindexを抜き出す\n",
    "    index = numpy.where(mask == True)#特定のscannumのindex変数\n",
    "   ### \n",
    "    c = numpy.in1d(index[0], offindex[0])#特定のscannumのindex&HOT index\n",
    "    c = numpy.where(c == True)[0]#scannumとhotで絞ったindex\n",
    "    mm = index[0][c]#scan numの値でフィルターしたhot\n",
    "    tmp = [array_data[j] for j in mm]\n",
    "    offdata.append(sum(tmp)/len(tmp))"
   ]
  },
  {
   "cell_type": "code",
   "execution_count": 105,
   "metadata": {},
   "outputs": [
    {
     "name": "stderr",
     "output_type": "stream",
     "text": [
      "100%|██████████| 5/5 [00:00<00:00, 349.64it/s]"
     ]
    },
    {
     "name": "stdout",
     "output_type": "stream",
     "text": [
      "[0 1 2 3 4]\n"
     ]
    },
    {
     "name": "stderr",
     "output_type": "stream",
     "text": [
      "\n"
     ]
    }
   ],
   "source": [
    "##ONの積分\n",
    "print(numpy.unique(scan_num[onindex[0]]))#HOT のscan number\n",
    "on_num = numpy.unique(scan_num[onindex[0]])#HOTの数\n",
    "\n",
    "ondata = []\n",
    "scan_num = numpy.array(scan_num)\n",
    "\n",
    "for i in tqdm(on_num):\n",
    "    mask = scan_num == i#特定のscannumのindexを抜き出す\n",
    "    index = numpy.where(mask == True)#特定のscannumのindex変数\n",
    "   ### \n",
    "    c = numpy.in1d(index[0], onindex[0])#特定のscannumのindex&HOT index\n",
    "    c = numpy.where(c == True)[0]#scannumとhotで絞ったindex\n",
    "    mm = index[0][c]#scan numの値でフィルターしたhot\n",
    "    tmp = [array_data[j] for j in mm]\n",
    "    ondata.append(sum(tmp)/len(tmp))"
   ]
  },
  {
   "cell_type": "markdown",
   "metadata": {},
   "source": [
    "Hot のデータはscan line分あるわけでないので補完\n",
    "Off もscan line 分ある観測プログラムしかないはずだが、一応補完\n",
    "\n",
    "補完の方法は次のOFF/HOTの点の観測を行うまでは直近のデータを採用する形"
   ]
  },
  {
   "cell_type": "code",
   "execution_count": 106,
   "metadata": {
    "collapsed": true
   },
   "outputs": [],
   "source": [
    "# ###Choper wheel\n",
    "@numba.jit\n",
    "def chopper_wheel(on, off, hot, temprature = 300):\n",
    "    Tastar = (on - off)/(hot - off) * temprature\n",
    "    return Tastar"
   ]
  },
  {
   "cell_type": "code",
   "execution_count": 107,
   "metadata": {
    "collapsed": true
   },
   "outputs": [],
   "source": [
    "chdata = [chopper_wheel(ondata[i], offdata[i], hotdata[i]) for i in range(len(ondata))]"
   ]
  },
  {
   "cell_type": "code",
   "execution_count": null,
   "metadata": {
    "collapsed": true
   },
   "outputs": [],
   "source": []
  },
  {
   "cell_type": "markdown",
   "metadata": {},
   "source": [
    "## Baseline fitting"
   ]
  },
  {
   "cell_type": "code",
   "execution_count": 119,
   "metadata": {},
   "outputs": [
    {
     "name": "stderr",
     "output_type": "stream",
     "text": [
      "100%|██████████| 5/5 [00:00<00:00, 370.82it/s]"
     ]
    },
    {
     "name": "stdout",
     "output_type": "stream",
     "text": [
      "3000 7500 8500 30000\n"
     ]
    },
    {
     "name": "stderr",
     "output_type": "stream",
     "text": [
      "\n"
     ]
    },
    {
     "data": {
      "image/png": "[encoded data removed]",
      "text/plain": [
       "<Figure size 432x288 with 1 Axes>"
      ]
     },
     "metadata": {},
     "output_type": "display_data"
    }
   ],
   "source": [
    "#baseline fitting parameter\n",
    "center = 8000\n",
    "width = 1000\n",
    "start = 3000\n",
    "end = 30000\n",
    "\n",
    "#baseline fitting function\n",
    "def f(x, a, b, c):\n",
    "    return a*x**2 + b*x + c\n",
    "\n",
    "def  baseline_fitting(arr_x, arr_y, index1, index2, index3, index4):\n",
    "    tmpdata_y1 = arr_y[index1:index2]\n",
    "    tmpdata_y2 = arr_y[index3:index4]\n",
    "    tmpdata_x1 = arr_x[index1:index2]\n",
    "    tmpdata_x2 = arr_x[index3:index4]\n",
    "    x = numpy.concatenate([tmpdata_x1, tmpdata_x2])\n",
    "    y = numpy.concatenate([tmpdata_y1, tmpdata_y2])\n",
    "    param = numpy.polyfit(x, y, 2)\n",
    "    arr_y = arr_y - f(arr_x, *param)\n",
    "    return arr_y\n",
    "    \n",
    "#ch\n",
    "xindex = numpy.linspace(0, len_array_data, len_array_data)\n",
    "\n",
    "#baseline fitting index\n",
    "index1 = int(start)\n",
    "index2 = int(center - width/2)\n",
    "index3 = int(center + width/2)\n",
    "index4 = int(end)\n",
    "print(index1, index2, index3, index4)\n",
    "\n",
    "testoffset = numpy.linspace(1, len_array_data, len_array_data)\n",
    "\n",
    "for i in tqdm(range(len(chdata))):\n",
    "    chdata[i] = chdata[i] + testoffset#ベースラインフィッティングできているかの確認のため\n",
    "    origin = chdata[i]#for debug, this will be deleted\n",
    "    chdata[i] = baseline_fitting(chdata[i], xindex, index1, index2, index3, index4)\n",
    "    \n",
    "    \n",
    "plt.plot(chdata[i], label=\"after chopper wheel\")#after chopper wheel\n",
    "plt.plot(origin, label=\"before chopper wheel\")#before chopper wheel\n",
    "plt.legend()\n",
    "plt.grid()"
   ]
  },
  {
   "cell_type": "code",
   "execution_count": 45,
   "metadata": {},
   "outputs": [
    {
     "data": {
      "image/png": "[encoded data removed]",
      "text/plain": [
       "<Figure size 432x288 with 1 Axes>"
      ]
     },
     "metadata": {},
     "output_type": "display_data"
    }
   ],
   "source": [
    "plt.plot(chdata[0])\n",
    "plt.show()"
   ]
  },
  {
   "cell_type": "markdown",
   "metadata": {
    "collapsed": true
   },
   "source": [
    "### astropyでfitsに書き出す"
   ]
  },
  {
   "cell_type": "markdown",
   "metadata": {},
   "source": [
    "ヘッダーの作成"
   ]
  },
  {
   "cell_type": "code",
   "execution_count": 120,
   "metadata": {},
   "outputs": [],
   "source": [
    "# header_dict = {\n",
    "# \"object\": obs[\"object\"],\n",
    "# \"crval1\": obs[\"lambda_on\"],\n",
    "# \"cdelt1\": obs[\"grid\"]/3600,\n",
    "# \"crpix1\": obs[\"N\"]-1/2,#中心ピクセル\n",
    "# \"crval2\": obs[\"beta_on\"],\n",
    "# \"cdelt2\": obs[\"grid\"]/3600,\n",
    "# \"crpix2\": obs[\"N\"]-1/2, #中心ピクセル\n",
    "# \"cdelt3\": 0.16,# km/s \n",
    "# \"crval3\": 0\n",
    "# }\n",
    "\n",
    "# temp = \"\"\"\n",
    "# SIMPLE  =                    T                                                  \n",
    "# BITPIX  =                  -32                                                  \n",
    "# NAXIS   =                    3                                                  \n",
    "# NAXIS1  =                  31                                                 \n",
    "# NAXIS2  =                  31                                                 \n",
    "# NAXIS3  =                   32768                                                  \n",
    "# OBJECT  = '{object}              '                                                  \n",
    "# TELESCOP= 'NANTEN2            '                                                  \n",
    "# INSTRUME= 'MULT2-11          '                                                  \n",
    "# OBSERVER= 'z7510rk           '                                                  \n",
    "# DATE-OBS= '2007-12-30        '                                                  \n",
    "# DATE-MAP= '2012-01-19        '                                                  \n",
    "# BSCALE  =    0.10000000000E+01                                                  \n",
    "# BZERO   =    0.00000000000E+01                                                  \n",
    "# BUNIT   = 'K                 '                                                  \n",
    "# EPOCH   =    0.20000000000E+04                                                  \n",
    "# OBSRA   =    8.38104170000E+01                                                  \n",
    "# OBSDEC  =   -5.37511100000E+00                                                  \n",
    "# DATAMAX =    1.16774444580E+02                                                  \n",
    "# DATAMIN =   -8.33924560547E+01                                                  \n",
    "# CTYPE1  = 'RA---GLS          '                                                  \n",
    "# CRVAL1  =    {crval1}                                                  \n",
    "# CDELT1  =    {cdelt1}                                                  \n",
    "# CRPIX1  =      {crpix1}\n",
    "# CROTA1  =     0.0000000000E+00                                                  \n",
    "# CTYPE2  = 'DEC--GLS          '                                                  \n",
    "# CRVAL2  =   {crval2}                                                  \n",
    "# CDELT2  =   {cdelt2}                                               \n",
    "# CRPIX2  =     {crpix2}                                               \n",
    "# CROTA2  =     0.0000000000E+00                                                  \n",
    "# CTYPE3  = 'VELO-LSR          '                                                  \n",
    "# CRVAL3  =    2.50000000000E+02                                                  \n",
    "# CDELT3  =    5.00000000000E+02                                                  \n",
    "# CRPIX3  =    1.00000000000E+00                                                  \n",
    "# CROTA3  =    0.00000000000E+00                                                  \n",
    "# BLANK   =   -1.00000000000E+00 \"\"\".format(**header_dict)"
   ]
  },
  {
   "cell_type": "code",
   "execution_count": 121,
   "metadata": {},
   "outputs": [],
   "source": [
    "#target_header = fits.Header.fromstring(temp, sep = \"\\n\")"
   ]
  },
  {
   "cell_type": "code",
   "execution_count": 127,
   "metadata": {},
   "outputs": [],
   "source": [
    "#書き出し\n",
    "hdu1 = fits.PrimaryHDU()\n",
    "hdu2 = fits.ImageHDU(chdata)\n",
    "hdulist = fits.HDUList([hdu1, hdu2])\n",
    "hdulist.writeto(\"ps.fits\", overwrite = True)"
   ]
  },
  {
   "cell_type": "code",
   "execution_count": 128,
   "metadata": {
    "collapsed": true
   },
   "outputs": [],
   "source": [
    "##読み込み\n",
    "hdu_list = fits.open(\"ps.fits\")\n",
    "hdu_r = hdu_list[1]\n",
    "data = hdu_r.data\n",
    "header = hdu_r.header"
   ]
  },
  {
   "cell_type": "code",
   "execution_count": 129,
   "metadata": {},
   "outputs": [
    {
     "data": {
      "text/plain": [
       "[<matplotlib.lines.Line2D at 0x7f9392e04b00>]"
      ]
     },
     "execution_count": 129,
     "metadata": {},
     "output_type": "execute_result"
    },
    {
     "data": {
      "image/png": "[encoded data removed]",
      "text/plain": [
       "<Figure size 432x288 with 1 Axes>"
      ]
     },
     "metadata": {},
     "output_type": "display_data"
    }
   ],
   "source": [
    "plt.plot(data[4])"
   ]
  },
  {
   "cell_type": "code",
   "execution_count": 130,
   "metadata": {},
   "outputs": [
    {
     "name": "stdout",
     "output_type": "stream",
     "text": [
      "required time : 6899.474713563919\n"
     ]
    }
   ],
   "source": [
    "#解析にかかった時間を出すため\n",
    "print(\"required time : {}\".format(time.time() - start_time))"
   ]
  },
  {
   "cell_type": "code",
   "execution_count": 131,
   "metadata": {},
   "outputs": [
    {
     "data": {
      "text/plain": [
       "32767"
      ]
     },
     "execution_count": 131,
     "metadata": {},
     "output_type": "execute_result"
    }
   ],
   "source": [
    "len(data[4])"
   ]
  },
  {
   "cell_type": "code",
   "execution_count": null,
   "metadata": {
    "collapsed": true
   },
   "outputs": [],
   "source": []
  },
  {
   "cell_type": "code",
   "execution_count": null,
   "metadata": {
    "collapsed": true
   },
   "outputs": [],
   "source": []
  }
 ],
 "metadata": {
  "kernelspec": {
   "display_name": "Python 3",
   "language": "python",
   "name": "python3"
  },
  "language_info": {
   "codemirror_mode": {
    "name": "ipython",
    "version": 3
   },
   "file_extension": ".py",
   "mimetype": "text/x-python",
   "name": "python",
   "nbconvert_exporter": "python",
   "pygments_lexer": "ipython3",
   "version": "3.6.3"
  },
  "widgets": {
   "state": {
    "69cef02b5de64cd28537b73db5eaafe1": {
     "views": [
      {
       "cell_index": 46
      }
     ]
    },
    "a1def446d82c496b9beef01c766bc416": {
     "views": [
      {
       "cell_index": 46
      }
     ]
    },
    "c8da718324cb4a21bc4082d13c81de6b": {
     "views": [
      {
       "cell_index": 46
      }
     ]
    }
   },
   "version": "1.2.0"
  }
 },
 "nbformat": 4,
 "nbformat_minor": 2
}
