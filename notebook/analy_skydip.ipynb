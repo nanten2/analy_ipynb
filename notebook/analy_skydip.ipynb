{
 "cells": [
  {
   "cell_type": "code",
   "execution_count": 1,
   "metadata": {
    "collapsed": true
   },
   "outputs": [],
   "source": [
    "% matplotlib inline\n",
    "import numpy as np\n",
    "import astropy.io as fits\n",
    "import math\n",
    "import matplotlib as mpl\n",
    "import matplotlib.pylab as plt\n",
    "from scipy.optimize import curve_fit\n",
    "import sys\n",
    "sys.path.append('/home/amigos/git/analy_n2data/script')"
   ]
  },
  {
   "cell_type": "code",
   "execution_count": 2,
   "metadata": {},
   "outputs": [
    {
     "name": "stdout",
     "output_type": "stream",
     "text": [
      "['01', '02', '03', '04', '05', '06', '07', '08', '09', '10', '11', '12', '13', '14', '15', '16']\n"
     ]
    }
   ],
   "source": [
    "import make_dset"
   ]
  },
  {
   "cell_type": "code",
   "execution_count": 3,
   "metadata": {
    "scrolled": true
   },
   "outputs": [
    {
     "name": "stderr",
     "output_type": "stream",
     "text": [
      "100%|██████████| 3/3 [00:00<00:00, 589.28it/s]"
     ]
    },
    {
     "name": "stdout",
     "output_type": "stream",
     "text": [
      "### [  1.57079037e+09   1.57079037e+09   1.57079037e+09 ...,   1.57079049e+09\n",
      "   1.57079049e+09   1.57079049e+09]\n",
      " 20.0\n",
      " 25.0\n",
      " 30.0\n",
      " 45.0\n",
      " 60.0\n",
      " 70.0\n",
      " 80.0\n",
      " 99.0\n",
      "HOT 0.0\n",
      "HOT 20.0\n",
      "HOT 25.0\n",
      "HOT 30.0\n",
      "HOT 45.0\n",
      "HOT 60.0\n",
      "HOT 70.0\n",
      "HOT 80.0\n",
      "SKY 0.0\n",
      "SKY 99.0\n",
      "[  1.57079037e+09   1.57079037e+09   1.57079037e+09 ...,   1.57079049e+09\n",
      "   1.57079049e+09   1.57079049e+09]\n",
      "['1570790375.5491922', '1570790492.1751986', '', '0.0', '', '']\n",
      "['1570790374.5435057', '1570790375.498472', 'HOT', '99.0', '', '']\n",
      "['1570790492.2264228', '1570790493.1901183', 'SKY', '20.0', '', '']\n",
      "['1570790482.388421', '1570790483.3645627', 'SKY', '25.0', '', '']\n",
      "['1570790472.4154346', '1570790473.372085', 'SKY', '30.0', '', '']\n",
      "['1570790456.9945397', '1570790457.9000602', 'SKY', '45.0', '', '']\n",
      "['1570790441.5257726', '1570790442.4811864', 'SKY', '60.0', '', '']\n",
      "['1570790428.9853973', '1570790429.9406986', 'SKY', '70.0', '', '']\n",
      "['1570790416.421942', '1570790417.3271139', 'SKY', '80.0', '', '']\n"
     ]
    },
    {
     "name": "stderr",
     "output_type": "stream",
     "text": [
      "\n",
      "100%|██████████| 3/3 [00:00<00:00, 617.32it/s]"
     ]
    },
    {
     "name": "stdout",
     "output_type": "stream",
     "text": [
      "### [  1.57079037e+09   1.57079037e+09   1.57079037e+09 ...,   1.57079049e+09\n",
      "   1.57079049e+09   1.57079049e+09]\n",
      " 20.0\n",
      " 25.0\n",
      " 30.0\n",
      " 45.0\n",
      " 60.0\n",
      " 70.0\n",
      " 80.0\n",
      " 99.0\n",
      "HOT 0.0\n",
      "HOT 20.0\n",
      "HOT 25.0\n",
      "HOT 30.0\n",
      "HOT 45.0\n",
      "HOT 60.0\n",
      "HOT 70.0\n",
      "HOT 80.0\n",
      "SKY 0.0\n",
      "SKY 99.0\n",
      "[  1.57079037e+09   1.57079037e+09   1.57079037e+09 ...,   1.57079049e+09\n",
      "   1.57079049e+09   1.57079049e+09]\n",
      "['1570790375.5491922', '1570790492.1751986', '', '0.0', '', '']\n",
      "['1570790374.5435057', '1570790375.498472', 'HOT', '99.0', '', '']\n",
      "['1570790492.2264228', '1570790493.1901183', 'SKY', '20.0', '', '']\n",
      "['1570790482.388421', '1570790483.3645627', 'SKY', '25.0', '', '']\n",
      "['1570790472.4154346', '1570790473.372085', 'SKY', '30.0', '', '']\n",
      "['1570790456.9945397', '1570790457.9000602', 'SKY', '45.0', '', '']\n",
      "['1570790441.5257726', '1570790442.4811864', 'SKY', '60.0', '', '']\n",
      "['1570790428.9853973', '1570790429.9406986', 'SKY', '70.0', '', '']\n",
      "['1570790416.421942', '1570790417.3271139', 'SKY', '80.0', '', '']\n"
     ]
    },
    {
     "name": "stderr",
     "output_type": "stream",
     "text": [
      "\n"
     ]
    }
   ],
   "source": [
    "# classify obsmode\n",
    "path = ('/home/amigos/shiotani/analy/hdd/HD-LCU31/data/home/amigos/hdd/data/skydip_xffts/20191011103929/')\n",
    "_d, data, tp = make_dset.get_data(path, '04')\n",
    "_d2, data2, tp2 = make_dset.get_data(path, '11')"
   ]
  },
  {
   "cell_type": "code",
   "execution_count": null,
   "metadata": {
    "collapsed": true
   },
   "outputs": [],
   "source": []
  },
  {
   "cell_type": "code",
   "execution_count": 4,
   "metadata": {
    "collapsed": true
   },
   "outputs": [],
   "source": [
    "d = np.array(_d)\n",
    "obsmode = d.T[0]\n",
    "elmode = d.T[1]\n",
    "skymask = obsmode =='SKY'\n",
    "hotmask = obsmode =='HOT'\n",
    "\n",
    "el_80_mask = elmode =='80.0'\n",
    "el_70_mask = elmode =='70.0'\n",
    "el_60_mask = elmode =='60.0'\n",
    "el_45_mask = elmode =='45.0'\n",
    "el_30_mask = elmode =='30.0'\n",
    "el_25_mask = elmode =='25.0'\n",
    "el_20_mask = elmode =='20.0'"
   ]
  },
  {
   "cell_type": "code",
   "execution_count": null,
   "metadata": {
    "collapsed": true
   },
   "outputs": [],
   "source": []
  },
  {
   "cell_type": "code",
   "execution_count": 8,
   "metadata": {
    "collapsed": true
   },
   "outputs": [],
   "source": [
    "_totalpower = np.array(tp)\n",
    "_totalpower2 = np.array(tp2)\n",
    "totalpower_list = _totalpower.T[2]\n",
    "totalpower_list2 = _totalpower2.T[2]\n",
    "skylist_80 = np.mean(totalpower_list[el_80_mask])\n",
    "skylist_70 = np.mean(totalpower_list[el_70_mask])\n",
    "skylist_60 = np.mean(totalpower_list[el_60_mask])\n",
    "skylist_45 = np.mean(totalpower_list[el_45_mask])\n",
    "skylist_30 = np.mean(totalpower_list[el_30_mask])\n",
    "skylist_25 = np.mean(totalpower_list[el_25_mask])\n",
    "skylist_20 = np.mean(totalpower_list[el_20_mask])\n",
    "hotlist = totalpower_list[hotmask]\n",
    "skylist2 = totalpower_list2[skymask]\n",
    "skylist2_80 = np.mean(totalpower_list2[el_80_mask])\n",
    "skylist2_70 = np.mean(totalpower_list2[el_70_mask])\n",
    "skylist2_60 = np.mean(totalpower_list2[el_60_mask])\n",
    "skylist2_45 = np.mean(totalpower_list2[el_45_mask])\n",
    "skylist2_30 = np.mean(totalpower_list2[el_30_mask])\n",
    "skylist2_25 = np.mean(totalpower_list2[el_25_mask])\n",
    "skylist2_20 = np.mean(totalpower_list2[el_20_mask])\n",
    "hotlist2 = totalpower_list2[hotmask]"
   ]
  },
  {
   "cell_type": "code",
   "execution_count": 9,
   "metadata": {},
   "outputs": [
    {
     "data": {
      "text/plain": [
       "<matplotlib.text.Text at 0x7f4b674eaf28>"
      ]
     },
     "execution_count": 9,
     "metadata": {},
     "output_type": "execute_result"
    },
    {
     "data": {
      "image/png": "[encoded data removed]",
      "text/plain": [
       "<matplotlib.figure.Figure at 0x7f4b674f8a20>"
      ]
     },
     "metadata": {},
     "output_type": "display_data"
    }
   ],
   "source": [
    "plt.plot(totalpower_list)\n",
    "plt.plot(totalpower_list2)\n",
    "plt.xlabel('index')\n",
    "plt.ylabel('power')"
   ]
  },
  {
   "cell_type": "code",
   "execution_count": 10,
   "metadata": {
    "collapsed": true
   },
   "outputs": [],
   "source": [
    "d_integ1 = [skylist_80, skylist_70, skylist_60, skylist_45, skylist_30, skylist_25, skylist_20]\n",
    "d_integ2 = [skylist2_80, skylist2_70, skylist2_60, skylist2_45, skylist2_30, skylist2_25, skylist2_20]\n",
    "d_hot_integ1=hotlist.mean()\n",
    "d_hot_integ2=hotlist2.mean()\n",
    "z = [80, 70, 60, 45, 30, 25, 20]"
   ]
  },
  {
   "cell_type": "code",
   "execution_count": 11,
   "metadata": {
    "collapsed": true
   },
   "outputs": [],
   "source": [
    "#print(d_integ1)"
   ]
  },
  {
   "cell_type": "code",
   "execution_count": 12,
   "metadata": {
    "collapsed": true
   },
   "outputs": [],
   "source": [
    "# calc tau\n",
    "#log(p_hot-p_sky)のlistの作成                                                   \n",
    "d_hot_sky1 = []\n",
    "d_hot_sky2 = []\n",
    "\n",
    "for i in range(len(d_integ1)):\n",
    "    d_temp = d_hot_integ1-d_integ1[i]\n",
    "    d_temp2 = math.log(d_temp)\n",
    "    d_hot_sky1 = d_hot_sky1 + [d_temp2]\n",
    "\n",
    "for i in range(len(d_integ2)):\n",
    "    d_temp = d_hot_integ2-d_integ2[i]\n",
    "    d_temp2 = math.log(d_temp)\n",
    "    d_hot_sky2 = d_hot_sky2 + [d_temp2]\n",
    "\n"
   ]
  },
  {
   "cell_type": "code",
   "execution_count": null,
   "metadata": {
    "collapsed": true
   },
   "outputs": [],
   "source": []
  },
  {
   "cell_type": "code",
   "execution_count": 13,
   "metadata": {},
   "outputs": [
    {
     "name": "stdout",
     "output_type": "stream",
     "text": [
      "[36.68352333794294, 36.79129759060179, 36.790890902377036, 36.898017908186546, 36.85875449997423, 36.76667866805365, 36.68806099501103]\n",
      "[35.34259970121004, 35.360268530037914, 35.32669001311892, 35.258865651563184, 35.14456460815472, 34.99414632860158, 34.884641871756635]\n",
      "[1.0154266118857451, 1.064177772475912, 1.1547005383792515, 1.414213562373095, 1.9999999999999996, 2.3662015831524985, 2.9238044001630863]\n",
      "[1.0154266118857451, 1.064177772475912, 1.1547005383792515, 1.414213562373095, 1.9999999999999996, 2.3662015831524985, 2.9238044001630863]\n"
     ]
    },
    {
     "data": {
      "text/plain": [
       "<function matplotlib.pyplot.show>"
      ]
     },
     "execution_count": 13,
     "metadata": {},
     "output_type": "execute_result"
    },
    {
     "data": {
      "image/png": "[encoded data removed]",
      "text/plain": [
       "<matplotlib.figure.Figure at 0x7f4ba0ab04e0>"
      ]
     },
     "metadata": {},
     "output_type": "display_data"
    }
   ],
   "source": [
    "#seczの計算                                                                     \n",
    "_z = []\n",
    "for i in range(len(z)):\n",
    "    __z = 90 - z[i]\n",
    "    _z.append(__z)\n",
    "\n",
    "secz = []\n",
    "for i in range(len(_z)):\n",
    "    secz_temp = (_z[i]/180)*math.pi\n",
    "    secz.append(1/math.cos(secz_temp))\n",
    "\n",
    "print(d_hot_sky1)\n",
    "print(d_hot_sky2)\n",
    "\n",
    "print(secz)\n",
    "\n",
    "_secz = sorted(secz, reverse=False)\n",
    "print(secz)\n",
    "import matplotlib.pyplot as plt2\n",
    "#fig = plt2.figure(figsize=(20.0, 6.0))\n",
    "#ax = fig.add_subplot(111)\n",
    "#ax.plot(d_hot_sky1)\n",
    "plt2.plot(secz, d_hot_sky1)\n",
    "plt2.plot(secz, d_hot_sky2)\n",
    "plt2.show"
   ]
  },
  {
   "cell_type": "code",
   "execution_count": 14,
   "metadata": {},
   "outputs": [
    {
     "data": {
      "image/png": "[encoded data removed]",
      "text/plain": [
       "<matplotlib.figure.Figure at 0x7f4bb1013f28>"
      ]
     },
     "metadata": {},
     "output_type": "display_data"
    }
   ],
   "source": [
    "mpl.rcParams['figure.facecolor'] = 'white'\n",
    "fit_array1 = np.polyfit(secz, d_hot_sky1,1)\n",
    "fit_array2 = np.polyfit(secz, d_hot_sky2,1)\n",
    "fig, (axL, axR) = plt.subplots(ncols = 2, figsize = (10,4))\n",
    "\n",
    "axL.plot(secz, np.poly1d(fit_array1)(secz), label=\"dfs1\")\n",
    "axL.plot(secz, d_hot_sky1, 'o')\n",
    "axL.set_title('4IF')\n",
    "axL.set_xlabel('secz')\n",
    "axL.set_ylabel('Power')\n",
    "\n",
    "axR.plot(secz, np.poly1d(fit_array2)(secz), label=\"dfs1\")\n",
    "axR.plot(secz, d_hot_sky2, 'o')\n",
    "axR.set_title('11IF')\n",
    "axR.set_xlabel('secz')\n",
    "axR.set_ylabel('Power')\n",
    "axR.text(0.1, 0.1, 'tau = {:.4f}'.format(-1*fit_array1[0]), transform = axL.transA\\\n",
    "xes)\n",
    "axR.text(1.4, 0.1, 'tau = {:.4f}'.format(-1*fit_array2[0]) , transform = axL.trans\\\n",
    "Axes)\n",
    "\n",
    "axL.grid()\n",
    "axR.grid()\n",
    "plt.show()"
   ]
  },
  {
   "cell_type": "code",
   "execution_count": 15,
   "metadata": {},
   "outputs": [
    {
     "data": {
      "image/png": "[encoded data removed]",
      "text/plain": [
       "<matplotlib.figure.Figure at 0x7f4bb0e656d8>"
      ]
     },
     "metadata": {},
     "output_type": "display_data"
    }
   ],
   "source": [
    "#fit_array1 = np.polyfit(secz, d_hot_sky1,1)\n",
    "#fit_array2 = np.polyfit(secz, d_hot_sky2,1)\n",
    "fig, (axL, axR) = plt.subplots(ncols = 2, figsize = (10,4))\n",
    "\n",
    "#axL.plot(secz, np.poly1d(fit_array1)(secz), label=\"dfs1\")\n",
    "axL.plot(z, d_hot_sky1, 'o')\n",
    "axL.set_title('4IF')\n",
    "axL.set_xlabel('elevation')\n",
    "axL.set_ylabel('P_hot-p_sky')\n",
    "\n",
    "#axR.plot(secz, np.poly1d(fit_array2)(secz), label=\"dfs1\")\n",
    "axR.plot(z, d_hot_sky2, 'o')\n",
    "axR.set_title('11IF')\n",
    "axR.set_xlabel('elevation')\n",
    "axR.set_ylabel('P_hot-p_sky')\n",
    "axR.text(0.1, 0.1, 'tau = {:.4f}'.format(fit_array1[0]), transform = axL.transA\\\n",
    "xes)\n",
    "axR.text(1.4, 0.1, 'tau = {:.4f}'.format(fit_array2[0]) , transform = axL.trans\\\n",
    "Axes)\n",
    "\n",
    "axL.grid()\n",
    "axR.grid()\n",
    "plt.show()"
   ]
  },
  {
   "cell_type": "code",
   "execution_count": null,
   "metadata": {
    "collapsed": true
   },
   "outputs": [],
   "source": []
  },
  {
   "cell_type": "code",
   "execution_count": null,
   "metadata": {
    "collapsed": true
   },
   "outputs": [],
   "source": []
  }
 ],
 "metadata": {
  "kernelspec": {
   "display_name": "Python 3",
   "language": "python",
   "name": "python3"
  },
  "language_info": {
   "codemirror_mode": {
    "name": "ipython",
    "version": 3
   },
   "file_extension": ".py",
   "mimetype": "text/x-python",
   "name": "python",
   "nbconvert_exporter": "python",
   "pygments_lexer": "ipython3",
   "version": "3.6.1"
  }
 },
 "nbformat": 4,
 "nbformat_minor": 2
}
