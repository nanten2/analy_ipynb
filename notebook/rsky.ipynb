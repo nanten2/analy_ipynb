{
 "cells": [
  {
   "cell_type": "code",
   "execution_count": 1,
   "metadata": {
    "collapsed": true
   },
   "outputs": [],
   "source": [
    "import sys\n",
    "if not sys.argv[1] == \"-f\":\n",
    "    path = sys.argv[1]\n",
    "    mode = \"commandline\"\n",
    "else:\n",
    "    # 手動で解析する場合はデータのあるpathを指定してください\n",
    "    path = \"/home/amigos/hdd/data/rsky/20190913_202905/\"\n",
    "    path = \"/home/amigos/hdd/data/rsky/20190913_213409/\"\n",
    "    path = \"/home/amigos/hdd/data/rsky/20190913_224921/\"\n",
    "    path = \"/home/amigos/hdd/data/rsky/20190913_225213/\"\n",
    "    mode = \"notebook\""
   ]
  },
  {
   "cell_type": "code",
   "execution_count": 2,
   "metadata": {
    "collapsed": true
   },
   "outputs": [],
   "source": [
    "import necstdb\n",
    "import numpy\n",
    "import matplotlib.pyplot as plt\n",
    "import os\n",
    "import pandas"
   ]
  },
  {
   "cell_type": "code",
   "execution_count": 2,
   "metadata": {
    "collapsed": true
   },
   "outputs": [],
   "source": [
    "topicname = [\n",
    "\"xffts_board01\",\n",
    "\"xffts_board02\",\n",
    "\"xffts_board03\",\n",
    "\"xffts_board04\",\n",
    "\"xffts_board05\",\n",
    "\"xffts_board06\",\n",
    "\"xffts_board07\",\n",
    "\"xffts_board08\",\n",
    "\"xffts_board09\",\n",
    "\"xffts_board10\",\n",
    "\"xffts_board11\",\n",
    "\"xffts_board12\",\n",
    "\"xffts_board13\",\n",
    "\"xffts_board14\",\n",
    "\"xffts_board15\",\n",
    "\"xffts_board16\"\n",
    "]"
   ]
  },
  {
   "cell_type": "code",
   "execution_count": 4,
   "metadata": {
    "collapsed": true
   },
   "outputs": [],
   "source": [
    "def get_tsys(dhot, dsky, thot):\n",
    "    y = dhot / dsky\n",
    "    tsys = thot / (y - 1.)\n",
    "    return tsys"
   ]
  },
  {
   "cell_type": "code",
   "execution_count": 5,
   "metadata": {},
   "outputs": [
    {
     "name": "stdout",
     "output_type": "stream",
     "text": [
      "1568415135.2216473\n",
      "1568415135.2216473\n",
      "1568415135.2216473\n",
      "1568415135.2216473\n",
      "1568415135.2216473\n",
      "1568415135.2216473\n",
      "1568415135.2216473\n",
      "1568415135.2216473\n",
      "1568415135.2956293\n",
      "1568415135.2956293\n",
      "1568415135.2956293\n",
      "1568415135.2956293\n",
      "1568415135.2956293\n",
      "1568415135.2956293\n",
      "1568415135.2956293\n",
      "1568415135.2956293\n",
      "CPU times: user 624 ms, sys: 96 ms, total: 720 ms\n",
      "Wall time: 856 ms\n"
     ]
    }
   ],
   "source": [
    "%%time\n",
    "hot_list = []\n",
    "sky_list = []\n",
    "tsys_list = []\n",
    "for i in topicname:\n",
    "    n = necstdb.opendb(path)\n",
    "    #print(n.list_tables())\n",
    "    nn = n.open_table(\"obsmode\")\n",
    "    dd = n.open_table(i)\n",
    "    obsmode = numpy.array(nn.read())\n",
    "    spec_array = numpy.array(dd.read())\n",
    "\n",
    "    timestamp = obsmode[:,0]\n",
    "    obsmode2 = list(map(lambda x:x.decode(), obsmode[:,1].tolist()))\n",
    "\n",
    "    obsmode2 = numpy.array(obsmode2)\n",
    "    hotmask = obsmode2 == \"HOT\"\n",
    "    skymask = obsmode2 == \"SKY\"\n",
    "\n",
    "    array = spec_array.T[2:].T\n",
    "    array_timestamp = spec_array.T[1].T\n",
    "\n",
    "    start_time = timestamp[hotmask][0]\n",
    "    end_time = timestamp[hotmask][-1]\n",
    "\n",
    "    start_time2 = timestamp[skymask][0]\n",
    "    end_time2 = timestamp[skymask][-1]\n",
    "\n",
    "    print(array_timestamp[0])\n",
    "    st_index = numpy.where(array_timestamp > float(start_time))[0][0]#分光データのtimstampから切り出す部分の始め\n",
    "    end_index = numpy.where(array_timestamp < float(end_time))[0][-1]# 終わり\n",
    "    st_index2 = numpy.where(array_timestamp > float(start_time2))[0][0]#分光データのtimstampから切り出す部分の始め\n",
    "    end_index2 = numpy.where(array_timestamp < float(end_time2))[0][-1]# 終わり\n",
    "\n",
    "    tm = array[st_index:end_index]#要注意　切り出しデータ\n",
    "    hot = numpy.mean(tm, axis=0)\n",
    "    tm2 = array[st_index2:end_index2]#要注意　切り出しデータ\n",
    "    sky = numpy.mean(tm2, axis=0)\n",
    "    hot_list.append(hot)\n",
    "    sky_list.append(sky)\n",
    "    tsys_list.append(get_tsys(hot, sky, 300))\n"
   ]
  },
  {
   "cell_type": "code",
   "execution_count": 6,
   "metadata": {
    "collapsed": true
   },
   "outputs": [],
   "source": [
    "fig = plt.figure(figsize=(16,16))\n",
    "ax = [fig.add_subplot(4, 4, i+1) for i in range(16)]\n",
    "x = numpy.linspace(0, 2000, 32768)#XFFTS bw = 0-2000MHz\n",
    "    \n",
    "# plot hot\n",
    "for i, (_ax, _tsys) in enumerate(zip(ax, tsys_list)):\n",
    "    _ax.plot(x, hot_list[i], \"r-\", label=\"hot\")\n",
    "    _ax.plot(x, sky_list[i], \"b-\", label=\"sky\")\n",
    "    _ax0 = _ax.twinx()\n",
    "    _ax0.plot(x, tsys_list[i], \"g.\", label=\"Tsys\", alpha=0.1)\n",
    "    _ax.set_xlabel('frequency [MHz]')\n",
    "    _ax.set_ylabel(\"count\")\n",
    "    _ax.set_yscale(\"log\")\n",
    "    _ax0.set_ylabel('Tsys [K]')\n",
    "    _ax.set_title('IF : {}'.format(i+1))\n",
    "    tsys_av = numpy.mean(_tsys)\n",
    "    _ax.text(0.05, 0.05, 'Tsys = %.2f'%(tsys_av), transform=_ax0.transAxes)\n",
    "    _ax0.set_ylim(0, 600)\n",
    "    _ax.legend()\n",
    "    _ax.grid()"
   ]
  },
  {
   "cell_type": "code",
   "execution_count": null,
   "metadata": {},
   "outputs": [],
   "source": [
    "plt.tight_layout()\n",
    "plt.savefig(os.path.join(path, \"result_rsky.png\"))\n",
    "if mode == \"notebook\":\n",
    "    plt.show()"
   ]
  },
  {
   "cell_type": "code",
   "execution_count": null,
   "metadata": {
    "collapsed": true
   },
   "outputs": [],
   "source": []
  }
 ],
 "metadata": {
  "kernelspec": {
   "display_name": "Python 3",
   "language": "python",
   "name": "python3"
  },
  "language_info": {
   "codemirror_mode": {
    "name": "ipython",
    "version": 3
   },
   "file_extension": ".py",
   "mimetype": "text/x-python",
   "name": "python",
   "nbconvert_exporter": "python",
   "pygments_lexer": "ipython3",
   "version": "3.6.3"
  }
 },
 "nbformat": 4,
 "nbformat_minor": 2
}
