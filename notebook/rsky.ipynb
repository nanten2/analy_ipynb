{
 "cells": [
  {
   "cell_type": "code",
   "execution_count": 103,
   "metadata": {},
   "outputs": [
    {
     "name": "stdout",
     "output_type": "stream",
     "text": [
      "xffts.ndf\r\n"
     ]
    }
   ],
   "source": [
    "!ls /home/amigos/data/rsky/20190907"
   ]
  },
  {
   "cell_type": "code",
   "execution_count": 104,
   "metadata": {
    "collapsed": true
   },
   "outputs": [],
   "source": [
    "path = \"/home/amigos/data/rsky/20190907/xffts.ndf\"\n",
    "path = \"/home/amigos/data/rsky/20190907_190937/xffts.ndf\""
   ]
  },
  {
   "cell_type": "code",
   "execution_count": 105,
   "metadata": {
    "collapsed": true
   },
   "outputs": [],
   "source": [
    "import n2df\n",
    "import numpy"
   ]
  },
  {
   "cell_type": "code",
   "execution_count": 106,
   "metadata": {
    "collapsed": true
   },
   "outputs": [],
   "source": [
    "n = n2df.Read(path)"
   ]
  },
  {
   "cell_type": "code",
   "execution_count": 144,
   "metadata": {},
   "outputs": [
    {
     "name": "stderr",
     "output_type": "stream",
     "text": [
      "100%|██████████| 16/16 [00:00<00:00, 46377.93it/s]\n",
      "100%|██████████| 16/16 [00:00<00:00, 17716.17it/s]\n",
      "100%|██████████| 16/16 [00:00<00:00, 17871.87it/s]\n",
      "100%|██████████| 16/16 [00:00<00:00, 22414.45it/s]\n",
      "100%|██████████| 16/16 [00:00<00:00, 25134.41it/s]\n",
      "100%|██████████| 16/16 [00:00<00:00, 29472.49it/s]\n",
      "100%|██████████| 16/16 [00:00<00:00, 8409.63it/s]\n",
      "100%|██████████| 16/16 [00:00<00:00, 4316.79it/s]\n",
      "100%|██████████| 16/16 [00:00<00:00, 18840.22it/s]\n",
      "100%|██████████| 16/16 [00:00<00:00, 18108.17it/s]\n",
      "100%|██████████| 16/16 [00:00<00:00, 9959.76it/s]\n",
      "100%|██████████| 16/16 [00:00<00:00, 19086.71it/s]\n",
      "100%|██████████| 16/16 [00:00<00:00, 30911.50it/s]\n",
      "100%|██████████| 16/16 [00:00<00:00, 23730.15it/s]\n",
      "100%|██████████| 16/16 [00:00<00:00, 3962.97it/s]\n",
      "100%|██████████| 16/16 [00:00<00:00, 25247.88it/s]\n",
      "100%|██████████| 16/16 [00:00<00:00, 26662.24it/s]\n",
      "100%|██████████| 16/16 [00:00<00:00, 1194.94it/s]\n"
     ]
    }
   ],
   "source": [
    "obs_mode = n.read_obs_mode()\n",
    "for i in range(16):\n",
    "    exec(\"array{} = n.read_onearray({})\".format(i,i))\n",
    "data = n.read_all()"
   ]
  },
  {
   "cell_type": "code",
   "execution_count": 141,
   "metadata": {},
   "outputs": [
    {
     "data": {
      "text/plain": [
       "1567883379.4786303"
      ]
     },
     "execution_count": 141,
     "metadata": {},
     "output_type": "execute_result"
    }
   ],
   "source": [
    "data = numpy.array(data)\n",
    "data.T[1][0]"
   ]
  },
  {
   "cell_type": "code",
   "execution_count": 152,
   "metadata": {
    "collapsed": true
   },
   "outputs": [],
   "source": [
    "obs_mode = numpy.array(obs_mode)\n",
    "sky = obs_mode == \"SKY\"\n",
    "hot = obs_mode == \"HOT\""
   ]
  },
  {
   "cell_type": "code",
   "execution_count": 153,
   "metadata": {
    "collapsed": true
   },
   "outputs": [],
   "source": [
    "array1 = numpy.array(array1)"
   ]
  },
  {
   "cell_type": "code",
   "execution_count": 154,
   "metadata": {
    "collapsed": true
   },
   "outputs": [],
   "source": [
    "sky = sum(array1[sky])/len(sky)\n",
    "hot = sum(array1[hot])/len(hot)"
   ]
  },
  {
   "cell_type": "code",
   "execution_count": 146,
   "metadata": {
    "collapsed": true
   },
   "outputs": [],
   "source": [
    "def get_tsys(dhot, dsky, thot):\n",
    "    y = dhot / dsky\n",
    "    tsys = thot / (y - 1.)\n",
    "    return tsys"
   ]
  },
  {
   "cell_type": "code",
   "execution_count": 161,
   "metadata": {
    "collapsed": true
   },
   "outputs": [],
   "source": [
    "tsys = get_tsys(hot, sky, 300)"
   ]
  },
  {
   "cell_type": "code",
   "execution_count": 113,
   "metadata": {},
   "outputs": [
    {
     "data": {
      "image/png": "[encoded data removed]",
      "text/plain": [
       "<Figure size 432x288 with 1 Axes>"
      ]
     },
     "metadata": {},
     "output_type": "display_data"
    }
   ],
   "source": [
    "import matplotlib.pyplot as plt\n",
    "plt.plot(tsys, \".\", alpha=0.2)\n",
    "plt.ylim(0, 500)\n",
    "plt.show()"
   ]
  },
  {
   "cell_type": "code",
   "execution_count": 114,
   "metadata": {},
   "outputs": [
    {
     "data": {
      "image/png": "[encoded data removed]",
      "text/plain": [
       "<Figure size 432x288 with 1 Axes>"
      ]
     },
     "metadata": {},
     "output_type": "display_data"
    }
   ],
   "source": [
    "plt.plot(sky)\n",
    "plt.plot(hot)\n",
    "plt.show()"
   ]
  },
  {
   "cell_type": "code",
   "execution_count": 115,
   "metadata": {},
   "outputs": [
    {
     "data": {
      "text/plain": [
       "array([[4.4388824e+04, 6.5063970e+03, 2.4166252e+01, ..., 6.0205405e+03,\n",
       "        6.0227700e+03, 6.2159146e+03],\n",
       "       [4.6732754e+04, 6.3771787e+03, 4.0516457e+01, ..., 1.1592292e+04,\n",
       "        1.1580850e+04, 1.1763665e+04],\n",
       "       [4.6732754e+04, 6.3771787e+03, 4.0516457e+01, ..., 1.1592292e+04,\n",
       "        1.1580850e+04, 1.1763665e+04],\n",
       "       ...,\n",
       "       [4.4388824e+04, 6.5063970e+03, 2.4166252e+01, ..., 6.0205405e+03,\n",
       "        6.0227700e+03, 6.2159146e+03],\n",
       "       [4.4388824e+04, 6.5063970e+03, 2.4166252e+01, ..., 6.0205405e+03,\n",
       "        6.0227700e+03, 6.2159146e+03],\n",
       "       [4.4388824e+04, 6.5063970e+03, 2.4166252e+01, ..., 6.0205405e+03,\n",
       "        6.0227700e+03, 6.2159146e+03]], dtype=float32)"
      ]
     },
     "execution_count": 115,
     "metadata": {},
     "output_type": "execute_result"
    }
   ],
   "source": [
    "array1"
   ]
  },
  {
   "cell_type": "code",
   "execution_count": 178,
   "metadata": {
    "collapsed": true
   },
   "outputs": [],
   "source": [
    "fig, ax = plt.subplots(4, 4, figsize=(16,16))"
   ]
  },
  {
   "cell_type": "code",
   "execution_count": 179,
   "metadata": {},
   "outputs": [
    {
     "data": {
      "text/plain": [
       "(0, 600)"
      ]
     },
     "execution_count": 179,
     "metadata": {},
     "output_type": "execute_result"
    }
   ],
   "source": [
    "ax[0,0].plot(tsys)\n",
    "ax[0,0].set_ylim(0, 600)"
   ]
  },
  {
   "cell_type": "code",
   "execution_count": 180,
   "metadata": {},
   "outputs": [
    {
     "data": {
      "image/png": "[encoded data removed]",
      "text/plain": [
       "<Figure size 1152x1152 with 16 Axes>"
      ]
     },
     "metadata": {},
     "output_type": "display_data"
    }
   ],
   "source": [
    "plt.show()"
   ]
  },
  {
   "cell_type": "code",
   "execution_count": null,
   "metadata": {
    "collapsed": true
   },
   "outputs": [],
   "source": []
  },
  {
   "cell_type": "code",
   "execution_count": null,
   "metadata": {
    "collapsed": true
   },
   "outputs": [],
   "source": []
  }
 ],
 "metadata": {
  "kernelspec": {
   "display_name": "Python 3",
   "language": "python",
   "name": "python3"
  },
  "language_info": {
   "codemirror_mode": {
    "name": "ipython",
    "version": 3
   },
   "file_extension": ".py",
   "mimetype": "text/x-python",
   "name": "python",
   "nbconvert_exporter": "python",
   "pygments_lexer": "ipython3",
   "version": "3.6.3"
  }
 },
 "nbformat": 4,
 "nbformat_minor": 2
}
