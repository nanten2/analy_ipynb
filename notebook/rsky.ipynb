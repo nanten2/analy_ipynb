{
 "cells": [
  {
   "cell_type": "code",
   "execution_count": 39,
   "metadata": {},
   "outputs": [
    {
     "name": "stdout",
     "output_type": "stream",
     "text": [
      "xffts.ndf\r\n"
     ]
    }
   ],
   "source": [
    "!ls /home/amigos/data/rsky/20190907"
   ]
  },
  {
   "cell_type": "code",
   "execution_count": 40,
   "metadata": {
    "collapsed": true
   },
   "outputs": [],
   "source": [
    "path = \"/home/amigos/data/rsky/20190907_190937/xffts.ndf\""
   ]
  },
  {
   "cell_type": "code",
   "execution_count": 41,
   "metadata": {},
   "outputs": [],
   "source": [
    "import n2df\n",
    "import numpy\n",
    "import matplotlib.pyplot as plt\n",
    "import os"
   ]
  },
  {
   "cell_type": "code",
   "execution_count": 42,
   "metadata": {
    "collapsed": true
   },
   "outputs": [],
   "source": [
    "n = n2df.Read(path)"
   ]
  },
  {
   "cell_type": "code",
   "execution_count": 43,
   "metadata": {},
   "outputs": [
    {
     "name": "stderr",
     "output_type": "stream",
     "text": [
      "100%|██████████| 24/24 [00:00<00:00, 62484.98it/s]\n",
      "100%|██████████| 24/24 [00:00<00:00, 15512.91it/s]\n",
      "100%|██████████| 24/24 [00:00<00:00, 13012.32it/s]\n",
      "100%|██████████| 24/24 [00:00<00:00, 15340.34it/s]\n",
      "100%|██████████| 24/24 [00:00<00:00, 11238.51it/s]\n",
      "100%|██████████| 24/24 [00:00<00:00, 14266.34it/s]\n",
      "100%|██████████| 24/24 [00:00<00:00, 13490.12it/s]\n",
      "100%|██████████| 24/24 [00:00<00:00, 13723.69it/s]\n",
      "100%|██████████| 24/24 [00:00<00:00, 11968.05it/s]\n",
      "100%|██████████| 24/24 [00:00<00:00, 16619.33it/s]\n",
      "100%|██████████| 24/24 [00:00<00:00, 16752.09it/s]\n",
      "100%|██████████| 24/24 [00:00<00:00, 13165.48it/s]\n",
      "100%|██████████| 24/24 [00:00<00:00, 16715.92it/s]\n",
      "100%|██████████| 24/24 [00:00<00:00, 15797.76it/s]\n",
      "100%|██████████| 24/24 [00:00<00:00, 15500.97it/s]\n",
      "100%|██████████| 24/24 [00:00<00:00, 10274.91it/s]\n",
      "100%|██████████| 24/24 [00:00<00:00, 12206.05it/s]\n"
     ]
    }
   ],
   "source": [
    "obs_mode = n.read_obs_mode()\n",
    "data_list = []\n",
    "for i in range(16):\n",
    "    exec(\"data_list.append(n.read_onearray({}))\".format(i))"
   ]
  },
  {
   "cell_type": "code",
   "execution_count": 44,
   "metadata": {
    "collapsed": true
   },
   "outputs": [],
   "source": [
    "obs_mode = numpy.array(obs_mode)\n",
    "sky = obs_mode == \"SKY\"\n",
    "hot = obs_mode == \"HOT\""
   ]
  },
  {
   "cell_type": "code",
   "execution_count": 45,
   "metadata": {
    "collapsed": true
   },
   "outputs": [],
   "source": [
    "def get_tsys(dhot, dsky, thot):\n",
    "    y = dhot / dsky\n",
    "    tsys = thot / (y - 1.)\n",
    "    return tsys"
   ]
  },
  {
   "cell_type": "code",
   "execution_count": 46,
   "metadata": {},
   "outputs": [],
   "source": [
    "tsys_list = []\n",
    "sky_list = []\n",
    "hot_list = []\n",
    "for i in data_list:\n",
    "    i = numpy.array(i)\n",
    "    _sky = sum(i[sky])/len(i[sky])\n",
    "    _hot = sum(i[hot])/len(i[hot])\n",
    "    tsys_list.append(get_tsys(_hot, _sky, 300))\n",
    "    hot_list.append(_hot)\n",
    "    sky_list.append(_sky)"
   ]
  },
  {
   "cell_type": "code",
   "execution_count": null,
   "metadata": {},
   "outputs": [],
   "source": [
    "fig = plt.figure(figsize=(16,16))\n",
    "ax = [fig.add_subplot(4, 4, i+1) for i in range(16)]\n",
    "x = numpy.linspace(0, 2000, 32768)#XFFTS bw = 0-2000MHz\n",
    "    \n",
    "# plot hot\n",
    "for i, (_ax, _tsys) in enumerate(zip(ax, tsys_list)):\n",
    "    _ax.plot(x, hot_list[i], \"r-\", label=\"hot\")\n",
    "    _ax.plot(x, sky_list[i], \"b-\", label=\"sky\")\n",
    "    _ax0 = _ax.twinx()\n",
    "    _ax0.plot(x, tsys_list[i], \"g.\", label=\"Tsys\", alpha=0.1)\n",
    "    _ax.set_xlabel('frequency [MHz]')\n",
    "    _ax.set_ylabel(\"count\")\n",
    "    _ax.set_yscale(\"log\")\n",
    "    _ax0.set_ylabel('Tsys [K]')\n",
    "    _ax.set_title('IF : {}'.format(i+1))\n",
    "    tsys_av = numpy.mean(_tsys)\n",
    "    _ax.text(0.05, 0.05, 'Tsys = %.2f'%(tsys_av), transform=_ax0.transAxes)\n",
    "    _ax0.set_ylim(0, 600)\n",
    "    _ax.legend()\n",
    "    _ax.grid()"
   ]
  },
  {
   "cell_type": "code",
   "execution_count": null,
   "metadata": {},
   "outputs": [],
   "source": [
    "plt.tight_layout()\n",
    "plt.savefig(os.path.join(os.path.dirname(path), \"result_rsky.png\"))\n",
    "plt.show()"
   ]
  },
  {
   "cell_type": "code",
   "execution_count": null,
   "metadata": {
    "collapsed": true
   },
   "outputs": [],
   "source": []
  },
  {
   "cell_type": "code",
   "execution_count": null,
   "metadata": {
    "collapsed": true
   },
   "outputs": [],
   "source": []
  }
 ],
 "metadata": {
  "kernelspec": {
   "display_name": "Python 3",
   "language": "python",
   "name": "python3"
  },
  "language_info": {
   "codemirror_mode": {
    "name": "ipython",
    "version": 3
   },
   "file_extension": ".py",
   "mimetype": "text/x-python",
   "name": "python",
   "nbconvert_exporter": "python",
   "pygments_lexer": "ipython3",
   "version": "3.6.3"
  }
 },
 "nbformat": 4,
 "nbformat_minor": 2
}
