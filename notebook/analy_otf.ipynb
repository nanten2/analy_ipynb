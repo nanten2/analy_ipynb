{
 "cells": [
  {
   "cell_type": "markdown",
   "metadata": {},
   "source": [
    "### 観測データ\n",
    "解析に必要なデータ\n",
    "- XFFTS data\n",
    "- Encoder data\n",
    "- weather status\n",
    "- hosei copy\n",
    "- obs copy\n",
    "\n",
    "\n",
    "### 解析フロー\n",
    "\n",
    "- doppler tracking[x]\n",
    "- Chopper Wheel [o]\n",
    "- baseline fitting [o]\n",
    "- Scaling(from standard object?) [x]\n",
    "- regrid [o]\n",
    "    - rms [o]\n",
    "    - distance [o]\n",
    "- +header [o]\n",
    "- 3d-fits[o]"
   ]
  },
  {
   "cell_type": "markdown",
   "metadata": {},
   "source": [
    "### memo\n",
    "備忘録\n",
    "- astropy unitを駆使してわかりやすく書くべき（arcsec/degでバグを増やさないために）\n",
    "- あらかじめxfftsの分光データをra,dec対応させておく\n",
    "\n",
    "        \n",
    " 観測データについて\n",
    " - 解析に必要なファイルは？\n",
    "    - XFFTS分光データ ndf\n",
    "    - エンコーダ .db\n",
    "        - あらかじめfk5, galactic に変換して一時ファイルに保存する必要 (npy)\n",
    "    - weather .???\n",
    "        - これをどの形式にするか考え中 csv , db\n",
    "    - 観測時に使用した器差パラメータの入ったファイル hosei_230.txt + alpha\n",
    "        - これの仕様を早く決定しなくては\n",
    "        \n",
    " これらの複数のファイルをどうやってひとまとめにするか考える必要あり\n",
    " - necrecに接続したHDD にndfファイルは保存される\n",
    " - その他は全て観測pc\n",
    "     - nfs mount で観測終了時にHDDにcopyする\n",
    "     \n",
    " - necrec HDD\n",
    "   - /home/amigos/data/[observation name]/yyyymmhh_HHMMSS/"
   ]
  },
  {
   "cell_type": "markdown",
   "metadata": {},
   "source": []
  },
  {
   "cell_type": "code",
   "execution_count": 1,
   "metadata": {},
   "outputs": [
    {
     "name": "stdout",
     "output_type": "stream",
     "text": [
      "0727test.db\t\t\t    test01.dat\r\n",
      "n20190824043335_12CO_2-1_otf_OriKL  test2.db\r\n",
      "n20190824043539_12CO_2-1_otf_OriKL  test2.hdf5\r\n",
      "n20190824043706_12CO_2-1_otf_OriKL  test3.dat\r\n",
      "n20190824070836_12CO_2-1_otf_OriKL  test3.hdf5\r\n",
      "n20190824071829_12CO_2-1_otf_OriKL  test4.dat\r\n",
      "n20190824074527_12CO_2-1_otf_OriKL  test4.hdf5\r\n",
      "n20190824075446_12CO_2-1_otf_OriKL  test5.dat\r\n",
      "n20190824081542_12CO_2-1_otf_OriKL  test5.hdf5\r\n",
      "n20190824082555_12CO_2-1_otf_OriKL  test6.dat\r\n",
      "n20190824083421_12CO_2-1_otf_OriKL  test6.hdf5\r\n",
      "n20190824094750_12CO_2-1_otf_OriKL  test.db\r\n",
      "n20190828070034_12CO_2-1_otf_OriKL  test.hdf5\r\n",
      "n20190829070855_12CO_2-1_otf_OriKL  testwrite.dat\r\n",
      "onepoint_test.db\t\t    testwrite.txt\r\n",
      "otftest.db\t\t\t    write_test.py\r\n",
      "otftest_y.db\t\t\t    write_test.py~\r\n"
     ]
    }
   ],
   "source": [
    "!ls /home/amigos/data/otf_2019\n",
    "import time\n",
    "start_time = time.time()"
   ]
  },
  {
   "cell_type": "code",
   "execution_count": 3,
   "metadata": {
    "collapsed": true
   },
   "outputs": [],
   "source": [
    "#radec 変換データ作成\n",
    "#! python analy_coordinates.py\n",
    "import sys\n",
    "sys.path.append(\"../script/\")\n",
    "import subprocess\n",
    "import os"
   ]
  },
  {
   "cell_type": "code",
   "execution_count": 8,
   "metadata": {},
   "outputs": [
    {
     "data": {
      "text/plain": [
       "['enc.db',\n",
       " 'enc.db-journal',\n",
       " 'encoder_radec.npy',\n",
       " 'hosei_230.txt',\n",
       " 'otf_test3_dcosy.obs',\n",
       " 'weather.csv',\n",
       " 'xffts.ndf',\n",
       " 'xffts_radec.npy']"
      ]
     },
     "execution_count": 8,
     "metadata": {},
     "output_type": "execute_result"
    }
   ],
   "source": [
    "#analy_dir = \"/home/amigos/data/otf_2019/n20190824043706_12CO_2-1_otf_OriKL\"\n",
    "#analy_dir = \"/home/amigos/data/otf_2019/n20190824070836_12CO_2-1_otf_OriKL\"\n",
    "#analy_dir = \"/home/amigos/data/otf_2019/n20190824071829_12CO_2-1_otf_OriKL\"\n",
    "#analy_dir = \"/home/amigos/data/otf_2019/n20190824074527_12CO_2-1_otf_OriKL\"\n",
    "#analy_dir = \"/home/amigos/data/otf_2019/n20190824075446_12CO_2-1_otf_OriKL\"\n",
    "#analy_dir = \"/home/amigos/data/otf_2019/n20190824081542_12CO_2-1_otf_OriKL\"\n",
    "#analy_dir = \"/home/amigos/data/otf_2019/n20190824083421_12CO_2-1_otf_OriKL\"\n",
    "#analy_dir = \"/home/amigos/data/otf_2019/n20190828070034_12CO_2-1_otf_OriKL\"#dcos = y\n",
    "analy_dir = \"/home/amigos/data/otf_2019/n20190829070855_12CO_2-1_otf_OriKL\"\n",
    "#hosei parameters= 0\n",
    "subprocess.getoutput([\"ls {}\".format(analy_dir)]).split(\"\\n\")"
   ]
  },
  {
   "cell_type": "code",
   "execution_count": 5,
   "metadata": {},
   "outputs": [
    {
     "name": "stdout",
     "output_type": "stream",
     "text": [
      "      timestamp     intemp    outtemp    inhumi   outhumi     winddir  \\\n",
      "0  1.567063e+09  14.615898  16.401635  1.217069  8.789539  268.044587   \n",
      "1  1.567063e+09  15.242434  15.916723  1.619410  8.992911  268.809724   \n",
      "2  1.567063e+09  15.187171  15.982642  1.324363  8.654358  268.585765   \n",
      "3  1.567063e+09  15.004781  15.883320  1.181302  8.128407  268.370501   \n",
      "4  1.567063e+09  14.609908  16.303384  1.751703  8.891238  268.367539   \n",
      "5  1.567063e+09  14.613457  16.306206  1.018901  8.873919  268.662608   \n",
      "6  1.567063e+09  14.996826  15.817684  1.268313  8.967384  268.727948   \n",
      "7  1.567063e+09  14.885344  16.327671  1.892525  8.377478  268.152468   \n",
      "8  1.567063e+09  14.894219  15.959382  1.983076  8.345808  268.179413   \n",
      "\n",
      "     windsp       press      rain  cabin_temp1  cabin_temp2  dome_temp1  \\\n",
      "0  6.073829  571.028439  0.232509    21.358820    31.666677   10.284675   \n",
      "1  6.749914  570.684762  0.995482    21.739320    32.327558   10.292536   \n",
      "2  5.915789  570.260857  0.433753    21.311067    32.413230   10.446190   \n",
      "3  6.179023  570.249241  0.411312    21.424833    32.124372    9.857974   \n",
      "4  6.144818  570.831065  0.969972    22.176727    32.493918   10.546418   \n",
      "5  6.097401  570.762150  0.332970    22.072363    32.091452   10.101937   \n",
      "6  6.075517  571.079664  0.674369    21.530028    31.787333   10.515563   \n",
      "7  6.249577  570.445695  0.177636    22.032958    32.478857   10.457083   \n",
      "8  6.141373  570.634291  0.333292    22.021259    31.623551    9.946717   \n",
      "\n",
      "   dome_temp2  gen_temp1  gen_temp2  scan_num  obs_mode  \n",
      "0   13.410929  10.115173  13.230942         0       NaN  \n",
      "1   12.903164  10.088736  13.520955         1       NaN  \n",
      "2   13.028963  10.051323  13.355205         2       NaN  \n",
      "3   13.847318  10.243972  12.920010         3       NaN  \n",
      "4   13.655980  10.152527  13.183416         4       NaN  \n",
      "5   13.784606  10.359110  13.882994         5       NaN  \n",
      "6   13.307528  10.755488  13.755165         6       NaN  \n",
      "7   13.849721  10.137216  13.184699         7       NaN  \n",
      "8   13.281707  10.130406  12.907072         8       NaN  \n",
      "570.6640181621447 8.669004813045976 16.099849675758353\n"
     ]
    }
   ],
   "source": [
    "import log_weather\n",
    "###気象情報の読み込み\n",
    "weather_data = log_weather.Weather_log(os.path.join(analy_dir, \"weather.csv\")).read()\n",
    "print(weather_data)\n",
    "#気象データの確認\n",
    "press = numpy.mean(weather_data[\"press\"])\n",
    "humi = numpy.mean(weather_data[\"outhumi\"])\n",
    "temp = numpy.mean(weather_data[\"outtemp\"])\n",
    "lamda = 1300\n",
    "print(press, humi, temp)"
   ]
  },
  {
   "cell_type": "code",
   "execution_count": 6,
   "metadata": {},
   "outputs": [
    {
     "name": "stdout",
     "output_type": "stream",
     "text": [
      "/home/amigos/ros/src/necst/lib/n2df.py:63: FutureWarning: Passing (type, 1) or '1type' as a synonym of type is deprecated; in a future version of numpy, it will be understood as (type, (1,)) / '(1,)type'.\n",
      "  ('c', '<i')])\n",
      "Namespace(arg1='/home/amigos/data/otf_2019/n20190829070855_12CO_2-1_otf_OriKL', humi='0.0850045489100007', lamda='1300', press='570.6', temp='16.364810010118216')\n",
      "  8%|███▏                                   | 178/2178 [00:01<00:15, 129.60it/s]^C\n",
      "Traceback (most recent call last):\n",
      "  File \"/home/amigos/git/analy_n2data/script/analy_coordinates.py\", line 44, in <module>\n",
      "    n2_timestamp = n2.read_timestamp()\n",
      "  File \"/home/amigos/ros/src/necst/lib/n2df.py\", line 119, in read_timestamp\n",
      "    return self._read_partly(8, 0, \"d\")\n",
      "  File \"/home/amigos/ros/src/necst/lib/n2df.py\", line 143, in _read_partly\n",
      "    tmp = [_t(i) for i in tqdm(range(int(loop)))]\n",
      "  File \"/home/amigos/ros/src/necst/lib/n2df.py\", line 143, in <listcomp>\n",
      "    tmp = [_t(i) for i in tqdm(range(int(loop)))]\n",
      "  File \"/home/amigos/ros/src/necst/lib/n2df.py\", line 140, in _t\n",
      "    return self.mm.read(length)\n",
      "KeyboardInterrupt\n",
      "\n",
      "CPU times: user 76 ms, sys: 28 ms, total: 104 ms\n",
      "Wall time: 4.47 s\n"
     ]
    }
   ],
   "source": [
    "%%time\n",
    "!python /home/amigos/git/analy_n2data/script/analy_coordinates.py  /home/amigos/data/otf_2019/n20190829070855_12CO_2-1_otf_OriKL -p  570.6  -l 1300 -hu  0.0850045489100007 -t          16.364810010118216"
   ]
  },
  {
   "cell_type": "code",
   "execution_count": 4,
   "metadata": {},
   "outputs": [],
   "source": [
    "import numpy\n",
    "import matplotlib.pyplot as plt\n",
    "from tqdm import tqdm\n",
    "from joblib import Parallel, delayed\n",
    "import numba\n",
    "from astropy.io import fits\n",
    "from scipy import interpolate\n",
    "###以下独自\n",
    "import n2df\n",
    "import read_obsfile\n",
    "import analy_doppler_nanten"
   ]
  },
  {
   "cell_type": "code",
   "execution_count": 6,
   "metadata": {
    "collapsed": true
   },
   "outputs": [],
   "source": [
    "###AzEl情報をradecに変換したものの一時ファイルの読み込み\n",
    "path_to_xffts_c = os.path.join(analy_dir, \"xffts_radec.npy\")\n",
    "path_to_encoder_c = os.path.join(analy_dir, \"encoder_radec.npy\")\n",
    "xffts = numpy.load(path_to_xffts_c)\n",
    "encoder = numpy.load(path_to_encoder_c)\n"
   ]
  },
  {
   "cell_type": "code",
   "execution_count": null,
   "metadata": {
    "collapsed": true
   },
   "outputs": [],
   "source": []
  },
  {
   "cell_type": "code",
   "execution_count": 7,
   "metadata": {
    "collapsed": true
   },
   "outputs": [],
   "source": [
    "###-30 == 330deg なので。この辺どうしようかね？\n",
    "#xffts[0] = xffts[0]-360"
   ]
  },
  {
   "cell_type": "markdown",
   "metadata": {},
   "source": [
    "### gridの作成\n"
   ]
  },
  {
   "cell_type": "code",
   "execution_count": 8,
   "metadata": {
    "collapsed": true
   },
   "outputs": [],
   "source": [
    "#観測プログラムから必要な情報を出す\n",
    "obsfile_dict = read_obsfile.read(os.path.join(analy_dir, \"otf_test3_dcosy.obs\"))\n",
    "lamda_on = obsfile_dict[\"lambda_on\"]\n",
    "beta_on = obsfile_dict[\"beta_on\"]\n",
    "N = obsfile_dict[\"N\"]\n",
    "grid = obsfile_dict[\"grid\"]/3600 #[deg]"
   ]
  },
  {
   "cell_type": "code",
   "execution_count": 9,
   "metadata": {},
   "outputs": [
    {
     "name": "stdout",
     "output_type": "stream",
     "text": [
      "0.80613\n",
      "-20.37432\n",
      "9\n",
      "0.008333333333333333\n"
     ]
    },
    {
     "data": {
      "text/plain": [
       "{'N': 9,\n",
       " 'acc': 10,\n",
       " 'beta_off': -20.6683,\n",
       " 'beta_on': -20.37432,\n",
       " 'betdel_off': 0,\n",
       " 'cold_flag': 'N',\n",
       " 'coordsys': 'j2000',\n",
       " 'cosydel': 'j2000',\n",
       " 'datanum': 9.0,\n",
       " 'end_ch_1': 16383,\n",
       " 'end_ch_2': 16383,\n",
       " 'exposure': 0.6,\n",
       " 'exposure_off': 10.0,\n",
       " 'fpga_integtime': 100,\n",
       " 'grid': 30,\n",
       " 'if1st_freq_1': 4438.0,\n",
       " 'if1st_freq_2': 5701.3,\n",
       " 'if3rd_freq_1': 500.0,\n",
       " 'if3rd_freq_2': 500.0,\n",
       " 'lambda_off': 0.559,\n",
       " 'lambda_on': 0.80613,\n",
       " 'lamdel_off': 0,\n",
       " 'lamp_pixels': 4,\n",
       " 'lo1st_sb_1': 'U',\n",
       " 'lo1st_sb_2': 'L',\n",
       " 'lo2nd_sb_1': 'L',\n",
       " 'lo2nd_sb_2': 'L',\n",
       " 'lo3rd_freq_1': 4100.0,\n",
       " 'lo3rd_freq_2': 4100.0,\n",
       " 'lo3rd_sb_1': 'L',\n",
       " 'lo3rd_sb_2': 'L',\n",
       " 'load_interval': 5,\n",
       " 'molecule_1': '12CO',\n",
       " 'molecule_2': '13CO',\n",
       " 'multiple': 12,\n",
       " 'nTest': 1,\n",
       " 'object': 'OriKL',\n",
       " 'observer': 'amigos',\n",
       " 'obsfreq_1': 230538.0,\n",
       " 'obsfreq_2': 220398.684,\n",
       " 'obsmode': 'LINEOTF',\n",
       " 'offset_Az': 0,\n",
       " 'offset_El': 0,\n",
       " 'otadel': 'Y',\n",
       " 'otadel_off': 'Y',\n",
       " 'otflen': 5.4,\n",
       " 'otfvel': 50.0,\n",
       " 'pllharmonic': 1,\n",
       " 'pllref_if': 1,\n",
       " 'pllreffreq': 0,\n",
       " 'pllsideband': -1,\n",
       " 'purpose': 2,\n",
       " 'restfreq_1': 230538.0,\n",
       " 'restfreq_2': 220398.684,\n",
       " 'scan_direction': 0,\n",
       " 'start_ch_1': 0,\n",
       " 'start_ch_2': 0,\n",
       " 'start_pos_x': -120.0,\n",
       " 'start_pos_y': -120.0,\n",
       " 'transiti_1': 'J=2-1',\n",
       " 'transiti_2': 'J=2-1',\n",
       " 'tsys': 0,\n",
       " 'tuning_vlsr': 0.0,\n",
       " 'vlsr': 0.0}"
      ]
     },
     "execution_count": 9,
     "metadata": {},
     "output_type": "execute_result"
    }
   ],
   "source": [
    "###obsfileの確認\n",
    "print(lamda_on)\n",
    "print(beta_on)\n",
    "print(N)\n",
    "print(grid)\n",
    "obsfile_dict"
   ]
  },
  {
   "cell_type": "code",
   "execution_count": 6,
   "metadata": {
    "collapsed": true
   },
   "outputs": [],
   "source": [
    "#今回girdからどこまで離れた範囲まで解析の中に含めるかの値。これは外からいじれる値にしておかないと\n",
    "offset = 80#半径[arcsec]\n",
    "array_num = 2#1~16IF "
   ]
  },
  {
   "cell_type": "code",
   "execution_count": 11,
   "metadata": {},
   "outputs": [
    {
     "ename": "NameError",
     "evalue": "name 'lamda_on' is not defined",
     "output_type": "error",
     "traceback": [
      "\u001b[0;31m----------------------------------------------------------\u001b[0m",
      "\u001b[0;31mNameError\u001b[0m                Traceback (most recent call last)",
      "\u001b[0;32m<ipython-input-11-ecd2d580c847>\u001b[0m in \u001b[0;36m<module>\u001b[0;34m()\u001b[0m\n\u001b[1;32m      1\u001b[0m \u001b[0;31m#make gird\u001b[0m\u001b[0;34m\u001b[0m\u001b[0;34m\u001b[0m\u001b[0m\n\u001b[0;32m----> 2\u001b[0;31m \u001b[0mragrid\u001b[0m \u001b[0;34m=\u001b[0m \u001b[0mnumpy\u001b[0m\u001b[0;34m.\u001b[0m\u001b[0marange\u001b[0m\u001b[0;34m(\u001b[0m\u001b[0mlamda_on\u001b[0m \u001b[0;34m-\u001b[0m \u001b[0;34m(\u001b[0m\u001b[0;34m(\u001b[0m\u001b[0mN\u001b[0m\u001b[0;34m-\u001b[0m\u001b[0;36m1\u001b[0m\u001b[0;34m)\u001b[0m\u001b[0;34m/\u001b[0m\u001b[0;36m2\u001b[0m\u001b[0;34m)\u001b[0m\u001b[0;34m*\u001b[0m\u001b[0mgrid\u001b[0m\u001b[0;34m,\u001b[0m \u001b[0mlamda_on\u001b[0m \u001b[0;34m+\u001b[0m \u001b[0;34m(\u001b[0m\u001b[0;34m(\u001b[0m\u001b[0mN\u001b[0m\u001b[0;34m-\u001b[0m\u001b[0;36m1\u001b[0m\u001b[0;34m)\u001b[0m\u001b[0;34m/\u001b[0m\u001b[0;36m2\u001b[0m\u001b[0;34m+\u001b[0m\u001b[0;36m1\u001b[0m\u001b[0;34m)\u001b[0m\u001b[0;34m*\u001b[0m\u001b[0mgrid\u001b[0m\u001b[0;34m,\u001b[0m \u001b[0mgrid\u001b[0m\u001b[0;34m)\u001b[0m\u001b[0;34m\u001b[0m\u001b[0m\n\u001b[0m\u001b[1;32m      3\u001b[0m \u001b[0mdecgrid\u001b[0m \u001b[0;34m=\u001b[0m \u001b[0mnumpy\u001b[0m\u001b[0;34m.\u001b[0m\u001b[0marange\u001b[0m\u001b[0;34m(\u001b[0m\u001b[0mbeta_on\u001b[0m \u001b[0;34m-\u001b[0m \u001b[0;34m(\u001b[0m\u001b[0;34m(\u001b[0m\u001b[0mN\u001b[0m\u001b[0;34m-\u001b[0m\u001b[0;36m1\u001b[0m\u001b[0;34m)\u001b[0m\u001b[0;34m/\u001b[0m\u001b[0;36m2\u001b[0m\u001b[0;34m)\u001b[0m\u001b[0;34m*\u001b[0m\u001b[0mgrid\u001b[0m\u001b[0;34m,\u001b[0m \u001b[0mbeta_on\u001b[0m \u001b[0;34m+\u001b[0m \u001b[0;34m(\u001b[0m\u001b[0;34m(\u001b[0m\u001b[0mN\u001b[0m\u001b[0;34m-\u001b[0m\u001b[0;36m1\u001b[0m\u001b[0;34m)\u001b[0m\u001b[0;34m/\u001b[0m\u001b[0;36m2\u001b[0m\u001b[0;34m+\u001b[0m\u001b[0;36m1\u001b[0m\u001b[0;34m)\u001b[0m\u001b[0;34m*\u001b[0m\u001b[0mgrid\u001b[0m\u001b[0;34m,\u001b[0m \u001b[0mgrid\u001b[0m\u001b[0;34m)\u001b[0m\u001b[0;34m\u001b[0m\u001b[0m\n\u001b[1;32m      4\u001b[0m \u001b[0mradec_grid\u001b[0m \u001b[0;34m=\u001b[0m \u001b[0mnumpy\u001b[0m\u001b[0;34m.\u001b[0m\u001b[0mmeshgrid\u001b[0m\u001b[0;34m(\u001b[0m\u001b[0mragrid\u001b[0m\u001b[0;34m,\u001b[0m \u001b[0mdecgrid\u001b[0m\u001b[0;34m)\u001b[0m\u001b[0;34m\u001b[0m\u001b[0m\n",
      "\u001b[0;31mNameError\u001b[0m: name 'lamda_on' is not defined"
     ]
    }
   ],
   "source": [
    "#make gird\n",
    "ragrid = numpy.arange(lamda_on - ((N-1)/2)*grid, lamda_on + ((N-1)/2+1)*grid, grid)\n",
    "decgrid = numpy.arange(beta_on - ((N-1)/2)*grid, beta_on + ((N-1)/2+1)*grid, grid)\n",
    "radec_grid = numpy.meshgrid(ragrid, decgrid)"
   ]
  },
  {
   "cell_type": "code",
   "execution_count": 12,
   "metadata": {},
   "outputs": [
    {
     "name": "stdout",
     "output_type": "stream",
     "text": [
      "-20.407653333333336 -20.332653333333333 0.008333333333333333\n"
     ]
    }
   ],
   "source": [
    "print(\n",
    "beta_on - ((N-1)/2)*grid,\n",
    "beta_on + ((N-1)/2+1)*grid,\n",
    "grid)"
   ]
  },
  {
   "cell_type": "code",
   "execution_count": 13,
   "metadata": {},
   "outputs": [
    {
     "data": {
      "image/png": "[encoded data removed]",
      "text/plain": [
       "<Figure size 432x288 with 1 Axes>"
      ]
     },
     "metadata": {},
     "output_type": "display_data"
    }
   ],
   "source": [
    "#gridの確認\n",
    "#girdとXFFTSの点がずれている。これはプロジェクションの問題でcosがかかっていないからか？\n",
    "plt.plot(radec_grid[0], radec_grid[1], \".\")\n",
    "plt.plot(lamda_on, beta_on, \"*\")\n",
    "plt.plot(xffts[0], xffts[1])\n",
    "#plt.plot(encoder[0], encoder[1], \".\")\n",
    "plt.xlim(0.7,0.9)\n",
    "plt.ylim(-20.48, -20.3)\n",
    "plt.savefig(\"neko.pdf\")\n",
    "plt.grid()\n",
    "plt.show()\n",
    "\n",
    "### なんで線と点がずれているんだ？"
   ]
  },
  {
   "cell_type": "code",
   "execution_count": 14,
   "metadata": {},
   "outputs": [
    {
     "data": {
      "text/plain": [
       "array([[-20.40765333, -20.40765333, -20.40765333, -20.40765333,\n",
       "        -20.40765333, -20.40765333, -20.40765333, -20.40765333,\n",
       "        -20.40765333],\n",
       "       [-20.39932   , -20.39932   , -20.39932   , -20.39932   ,\n",
       "        -20.39932   , -20.39932   , -20.39932   , -20.39932   ,\n",
       "        -20.39932   ],\n",
       "       [-20.39098667, -20.39098667, -20.39098667, -20.39098667,\n",
       "        -20.39098667, -20.39098667, -20.39098667, -20.39098667,\n",
       "        -20.39098667],\n",
       "       [-20.38265333, -20.38265333, -20.38265333, -20.38265333,\n",
       "        -20.38265333, -20.38265333, -20.38265333, -20.38265333,\n",
       "        -20.38265333],\n",
       "       [-20.37432   , -20.37432   , -20.37432   , -20.37432   ,\n",
       "        -20.37432   , -20.37432   , -20.37432   , -20.37432   ,\n",
       "        -20.37432   ],\n",
       "       [-20.36598667, -20.36598667, -20.36598667, -20.36598667,\n",
       "        -20.36598667, -20.36598667, -20.36598667, -20.36598667,\n",
       "        -20.36598667],\n",
       "       [-20.35765333, -20.35765333, -20.35765333, -20.35765333,\n",
       "        -20.35765333, -20.35765333, -20.35765333, -20.35765333,\n",
       "        -20.35765333],\n",
       "       [-20.34932   , -20.34932   , -20.34932   , -20.34932   ,\n",
       "        -20.34932   , -20.34932   , -20.34932   , -20.34932   ,\n",
       "        -20.34932   ],\n",
       "       [-20.34098667, -20.34098667, -20.34098667, -20.34098667,\n",
       "        -20.34098667, -20.34098667, -20.34098667, -20.34098667,\n",
       "        -20.34098667],\n",
       "       [-20.33265333, -20.33265333, -20.33265333, -20.33265333,\n",
       "        -20.33265333, -20.33265333, -20.33265333, -20.33265333,\n",
       "        -20.33265333]])"
      ]
     },
     "execution_count": 14,
     "metadata": {},
     "output_type": "execute_result"
    }
   ],
   "source": [
    "numpy.cos(3.14)\n",
    "d2r= numpy.deg2rad\n",
    "numpy.cos(d2r(90))\n",
    "radec_grid[1]"
   ]
  },
  {
   "cell_type": "code",
   "execution_count": 15,
   "metadata": {},
   "outputs": [
    {
     "data": {
      "text/plain": [
       "array([1.56706256e+09, 1.56706256e+09, 1.56706256e+09, ...,\n",
       "       1.56706284e+09, 1.56706284e+09, 1.56706284e+09])"
      ]
     },
     "execution_count": 15,
     "metadata": {},
     "output_type": "execute_result"
    }
   ],
   "source": [
    "xffts[2]"
   ]
  },
  {
   "cell_type": "markdown",
   "metadata": {},
   "source": [
    "## doppler tracking\n"
   ]
  },
  {
   "cell_type": "code",
   "execution_count": 57,
   "metadata": {
    "scrolled": true
   },
   "outputs": [
    {
     "name": "stderr",
     "output_type": "stream",
     "text": [
      "100%|██████████| 1743/1743 [04:13<00:00,  6.27it/s]\n"
     ]
    }
   ],
   "source": [
    "#this will be added\n",
    "#from numpy import deg2rad\n",
    "#d = analy_doppler_nanten.doppler_nanten()\n",
    "#d.calc_vobs(deg2rad(11), deg2rad(11), time.time())\n",
    "#vobs = [d.calc_vobs(deg2rad(xffts[0][i]),deg2rad(xffts[1][i]), xffts[2][i]) for i in tqdm(range(len(xffts[0])))]\n",
    "#vobs = Parallel(n_jobs=-1, verbose=2)([delayed(d.calc_vobs(deg2rad(xffts[0][i]), deg2rad(xffts[1][i]), xffts[2][i])) for i in tqdm(range(len(xffts[0])))])"
   ]
  },
  {
   "cell_type": "code",
   "execution_count": 59,
   "metadata": {
    "collapsed": true
   },
   "outputs": [],
   "source": [
    "#numpy.save(\"vobs\", vobs)"
   ]
  },
  {
   "cell_type": "code",
   "execution_count": 10,
   "metadata": {
    "scrolled": true
   },
   "outputs": [
    {
     "name": "stderr",
     "output_type": "stream",
     "text": [
      "  2%|▏         | 31/1743 [00:00<00:05, 305.85it/s]"
     ]
    },
    {
     "name": "stdout",
     "output_type": "stream",
     "text": [
      "1743\n",
      "vobsは全て正\n",
      "24\n"
     ]
    },
    {
     "name": "stderr",
     "output_type": "stream",
     "text": [
      "100%|██████████| 1743/1743 [00:05<00:00, 311.94it/s]\n"
     ]
    },
    {
     "name": "stdout",
     "output_type": "stream",
     "text": [
      "[0.42876547 0.42875988 0.42874168 ... 0.45386532 0.45426174 0.45466306]\n",
      "32743.0\n",
      "-24.0\n",
      "-25.0\n",
      "32742.0\n"
     ]
    }
   ],
   "source": [
    "vobs = numpy.load(\"./vobs.npy\")\n",
    "print(len(vobs))\n",
    "origin_vobs = vobs\n",
    "##vobsがどんな感じかみてみるか\n",
    "#plt.plot(vobs, \".\")\n",
    "#plt.show()\n",
    "#vobsが>0か、<0か、両方か？\n",
    "#vobs = vobs - 123.5\n",
    "vobs = numpy.array(vobs)\n",
    "if numpy.count_nonzero(vobs>0) == len(vobs):\n",
    "    print(\"vobsは全て正\")\n",
    "elif numpy.count_nonzero(vobs<0) == len(vobs):\n",
    "    print(\"vobsは全て負\")\n",
    "else:\n",
    "    print(\"vobsは正も負もある\")\n",
    "\n",
    "#config\n",
    "dv = 0.167#km/s\n",
    "ch = numpy.linspace(0, 32767, 32768)\n",
    "\n",
    "#*vobs > 0\n",
    "\n",
    "bch = list(map(int, vobs//dv))#ch数の移動\n",
    "slide_ch = (vobs/dv) - bch#interpolationによる移動量\n",
    "bch_max = numpy.max(bch)\n",
    "bch_min = numpy.min(bch)\n",
    "print(bch_max)\n",
    "#all vobs > 0\n",
    "#xx = ch[:-1+(bch_max)*-1]\n",
    "#all vobs < 0\n",
    "#xx = ch[(bch_min)*-1:]\n",
    "\n",
    "dp_data = []\n",
    "xx_data = []\n",
    "for i in tqdm(range(len(vobs))):\n",
    "    f = interpolate.interp1d(ch, array_data[i])\n",
    "    ch2 = ch+slide_ch[i]\n",
    "    if slide_ch[i] > 0:\n",
    "        n = f(ch2[:-1])\n",
    "    elif slide_ch[i] <0:\n",
    "        n = f(ch2[1:])\n",
    "    new_p = n\n",
    "    if vobs[i] >0:\n",
    "        xx = ch[:-1] - bch[i]\n",
    "        #yy = new_p[bch[i]:]\n",
    "        yy = new_p\n",
    "    elif vobs[i]<0:\n",
    "        xx = ch[:-1] - bch[i]\n",
    "        yy = new_p\n",
    "        #yy = new_p[:bch[i]]\n",
    "    xx_data.append(xx)\n",
    "    dp_data.append(yy)\n",
    "    \n",
    "print(slide_ch)\n",
    "# %matplotlib inline\n",
    "# plt.plot(ch, array_data[1742])\n",
    "# plt.plot(xx_data[-1], dp_data[-1])\n",
    "# plt.grid()\n",
    "# plt.show()\n",
    "\n",
    "###分光データに突っ込まないといけない\n",
    "#print(bch)\n",
    "#print(slide_ch)\n",
    "#print(vobs/dv)\n",
    "xx_data = numpy.array(xx_data)\n",
    "print(numpy.max(xx_data.T))\n",
    "print(numpy.min(xx_data))\n",
    "print(numpy.max(xx_data) - len(xx_data[0])-1)#xx minの基準\n",
    "print(numpy.min(xx_data) + len(xx_data[0])-1)#xx maxの基準"
   ]
  },
  {
   "cell_type": "code",
   "execution_count": 11,
   "metadata": {},
   "outputs": [
    {
     "name": "stdout",
     "output_type": "stream",
     "text": [
      "-23.0\n",
      "32742.0\n",
      "[-2.3000e+01 -2.2000e+01 -2.1000e+01 ...  3.2740e+04  3.2741e+04\n",
      "  3.2742e+04] 32766\n"
     ]
    }
   ],
   "source": [
    "print(numpy.max(xx_data.T[0]))#regridの最小値\n",
    "print(numpy.min(xx_data.T[-1]))#regirdの最大値\n",
    "xx_min = numpy.max(xx_data.T[0])#regridの最小値\n",
    "xx_max = numpy.min(xx_data.T[-1])#regirdの最大値\n",
    "\n",
    "new_xx = numpy.arange(xx_min, xx_max+1, 1)\n",
    "print(new_xx, len(new_xx))"
   ]
  },
  {
   "cell_type": "code",
   "execution_count": 12,
   "metadata": {
    "collapsed": true
   },
   "outputs": [],
   "source": [
    "ind = 120\n",
    "mask_list= []\n",
    "for i in range(len(xx)):\n",
    "    #print(xx_data[ind])\n",
    "    mask = (xx_data[ind] >= xx_min) & (xx_data[ind] <= xx_max)\n",
    "    mask_list.append(mask)"
   ]
  },
  {
   "cell_type": "code",
   "execution_count": 21,
   "metadata": {},
   "outputs": [
    {
     "name": "stderr",
     "output_type": "stream",
     "text": [
      "100%|██████████| 1743/1743 [00:00<00:00, 5729.95it/s]\n"
     ]
    }
   ],
   "source": [
    "new_yy_list = []\n",
    "for i in tqdm(range(len(xx_data))):\n",
    "    new_yy_list.append(dp_data[i][mask_list[i]])"
   ]
  },
  {
   "cell_type": "code",
   "execution_count": 30,
   "metadata": {},
   "outputs": [
    {
     "data": {
      "image/png": "[encoded data removed]",
      "text/plain": [
       "<Figure size 432x288 with 1 Axes>"
      ]
     },
     "metadata": {},
     "output_type": "display_data"
    }
   ],
   "source": [
    "len(new_xx)\n"
   ]
  },
  {
   "cell_type": "code",
   "execution_count": 81,
   "metadata": {},
   "outputs": [
    {
     "name": "stdout",
     "output_type": "stream",
     "text": [
      "[-2736.295      -2736.12798981 -2735.96097961 ...  2735.79397961\n",
      "  2735.96098981  2736.128     ]\n"
     ]
    },
    {
     "data": {
      "image/png": "[encoded data removed]",
      "text/plain": [
       "<Figure size 432x288 with 1 Axes>"
      ]
     },
     "metadata": {},
     "output_type": "display_data"
    },
    {
     "name": "stdout",
     "output_type": "stream",
     "text": [
      "[23.42876547 23.42875988 23.42874168 ... 24.45386532 24.45426174\n",
      " 24.45466306] [23, 23, 23, 23, 23, 23, 23, 23, 23, 23, 23, 23, 23, 23, 23, 23, 23, 23, 23, 23, 23, 23, 23, 23, 23, 23, 23, 23, 23, 23, 23, 23, 23, 23, 23, 23, 23, 23, 23, 23, 23, 23, 23, 23, 23, 23, 23, 23, 23, 23, 23, 23, 23, 23, 23, 23, 23, 23, 23, 23, 23, 23, 23, 23, 23, 23, 23, 23, 23, 23, 23, 23, 23, 23, 23, 23, 23, 23, 23, 23, 23, 23, 23, 23, 23, 23, 23, 23, 23, 23, 23, 23, 23, 23, 23, 23, 23, 23, 23, 23, 23, 23, 23, 23, 23, 23, 23, 23, 23, 23, 23, 23, 23, 23, 23, 23, 23, 23, 23, 23, 23, 23, 23, 23, 23, 23, 23, 23, 23, 23, 23, 23, 23, 23, 23, 23, 23, 23, 23, 23, 23, 23, 23, 23, 23, 23, 23, 24, 24, 24, 24, 24, 24, 24, 24, 24, 24, 24, 24, 24, 24, 24, 24, 24, 24, 24, 24, 24, 24, 24, 24, 24, 24, 24, 24, 24, 24, 24, 24, 24, 24, 24, 24, 24, 24, 24, 24, 24, 24, 24, 24, 24, 24, 24, 24, 24, 24, 24, 24, 24, 24, 24, 24, 24, 24, 24, 24, 24, 24, 24, 24, 24, 24, 24, 24, 24, 24, 24, 24, 24, 24, 24, 24, 24, 24, 24, 24, 24, 24, 24, 24, 24, 24, 24, 24, 24, 24, 24, 24, 24, 24, 24, 24, 24, 24, 24, 24, 24, 24, 24, 23, 23, 23, 23, 23, 23, 23, 23, 23, 23, 23, 23, 23, 23, 23, 23, 23, 23, 23, 23, 23, 23, 23, 23, 23, 23, 23, 23, 23, 23, 23, 23, 23, 23, 23, 23, 23, 23, 23, 23, 23, 23, 23, 23, 23, 23, 23, 23, 23, 23, 23, 23, 23, 23, 23, 23, 23, 23, 23, 23, 23, 23, 23, 23, 23, 23, 23, 23, 23, 23, 23, 23, 23, 23, 24, 24, 24, 24, 24, 24, 24, 24, 24, 24, 24, 24, 24, 24, 24, 24, 24, 24, 24, 24, 24, 24, 24, 24, 24, 24, 24, 24, 24, 24, 24, 24, 24, 24, 24, 24, 24, 24, 24, 24, 24, 24, 24, 24, 24, 24, 24, 24, 24, 24, 24, 24, 24, 24, 24, 24, 24, 24, 24, 24, 24, 24, 24, 24, 24, 24, 24, 24, 24, 24, 24, 24, 24, 24, 24, 24, 24, 24, 24, 24, 24, 24, 24, 24, 24, 24, 24, 24, 24, 24, 24, 24, 24, 24, 24, 24, 24, 24, 24, 24, 24, 24, 24, 24, 23, 23, 23, 23, 23, 23, 23, 23, 23, 23, 23, 23, 23, 23, 23, 23, 23, 23, 23, 23, 23, 23, 23, 23, 23, 23, 23, 23, 23, 23, 23, 23, 23, 23, 23, 23, 23, 23, 23, 23, 23, 23, 23, 23, 23, 23, 23, 23, 23, 23, 23, 23, 23, 23, 23, 23, 23, 23, 23, 23, 23, 23, 23, 23, 23, 23, 23, 23, 23, 23, 23, 23, 23, 24, 24, 24, 24, 24, 24, 24, 24, 24, 24, 24, 24, 24, 24, 24, 24, 24, 24, 24, 24, 24, 24, 24, 24, 24, 24, 24, 24, 24, 24, 24, 24, 24, 24, 24, 24, 24, 24, 24, 24, 24, 24, 24, 24, 24, 24, 24, 24, 24, 24, 24, 24, 24, 24, 24, 24, 24, 24, 24, 24, 24, 24, 24, 24, 24, 24, 24, 24, 24, 24, 24, 24, 24, 24, 24, 24, 24, 24, 24, 24, 24, 24, 24, 24, 24, 24, 24, 24, 24, 24, 24, 24, 24, 24, 24, 24, 24, 24, 24, 24, 24, 24, 24, 23, 23, 23, 23, 23, 23, 23, 23, 23, 23, 23, 23, 23, 23, 23, 23, 23, 23, 23, 23, 23, 23, 23, 23, 23, 23, 23, 23, 23, 23, 23, 23, 23, 23, 23, 23, 23, 23, 23, 23, 23, 23, 23, 23, 23, 23, 23, 23, 23, 23, 23, 23, 23, 23, 23, 23, 23, 23, 23, 23, 23, 23, 23, 23, 23, 23, 23, 23, 23, 23, 23, 23, 23, 24, 24, 24, 24, 24, 24, 24, 24, 24, 24, 24, 24, 24, 24, 24, 24, 24, 24, 24, 24, 24, 24, 24, 24, 24, 24, 24, 24, 24, 24, 24, 24, 24, 24, 24, 24, 24, 24, 24, 24, 24, 24, 24, 24, 24, 24, 24, 24, 24, 24, 24, 24, 24, 24, 24, 24, 24, 24, 24, 24, 24, 24, 24, 24, 24, 24, 24, 24, 24, 24, 24, 24, 24, 24, 24, 24, 24, 24, 24, 24, 24, 24, 24, 24, 24, 24, 24, 24, 24, 24, 24, 24, 24, 24, 24, 24, 24, 24, 24, 24, 24, 24, 24, 23, 23, 23, 23, 23, 23, 23, 23, 23, 23, 23, 23, 23, 23, 23, 23, 23, 23, 23, 23, 23, 23, 23, 23, 23, 23, 23, 23, 23, 23, 23, 23, 23, 23, 23, 23, 23, 23, 23, 23, 23, 23, 23, 23, 23, 23, 23, 23, 23, 23, 23, 23, 23, 23, 23, 23, 23, 23, 23, 23, 23, 23, 23, 23, 23, 23, 23, 23, 23, 23, 23, 23, 23, 23, 24, 24, 24, 24, 24, 24, 24, 24, 24, 24, 24, 24, 24, 24, 24, 24, 24, 24, 24, 24, 24, 24, 24, 24, 24, 24, 24, 24, 24, 24, 24, 24, 24, 24, 24, 24, 24, 24, 24, 24, 24, 24, 24, 24, 24, 24, 24, 24, 24, 24, 24, 24, 24, 24, 24, 24, 24, 24, 24, 24, 24, 24, 24, 24, 24, 24, 24, 24, 24, 24, 24, 24, 24, 24, 24, 24, 24, 24, 24, 24, 24, 24, 24, 24, 24, 24, 24, 24, 24, 24, 24, 24, 24, 24, 24, 24, 24, 24, 24, 24, 24, 24, 24, 24, 24, 23, 23, 23, 23, 23, 23, 23, 23, 23, 23, 23, 23, 23, 23, 23, 23, 23, 23, 23, 23, 23, 23, 23, 23, 23, 23, 23, 23, 23, 23, 23, 23, 23, 23, 23, 23, 23, 23, 23, 23, 23, 23, 23, 23, 23, 23, 23, 23, 23, 23, 23, 23, 23, 23, 23, 23, 23, 23, 23, 23, 23, 23, 23, 23, 23, 23, 23, 23, 23, 23, 23, 23, 23, 23, 24, 24, 24, 24, 24, 24, 24, 24, 24, 24, 24, 24, 24, 24, 24, 24, 24, 24, 24, 24, 24, 24, 24, 24, 24, 24, 24, 24, 24, 24, 24, 24, 24, 24, 24, 24, 24, 24, 24, 24, 24, 24, 24, 24, 24, 24, 24, 24, 24, 24, 24, 24, 24, 24, 24, 24, 24, 24, 24, 24, 24, 24, 24, 24, 24, 24, 24, 24, 24, 24, 24, 24, 24, 24, 24, 24, 24, 24, 24, 24, 24, 24, 24, 24, 24, 24, 24, 24, 24, 24, 24, 24, 24, 24, 24, 24, 24, 24, 24, 24, 24, 24, 23, 23, 23, 23, 23, 23, 23, 23, 23, 23, 23, 23, 23, 23, 23, 23, 23, 23, 23, 23, 23, 23, 23, 23, 23, 23, 23, 23, 23, 23, 23, 23, 23, 23, 23, 23, 23, 23, 23, 23, 23, 23, 23, 23, 23, 23, 23, 23, 23, 23, 23, 23, 23, 23, 23, 23, 23, 23, 23, 23, 23, 23, 23, 23, 23, 23, 23, 23, 23, 23, 23, 23, 23, 24, 24, 24, 24, 24, 24, 24, 24, 24, 24, 24, 24, 24, 24, 24, 24, 24, 24, 24, 24, 24, 24, 24, 24, 24, 24, 24, 24, 24, 24, 24, 24, 24, 24, 24, 24, 24, 24, 24, 24, 24, 24, 24, 24, 24, 24, 24, 24, 24, 24, 24, 24, 24, 24, 24, 24, 24, 24, 24, 24, 24, 24, 24, 24, 24, 24, 24, 24, 24, 24, 24, 24, 24, 24, 24, 24, 24, 24, 24, 24, 24, 24, 24, 24, 24, 24, 24, 24, 24, 24, 24, 24, 24, 24, 24, 24, 24, 24, 24, 24, 24, 24, 24, 24, 23, 23, 23, 23, 23, 23, 23, 23, 23, 23, 23, 23, 23, 23, 23, 23, 23, 23, 23, 23, 23, 23, 23, 23, 23, 23, 23, 23, 23, 23, 23, 23, 23, 23, 23, 23, 23, 23, 23, 23, 23, 23, 23, 23, 23, 23, 23, 23, 23, 23, 23, 23, 23, 23, 23, 23, 23, 23, 23, 23, 23, 23, 23, 23, 23, 23, 23, 23, 23, 23, 23, 23, 23, 24, 24, 24, 24, 24, 24, 24, 24, 24, 24, 24, 24, 24, 24, 24, 24, 24, 24, 24, 24, 24, 24, 24, 24, 24, 24, 24, 24, 24, 24, 24, 24, 24, 24, 24, 24, 24, 24, 24, 24, 24, 24, 24, 24, 24, 24, 24, 24, 24, 24, 24, 24, 24, 24, 24, 24, 24, 24, 24, 24, 24, 24, 24, 24, 24, 24, 24, 24, 24, 24, 24, 24, 24, 24, 24, 24, 24, 24, 24, 24, 24, 24, 24, 24, 24, 24, 24, 24, 24, 24, 24, 24, 24, 24, 24, 24, 24, 24, 24, 24, 24, 24, 23, 23, 23, 23, 23, 23, 23, 23, 23, 23, 23, 23, 23, 23, 23, 23, 23, 23, 23, 23, 23, 23, 23, 23, 23, 23, 23, 23, 23, 23, 23, 23, 23, 23, 23, 23, 23, 23, 23, 23, 23, 23, 23, 23, 23, 23, 23, 23, 23, 23, 23, 23, 23, 23, 23, 23, 23, 23, 23, 23, 23, 23, 23, 23, 23, 23, 23, 23, 23, 23, 23, 23, 23, 23, 24, 24, 24, 24, 24, 24, 24, 24, 24, 24, 24, 24, 24, 24, 24, 24, 24, 24, 24, 24, 24, 24, 24, 24, 24, 24, 24, 24, 24, 24, 24, 24, 24, 24, 24, 24, 24, 24, 24, 24, 24, 24, 24, 24, 24, 24, 24, 24, 24, 24, 24, 24, 24, 24, 24, 24, 24, 24, 24, 24, 24, 24, 24, 24, 24, 24, 24, 24, 24, 24, 24, 24, 24, 24, 24, 24, 24, 24, 24, 24, 24, 24, 24, 24, 24, 24, 24, 24, 24, 24, 24, 24, 24, 24, 24, 24, 24, 24, 24, 24, 24, 24, 24, 24, 24, 24, 24, 24, 24, 24, 24, 24, 24, 24, 24, 24, 24, 24, 24, 24, 24, 24, 24, 24, 24, 24, 24, 24, 24, 24, 24, 24, 24, 24, 24, 24, 24, 24, 24, 24, 24, 24, 24, 24, 24, 24, 24, 24, 24, 24, 24, 24, 24, 24, 24, 24, 24, 24, 24, 24, 24, 24, 24, 24, 24, 24, 24, 24, 24, 24, 24, 24, 24, 24, 24, 24, 24, 24, 24, 24, 24, 24] [0.42876547 0.42875988 0.42874168 ... 0.45386532 0.45426174 0.45466306]\n"
     ]
    }
   ],
   "source": [
    "%matplotlib inline\n",
    "vobs = numpy.load(\"vobs.npy\")\n",
    "\n",
    "#config\n",
    "dv = 0.167#km/s\n",
    "ch = numpy.linspace(0, 32767, 32768)\n",
    "#16384 ch でvlsr= 0\n",
    "center_ch = 16384\n",
    "vlsr = 0\n",
    "vlsr_min = -1*(center_ch + 1)*dv\n",
    "vlsr_max = (32768- center_ch)*dv\n",
    "v_list = numpy.linspace(vlsr_min, vlsr_max, 32768)\n",
    "\n",
    "print(v_list)\n",
    "plt.plot(v_list)\n",
    "plt.show()\n",
    "bch = list(map(int, vobs//dv))#ch数の移動\n",
    "slide_ch = (vobs/dv) - bch#interpolationによる移動量\n",
    "print(vobs/dv, bch, slide_ch)"
   ]
  },
  {
   "cell_type": "markdown",
   "metadata": {},
   "source": [
    "### 分光データの読み出し\n",
    "on/off/hot indexの整理"
   ]
  },
  {
   "cell_type": "code",
   "execution_count": 9,
   "metadata": {
    "scrolled": true
   },
   "outputs": [
    {
     "name": "stderr",
     "output_type": "stream",
     "text": [
      "100%|██████████| 2178/2178 [00:17<00:00, 121.45it/s]\n",
      "100%|██████████| 2178/2178 [00:16<00:00, 134.94it/s]\n"
     ]
    },
    {
     "ename": "UnicodeDecodeError",
     "evalue": "'utf-8' codec can't decode byte 0xf6 in position 1: invalid start byte",
     "output_type": "error",
     "traceback": [
      "\u001b[0;31m----------------------------------------------------------\u001b[0m",
      "\u001b[0;31mUnicodeDecodeError\u001b[0m       Traceback (most recent call last)",
      "\u001b[0;32m<timed exec>\u001b[0m in \u001b[0;36m<module>\u001b[0;34m()\u001b[0m\n",
      "\u001b[0;32m~/ros/src/necst/lib/n2df.py\u001b[0m in \u001b[0;36mread_obs_mode\u001b[0;34m(self)\u001b[0m\n\u001b[1;32m    120\u001b[0m \u001b[0;34m\u001b[0m\u001b[0m\n\u001b[1;32m    121\u001b[0m     \u001b[0;32mdef\u001b[0m \u001b[0mread_obs_mode\u001b[0m\u001b[0;34m(\u001b[0m\u001b[0mself\u001b[0m\u001b[0;34m)\u001b[0m\u001b[0;34m:\u001b[0m\u001b[0;34m\u001b[0m\u001b[0m\n\u001b[0;32m--> 122\u001b[0;31m         \u001b[0;32mreturn\u001b[0m \u001b[0mlist\u001b[0m\u001b[0;34m(\u001b[0m\u001b[0mmap\u001b[0m\u001b[0;34m(\u001b[0m\u001b[0;32mlambda\u001b[0m \u001b[0mx\u001b[0m \u001b[0;34m:\u001b[0m \u001b[0mx\u001b[0m\u001b[0;34m.\u001b[0m\u001b[0mdecode\u001b[0m\u001b[0;34m(\u001b[0m\u001b[0;34m)\u001b[0m\u001b[0;34m.\u001b[0m\u001b[0mreplace\u001b[0m\u001b[0;34m(\u001b[0m\u001b[0;34m\"\\x00\"\u001b[0m\u001b[0;34m,\u001b[0m \u001b[0;34m\"\"\u001b[0m\u001b[0;34m)\u001b[0m\u001b[0;34m,\u001b[0m \u001b[0mself\u001b[0m\u001b[0;34m.\u001b[0m\u001b[0m_read_partly\u001b[0m\u001b[0;34m(\u001b[0m\u001b[0;36m4\u001b[0m\u001b[0;34m,\u001b[0m \u001b[0;36m8\u001b[0m \u001b[0;34m+\u001b[0m \u001b[0;36m655360\u001b[0m\u001b[0;34m*\u001b[0m\u001b[0;36m4\u001b[0m\u001b[0;34m,\u001b[0m \u001b[0;34m\"S4\"\u001b[0m\u001b[0;34m)\u001b[0m\u001b[0;34m)\u001b[0m\u001b[0;34m)\u001b[0m\u001b[0;34m\u001b[0m\u001b[0m\n\u001b[0m\u001b[1;32m    123\u001b[0m \u001b[0;34m\u001b[0m\u001b[0m\n\u001b[1;32m    124\u001b[0m     \u001b[0;32mdef\u001b[0m \u001b[0mread_scan_num\u001b[0m\u001b[0;34m(\u001b[0m\u001b[0mself\u001b[0m\u001b[0;34m)\u001b[0m\u001b[0;34m:\u001b[0m\u001b[0;34m\u001b[0m\u001b[0m\n",
      "\u001b[0;32m~/ros/src/necst/lib/n2df.py\u001b[0m in \u001b[0;36m<lambda>\u001b[0;34m(x)\u001b[0m\n\u001b[1;32m    120\u001b[0m \u001b[0;34m\u001b[0m\u001b[0m\n\u001b[1;32m    121\u001b[0m     \u001b[0;32mdef\u001b[0m \u001b[0mread_obs_mode\u001b[0m\u001b[0;34m(\u001b[0m\u001b[0mself\u001b[0m\u001b[0;34m)\u001b[0m\u001b[0;34m:\u001b[0m\u001b[0;34m\u001b[0m\u001b[0m\n\u001b[0;32m--> 122\u001b[0;31m         \u001b[0;32mreturn\u001b[0m \u001b[0mlist\u001b[0m\u001b[0;34m(\u001b[0m\u001b[0mmap\u001b[0m\u001b[0;34m(\u001b[0m\u001b[0;32mlambda\u001b[0m \u001b[0mx\u001b[0m \u001b[0;34m:\u001b[0m \u001b[0mx\u001b[0m\u001b[0;34m.\u001b[0m\u001b[0mdecode\u001b[0m\u001b[0;34m(\u001b[0m\u001b[0;34m)\u001b[0m\u001b[0;34m.\u001b[0m\u001b[0mreplace\u001b[0m\u001b[0;34m(\u001b[0m\u001b[0;34m\"\\x00\"\u001b[0m\u001b[0;34m,\u001b[0m \u001b[0;34m\"\"\u001b[0m\u001b[0;34m)\u001b[0m\u001b[0;34m,\u001b[0m \u001b[0mself\u001b[0m\u001b[0;34m.\u001b[0m\u001b[0m_read_partly\u001b[0m\u001b[0;34m(\u001b[0m\u001b[0;36m4\u001b[0m\u001b[0;34m,\u001b[0m \u001b[0;36m8\u001b[0m \u001b[0;34m+\u001b[0m \u001b[0;36m655360\u001b[0m\u001b[0;34m*\u001b[0m\u001b[0;36m4\u001b[0m\u001b[0;34m,\u001b[0m \u001b[0;34m\"S4\"\u001b[0m\u001b[0;34m)\u001b[0m\u001b[0;34m)\u001b[0m\u001b[0;34m)\u001b[0m\u001b[0;34m\u001b[0m\u001b[0m\n\u001b[0m\u001b[1;32m    123\u001b[0m \u001b[0;34m\u001b[0m\u001b[0m\n\u001b[1;32m    124\u001b[0m     \u001b[0;32mdef\u001b[0m \u001b[0mread_scan_num\u001b[0m\u001b[0;34m(\u001b[0m\u001b[0mself\u001b[0m\u001b[0;34m)\u001b[0m\u001b[0;34m:\u001b[0m\u001b[0;34m\u001b[0m\u001b[0m\n",
      "\u001b[0;31mUnicodeDecodeError\u001b[0m: 'utf-8' codec can't decode byte 0xf6 in position 1: invalid start byte"
     ]
    }
   ],
   "source": [
    "%%time\n",
    "n = n2df.Read(os.path.join(analy_dir, \"xffts.ndf\"))\n",
    "array_data = n.read_onearray(array_num)#1IFの分光データ\n",
    "obs_mode = n.read_obs_mode()#観測モード（ON/OFF/HOT）\n",
    "scan_num = n.read_scan_num()#スキャンライン（0,1,2,3,4,...）\n",
    "###array_data, scan_num, obs_mode = n.read_for_otf(1)#3分くらいかかた"
   ]
  },
  {
   "cell_type": "code",
   "execution_count": null,
   "metadata": {
    "collapsed": true
   },
   "outputs": [],
   "source": [
    "###index探し\n",
    "obs_mode = numpy.array(obs_mode)\n",
    "scan_num = numpy.array(scan_num)\n",
    "\n",
    "offmask = obs_mode == \"OFF\"\n",
    "offindex = numpy.where(offmask == True)\n",
    "\n",
    "hotmask = obs_mode == \"HOT\"\n",
    "hotindex = numpy.where(hotmask == True)\n",
    "\n",
    "onmask = obs_mode == \"ON\"\n",
    "onindex = numpy.where(onmask == True)\n",
    "\n",
    "max_scannum = numpy.max(scan_num)#Caution! scan num starts from 0, so scan number of 26 indicates 27 times scan"
   ]
  },
  {
   "cell_type": "code",
   "execution_count": null,
   "metadata": {
    "collapsed": true
   },
   "outputs": [],
   "source": [
    "#一応indexの可視化\n",
    "plt.plot(offindex[0], [1]*len(offindex[0]),\".\" , label = \"off\")\n",
    "plt.plot(hotindex[0], [1]*len(hotindex[0]),\".\" , label = \"hot\")\n",
    "plt.plot(onindex[0], [1]*len(onindex[0]),\".\" , label = \"on\")\n",
    "plt.xlim(0,1000)\n",
    "plt.legend()\n",
    "plt.show()"
   ]
  },
  {
   "cell_type": "code",
   "execution_count": null,
   "metadata": {
    "collapsed": true
   },
   "outputs": [],
   "source": [
    "#OFF 点のscan number を取得\n",
    "scan_num = numpy.array(scan_num)\n",
    "print(scan_num)\n",
    "offindex[0]\n",
    "plt.plot(scan_num[offindex[0]])\n",
    "plt.grid()\n",
    "plt.show()\n",
    "\n",
    "#HOT 点のscan number を取得\n",
    "scan_num = numpy.array(scan_num)\n",
    "hotindex[0]\n",
    "plt.plot(scan_num[hotindex[0]])\n",
    "plt.grid()\n",
    "plt.show()\n",
    "\n",
    "# ON 点のscan number を取得\n",
    "scan_num = numpy.array(scan_num)\n",
    "plt.plot(scan_num[onindex[0]])\n",
    "plt.grid()\n",
    "plt.show()"
   ]
  },
  {
   "cell_type": "markdown",
   "metadata": {},
   "source": [
    "### hot/offの積分"
   ]
  },
  {
   "cell_type": "code",
   "execution_count": null,
   "metadata": {
    "collapsed": true
   },
   "outputs": [],
   "source": [
    "#HOT積分\n",
    "print(numpy.unique(scan_num[hotindex[0]]))#HOT のscan number\n",
    "hotnum = numpy.unique(scan_num[hotindex[0]])#HOTの数\n",
    "\n",
    "hotdata = []\n",
    "\n",
    "for i in tqdm(hotnum):#i = scan number\n",
    "    mask = scan_num == i#特定のscannumのindexを抜き出す\n",
    "    index = numpy.where(mask == True)#特定のscannumのindex変数\n",
    "   ### \n",
    "    c = numpy.in1d(index[0], hotindex[0])#特定のscannumのindex&HOT index\n",
    "    c = numpy.where(c == True)[0]\n",
    "    ###\n",
    "    mm = index[0][c]#scan numの値でフィルターしたhot\n",
    "    #print(mm)\n",
    "    ###積分\n",
    "    tmp = [array_data[j] for j in mm]\n",
    "    hotdata.append(sum(tmp)/len(tmp))\n",
    "    pass\n",
    "\n",
    "#下は擬似データの質が低いための処理。将来的に削除\n",
    "hotdata = numpy.array(hotdata)\n",
    "hotdata = hotdata + 5000"
   ]
  },
  {
   "cell_type": "code",
   "execution_count": null,
   "metadata": {
    "collapsed": true
   },
   "outputs": [],
   "source": [
    "##OFFの積分\n",
    "print(numpy.unique(scan_num[offindex[0]]))#HOT のscan number\n",
    "offnum = numpy.unique(scan_num[offindex[0]])#HOTの数\n",
    "\n",
    "offdata = []\n",
    "scan_num = numpy.array(scan_num)\n",
    "\n",
    "for i in tqdm(offnum):\n",
    "    mask = scan_num == i#特定のscannumのindexを抜き出す\n",
    "    index = numpy.where(mask == True)#特定のscannumのindex変数\n",
    "   ### \n",
    "    c = numpy.in1d(index[0], offindex[0])#特定のscannumのindex&HOT index\n",
    "    c = numpy.where(c == True)[0]#scannumとhotで絞ったindex\n",
    "    mm = index[0][c]#scan numの値でフィルターしたhot\n",
    "    tmp = [array_data[j] for j in mm]\n",
    "    offdata.append(sum(tmp)/len(tmp))"
   ]
  },
  {
   "cell_type": "markdown",
   "metadata": {},
   "source": [
    "Hot のデータはscan line分あるわけでないので補完\n",
    "Off もscan line 分ある観測プログラムしかないはずだが、一応補完\n",
    "\n",
    "補完の方法は次のOFF/HOTの点の観測を行うまでは直近のデータを採用する形"
   ]
  },
  {
   "cell_type": "code",
   "execution_count": null,
   "metadata": {
    "collapsed": true
   },
   "outputs": [],
   "source": [
    "d = numpy.unique(scan_num[hotindex[0]])#HOT のscan number\n",
    "hotdata_ = []\n",
    "count = 0\n",
    "\n",
    "for i in tqdm(range(max_scannum)):\n",
    "        #print(i,count)\n",
    "        if i == d[count]:\n",
    "            hotdata_.append(d[count])\n",
    "            count +=1\n",
    "        elif i < d[count]:\n",
    "            hotdata_.append(d[count])\n",
    "        else:#この例外には入らないはず\n",
    "            print(i)"
   ]
  },
  {
   "cell_type": "code",
   "execution_count": null,
   "metadata": {
    "collapsed": true
   },
   "outputs": [],
   "source": [
    "d = numpy.unique(scan_num[offindex[0]])#HOT のscan number\n",
    "offdata_ = []\n",
    "count = 0\n",
    "\n",
    "for i in tqdm(range(max_scannum)):\n",
    "        #print(i,count)\n",
    "        if i == d[count]:\n",
    "            offdata_.append(d[count])\n",
    "            count +=1\n",
    "        elif i < d[count]:\n",
    "            offdata_.append(d[count])\n",
    "        else:#この例外には入らないはず\n",
    "            print(i)"
   ]
  },
  {
   "cell_type": "code",
   "execution_count": null,
   "metadata": {
    "collapsed": true
   },
   "outputs": [],
   "source": [
    "# ###Choper wheel\n",
    "\n",
    "@numba.jit\n",
    "def chopper_wheel(on_index, scan_num, temprature = 300):    \n",
    "    #scan_num = n[on_index][\"scan_num\"]\n",
    "    #Tastar = (array_data[on_index] - offdata[scan_num])/(hotdata[scan_num] - offdata[scan_num]) * temprature\n",
    "    Tastar = (array_data[on_index] - offdata[0])/(hotdata[0] - offdata[0]) * temprature#test, this will be deleted（hotdata, offdata[0]しかつかってない！）\n",
    "    return Tastar\n",
    "\n",
    "def calc(i):#on点をscan indexでmaskしchopper wheelする\n",
    "    mask = scan_num == i#特定のscannumのindexを抜き出す\n",
    "    index = numpy.where(mask == True)#特定のscannumのindex変数\n",
    "    c = numpy.intersect1d(index[0], onindex[0])\n",
    "    return [[j, chopper_wheel(j, i, cabin_temp[i])] for j in c]###j= index "
   ]
  },
  {
   "cell_type": "code",
   "execution_count": null,
   "metadata": {
    "collapsed": true
   },
   "outputs": [],
   "source": [
    "ondata = [calc(i) for i in tqdm(range(max_scannum+1))]#Chopper Wheelしたやつ"
   ]
  },
  {
   "cell_type": "code",
   "execution_count": null,
   "metadata": {
    "collapsed": true
   },
   "outputs": [],
   "source": [
    "%%time\n",
    "data_on = {ondata[i][j][0]:ondata[i][j][1] for i in range(len(ondata)) for j in range(len(ondata[i]))}###d[onindex] = onarray\n",
    "data_on[4433][16000] += 100000000\n",
    "print(data_on[4433][16000])"
   ]
  },
  {
   "cell_type": "code",
   "execution_count": null,
   "metadata": {
    "collapsed": true
   },
   "outputs": [],
   "source": [
    "#距離による重みつけ関数１\n",
    "#sigma == ビームサイズ\n",
    "def gauss(x, a = 1, mu = 0, sigma = 160):\n",
    "    return a * numpy.exp(-(x - mu)**2 / (2*sigma**2))\n",
    "\n",
    "\n",
    "#距離による重みつけ関数2 関数系わからないので今はgaussianだけど修正\n",
    "def bessel_gauss(x, a = 1, mu = 0, sigma = 160):\n",
    "    return a * numpy.exp(-(x - mu)**2 / (2*sigma**2))\n",
    "\n",
    "#球面なのでRA方向の長さがDECで変わります。なのでRA-DEC平面での距離(角度)を出すには、RAをcos(DEC)で割る必要があります。\n",
    "def calc_distance(d1, d2):\n",
    "    #d1 = [ra, dec] #deg   \n",
    "    factor = 3600#こういうことしなくてもいいようにastropy unitを使う（要編集）\n",
    "    d1[0] = d1[0]*factor\n",
    "    d1[1] = d1[1]*factor\n",
    "    d2[0] = d2[0]*factor\n",
    "    d2[1] = d2[1]*factor\n",
    "    return ((d1[0] - d2[0])**2 + (d1[1] - d2[1])**2)**0.5\n",
    "\n",
    "def calc_rms(arr):\n",
    "    return numpy.sqrt(numpy.mean(arr**2))\n",
    "\n",
    "def rms_dist_weighting(arr, dist, rms):\n",
    "    return [arr*gauss(dist)*(rms**-2), gauss(dist)*(rms**-2)]"
   ]
  },
  {
   "cell_type": "markdown",
   "metadata": {},
   "source": [
    "## Baseline fitting"
   ]
  },
  {
   "cell_type": "code",
   "execution_count": null,
   "metadata": {
    "collapsed": true
   },
   "outputs": [],
   "source": [
    "#baseline fitting parameter\n",
    "center = 8000\n",
    "width = 1000\n",
    "start = 3000\n",
    "end = 30000\n",
    "\n",
    "#baseline fitting function\n",
    "def f(x, a, b, c):\n",
    "    return a*x**2 + b*x + c\n",
    "\n",
    "def  baseline_fitting(arr_x, arr_y, index1, index2, index3, index4):\n",
    "    tmpdata_y1 = arr_y[index1:index2]\n",
    "    tmpdata_y2 = arr_y[index3:index4]\n",
    "    tmpdata_x1 = arr_x[index1:index2]\n",
    "    tmpdata_x2 = arr_x[index3:index4]\n",
    "    x = numpy.concatenate([tmpdata_x1, tmpdata_x2])\n",
    "    y = numpy.concatenate([tmpdata_y1, tmpdata_y2])\n",
    "    param = numpy.polyfit(x, y, 2)\n",
    "    arr_y = arr_y - f(arr_x, *param)\n",
    "    return arr_y\n",
    "    \n",
    "#ch\n",
    "xindex = numpy.linspace(0, 32768, 32768)\n",
    "\n",
    "#baseline fitting index\n",
    "index1 = int(start)\n",
    "index2 = int(center - width/2)\n",
    "index3 = int(center + width/2)\n",
    "index4 = int(end)\n",
    "print(index1, index2, index3, index4)\n",
    "\n",
    "testoffset = numpy.linspace(1, 32768, 32768)\n",
    "\n",
    "for i in tqdm(data_on.keys()):\n",
    "    data_on[i] = data_on[i] + testoffset#ベースラインフィッティングできているかの確認のため\n",
    "    origin = data_on[i]#for debug, this will be deleted\n",
    "    data_on[i] = baseline_fitting(data_on[i], xindex, index1, index2, index3, index4)\n",
    "    \n",
    "    \n",
    "plt.plot(data_on[i], label=\"after chopper wheel\")#after chopper wheel\n",
    "plt.plot(origin, label=\"before chopper wheel\")#before chopper wheel\n",
    "plt.legend()\n",
    "plt.grid()"
   ]
  },
  {
   "cell_type": "code",
   "execution_count": null,
   "metadata": {
    "collapsed": true
   },
   "outputs": [],
   "source": [
    "#plt.plot(data_on[i], label=\"after chopper wheel\")#after chopper wheel\n",
    "%matplotlib inline\n",
    "plt.plot(origin-testoffset, label=\"before chopper wheel\")#before chopper wheel\n",
    "plt.legend()\n",
    "plt.grid()"
   ]
  },
  {
   "cell_type": "markdown",
   "metadata": {},
   "source": [
    "## grid内のデータ探索\n",
    "\n",
    "あるgridに採用するデータのindexを求める"
   ]
  },
  {
   "cell_type": "code",
   "execution_count": null,
   "metadata": {
    "collapsed": true
   },
   "outputs": [],
   "source": [
    "%time\n",
    "index_list = []\n",
    "for i in tqdm(range(max_scannum)):\n",
    "    for j in range(max_scannum):\n",
    "       # print(ragrid[i], decgrid[j])\n",
    "        index1 = numpy.where((ragrid[i]-(offset/3600)<xffts[0]) & ((ragrid[i] + (offset/3600)>xffts[0])))\n",
    "        index2 = numpy.where((decgrid[j]-(offset/3600)<xffts[1]) & ((decgrid[j] + (offset/3600)>xffts[1])))\n",
    "        index_ = [i in index2[0] for i in index1[0]]\n",
    "        index_ = numpy.array(index_)\n",
    "        index_1and2 = numpy.where(index_ == True)\n",
    "        index_1and2 = index1[0][index_1and2]\n",
    "        index_list.append(index_1and2)\n"
   ]
  },
  {
   "cell_type": "markdown",
   "metadata": {},
   "source": [
    "### xfftsデータの確認"
   ]
  },
  {
   "cell_type": "markdown",
   "metadata": {},
   "source": [
    "### データをgridに入れる"
   ]
  },
  {
   "cell_type": "markdown",
   "metadata": {},
   "source": [
    "本番はもう少し賢く書くけど、ひとまず"
   ]
  },
  {
   "cell_type": "code",
   "execution_count": null,
   "metadata": {
    "collapsed": true,
    "scrolled": true
   },
   "outputs": [],
   "source": [
    "%%time\n",
    "#cubeデータの作成\n",
    "#data_c = numpy.zeros((31, 31, 32768))#(ra, dec, ch)\n",
    "#index_list2 = numpy.reshape(index_list, (31,31))#index listの2次元化（これは前処理しておく） #これは正しいか？\n",
    "data_c = numpy.zeros((max_scannum, max_scannum, 32768))#(ra, dec, ch)\n",
    "index_list2 = numpy.reshape(index_list, (max_scannum, max_scannum))#index listの2次元化（これは前処理しておく） #これは正しいか？\n",
    "\n",
    "## Chopper wheelしたデータをdatacubeに入れる\n",
    "for i in tqdm(range(max_scannum)):#ra\n",
    "    for j in range(max_scannum):#dec\n",
    "        try:\n",
    "            numerator_list = []#分子\n",
    "            denominator_list= []#分母\n",
    "            for k in index_list2[i][j]:\n",
    "                dist = calc_distance([ragrid[i], decgrid[j]], [xffts[0][k], xffts[1][k]])\n",
    "                rms = calc_rms(data_on[k])\n",
    "                weighted_data = rms_dist_weighting(data_on[k], dist, rms)\n",
    "                #weighted_data = rms_dist_weighting(data_on[k], dist, 1)###RMSがうまく動いているかの確認\n",
    "                numerator_list.append(weighted_data[0])\n",
    "                denominator_list.append(weighted_data[1])\n",
    "            data_c[i][j] = sum(numerator_list)/sum(denominator_list)\n",
    "        except Exception as e:\n",
    "            print(\"[{},{}], {}\".format(i,j,e), end = \"\")"
   ]
  },
  {
   "cell_type": "markdown",
   "metadata": {},
   "source": [
    "距離を考慮すると..."
   ]
  },
  {
   "cell_type": "markdown",
   "metadata": {
    "collapsed": true
   },
   "source": [
    "### astropyでfitsに書き出す"
   ]
  },
  {
   "cell_type": "code",
   "execution_count": null,
   "metadata": {
    "collapsed": true
   },
   "outputs": [],
   "source": [
    "#3軸の入れ替え。\n",
    "data_c = numpy.swapaxes(data_c, 0,2)\n",
    "print(numpy.shape(data_c))#軸の入れ替えの確認"
   ]
  },
  {
   "cell_type": "markdown",
   "metadata": {},
   "source": [
    "ヘッダーの作成"
   ]
  },
  {
   "cell_type": "code",
   "execution_count": null,
   "metadata": {
    "collapsed": true
   },
   "outputs": [],
   "source": [
    "header_dict = {\n",
    "\"object\" : obsfile_dict[\"object\"],\n",
    "\"crval1\" : obsfile_dict[\"lambda_on\"],\n",
    "\"cdelt1\" : obsfile_dict[\"grid\"]/3600,\n",
    "\"crpix1\" : obsfile_dict[\"N\"]-1/2,#中心ピクセル\n",
    "\"crval2\" : obsfile_dict[\"beta_on\"],\n",
    "\"cdelt2\" : obsfile_dict[\"grid\"]/3600,\n",
    "\"crpix2\" : obsfile_dict[\"N\"]-1/2 #中心ピクセル\n",
    "}"
   ]
  },
  {
   "cell_type": "code",
   "execution_count": null,
   "metadata": {
    "collapsed": true
   },
   "outputs": [],
   "source": [
    "temp = \"\"\"\n",
    "SIMPLE  =                    T                                                  \n",
    "BITPIX  =                  -32                                                  \n",
    "NAXIS   =                    3                                                  \n",
    "NAXIS1  =                  31                                                 \n",
    "NAXIS2  =                  31                                                 \n",
    "NAXIS3  =                   32768                                                  \n",
    "OBJECT  = '{object}              '                                                  \n",
    "TELESCOP= 'NANTEN2            '                                                  \n",
    "INSTRUME= 'MULT2-11          '                                                  \n",
    "OBSERVER= 'z7510rk           '                                                  \n",
    "DATE-OBS= '2007-12-30        '                                                  \n",
    "DATE-MAP= '2012-01-19        '                                                  \n",
    "BSCALE  =    0.10000000000E+01                                                  \n",
    "BZERO   =    0.00000000000E+01                                                  \n",
    "BUNIT   = 'K                 '                                                  \n",
    "EPOCH   =    0.20000000000E+04                                                  \n",
    "OBSRA   =    8.38104170000E+01                                                  \n",
    "OBSDEC  =   -5.37511100000E+00                                                  \n",
    "DATAMAX =    1.16774444580E+02                                                  \n",
    "DATAMIN =   -8.33924560547E+01                                                  \n",
    "CTYPE1  = 'RA---GLS          '                                                  \n",
    "CRVAL1  =    {crval1}                                                  \n",
    "CDELT1  =    {cdelt1}                                                  \n",
    "CRPIX1  =      {crpix1}\n",
    "CROTA1  =     0.0000000000E+00                                                  \n",
    "CTYPE2  = 'DEC--GLS          '                                                  \n",
    "CRVAL2  =   {crval2}                                                  \n",
    "CDELT2  =   {cdelt2}                                               \n",
    "CRPIX2  =     {crpix2}                                               \n",
    "CROTA2  =     0.0000000000E+00                                                  \n",
    "CTYPE3  = 'VELO-LSR          '                                                  \n",
    "CRVAL3  =    2.50000000000E+02                                                  \n",
    "CDELT3  =    5.00000000000E+02                                                  \n",
    "CRPIX3  =    1.00000000000E+00                                                  \n",
    "CROTA3  =    0.00000000000E+00                                                  \n",
    "BLANK   =   -1.00000000000E+00 \"\"\".format(**header_dict)"
   ]
  },
  {
   "cell_type": "code",
   "execution_count": null,
   "metadata": {
    "collapsed": true
   },
   "outputs": [],
   "source": [
    "target_header = fits.Header.fromstring(temp, sep = \"\\n\")"
   ]
  },
  {
   "cell_type": "code",
   "execution_count": null,
   "metadata": {
    "collapsed": true
   },
   "outputs": [],
   "source": [
    "#書き出し\n",
    "hdu = fits.PrimaryHDU(data_c, target_header)\n",
    "hdulist = fits.HDUList([hdu])\n",
    "hdulist.writeto(\"test4.fits\", overwrite = True)"
   ]
  },
  {
   "cell_type": "code",
   "execution_count": null,
   "metadata": {
    "collapsed": true
   },
   "outputs": [],
   "source": [
    "##読み込み\n",
    "hdu_list = fits.open(\"test4.fits\")\n",
    "hdu_r = hdu_list[0]\n",
    "data = hdu_r.data\n",
    "header = hdu_r.header"
   ]
  },
  {
   "cell_type": "code",
   "execution_count": null,
   "metadata": {
    "collapsed": true
   },
   "outputs": [],
   "source": [
    "#解析にかかった時間を出すため\n",
    "print(\"required time : {}\".format(time.time() - start_time))"
   ]
  },
  {
   "cell_type": "code",
   "execution_count": null,
   "metadata": {
    "collapsed": true
   },
   "outputs": [],
   "source": [
    "#%matplotlib notebook\n",
    "%matplotlib inline\n",
    "from ipywidgets import interact\n",
    "\n",
    "def plot(i):\n",
    "    plt.figure(figsize=(8, 8))\n",
    "    plt.imshow(data[i].T, cmap = \"gist_rainbow\")\n",
    "    #plt.xlabel(\"ra\")\n",
    "    #plt.ylabel(\"dec\")\n",
    "    plt.show()\n",
    "\n",
    "\n",
    "interact(plot, i = (0,16000,1))"
   ]
  },
  {
   "cell_type": "code",
   "execution_count": null,
   "metadata": {
    "collapsed": true
   },
   "outputs": [],
   "source": [
    "#bokeh  使い方あんまかしわからん\n",
    "from bokeh.plotting import figure\n",
    "from bokeh.io import show, output_notebook\n",
    "\n",
    "output_notebook()\n",
    "plt1 = figure()\n",
    "rend1 = plt1.image(image=[data[16000]], x=0, y=0, dw =31, dh=31, palette=\"Plasma11\")\n",
    "\n",
    "show(plt1)"
   ]
  },
  {
   "cell_type": "code",
   "execution_count": null,
   "metadata": {
    "collapsed": true
   },
   "outputs": [],
   "source": [
    "numpy.max(data)"
   ]
  },
  {
   "cell_type": "code",
   "execution_count": null,
   "metadata": {
    "collapsed": true
   },
   "outputs": [],
   "source": [
    "numpy.where(data > 213)"
   ]
  },
  {
   "cell_type": "code",
   "execution_count": null,
   "metadata": {
    "collapsed": true
   },
   "outputs": [],
   "source": []
  },
  {
   "cell_type": "code",
   "execution_count": null,
   "metadata": {
    "collapsed": true
   },
   "outputs": [],
   "source": []
  }
 ],
 "metadata": {
  "kernelspec": {
   "display_name": "Python 3",
   "language": "python",
   "name": "python3"
  },
  "language_info": {
   "codemirror_mode": {
    "name": "ipython",
    "version": 3
   },
   "file_extension": ".py",
   "mimetype": "text/x-python",
   "name": "python",
   "nbconvert_exporter": "python",
   "pygments_lexer": "ipython3",
   "version": "3.6.3"
  },
  "widgets": {
   "state": {
    "69cef02b5de64cd28537b73db5eaafe1": {
     "views": [
      {
       "cell_index": 46
      }
     ]
    },
    "a1def446d82c496b9beef01c766bc416": {
     "views": [
      {
       "cell_index": 46
      }
     ]
    },
    "c8da718324cb4a21bc4082d13c81de6b": {
     "views": [
      {
       "cell_index": 46
      }
     ]
    }
   },
   "version": "1.2.0"
  }
 },
 "nbformat": 4,
 "nbformat_minor": 2
}
