{
 "cells": [
  {
   "cell_type": "markdown",
   "metadata": {},
   "source": [
    "### 観測データ\n",
    "解析に必要なデータ\n",
    "- XFFTS data\n",
    "- Encoder data\n",
    "- weather status\n",
    "- hosei copy\n",
    "- obs copy\n",
    "\n",
    "\n",
    "### 解析フロー\n",
    "\n",
    "- doppler tracking[x]\n",
    "- Chopper Wheel [o]\n",
    "- baseline fitting [o]\n",
    "- Scaling(from standard object?) [x]\n",
    "- regrid [o]\n",
    "    - rms [o]\n",
    "    - distance [o]\n",
    "- +header [o]\n",
    "- 3d-fits[o]"
   ]
  },
  {
   "cell_type": "markdown",
   "metadata": {},
   "source": [
    "### memo\n",
    "備忘録\n",
    "- astropy unitを駆使してわかりやすく書くべき（arcsec/degでバグを増やさないために）\n",
    "- あらかじめxfftsの分光データをra,dec対応させておく\n",
    "\n",
    "        \n",
    " 観測データについて\n",
    " - 解析に必要なファイルは？\n",
    "    - XFFTS分光データ ndf\n",
    "    - エンコーダ .db\n",
    "        - あらかじめfk5, galactic に変換して一時ファイルに保存する必要 (npy)\n",
    "    - weather .???\n",
    "        - これをどの形式にするか考え中 csv , db\n",
    "    - 観測時に使用した器差パラメータの入ったファイル hosei_230.txt + alpha\n",
    "        - これの仕様を早く決定しなくては\n",
    "        \n",
    " これらの複数のファイルをどうやってひとまとめにするか考える必要あり\n",
    " - necrecに接続したHDD にndfファイルは保存される\n",
    " - その他は全て観測pc\n",
    "     - nfs mount で観測終了時にHDDにcopyする\n",
    "     \n",
    " - necrec HDD\n",
    "   - /home/amigos/data/[observation name]/yyyymmhh_HHMMSS/"
   ]
  },
  {
   "cell_type": "markdown",
   "metadata": {},
   "source": []
  },
  {
   "cell_type": "code",
   "execution_count": 93,
   "metadata": {},
   "outputs": [
    {
     "name": "stdout",
     "output_type": "stream",
     "text": [
      "0727test.db\t\t\t    test01.dat\r\n",
      "n20190824043335_12CO_2-1_otf_OriKL  test2.db\r\n",
      "n20190824043539_12CO_2-1_otf_OriKL  test2.hdf5\r\n",
      "n20190824043706_12CO_2-1_otf_OriKL  test3.dat\r\n",
      "n20190824070836_12CO_2-1_otf_OriKL  test3.hdf5\r\n",
      "n20190824071829_12CO_2-1_otf_OriKL  test4.dat\r\n",
      "n20190824074527_12CO_2-1_otf_OriKL  test4.hdf5\r\n",
      "n20190824075446_12CO_2-1_otf_OriKL  test5.dat\r\n",
      "n20190824081542_12CO_2-1_otf_OriKL  test5.hdf5\r\n",
      "n20190824082555_12CO_2-1_otf_OriKL  test6.dat\r\n",
      "n20190824083421_12CO_2-1_otf_OriKL  test6.hdf5\r\n",
      "n20190824094750_12CO_2-1_otf_OriKL  test.db\r\n",
      "n20190828070034_12CO_2-1_otf_OriKL  test.hdf5\r\n",
      "n20190829070855_12CO_2-1_otf_OriKL  testwrite.dat\r\n",
      "onepoint_test.db\t\t    testwrite.txt\r\n",
      "otftest.db\t\t\t    write_test.py\r\n",
      "otftest_y.db\t\t\t    write_test.py~\r\n"
     ]
    }
   ],
   "source": [
    "!ls /home/amigos/data/otf_2019\n",
    "import time\n",
    "start_time = time.time()"
   ]
  },
  {
   "cell_type": "code",
   "execution_count": 94,
   "metadata": {
    "collapsed": true
   },
   "outputs": [],
   "source": [
    "#radec 変換データ作成\n",
    "#! python analy_coordinates.py\n",
    "import sys\n",
    "sys.path.append(\"../script/\")\n",
    "import subprocess\n",
    "import os"
   ]
  },
  {
   "cell_type": "code",
   "execution_count": 95,
   "metadata": {},
   "outputs": [
    {
     "data": {
      "text/plain": [
       "['enc.db',\n",
       " 'enc.db-journal',\n",
       " 'hosei_230.txt',\n",
       " 'otf_test3_dcosy.obs',\n",
       " 'weather.csv',\n",
       " 'xffts.ndf']"
      ]
     },
     "execution_count": 95,
     "metadata": {},
     "output_type": "execute_result"
    }
   ],
   "source": [
    "#analy_dir = \"/home/amigos/data/otf_2019/n20190824043706_12CO_2-1_otf_OriKL\"\n",
    "#analy_dir = \"/home/amigos/data/otf_2019/n20190824070836_12CO_2-1_otf_OriKL\"\n",
    "#analy_dir = \"/home/amigos/data/otf_2019/n20190824071829_12CO_2-1_otf_OriKL\"\n",
    "#analy_dir = \"/home/amigos/data/otf_2019/n20190824074527_12CO_2-1_otf_OriKL\"\n",
    "#analy_dir = \"/home/amigos/data/otf_2019/n20190824075446_12CO_2-1_otf_OriKL\"\n",
    "#analy_dir = \"/home/amigos/data/otf_2019/n20190824081542_12CO_2-1_otf_OriKL\"\n",
    "#analy_dir = \"/home/amigos/data/otf_2019/n20190824083421_12CO_2-1_otf_OriKL\"\n",
    "#analy_dir = \"/home/amigos/data/otf_2019/n20190828070034_12CO_2-1_otf_OriKL\"#dcos = y\n",
    "analy_dir = \"/home/amigos/data/otf_2019/n20190829070855_12CO_2-1_otf_OriKL\"\n",
    "#hosei parameters= 0\n",
    "subprocess.getoutput([\"ls {}\".format(analy_dir)]).split(\"\\n\")"
   ]
  },
  {
   "cell_type": "code",
   "execution_count": 97,
   "metadata": {},
   "outputs": [
    {
     "name": "stdout",
     "output_type": "stream",
     "text": [
      "      timestamp     intemp    outtemp    inhumi   outhumi     winddir  \\\n",
      "0  1.567063e+09  14.615898  16.401635  1.217069  8.789539  268.044587   \n",
      "1  1.567063e+09  15.242434  15.916723  1.619410  8.992911  268.809724   \n",
      "2  1.567063e+09  15.187171  15.982642  1.324363  8.654358  268.585765   \n",
      "3  1.567063e+09  15.004781  15.883320  1.181302  8.128407  268.370501   \n",
      "4  1.567063e+09  14.609908  16.303384  1.751703  8.891238  268.367539   \n",
      "5  1.567063e+09  14.613457  16.306206  1.018901  8.873919  268.662608   \n",
      "6  1.567063e+09  14.996826  15.817684  1.268313  8.967384  268.727948   \n",
      "7  1.567063e+09  14.885344  16.327671  1.892525  8.377478  268.152468   \n",
      "8  1.567063e+09  14.894219  15.959382  1.983076  8.345808  268.179413   \n",
      "\n",
      "     windsp       press      rain  cabin_temp1  cabin_temp2  dome_temp1  \\\n",
      "0  6.073829  571.028439  0.232509    21.358820    31.666677   10.284675   \n",
      "1  6.749914  570.684762  0.995482    21.739320    32.327558   10.292536   \n",
      "2  5.915789  570.260857  0.433753    21.311067    32.413230   10.446190   \n",
      "3  6.179023  570.249241  0.411312    21.424833    32.124372    9.857974   \n",
      "4  6.144818  570.831065  0.969972    22.176727    32.493918   10.546418   \n",
      "5  6.097401  570.762150  0.332970    22.072363    32.091452   10.101937   \n",
      "6  6.075517  571.079664  0.674369    21.530028    31.787333   10.515563   \n",
      "7  6.249577  570.445695  0.177636    22.032958    32.478857   10.457083   \n",
      "8  6.141373  570.634291  0.333292    22.021259    31.623551    9.946717   \n",
      "\n",
      "   dome_temp2  gen_temp1  gen_temp2  scan_num  obs_mode  \n",
      "0   13.410929  10.115173  13.230942         0       NaN  \n",
      "1   12.903164  10.088736  13.520955         1       NaN  \n",
      "2   13.028963  10.051323  13.355205         2       NaN  \n",
      "3   13.847318  10.243972  12.920010         3       NaN  \n",
      "4   13.655980  10.152527  13.183416         4       NaN  \n",
      "5   13.784606  10.359110  13.882994         5       NaN  \n",
      "6   13.307528  10.755488  13.755165         6       NaN  \n",
      "7   13.849721  10.137216  13.184699         7       NaN  \n",
      "8   13.281707  10.130406  12.907072         8       NaN  \n",
      "570.6640181621447 8.669004813045976 16.099849675758353\n"
     ]
    }
   ],
   "source": [
    "import log_weather\n",
    "###気象情報の読み込み\n",
    "weather_data = log_weather.Weather_log(os.path.join(analy_dir, \"weather.csv\")).read()\n",
    "print(weather_data)\n",
    "#気象データの確認\n",
    "press = numpy.mean(weather_data[\"press\"])\n",
    "humi = numpy.mean(weather_data[\"outhumi\"])\n",
    "temp = numpy.mean(weather_data[\"outtemp\"])\n",
    "lamda = 1300\n",
    "print(press, humi, temp)"
   ]
  },
  {
   "cell_type": "code",
   "execution_count": 101,
   "metadata": {},
   "outputs": [
    {
     "name": "stdout",
     "output_type": "stream",
     "text": [
      "Namespace(arg1='/home/amigos/data/otf_2019/n20190829070855_12CO_2-1_otf_OriKL', humi='0.0850045489100007', lamda='1300', press='570.6', temp='16.364810010118216')\n",
      "$$$##\n",
      "100%|████████████████████████████████████| 1743/1743 [00:00<00:00, 64799.43it/s]\n",
      "2019-08-29 07:18:26 : read_end\n",
      "2019-08-29 07:18:26 : indexing end\n",
      "2019-08-29 07:18:26 : hokan\n",
      "Az [-83.82694991 -83.8273321  -83.82771416 ... -83.24980132 -83.24980132\n",
      " -83.24980132]\n",
      "El [74.95266784 74.95218385 74.95172362 ... 74.13822091 74.13822091\n",
      " 74.13822091]\n",
      "[[0. 0. 0. ... 0. 0. 0.]\n",
      " [0. 0. 0. ... 0. 0. 0.]]\n",
      "16.364810010118216 deg_C\n",
      "2019-08-29 07:18:28 : coordinate trans end\n",
      "2019-08-29 07:18:28 : coordinate calc start\n",
      "Az [  0.           0.           0.         ... -83.24980132 -83.24980132\n",
      " -83.24980132]\n",
      "El [45.         45.         45.         ... 74.13822091 74.13822091\n",
      " 74.13822091]\n",
      "[[0. 0. 0. ... 0. 0. 0.]\n",
      " [0. 0. 0. ... 0. 0. 0.]]\n",
      "16.364810010118216 deg_C\n",
      "2019-08-29 07:18:44 : coordinate calc end\n",
      "2019-08-29 07:18:44 : coordinate trans encoder end\n",
      "2019-08-29 07:18:44 : end 17.84\n",
      "CPU times: user 348 ms, sys: 64 ms, total: 412 ms\n",
      "Wall time: 20.1 s\n"
     ]
    }
   ],
   "source": [
    "%%time\n",
    "!python /home/amigos/git/analy_n2data/script/analy_coordinates.py  /home/amigos/data/otf_2019/n20190829070855_12CO_2-1_otf_OriKL -p  570.6  -l 1300 -hu  0.0850045489100007 -t          16.364810010118216"
   ]
  },
  {
   "cell_type": "code",
   "execution_count": 102,
   "metadata": {
    "collapsed": true
   },
   "outputs": [],
   "source": [
    "import numpy\n",
    "import matplotlib.pyplot as plt\n",
    "from tqdm import tqdm\n",
    "from joblib import Parallel, delayed\n",
    "import numba\n",
    "from astropy.io import fits\n",
    "###以下独自\n",
    "import n2df\n",
    "import read_obsfile\n",
    "import analy_doppler_nanten"
   ]
  },
  {
   "cell_type": "code",
   "execution_count": 103,
   "metadata": {},
   "outputs": [],
   "source": [
    "###AzEl情報をradecに変換したものの一時ファイルの読み込み\n",
    "path_to_xffts_c = os.path.join(analy_dir, \"xffts_radec.npy\")\n",
    "path_to_encoder_c = os.path.join(analy_dir, \"encoder_radec.npy\")\n",
    "xffts = numpy.load(path_to_xffts_c)\n",
    "encoder = numpy.load(path_to_encoder_c)\n"
   ]
  },
  {
   "cell_type": "code",
   "execution_count": null,
   "metadata": {},
   "outputs": [],
   "source": []
  },
  {
   "cell_type": "code",
   "execution_count": 104,
   "metadata": {
    "collapsed": true
   },
   "outputs": [],
   "source": [
    "###-30 == 330deg なので。この辺どうしようかね？\n",
    "#xffts[0] = xffts[0]-360"
   ]
  },
  {
   "cell_type": "markdown",
   "metadata": {},
   "source": [
    "### gridの作成\n"
   ]
  },
  {
   "cell_type": "code",
   "execution_count": 105,
   "metadata": {
    "collapsed": true
   },
   "outputs": [],
   "source": [
    "#観測プログラムから必要な情報を出す\n",
    "obsfile_dict = read_obsfile.read(os.path.join(analy_dir, \"otf_test3_dcosy.obs\"))\n",
    "lamda_on = obsfile_dict[\"lambda_on\"]\n",
    "beta_on = obsfile_dict[\"beta_on\"]\n",
    "N = obsfile_dict[\"N\"]\n",
    "grid = obsfile_dict[\"grid\"]/3600 #[deg]"
   ]
  },
  {
   "cell_type": "code",
   "execution_count": 106,
   "metadata": {},
   "outputs": [
    {
     "name": "stdout",
     "output_type": "stream",
     "text": [
      "0.80613\n",
      "-20.37432\n",
      "9\n",
      "0.008333333333333333\n"
     ]
    },
    {
     "data": {
      "text/plain": [
       "{'N': 9,\n",
       " 'acc': 10,\n",
       " 'beta_off': -20.6683,\n",
       " 'beta_on': -20.37432,\n",
       " 'betdel_off': 0,\n",
       " 'cold_flag': 'N',\n",
       " 'coordsys': 'j2000',\n",
       " 'cosydel': 'j2000',\n",
       " 'datanum': 9.0,\n",
       " 'end_ch_1': 16383,\n",
       " 'end_ch_2': 16383,\n",
       " 'exposure': 0.6,\n",
       " 'exposure_off': 10.0,\n",
       " 'fpga_integtime': 100,\n",
       " 'grid': 30,\n",
       " 'if1st_freq_1': 4438.0,\n",
       " 'if1st_freq_2': 5701.3,\n",
       " 'if3rd_freq_1': 500.0,\n",
       " 'if3rd_freq_2': 500.0,\n",
       " 'lambda_off': 0.559,\n",
       " 'lambda_on': 0.80613,\n",
       " 'lamdel_off': 0,\n",
       " 'lamp_pixels': 4,\n",
       " 'lo1st_sb_1': 'U',\n",
       " 'lo1st_sb_2': 'L',\n",
       " 'lo2nd_sb_1': 'L',\n",
       " 'lo2nd_sb_2': 'L',\n",
       " 'lo3rd_freq_1': 4100.0,\n",
       " 'lo3rd_freq_2': 4100.0,\n",
       " 'lo3rd_sb_1': 'L',\n",
       " 'lo3rd_sb_2': 'L',\n",
       " 'load_interval': 5,\n",
       " 'molecule_1': '12CO',\n",
       " 'molecule_2': '13CO',\n",
       " 'multiple': 12,\n",
       " 'nTest': 1,\n",
       " 'object': 'OriKL',\n",
       " 'observer': 'amigos',\n",
       " 'obsfreq_1': 230538.0,\n",
       " 'obsfreq_2': 220398.684,\n",
       " 'obsmode': 'LINEOTF',\n",
       " 'offset_Az': 0,\n",
       " 'offset_El': 0,\n",
       " 'otadel': 'Y',\n",
       " 'otadel_off': 'Y',\n",
       " 'otflen': 5.4,\n",
       " 'otfvel': 50.0,\n",
       " 'pllharmonic': 1,\n",
       " 'pllref_if': 1,\n",
       " 'pllreffreq': 0,\n",
       " 'pllsideband': -1,\n",
       " 'purpose': 2,\n",
       " 'restfreq_1': 230538.0,\n",
       " 'restfreq_2': 220398.684,\n",
       " 'scan_direction': 0,\n",
       " 'start_ch_1': 0,\n",
       " 'start_ch_2': 0,\n",
       " 'start_pos_x': -120.0,\n",
       " 'start_pos_y': -120.0,\n",
       " 'transiti_1': 'J=2-1',\n",
       " 'transiti_2': 'J=2-1',\n",
       " 'tsys': 0,\n",
       " 'tuning_vlsr': 0.0,\n",
       " 'vlsr': 0.0}"
      ]
     },
     "execution_count": 106,
     "metadata": {},
     "output_type": "execute_result"
    }
   ],
   "source": [
    "###obsfileの確認\n",
    "print(lamda_on)\n",
    "print(beta_on)\n",
    "print(N)\n",
    "print(grid)\n",
    "obsfile_dict"
   ]
  },
  {
   "cell_type": "code",
   "execution_count": 107,
   "metadata": {
    "collapsed": true
   },
   "outputs": [],
   "source": [
    "#今回girdからどこまで離れた範囲まで解析の中に含めるかの値。これは外からいじれる値にしておかないと\n",
    "offset = 80#半径[arcsec]\n",
    "array_num = 2#1~16IF "
   ]
  },
  {
   "cell_type": "code",
   "execution_count": 108,
   "metadata": {},
   "outputs": [],
   "source": [
    "#make gird\n",
    "ragrid = numpy.arange(lamda_on - ((N-1)/2)*grid, lamda_on + ((N-1)/2+1)*grid, grid)\n",
    "decgrid = numpy.arange(beta_on - ((N-1)/2)*grid, beta_on + ((N-1)/2+1)*grid, grid)\n",
    "radec_grid = numpy.meshgrid(ragrid, decgrid)"
   ]
  },
  {
   "cell_type": "code",
   "execution_count": 109,
   "metadata": {},
   "outputs": [
    {
     "name": "stdout",
     "output_type": "stream",
     "text": [
      "-20.407653333333336 -20.332653333333333 0.008333333333333333\n"
     ]
    }
   ],
   "source": [
    "print(\n",
    "beta_on - ((N-1)/2)*grid,\n",
    "beta_on + ((N-1)/2+1)*grid,\n",
    "grid)"
   ]
  },
  {
   "cell_type": "code",
   "execution_count": 111,
   "metadata": {},
   "outputs": [
    {
     "data": {
      "application/javascript": [
       "/* Put everything inside the global mpl namespace */\n",
       "window.mpl = {};\n",
       "\n",
       "\n",
       "mpl.get_websocket_type = function() {\n",
       "    if (typeof(WebSocket) !== 'undefined') {\n",
       "        return WebSocket;\n",
       "    } else if (typeof(MozWebSocket) !== 'undefined') {\n",
       "        return MozWebSocket;\n",
       "    } else {\n",
       "        alert('Your browser does not have WebSocket support.' +\n",
       "              'Please try Chrome, Safari or Firefox ≥ 6. ' +\n",
       "              'Firefox 4 and 5 are also supported but you ' +\n",
       "              'have to enable WebSockets in about:config.');\n",
       "    };\n",
       "}\n",
       "\n",
       "mpl.figure = function(figure_id, websocket, ondownload, parent_element) {\n",
       "    this.id = figure_id;\n",
       "\n",
       "    this.ws = websocket;\n",
       "\n",
       "    this.supports_binary = (this.ws.binaryType != undefined);\n",
       "\n",
       "    if (!this.supports_binary) {\n",
       "        var warnings = document.getElementById(\"mpl-warnings\");\n",
       "        if (warnings) {\n",
       "            warnings.style.display = 'block';\n",
       "            warnings.textContent = (\n",
       "                \"This browser does not support binary websocket messages. \" +\n",
       "                    \"Performance may be slow.\");\n",
       "        }\n",
       "    }\n",
       "\n",
       "    this.imageObj = new Image();\n",
       "\n",
       "    this.context = undefined;\n",
       "    this.message = undefined;\n",
       "    this.canvas = undefined;\n",
       "    this.rubberband_canvas = undefined;\n",
       "    this.rubberband_context = undefined;\n",
       "    this.format_dropdown = undefined;\n",
       "\n",
       "    this.image_mode = 'full';\n",
       "\n",
       "    this.root = $('<div/>');\n",
       "    this._root_extra_style(this.root)\n",
       "    this.root.attr('style', 'display: inline-block');\n",
       "\n",
       "    $(parent_element).append(this.root);\n",
       "\n",
       "    this._init_header(this);\n",
       "    this._init_canvas(this);\n",
       "    this._init_toolbar(this);\n",
       "\n",
       "    var fig = this;\n",
       "\n",
       "    this.waiting = false;\n",
       "\n",
       "    this.ws.onopen =  function () {\n",
       "            fig.send_message(\"supports_binary\", {value: fig.supports_binary});\n",
       "            fig.send_message(\"send_image_mode\", {});\n",
       "            if (mpl.ratio != 1) {\n",
       "                fig.send_message(\"set_dpi_ratio\", {'dpi_ratio': mpl.ratio});\n",
       "            }\n",
       "            fig.send_message(\"refresh\", {});\n",
       "        }\n",
       "\n",
       "    this.imageObj.onload = function() {\n",
       "            if (fig.image_mode == 'full') {\n",
       "                // Full images could contain transparency (where diff images\n",
       "                // almost always do), so we need to clear the canvas so that\n",
       "                // there is no ghosting.\n",
       "                fig.context.clearRect(0, 0, fig.canvas.width, fig.canvas.height);\n",
       "            }\n",
       "            fig.context.drawImage(fig.imageObj, 0, 0);\n",
       "        };\n",
       "\n",
       "    this.imageObj.onunload = function() {\n",
       "        fig.ws.close();\n",
       "    }\n",
       "\n",
       "    this.ws.onmessage = this._make_on_message_function(this);\n",
       "\n",
       "    this.ondownload = ondownload;\n",
       "}\n",
       "\n",
       "mpl.figure.prototype._init_header = function() {\n",
       "    var titlebar = $(\n",
       "        '<div class=\"ui-dialog-titlebar ui-widget-header ui-corner-all ' +\n",
       "        'ui-helper-clearfix\"/>');\n",
       "    var titletext = $(\n",
       "        '<div class=\"ui-dialog-title\" style=\"width: 100%; ' +\n",
       "        'text-align: center; padding: 3px;\"/>');\n",
       "    titlebar.append(titletext)\n",
       "    this.root.append(titlebar);\n",
       "    this.header = titletext[0];\n",
       "}\n",
       "\n",
       "\n",
       "\n",
       "mpl.figure.prototype._canvas_extra_style = function(canvas_div) {\n",
       "\n",
       "}\n",
       "\n",
       "\n",
       "mpl.figure.prototype._root_extra_style = function(canvas_div) {\n",
       "\n",
       "}\n",
       "\n",
       "mpl.figure.prototype._init_canvas = function() {\n",
       "    var fig = this;\n",
       "\n",
       "    var canvas_div = $('<div/>');\n",
       "\n",
       "    canvas_div.attr('style', 'position: relative; clear: both; outline: 0');\n",
       "\n",
       "    function canvas_keyboard_event(event) {\n",
       "        return fig.key_event(event, event['data']);\n",
       "    }\n",
       "\n",
       "    canvas_div.keydown('key_press', canvas_keyboard_event);\n",
       "    canvas_div.keyup('key_release', canvas_keyboard_event);\n",
       "    this.canvas_div = canvas_div\n",
       "    this._canvas_extra_style(canvas_div)\n",
       "    this.root.append(canvas_div);\n",
       "\n",
       "    var canvas = $('<canvas/>');\n",
       "    canvas.addClass('mpl-canvas');\n",
       "    canvas.attr('style', \"left: 0; top: 0; z-index: 0; outline: 0\")\n",
       "\n",
       "    this.canvas = canvas[0];\n",
       "    this.context = canvas[0].getContext(\"2d\");\n",
       "\n",
       "    var backingStore = this.context.backingStorePixelRatio ||\n",
       "\tthis.context.webkitBackingStorePixelRatio ||\n",
       "\tthis.context.mozBackingStorePixelRatio ||\n",
       "\tthis.context.msBackingStorePixelRatio ||\n",
       "\tthis.context.oBackingStorePixelRatio ||\n",
       "\tthis.context.backingStorePixelRatio || 1;\n",
       "\n",
       "    mpl.ratio = (window.devicePixelRatio || 1) / backingStore;\n",
       "\n",
       "    var rubberband = $('<canvas/>');\n",
       "    rubberband.attr('style', \"position: absolute; left: 0; top: 0; z-index: 1;\")\n",
       "\n",
       "    var pass_mouse_events = true;\n",
       "\n",
       "    canvas_div.resizable({\n",
       "        start: function(event, ui) {\n",
       "            pass_mouse_events = false;\n",
       "        },\n",
       "        resize: function(event, ui) {\n",
       "            fig.request_resize(ui.size.width, ui.size.height);\n",
       "        },\n",
       "        stop: function(event, ui) {\n",
       "            pass_mouse_events = true;\n",
       "            fig.request_resize(ui.size.width, ui.size.height);\n",
       "        },\n",
       "    });\n",
       "\n",
       "    function mouse_event_fn(event) {\n",
       "        if (pass_mouse_events)\n",
       "            return fig.mouse_event(event, event['data']);\n",
       "    }\n",
       "\n",
       "    rubberband.mousedown('button_press', mouse_event_fn);\n",
       "    rubberband.mouseup('button_release', mouse_event_fn);\n",
       "    // Throttle sequential mouse events to 1 every 20ms.\n",
       "    rubberband.mousemove('motion_notify', mouse_event_fn);\n",
       "\n",
       "    rubberband.mouseenter('figure_enter', mouse_event_fn);\n",
       "    rubberband.mouseleave('figure_leave', mouse_event_fn);\n",
       "\n",
       "    canvas_div.on(\"wheel\", function (event) {\n",
       "        event = event.originalEvent;\n",
       "        event['data'] = 'scroll'\n",
       "        if (event.deltaY < 0) {\n",
       "            event.step = 1;\n",
       "        } else {\n",
       "            event.step = -1;\n",
       "        }\n",
       "        mouse_event_fn(event);\n",
       "    });\n",
       "\n",
       "    canvas_div.append(canvas);\n",
       "    canvas_div.append(rubberband);\n",
       "\n",
       "    this.rubberband = rubberband;\n",
       "    this.rubberband_canvas = rubberband[0];\n",
       "    this.rubberband_context = rubberband[0].getContext(\"2d\");\n",
       "    this.rubberband_context.strokeStyle = \"#000000\";\n",
       "\n",
       "    this._resize_canvas = function(width, height) {\n",
       "        // Keep the size of the canvas, canvas container, and rubber band\n",
       "        // canvas in synch.\n",
       "        canvas_div.css('width', width)\n",
       "        canvas_div.css('height', height)\n",
       "\n",
       "        canvas.attr('width', width * mpl.ratio);\n",
       "        canvas.attr('height', height * mpl.ratio);\n",
       "        canvas.attr('style', 'width: ' + width + 'px; height: ' + height + 'px;');\n",
       "\n",
       "        rubberband.attr('width', width);\n",
       "        rubberband.attr('height', height);\n",
       "    }\n",
       "\n",
       "    // Set the figure to an initial 600x600px, this will subsequently be updated\n",
       "    // upon first draw.\n",
       "    this._resize_canvas(600, 600);\n",
       "\n",
       "    // Disable right mouse context menu.\n",
       "    $(this.rubberband_canvas).bind(\"contextmenu\",function(e){\n",
       "        return false;\n",
       "    });\n",
       "\n",
       "    function set_focus () {\n",
       "        canvas.focus();\n",
       "        canvas_div.focus();\n",
       "    }\n",
       "\n",
       "    window.setTimeout(set_focus, 100);\n",
       "}\n",
       "\n",
       "mpl.figure.prototype._init_toolbar = function() {\n",
       "    var fig = this;\n",
       "\n",
       "    var nav_element = $('<div/>')\n",
       "    nav_element.attr('style', 'width: 100%');\n",
       "    this.root.append(nav_element);\n",
       "\n",
       "    // Define a callback function for later on.\n",
       "    function toolbar_event(event) {\n",
       "        return fig.toolbar_button_onclick(event['data']);\n",
       "    }\n",
       "    function toolbar_mouse_event(event) {\n",
       "        return fig.toolbar_button_onmouseover(event['data']);\n",
       "    }\n",
       "\n",
       "    for(var toolbar_ind in mpl.toolbar_items) {\n",
       "        var name = mpl.toolbar_items[toolbar_ind][0];\n",
       "        var tooltip = mpl.toolbar_items[toolbar_ind][1];\n",
       "        var image = mpl.toolbar_items[toolbar_ind][2];\n",
       "        var method_name = mpl.toolbar_items[toolbar_ind][3];\n",
       "\n",
       "        if (!name) {\n",
       "            // put a spacer in here.\n",
       "            continue;\n",
       "        }\n",
       "        var button = $('<button/>');\n",
       "        button.addClass('ui-button ui-widget ui-state-default ui-corner-all ' +\n",
       "                        'ui-button-icon-only');\n",
       "        button.attr('role', 'button');\n",
       "        button.attr('aria-disabled', 'false');\n",
       "        button.click(method_name, toolbar_event);\n",
       "        button.mouseover(tooltip, toolbar_mouse_event);\n",
       "\n",
       "        var icon_img = $('<span/>');\n",
       "        icon_img.addClass('ui-button-icon-primary ui-icon');\n",
       "        icon_img.addClass(image);\n",
       "        icon_img.addClass('ui-corner-all');\n",
       "\n",
       "        var tooltip_span = $('<span/>');\n",
       "        tooltip_span.addClass('ui-button-text');\n",
       "        tooltip_span.html(tooltip);\n",
       "\n",
       "        button.append(icon_img);\n",
       "        button.append(tooltip_span);\n",
       "\n",
       "        nav_element.append(button);\n",
       "    }\n",
       "\n",
       "    var fmt_picker_span = $('<span/>');\n",
       "\n",
       "    var fmt_picker = $('<select/>');\n",
       "    fmt_picker.addClass('mpl-toolbar-option ui-widget ui-widget-content');\n",
       "    fmt_picker_span.append(fmt_picker);\n",
       "    nav_element.append(fmt_picker_span);\n",
       "    this.format_dropdown = fmt_picker[0];\n",
       "\n",
       "    for (var ind in mpl.extensions) {\n",
       "        var fmt = mpl.extensions[ind];\n",
       "        var option = $(\n",
       "            '<option/>', {selected: fmt === mpl.default_extension}).html(fmt);\n",
       "        fmt_picker.append(option)\n",
       "    }\n",
       "\n",
       "    // Add hover states to the ui-buttons\n",
       "    $( \".ui-button\" ).hover(\n",
       "        function() { $(this).addClass(\"ui-state-hover\");},\n",
       "        function() { $(this).removeClass(\"ui-state-hover\");}\n",
       "    );\n",
       "\n",
       "    var status_bar = $('<span class=\"mpl-message\"/>');\n",
       "    nav_element.append(status_bar);\n",
       "    this.message = status_bar[0];\n",
       "}\n",
       "\n",
       "mpl.figure.prototype.request_resize = function(x_pixels, y_pixels) {\n",
       "    // Request matplotlib to resize the figure. Matplotlib will then trigger a resize in the client,\n",
       "    // which will in turn request a refresh of the image.\n",
       "    this.send_message('resize', {'width': x_pixels, 'height': y_pixels});\n",
       "}\n",
       "\n",
       "mpl.figure.prototype.send_message = function(type, properties) {\n",
       "    properties['type'] = type;\n",
       "    properties['figure_id'] = this.id;\n",
       "    this.ws.send(JSON.stringify(properties));\n",
       "}\n",
       "\n",
       "mpl.figure.prototype.send_draw_message = function() {\n",
       "    if (!this.waiting) {\n",
       "        this.waiting = true;\n",
       "        this.ws.send(JSON.stringify({type: \"draw\", figure_id: this.id}));\n",
       "    }\n",
       "}\n",
       "\n",
       "\n",
       "mpl.figure.prototype.handle_save = function(fig, msg) {\n",
       "    var format_dropdown = fig.format_dropdown;\n",
       "    var format = format_dropdown.options[format_dropdown.selectedIndex].value;\n",
       "    fig.ondownload(fig, format);\n",
       "}\n",
       "\n",
       "\n",
       "mpl.figure.prototype.handle_resize = function(fig, msg) {\n",
       "    var size = msg['size'];\n",
       "    if (size[0] != fig.canvas.width || size[1] != fig.canvas.height) {\n",
       "        fig._resize_canvas(size[0], size[1]);\n",
       "        fig.send_message(\"refresh\", {});\n",
       "    };\n",
       "}\n",
       "\n",
       "mpl.figure.prototype.handle_rubberband = function(fig, msg) {\n",
       "    var x0 = msg['x0'] / mpl.ratio;\n",
       "    var y0 = (fig.canvas.height - msg['y0']) / mpl.ratio;\n",
       "    var x1 = msg['x1'] / mpl.ratio;\n",
       "    var y1 = (fig.canvas.height - msg['y1']) / mpl.ratio;\n",
       "    x0 = Math.floor(x0) + 0.5;\n",
       "    y0 = Math.floor(y0) + 0.5;\n",
       "    x1 = Math.floor(x1) + 0.5;\n",
       "    y1 = Math.floor(y1) + 0.5;\n",
       "    var min_x = Math.min(x0, x1);\n",
       "    var min_y = Math.min(y0, y1);\n",
       "    var width = Math.abs(x1 - x0);\n",
       "    var height = Math.abs(y1 - y0);\n",
       "\n",
       "    fig.rubberband_context.clearRect(\n",
       "        0, 0, fig.canvas.width, fig.canvas.height);\n",
       "\n",
       "    fig.rubberband_context.strokeRect(min_x, min_y, width, height);\n",
       "}\n",
       "\n",
       "mpl.figure.prototype.handle_figure_label = function(fig, msg) {\n",
       "    // Updates the figure title.\n",
       "    fig.header.textContent = msg['label'];\n",
       "}\n",
       "\n",
       "mpl.figure.prototype.handle_cursor = function(fig, msg) {\n",
       "    var cursor = msg['cursor'];\n",
       "    switch(cursor)\n",
       "    {\n",
       "    case 0:\n",
       "        cursor = 'pointer';\n",
       "        break;\n",
       "    case 1:\n",
       "        cursor = 'default';\n",
       "        break;\n",
       "    case 2:\n",
       "        cursor = 'crosshair';\n",
       "        break;\n",
       "    case 3:\n",
       "        cursor = 'move';\n",
       "        break;\n",
       "    }\n",
       "    fig.rubberband_canvas.style.cursor = cursor;\n",
       "}\n",
       "\n",
       "mpl.figure.prototype.handle_message = function(fig, msg) {\n",
       "    fig.message.textContent = msg['message'];\n",
       "}\n",
       "\n",
       "mpl.figure.prototype.handle_draw = function(fig, msg) {\n",
       "    // Request the server to send over a new figure.\n",
       "    fig.send_draw_message();\n",
       "}\n",
       "\n",
       "mpl.figure.prototype.handle_image_mode = function(fig, msg) {\n",
       "    fig.image_mode = msg['mode'];\n",
       "}\n",
       "\n",
       "mpl.figure.prototype.updated_canvas_event = function() {\n",
       "    // Called whenever the canvas gets updated.\n",
       "    this.send_message(\"ack\", {});\n",
       "}\n",
       "\n",
       "// A function to construct a web socket function for onmessage handling.\n",
       "// Called in the figure constructor.\n",
       "mpl.figure.prototype._make_on_message_function = function(fig) {\n",
       "    return function socket_on_message(evt) {\n",
       "        if (evt.data instanceof Blob) {\n",
       "            /* FIXME: We get \"Resource interpreted as Image but\n",
       "             * transferred with MIME type text/plain:\" errors on\n",
       "             * Chrome.  But how to set the MIME type?  It doesn't seem\n",
       "             * to be part of the websocket stream */\n",
       "            evt.data.type = \"image/png\";\n",
       "\n",
       "            /* Free the memory for the previous frames */\n",
       "            if (fig.imageObj.src) {\n",
       "                (window.URL || window.webkitURL).revokeObjectURL(\n",
       "                    fig.imageObj.src);\n",
       "            }\n",
       "\n",
       "            fig.imageObj.src = (window.URL || window.webkitURL).createObjectURL(\n",
       "                evt.data);\n",
       "            fig.updated_canvas_event();\n",
       "            fig.waiting = false;\n",
       "            return;\n",
       "        }\n",
       "        else if (typeof evt.data === 'string' && evt.data.slice(0, 21) == \"data:image/png;base64\") {\n",
       "            fig.imageObj.src = evt.data;\n",
       "            fig.updated_canvas_event();\n",
       "            fig.waiting = false;\n",
       "            return;\n",
       "        }\n",
       "\n",
       "        var msg = JSON.parse(evt.data);\n",
       "        var msg_type = msg['type'];\n",
       "\n",
       "        // Call the  \"handle_{type}\" callback, which takes\n",
       "        // the figure and JSON message as its only arguments.\n",
       "        try {\n",
       "            var callback = fig[\"handle_\" + msg_type];\n",
       "        } catch (e) {\n",
       "            console.log(\"No handler for the '\" + msg_type + \"' message type: \", msg);\n",
       "            return;\n",
       "        }\n",
       "\n",
       "        if (callback) {\n",
       "            try {\n",
       "                // console.log(\"Handling '\" + msg_type + \"' message: \", msg);\n",
       "                callback(fig, msg);\n",
       "            } catch (e) {\n",
       "                console.log(\"Exception inside the 'handler_\" + msg_type + \"' callback:\", e, e.stack, msg);\n",
       "            }\n",
       "        }\n",
       "    };\n",
       "}\n",
       "\n",
       "// from http://stackoverflow.com/questions/1114465/getting-mouse-location-in-canvas\n",
       "mpl.findpos = function(e) {\n",
       "    //this section is from http://www.quirksmode.org/js/events_properties.html\n",
       "    var targ;\n",
       "    if (!e)\n",
       "        e = window.event;\n",
       "    if (e.target)\n",
       "        targ = e.target;\n",
       "    else if (e.srcElement)\n",
       "        targ = e.srcElement;\n",
       "    if (targ.nodeType == 3) // defeat Safari bug\n",
       "        targ = targ.parentNode;\n",
       "\n",
       "    // jQuery normalizes the pageX and pageY\n",
       "    // pageX,Y are the mouse positions relative to the document\n",
       "    // offset() returns the position of the element relative to the document\n",
       "    var x = e.pageX - $(targ).offset().left;\n",
       "    var y = e.pageY - $(targ).offset().top;\n",
       "\n",
       "    return {\"x\": x, \"y\": y};\n",
       "};\n",
       "\n",
       "/*\n",
       " * return a copy of an object with only non-object keys\n",
       " * we need this to avoid circular references\n",
       " * http://stackoverflow.com/a/24161582/3208463\n",
       " */\n",
       "function simpleKeys (original) {\n",
       "  return Object.keys(original).reduce(function (obj, key) {\n",
       "    if (typeof original[key] !== 'object')\n",
       "        obj[key] = original[key]\n",
       "    return obj;\n",
       "  }, {});\n",
       "}\n",
       "\n",
       "mpl.figure.prototype.mouse_event = function(event, name) {\n",
       "    var canvas_pos = mpl.findpos(event)\n",
       "\n",
       "    if (name === 'button_press')\n",
       "    {\n",
       "        this.canvas.focus();\n",
       "        this.canvas_div.focus();\n",
       "    }\n",
       "\n",
       "    var x = canvas_pos.x * mpl.ratio;\n",
       "    var y = canvas_pos.y * mpl.ratio;\n",
       "\n",
       "    this.send_message(name, {x: x, y: y, button: event.button,\n",
       "                             step: event.step,\n",
       "                             guiEvent: simpleKeys(event)});\n",
       "\n",
       "    /* This prevents the web browser from automatically changing to\n",
       "     * the text insertion cursor when the button is pressed.  We want\n",
       "     * to control all of the cursor setting manually through the\n",
       "     * 'cursor' event from matplotlib */\n",
       "    event.preventDefault();\n",
       "    return false;\n",
       "}\n",
       "\n",
       "mpl.figure.prototype._key_event_extra = function(event, name) {\n",
       "    // Handle any extra behaviour associated with a key event\n",
       "}\n",
       "\n",
       "mpl.figure.prototype.key_event = function(event, name) {\n",
       "\n",
       "    // Prevent repeat events\n",
       "    if (name == 'key_press')\n",
       "    {\n",
       "        if (event.which === this._key)\n",
       "            return;\n",
       "        else\n",
       "            this._key = event.which;\n",
       "    }\n",
       "    if (name == 'key_release')\n",
       "        this._key = null;\n",
       "\n",
       "    var value = '';\n",
       "    if (event.ctrlKey && event.which != 17)\n",
       "        value += \"ctrl+\";\n",
       "    if (event.altKey && event.which != 18)\n",
       "        value += \"alt+\";\n",
       "    if (event.shiftKey && event.which != 16)\n",
       "        value += \"shift+\";\n",
       "\n",
       "    value += 'k';\n",
       "    value += event.which.toString();\n",
       "\n",
       "    this._key_event_extra(event, name);\n",
       "\n",
       "    this.send_message(name, {key: value,\n",
       "                             guiEvent: simpleKeys(event)});\n",
       "    return false;\n",
       "}\n",
       "\n",
       "mpl.figure.prototype.toolbar_button_onclick = function(name) {\n",
       "    if (name == 'download') {\n",
       "        this.handle_save(this, null);\n",
       "    } else {\n",
       "        this.send_message(\"toolbar_button\", {name: name});\n",
       "    }\n",
       "};\n",
       "\n",
       "mpl.figure.prototype.toolbar_button_onmouseover = function(tooltip) {\n",
       "    this.message.textContent = tooltip;\n",
       "};\n",
       "mpl.toolbar_items = [[\"Home\", \"Reset original view\", \"fa fa-home icon-home\", \"home\"], [\"Back\", \"Back to  previous view\", \"fa fa-arrow-left icon-arrow-left\", \"back\"], [\"Forward\", \"Forward to next view\", \"fa fa-arrow-right icon-arrow-right\", \"forward\"], [\"\", \"\", \"\", \"\"], [\"Pan\", \"Pan axes with left mouse, zoom with right\", \"fa fa-arrows icon-move\", \"pan\"], [\"Zoom\", \"Zoom to rectangle\", \"fa fa-square-o icon-check-empty\", \"zoom\"], [\"\", \"\", \"\", \"\"], [\"Download\", \"Download plot\", \"fa fa-floppy-o icon-save\", \"download\"]];\n",
       "\n",
       "mpl.extensions = [\"eps\", \"jpeg\", \"pdf\", \"png\", \"ps\", \"raw\", \"svg\", \"tif\"];\n",
       "\n",
       "mpl.default_extension = \"png\";var comm_websocket_adapter = function(comm) {\n",
       "    // Create a \"websocket\"-like object which calls the given IPython comm\n",
       "    // object with the appropriate methods. Currently this is a non binary\n",
       "    // socket, so there is still some room for performance tuning.\n",
       "    var ws = {};\n",
       "\n",
       "    ws.close = function() {\n",
       "        comm.close()\n",
       "    };\n",
       "    ws.send = function(m) {\n",
       "        //console.log('sending', m);\n",
       "        comm.send(m);\n",
       "    };\n",
       "    // Register the callback with on_msg.\n",
       "    comm.on_msg(function(msg) {\n",
       "        //console.log('receiving', msg['content']['data'], msg);\n",
       "        // Pass the mpl event to the overridden (by mpl) onmessage function.\n",
       "        ws.onmessage(msg['content']['data'])\n",
       "    });\n",
       "    return ws;\n",
       "}\n",
       "\n",
       "mpl.mpl_figure_comm = function(comm, msg) {\n",
       "    // This is the function which gets called when the mpl process\n",
       "    // starts-up an IPython Comm through the \"matplotlib\" channel.\n",
       "\n",
       "    var id = msg.content.data.id;\n",
       "    // Get hold of the div created by the display call when the Comm\n",
       "    // socket was opened in Python.\n",
       "    var element = $(\"#\" + id);\n",
       "    var ws_proxy = comm_websocket_adapter(comm)\n",
       "\n",
       "    function ondownload(figure, format) {\n",
       "        window.open(figure.imageObj.src);\n",
       "    }\n",
       "\n",
       "    var fig = new mpl.figure(id, ws_proxy,\n",
       "                           ondownload,\n",
       "                           element.get(0));\n",
       "\n",
       "    // Call onopen now - mpl needs it, as it is assuming we've passed it a real\n",
       "    // web socket which is closed, not our websocket->open comm proxy.\n",
       "    ws_proxy.onopen();\n",
       "\n",
       "    fig.parent_element = element.get(0);\n",
       "    fig.cell_info = mpl.find_output_cell(\"<div id='\" + id + \"'></div>\");\n",
       "    if (!fig.cell_info) {\n",
       "        console.error(\"Failed to find cell for figure\", id, fig);\n",
       "        return;\n",
       "    }\n",
       "\n",
       "    var output_index = fig.cell_info[2]\n",
       "    var cell = fig.cell_info[0];\n",
       "\n",
       "};\n",
       "\n",
       "mpl.figure.prototype.handle_close = function(fig, msg) {\n",
       "    var width = fig.canvas.width/mpl.ratio\n",
       "    fig.root.unbind('remove')\n",
       "\n",
       "    // Update the output cell to use the data from the current canvas.\n",
       "    fig.push_to_output();\n",
       "    var dataURL = fig.canvas.toDataURL();\n",
       "    // Re-enable the keyboard manager in IPython - without this line, in FF,\n",
       "    // the notebook keyboard shortcuts fail.\n",
       "    IPython.keyboard_manager.enable()\n",
       "    $(fig.parent_element).html('<img src=\"' + dataURL + '\" width=\"' + width + '\">');\n",
       "    fig.close_ws(fig, msg);\n",
       "}\n",
       "\n",
       "mpl.figure.prototype.close_ws = function(fig, msg){\n",
       "    fig.send_message('closing', msg);\n",
       "    // fig.ws.close()\n",
       "}\n",
       "\n",
       "mpl.figure.prototype.push_to_output = function(remove_interactive) {\n",
       "    // Turn the data on the canvas into data in the output cell.\n",
       "    var width = this.canvas.width/mpl.ratio\n",
       "    var dataURL = this.canvas.toDataURL();\n",
       "    this.cell_info[1]['text/html'] = '<img src=\"' + dataURL + '\" width=\"' + width + '\">';\n",
       "}\n",
       "\n",
       "mpl.figure.prototype.updated_canvas_event = function() {\n",
       "    // Tell IPython that the notebook contents must change.\n",
       "    IPython.notebook.set_dirty(true);\n",
       "    this.send_message(\"ack\", {});\n",
       "    var fig = this;\n",
       "    // Wait a second, then push the new image to the DOM so\n",
       "    // that it is saved nicely (might be nice to debounce this).\n",
       "    setTimeout(function () { fig.push_to_output() }, 1000);\n",
       "}\n",
       "\n",
       "mpl.figure.prototype._init_toolbar = function() {\n",
       "    var fig = this;\n",
       "\n",
       "    var nav_element = $('<div/>')\n",
       "    nav_element.attr('style', 'width: 100%');\n",
       "    this.root.append(nav_element);\n",
       "\n",
       "    // Define a callback function for later on.\n",
       "    function toolbar_event(event) {\n",
       "        return fig.toolbar_button_onclick(event['data']);\n",
       "    }\n",
       "    function toolbar_mouse_event(event) {\n",
       "        return fig.toolbar_button_onmouseover(event['data']);\n",
       "    }\n",
       "\n",
       "    for(var toolbar_ind in mpl.toolbar_items){\n",
       "        var name = mpl.toolbar_items[toolbar_ind][0];\n",
       "        var tooltip = mpl.toolbar_items[toolbar_ind][1];\n",
       "        var image = mpl.toolbar_items[toolbar_ind][2];\n",
       "        var method_name = mpl.toolbar_items[toolbar_ind][3];\n",
       "\n",
       "        if (!name) { continue; };\n",
       "\n",
       "        var button = $('<button class=\"btn btn-default\" href=\"#\" title=\"' + name + '\"><i class=\"fa ' + image + ' fa-lg\"></i></button>');\n",
       "        button.click(method_name, toolbar_event);\n",
       "        button.mouseover(tooltip, toolbar_mouse_event);\n",
       "        nav_element.append(button);\n",
       "    }\n",
       "\n",
       "    // Add the status bar.\n",
       "    var status_bar = $('<span class=\"mpl-message\" style=\"text-align:right; float: right;\"/>');\n",
       "    nav_element.append(status_bar);\n",
       "    this.message = status_bar[0];\n",
       "\n",
       "    // Add the close button to the window.\n",
       "    var buttongrp = $('<div class=\"btn-group inline pull-right\"></div>');\n",
       "    var button = $('<button class=\"btn btn-mini btn-primary\" href=\"#\" title=\"Stop Interaction\"><i class=\"fa fa-power-off icon-remove icon-large\"></i></button>');\n",
       "    button.click(function (evt) { fig.handle_close(fig, {}); } );\n",
       "    button.mouseover('Stop Interaction', toolbar_mouse_event);\n",
       "    buttongrp.append(button);\n",
       "    var titlebar = this.root.find($('.ui-dialog-titlebar'));\n",
       "    titlebar.prepend(buttongrp);\n",
       "}\n",
       "\n",
       "mpl.figure.prototype._root_extra_style = function(el){\n",
       "    var fig = this\n",
       "    el.on(\"remove\", function(){\n",
       "\tfig.close_ws(fig, {});\n",
       "    });\n",
       "}\n",
       "\n",
       "mpl.figure.prototype._canvas_extra_style = function(el){\n",
       "    // this is important to make the div 'focusable\n",
       "    el.attr('tabindex', 0)\n",
       "    // reach out to IPython and tell the keyboard manager to turn it's self\n",
       "    // off when our div gets focus\n",
       "\n",
       "    // location in version 3\n",
       "    if (IPython.notebook.keyboard_manager) {\n",
       "        IPython.notebook.keyboard_manager.register_events(el);\n",
       "    }\n",
       "    else {\n",
       "        // location in version 2\n",
       "        IPython.keyboard_manager.register_events(el);\n",
       "    }\n",
       "\n",
       "}\n",
       "\n",
       "mpl.figure.prototype._key_event_extra = function(event, name) {\n",
       "    var manager = IPython.notebook.keyboard_manager;\n",
       "    if (!manager)\n",
       "        manager = IPython.keyboard_manager;\n",
       "\n",
       "    // Check for shift+enter\n",
       "    if (event.shiftKey && event.which == 13) {\n",
       "        this.canvas_div.blur();\n",
       "        event.shiftKey = false;\n",
       "        // Send a \"J\" for go to next cell\n",
       "        event.which = 74;\n",
       "        event.keyCode = 74;\n",
       "        manager.command_mode();\n",
       "        manager.handle_keydown(event);\n",
       "    }\n",
       "}\n",
       "\n",
       "mpl.figure.prototype.handle_save = function(fig, msg) {\n",
       "    fig.ondownload(fig, null);\n",
       "}\n",
       "\n",
       "\n",
       "mpl.find_output_cell = function(html_output) {\n",
       "    // Return the cell and output element which can be found *uniquely* in the notebook.\n",
       "    // Note - this is a bit hacky, but it is done because the \"notebook_saving.Notebook\"\n",
       "    // IPython event is triggered only after the cells have been serialised, which for\n",
       "    // our purposes (turning an active figure into a static one), is too late.\n",
       "    var cells = IPython.notebook.get_cells();\n",
       "    var ncells = cells.length;\n",
       "    for (var i=0; i<ncells; i++) {\n",
       "        var cell = cells[i];\n",
       "        if (cell.cell_type === 'code'){\n",
       "            for (var j=0; j<cell.output_area.outputs.length; j++) {\n",
       "                var data = cell.output_area.outputs[j];\n",
       "                if (data.data) {\n",
       "                    // IPython >= 3 moved mimebundle to data attribute of output\n",
       "                    data = data.data;\n",
       "                }\n",
       "                if (data['text/html'] == html_output) {\n",
       "                    return [cell, data, j];\n",
       "                }\n",
       "            }\n",
       "        }\n",
       "    }\n",
       "}\n",
       "\n",
       "// Register the function which deals with the matplotlib target/channel.\n",
       "// The kernel may be null if the page has been refreshed.\n",
       "if (IPython.notebook.kernel != null) {\n",
       "    IPython.notebook.kernel.comm_manager.register_target('matplotlib', mpl.mpl_figure_comm);\n",
       "}\n"
      ],
      "text/plain": [
       "<IPython.core.display.Javascript object>"
      ]
     },
     "metadata": {},
     "output_type": "display_data"
    },
    {
     "data": {
      "text/html": [
       "<img src=\"data:image/png;base64,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\" width=\"640\">"
      ],
      "text/plain": [
       "<IPython.core.display.HTML object>"
      ]
     },
     "metadata": {},
     "output_type": "display_data"
    }
   ],
   "source": [
    "%matplotlib notebook\n",
    "#gridの確認\n",
    "#girdとXFFTSの点がずれている。これはプロジェクションの問題でcosがかかっていないからか？\n",
    "plt.plot(radec_grid[0], radec_grid[1], \".\")\n",
    "plt.plot(lamda_on, beta_on, \"*\")\n",
    "plt.plot(xffts[0], xffts[1])\n",
    "#plt.plot(encoder[0], encoder[1], \".\")\n",
    "plt.xlim(0.7,0.9)\n",
    "plt.ylim(-20.48, -20.3)\n",
    "plt.savefig(\"neko.pdf\")\n",
    "plt.grid()\n",
    "plt.show()\n",
    "\n",
    "### なんで線と点がずれているんだ？"
   ]
  },
  {
   "cell_type": "code",
   "execution_count": null,
   "metadata": {
    "collapsed": true
   },
   "outputs": [],
   "source": [
    "numpy.cos(3.14)\n",
    "d2r= numpy.deg2rad\n",
    "numpy.cos(d2r(90))\n",
    "radec_grid[1]"
   ]
  },
  {
   "cell_type": "code",
   "execution_count": null,
   "metadata": {
    "collapsed": true
   },
   "outputs": [],
   "source": [
    "xffts[2]"
   ]
  },
  {
   "cell_type": "markdown",
   "metadata": {},
   "source": [
    "## doppler tracking\n"
   ]
  },
  {
   "cell_type": "code",
   "execution_count": null,
   "metadata": {
    "collapsed": true,
    "scrolled": true
   },
   "outputs": [],
   "source": [
    "#this will be added\n",
    "from numpy import deg2rad\n",
    "d = analy_doppler_nanten.doppler_nanten()\n",
    "#d.calc_vobs(deg2rad(11), deg2rad(11), time.time())\n",
    "vobs = [d.calc_vobs(deg2rad(xffts[0][i]),deg2rad(xffts[1][i]), xffts[2][i]) for i in tqdm(range(len(xffts[0])))]\n",
    "#vobs = Parallel(n_jobs=-1, verbose=2)([delayed(d.calc_vobs(deg2rad(xffts[0][i]), deg2rad(xffts[1][i]), xffts[2][i])) for i in tqdm(range(len(xffts[0])))])"
   ]
  },
  {
   "cell_type": "code",
   "execution_count": null,
   "metadata": {
    "collapsed": true
   },
   "outputs": [],
   "source": [
    "vobs"
   ]
  },
  {
   "cell_type": "markdown",
   "metadata": {},
   "source": [
    "### 分光データの読み出し\n",
    "on/off/hot indexの整理"
   ]
  },
  {
   "cell_type": "code",
   "execution_count": null,
   "metadata": {
    "collapsed": true,
    "scrolled": true
   },
   "outputs": [],
   "source": [
    "%%time\n",
    "n = n2df.Read(os.path.join(analy_dir, \"xffts.ndf\"))\n",
    "array_data = n.read_onearray(array_num)#1IFの分光データ\n",
    "obs_mode = n.read_obs_mode()#観測モード（ON/OFF/HOT）\n",
    "scan_num = n.read_scan_num()#スキャンライン（0,1,2,3,4,...）\n",
    "###array_data, scan_num, obs_mode = n.read_for_otf(1)#3分くらいかかた"
   ]
  },
  {
   "cell_type": "code",
   "execution_count": null,
   "metadata": {
    "collapsed": true
   },
   "outputs": [],
   "source": [
    "###index探し\n",
    "obs_mode = numpy.array(obs_mode)\n",
    "scan_num = numpy.array(scan_num)\n",
    "\n",
    "offmask = obs_mode == \"OFF\"\n",
    "offindex = numpy.where(offmask == True)\n",
    "\n",
    "hotmask = obs_mode == \"HOT\"\n",
    "hotindex = numpy.where(hotmask == True)\n",
    "\n",
    "onmask = obs_mode == \"ON\"\n",
    "onindex = numpy.where(onmask == True)\n",
    "\n",
    "max_scannum = numpy.max(scan_num)#Caution! scan num starts from 0, so scan number of 26 indicates 27 times scan"
   ]
  },
  {
   "cell_type": "code",
   "execution_count": null,
   "metadata": {
    "collapsed": true
   },
   "outputs": [],
   "source": [
    "#一応indexの可視化\n",
    "plt.plot(offindex[0], [1]*len(offindex[0]),\".\" , label = \"off\")\n",
    "plt.plot(hotindex[0], [1]*len(hotindex[0]),\".\" , label = \"hot\")\n",
    "plt.plot(onindex[0], [1]*len(onindex[0]),\".\" , label = \"on\")\n",
    "plt.xlim(0,1000)\n",
    "plt.legend()\n",
    "plt.show()"
   ]
  },
  {
   "cell_type": "code",
   "execution_count": null,
   "metadata": {
    "collapsed": true
   },
   "outputs": [],
   "source": [
    "#OFF 点のscan number を取得\n",
    "scan_num = numpy.array(scan_num)\n",
    "print(scan_num)\n",
    "offindex[0]\n",
    "plt.plot(scan_num[offindex[0]])\n",
    "plt.grid()\n",
    "plt.show()\n",
    "\n",
    "#HOT 点のscan number を取得\n",
    "scan_num = numpy.array(scan_num)\n",
    "hotindex[0]\n",
    "plt.plot(scan_num[hotindex[0]])\n",
    "plt.grid()\n",
    "plt.show()\n",
    "\n",
    "# ON 点のscan number を取得\n",
    "scan_num = numpy.array(scan_num)\n",
    "plt.plot(scan_num[onindex[0]])\n",
    "plt.grid()\n",
    "plt.show()"
   ]
  },
  {
   "cell_type": "markdown",
   "metadata": {},
   "source": [
    "### hot/offの積分"
   ]
  },
  {
   "cell_type": "code",
   "execution_count": null,
   "metadata": {
    "collapsed": true
   },
   "outputs": [],
   "source": [
    "#HOT積分\n",
    "print(numpy.unique(scan_num[hotindex[0]]))#HOT のscan number\n",
    "hotnum = numpy.unique(scan_num[hotindex[0]])#HOTの数\n",
    "\n",
    "hotdata = []\n",
    "\n",
    "for i in tqdm(hotnum):#i = scan number\n",
    "    mask = scan_num == i#特定のscannumのindexを抜き出す\n",
    "    index = numpy.where(mask == True)#特定のscannumのindex変数\n",
    "   ### \n",
    "    c = numpy.in1d(index[0], hotindex[0])#特定のscannumのindex&HOT index\n",
    "    c = numpy.where(c == True)[0]\n",
    "    ###\n",
    "    mm = index[0][c]#scan numの値でフィルターしたhot\n",
    "    #print(mm)\n",
    "    ###積分\n",
    "    tmp = [array_data[j] for j in mm]\n",
    "    hotdata.append(sum(tmp)/len(tmp))\n",
    "    pass\n",
    "\n",
    "#下は擬似データの質が低いための処理。将来的に削除\n",
    "hotdata = numpy.array(hotdata)\n",
    "hotdata = hotdata + 5000"
   ]
  },
  {
   "cell_type": "code",
   "execution_count": null,
   "metadata": {
    "collapsed": true
   },
   "outputs": [],
   "source": [
    "##OFFの積分\n",
    "print(numpy.unique(scan_num[offindex[0]]))#HOT のscan number\n",
    "offnum = numpy.unique(scan_num[offindex[0]])#HOTの数\n",
    "\n",
    "offdata = []\n",
    "scan_num = numpy.array(scan_num)\n",
    "\n",
    "for i in tqdm(offnum):\n",
    "    mask = scan_num == i#特定のscannumのindexを抜き出す\n",
    "    index = numpy.where(mask == True)#特定のscannumのindex変数\n",
    "   ### \n",
    "    c = numpy.in1d(index[0], offindex[0])#特定のscannumのindex&HOT index\n",
    "    c = numpy.where(c == True)[0]#scannumとhotで絞ったindex\n",
    "    mm = index[0][c]#scan numの値でフィルターしたhot\n",
    "    tmp = [array_data[j] for j in mm]\n",
    "    offdata.append(sum(tmp)/len(tmp))"
   ]
  },
  {
   "cell_type": "markdown",
   "metadata": {},
   "source": [
    "Hot のデータはscan line分あるわけでないので補完\n",
    "Off もscan line 分ある観測プログラムしかないはずだが、一応補完\n",
    "\n",
    "補完の方法は次のOFF/HOTの点の観測を行うまでは直近のデータを採用する形"
   ]
  },
  {
   "cell_type": "code",
   "execution_count": null,
   "metadata": {
    "collapsed": true
   },
   "outputs": [],
   "source": [
    "d = numpy.unique(scan_num[hotindex[0]])#HOT のscan number\n",
    "hotdata_ = []\n",
    "count = 0\n",
    "\n",
    "for i in tqdm(range(max_scannum)):\n",
    "        #print(i,count)\n",
    "        if i == d[count]:\n",
    "            hotdata_.append(d[count])\n",
    "            count +=1\n",
    "        elif i < d[count]:\n",
    "            hotdata_.append(d[count])\n",
    "        else:#この例外には入らないはず\n",
    "            print(i)"
   ]
  },
  {
   "cell_type": "code",
   "execution_count": null,
   "metadata": {
    "collapsed": true
   },
   "outputs": [],
   "source": [
    "d = numpy.unique(scan_num[offindex[0]])#HOT のscan number\n",
    "offdata_ = []\n",
    "count = 0\n",
    "\n",
    "for i in tqdm(range(max_scannum)):\n",
    "        #print(i,count)\n",
    "        if i == d[count]:\n",
    "            offdata_.append(d[count])\n",
    "            count +=1\n",
    "        elif i < d[count]:\n",
    "            offdata_.append(d[count])\n",
    "        else:#この例外には入らないはず\n",
    "            print(i)"
   ]
  },
  {
   "cell_type": "code",
   "execution_count": null,
   "metadata": {
    "collapsed": true
   },
   "outputs": [],
   "source": [
    "# ###Choper wheel\n",
    "\n",
    "@numba.jit\n",
    "def chopper_wheel(on_index, scan_num, temprature = 300):    \n",
    "    #scan_num = n[on_index][\"scan_num\"]\n",
    "    #Tastar = (array_data[on_index] - offdata[scan_num])/(hotdata[scan_num] - offdata[scan_num]) * temprature\n",
    "    Tastar = (array_data[on_index] - offdata[0])/(hotdata[0] - offdata[0]) * temprature#test, this will be deleted（hotdata, offdata[0]しかつかってない！）\n",
    "    return Tastar\n",
    "\n",
    "def calc(i):#on点をscan indexでmaskしchopper wheelする\n",
    "    mask = scan_num == i#特定のscannumのindexを抜き出す\n",
    "    index = numpy.where(mask == True)#特定のscannumのindex変数\n",
    "    c = numpy.intersect1d(index[0], onindex[0])\n",
    "    return [[j, chopper_wheel(j, i, cabin_temp[i])] for j in c]###j= index "
   ]
  },
  {
   "cell_type": "code",
   "execution_count": null,
   "metadata": {
    "collapsed": true
   },
   "outputs": [],
   "source": [
    "ondata = [calc(i) for i in tqdm(range(max_scannum+1))]#Chopper Wheelしたやつ"
   ]
  },
  {
   "cell_type": "code",
   "execution_count": null,
   "metadata": {
    "collapsed": true
   },
   "outputs": [],
   "source": [
    "%%time\n",
    "data_on = {ondata[i][j][0]:ondata[i][j][1] for i in range(len(ondata)) for j in range(len(ondata[i]))}###d[onindex] = onarray\n",
    "data_on[4433][16000] += 100000000\n",
    "print(data_on[4433][16000])"
   ]
  },
  {
   "cell_type": "code",
   "execution_count": null,
   "metadata": {
    "collapsed": true
   },
   "outputs": [],
   "source": [
    "#距離による重みつけ関数１\n",
    "#sigma == ビームサイズ\n",
    "def gauss(x, a = 1, mu = 0, sigma = 160):\n",
    "    return a * numpy.exp(-(x - mu)**2 / (2*sigma**2))\n",
    "\n",
    "\n",
    "#距離による重みつけ関数2 関数系わからないので今はgaussianだけど修正\n",
    "def bessel_gauss(x, a = 1, mu = 0, sigma = 160):\n",
    "    return a * numpy.exp(-(x - mu)**2 / (2*sigma**2))\n",
    "\n",
    "#球面なのでRA方向の長さがDECで変わります。なのでRA-DEC平面での距離(角度)を出すには、RAをcos(DEC)で割る必要があります。\n",
    "def calc_distance(d1, d2):\n",
    "    #d1 = [ra, dec] #deg   \n",
    "    factor = 3600#こういうことしなくてもいいようにastropy unitを使う（要編集）\n",
    "    d1[0] = d1[0]*factor\n",
    "    d1[1] = d1[1]*factor\n",
    "    d2[0] = d2[0]*factor\n",
    "    d2[1] = d2[1]*factor\n",
    "    return ((d1[0] - d2[0])**2 + (d1[1] - d2[1])**2)**0.5\n",
    "\n",
    "def calc_rms(arr):\n",
    "    return numpy.sqrt(numpy.mean(arr**2))\n",
    "\n",
    "def rms_dist_weighting(arr, dist, rms):\n",
    "    return [arr*gauss(dist)*(rms**-2), gauss(dist)*(rms**-2)]"
   ]
  },
  {
   "cell_type": "markdown",
   "metadata": {},
   "source": [
    "## Baseline fitting"
   ]
  },
  {
   "cell_type": "code",
   "execution_count": null,
   "metadata": {
    "collapsed": true
   },
   "outputs": [],
   "source": [
    "#baseline fitting parameter\n",
    "center = 8000\n",
    "width = 1000\n",
    "start = 3000\n",
    "end = 30000\n",
    "\n",
    "#baseline fitting function\n",
    "def f(x, a, b, c):\n",
    "    return a*x**2 + b*x + c\n",
    "\n",
    "def  baseline_fitting(arr_x, arr_y, index1, index2, index3, index4):\n",
    "    tmpdata_y1 = arr_y[index1:index2]\n",
    "    tmpdata_y2 = arr_y[index3:index4]\n",
    "    tmpdata_x1 = arr_x[index1:index2]\n",
    "    tmpdata_x2 = arr_x[index3:index4]\n",
    "    x = numpy.concatenate([tmpdata_x1, tmpdata_x2])\n",
    "    y = numpy.concatenate([tmpdata_y1, tmpdata_y2])\n",
    "    param = numpy.polyfit(x, y, 2)\n",
    "    arr_y = arr_y - f(arr_x, *param)\n",
    "    return arr_y\n",
    "    \n",
    "#ch\n",
    "xindex = numpy.linspace(0, 32768, 32768)\n",
    "\n",
    "#baseline fitting index\n",
    "index1 = int(start)\n",
    "index2 = int(center - width/2)\n",
    "index3 = int(center + width/2)\n",
    "index4 = int(end)\n",
    "print(index1, index2, index3, index4)\n",
    "\n",
    "testoffset = numpy.linspace(1, 32768, 32768)\n",
    "\n",
    "for i in tqdm(data_on.keys()):\n",
    "    data_on[i] = data_on[i] + testoffset#ベースラインフィッティングできているかの確認のため\n",
    "    origin = data_on[i]#for debug, this will be deleted\n",
    "    data_on[i] = baseline_fitting(data_on[i], xindex, index1, index2, index3, index4)\n",
    "    \n",
    "    \n",
    "plt.plot(data_on[i], label=\"after chopper wheel\")#after chopper wheel\n",
    "plt.plot(origin, label=\"before chopper wheel\")#before chopper wheel\n",
    "plt.legend()\n",
    "plt.grid()"
   ]
  },
  {
   "cell_type": "code",
   "execution_count": null,
   "metadata": {
    "collapsed": true
   },
   "outputs": [],
   "source": [
    "#plt.plot(data_on[i], label=\"after chopper wheel\")#after chopper wheel\n",
    "%matplotlib inline\n",
    "plt.plot(origin-testoffset, label=\"before chopper wheel\")#before chopper wheel\n",
    "plt.legend()\n",
    "plt.grid()"
   ]
  },
  {
   "cell_type": "markdown",
   "metadata": {},
   "source": [
    "## grid内のデータ探索\n",
    "\n",
    "あるgridに採用するデータのindexを求める"
   ]
  },
  {
   "cell_type": "code",
   "execution_count": null,
   "metadata": {
    "collapsed": true
   },
   "outputs": [],
   "source": [
    "%time\n",
    "index_list = []\n",
    "for i in tqdm(range(max_scannum)):\n",
    "    for j in range(max_scannum):\n",
    "       # print(ragrid[i], decgrid[j])\n",
    "        index1 = numpy.where((ragrid[i]-(offset/3600)<xffts[0]) & ((ragrid[i] + (offset/3600)>xffts[0])))\n",
    "        index2 = numpy.where((decgrid[j]-(offset/3600)<xffts[1]) & ((decgrid[j] + (offset/3600)>xffts[1])))\n",
    "        index_ = [i in index2[0] for i in index1[0]]\n",
    "        index_ = numpy.array(index_)\n",
    "        index_1and2 = numpy.where(index_ == True)\n",
    "        index_1and2 = index1[0][index_1and2]\n",
    "        index_list.append(index_1and2)\n"
   ]
  },
  {
   "cell_type": "markdown",
   "metadata": {},
   "source": [
    "### xfftsデータの確認"
   ]
  },
  {
   "cell_type": "markdown",
   "metadata": {},
   "source": [
    "### データをgridに入れる"
   ]
  },
  {
   "cell_type": "markdown",
   "metadata": {},
   "source": [
    "本番はもう少し賢く書くけど、ひとまず"
   ]
  },
  {
   "cell_type": "code",
   "execution_count": null,
   "metadata": {
    "collapsed": true,
    "scrolled": true
   },
   "outputs": [],
   "source": [
    "%%time\n",
    "#cubeデータの作成\n",
    "#data_c = numpy.zeros((31, 31, 32768))#(ra, dec, ch)\n",
    "#index_list2 = numpy.reshape(index_list, (31,31))#index listの2次元化（これは前処理しておく） #これは正しいか？\n",
    "data_c = numpy.zeros((max_scannum, max_scannum, 32768))#(ra, dec, ch)\n",
    "index_list2 = numpy.reshape(index_list, (max_scannum, max_scannum))#index listの2次元化（これは前処理しておく） #これは正しいか？\n",
    "\n",
    "## Chopper wheelしたデータをdatacubeに入れる\n",
    "for i in tqdm(range(max_scannum)):#ra\n",
    "    for j in range(max_scannum):#dec\n",
    "        try:\n",
    "            numerator_list = []#分子\n",
    "            denominator_list= []#分母\n",
    "            for k in index_list2[i][j]:\n",
    "                dist = calc_distance([ragrid[i], decgrid[j]], [xffts[0][k], xffts[1][k]])\n",
    "                rms = calc_rms(data_on[k])\n",
    "                weighted_data = rms_dist_weighting(data_on[k], dist, rms)\n",
    "                #weighted_data = rms_dist_weighting(data_on[k], dist, 1)###RMSがうまく動いているかの確認\n",
    "                numerator_list.append(weighted_data[0])\n",
    "                denominator_list.append(weighted_data[1])\n",
    "            data_c[i][j] = sum(numerator_list)/sum(denominator_list)\n",
    "        except Exception as e:\n",
    "            print(\"[{},{}], {}\".format(i,j,e), end = \"\")"
   ]
  },
  {
   "cell_type": "markdown",
   "metadata": {},
   "source": [
    "距離を考慮すると..."
   ]
  },
  {
   "cell_type": "markdown",
   "metadata": {
    "collapsed": true
   },
   "source": [
    "### astropyでfitsに書き出す"
   ]
  },
  {
   "cell_type": "code",
   "execution_count": null,
   "metadata": {
    "collapsed": true
   },
   "outputs": [],
   "source": [
    "#3軸の入れ替え。\n",
    "data_c = numpy.swapaxes(data_c, 0,2)\n",
    "print(numpy.shape(data_c))#軸の入れ替えの確認"
   ]
  },
  {
   "cell_type": "markdown",
   "metadata": {},
   "source": [
    "ヘッダーの作成"
   ]
  },
  {
   "cell_type": "code",
   "execution_count": null,
   "metadata": {
    "collapsed": true
   },
   "outputs": [],
   "source": [
    "header_dict = {\n",
    "\"object\" : obsfile_dict[\"object\"],\n",
    "\"crval1\" : obsfile_dict[\"lambda_on\"],\n",
    "\"cdelt1\" : obsfile_dict[\"grid\"]/3600,\n",
    "\"crpix1\" : obsfile_dict[\"N\"]-1/2,#中心ピクセル\n",
    "\"crval2\" : obsfile_dict[\"beta_on\"],\n",
    "\"cdelt2\" : obsfile_dict[\"grid\"]/3600,\n",
    "\"crpix2\" : obsfile_dict[\"N\"]-1/2 #中心ピクセル\n",
    "}"
   ]
  },
  {
   "cell_type": "code",
   "execution_count": null,
   "metadata": {
    "collapsed": true
   },
   "outputs": [],
   "source": [
    "temp = \"\"\"\n",
    "SIMPLE  =                    T                                                  \n",
    "BITPIX  =                  -32                                                  \n",
    "NAXIS   =                    3                                                  \n",
    "NAXIS1  =                  31                                                 \n",
    "NAXIS2  =                  31                                                 \n",
    "NAXIS3  =                   32768                                                  \n",
    "OBJECT  = '{object}              '                                                  \n",
    "TELESCOP= 'NANTEN2            '                                                  \n",
    "INSTRUME= 'MULT2-11          '                                                  \n",
    "OBSERVER= 'z7510rk           '                                                  \n",
    "DATE-OBS= '2007-12-30        '                                                  \n",
    "DATE-MAP= '2012-01-19        '                                                  \n",
    "BSCALE  =    0.10000000000E+01                                                  \n",
    "BZERO   =    0.00000000000E+01                                                  \n",
    "BUNIT   = 'K                 '                                                  \n",
    "EPOCH   =    0.20000000000E+04                                                  \n",
    "OBSRA   =    8.38104170000E+01                                                  \n",
    "OBSDEC  =   -5.37511100000E+00                                                  \n",
    "DATAMAX =    1.16774444580E+02                                                  \n",
    "DATAMIN =   -8.33924560547E+01                                                  \n",
    "CTYPE1  = 'RA---GLS          '                                                  \n",
    "CRVAL1  =    {crval1}                                                  \n",
    "CDELT1  =    {cdelt1}                                                  \n",
    "CRPIX1  =      {crpix1}\n",
    "CROTA1  =     0.0000000000E+00                                                  \n",
    "CTYPE2  = 'DEC--GLS          '                                                  \n",
    "CRVAL2  =   {crval2}                                                  \n",
    "CDELT2  =   {cdelt2}                                               \n",
    "CRPIX2  =     {crpix2}                                               \n",
    "CROTA2  =     0.0000000000E+00                                                  \n",
    "CTYPE3  = 'VELO-LSR          '                                                  \n",
    "CRVAL3  =    2.50000000000E+02                                                  \n",
    "CDELT3  =    5.00000000000E+02                                                  \n",
    "CRPIX3  =    1.00000000000E+00                                                  \n",
    "CROTA3  =    0.00000000000E+00                                                  \n",
    "BLANK   =   -1.00000000000E+00 \"\"\".format(**header_dict)"
   ]
  },
  {
   "cell_type": "code",
   "execution_count": null,
   "metadata": {
    "collapsed": true
   },
   "outputs": [],
   "source": [
    "target_header = fits.Header.fromstring(temp, sep = \"\\n\")"
   ]
  },
  {
   "cell_type": "code",
   "execution_count": null,
   "metadata": {
    "collapsed": true
   },
   "outputs": [],
   "source": [
    "#書き出し\n",
    "hdu = fits.PrimaryHDU(data_c, target_header)\n",
    "hdulist = fits.HDUList([hdu])\n",
    "hdulist.writeto(\"test4.fits\", overwrite = True)"
   ]
  },
  {
   "cell_type": "code",
   "execution_count": null,
   "metadata": {
    "collapsed": true
   },
   "outputs": [],
   "source": [
    "##読み込み\n",
    "hdu_list = fits.open(\"test4.fits\")\n",
    "hdu_r = hdu_list[0]\n",
    "data = hdu_r.data\n",
    "header = hdu_r.header"
   ]
  },
  {
   "cell_type": "code",
   "execution_count": null,
   "metadata": {
    "collapsed": true
   },
   "outputs": [],
   "source": [
    "#解析にかかった時間を出すため\n",
    "print(\"required time : {}\".format(time.time() - start_time))"
   ]
  },
  {
   "cell_type": "code",
   "execution_count": null,
   "metadata": {
    "collapsed": true
   },
   "outputs": [],
   "source": [
    "#%matplotlib notebook\n",
    "%matplotlib inline\n",
    "from ipywidgets import interact\n",
    "\n",
    "def plot(i):\n",
    "    plt.figure(figsize=(8, 8))\n",
    "    plt.imshow(data[i].T, cmap = \"gist_rainbow\")\n",
    "    #plt.xlabel(\"ra\")\n",
    "    #plt.ylabel(\"dec\")\n",
    "    plt.show()\n",
    "\n",
    "\n",
    "interact(plot, i = (0,16000,1))"
   ]
  },
  {
   "cell_type": "code",
   "execution_count": null,
   "metadata": {
    "collapsed": true
   },
   "outputs": [],
   "source": [
    "#bokeh  使い方あんまかしわからん\n",
    "from bokeh.plotting import figure\n",
    "from bokeh.io import show, output_notebook\n",
    "\n",
    "output_notebook()\n",
    "plt1 = figure()\n",
    "rend1 = plt1.image(image=[data[16000]], x=0, y=0, dw =31, dh=31, palette=\"Plasma11\")\n",
    "\n",
    "show(plt1)"
   ]
  },
  {
   "cell_type": "code",
   "execution_count": null,
   "metadata": {
    "collapsed": true
   },
   "outputs": [],
   "source": [
    "numpy.max(data)"
   ]
  },
  {
   "cell_type": "code",
   "execution_count": null,
   "metadata": {
    "collapsed": true
   },
   "outputs": [],
   "source": [
    "numpy.where(data > 213)"
   ]
  },
  {
   "cell_type": "code",
   "execution_count": null,
   "metadata": {
    "collapsed": true
   },
   "outputs": [],
   "source": []
  },
  {
   "cell_type": "code",
   "execution_count": null,
   "metadata": {
    "collapsed": true
   },
   "outputs": [],
   "source": []
  }
 ],
 "metadata": {
  "kernelspec": {
   "display_name": "Python 3",
   "language": "python",
   "name": "python3"
  },
  "language_info": {
   "codemirror_mode": {
    "name": "ipython",
    "version": 3
   },
   "file_extension": ".py",
   "mimetype": "text/x-python",
   "name": "python",
   "nbconvert_exporter": "python",
   "pygments_lexer": "ipython3",
   "version": "3.6.3"
  },
  "widgets": {
   "state": {
    "69cef02b5de64cd28537b73db5eaafe1": {
     "views": [
      {
       "cell_index": 46
      }
     ]
    },
    "a1def446d82c496b9beef01c766bc416": {
     "views": [
      {
       "cell_index": 46
      }
     ]
    },
    "c8da718324cb4a21bc4082d13c81de6b": {
     "views": [
      {
       "cell_index": 46
      }
     ]
    }
   },
   "version": "1.2.0"
  }
 },
 "nbformat": 4,
 "nbformat_minor": 2
}
