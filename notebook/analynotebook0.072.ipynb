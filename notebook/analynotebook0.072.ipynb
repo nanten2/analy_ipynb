{
 "cells": [
  {
   "cell_type": "markdown",
   "metadata": {},
   "source": [
    "### 観測データ\n",
    "解析に必要なデータ\n",
    "- XFFTS data\n",
    "- Encoder data\n",
    "- weather status\n",
    "- hosei copy\n",
    "- obs copy\n",
    "\n",
    "\n",
    "### 解析フロー\n",
    "\n",
    "- doppler tracking[x]\n",
    "- Chopper Wheel [o]\n",
    "- baseline fitting [o]\n",
    "- Scaling(from standard object?) [x]\n",
    "- regrid [o]\n",
    "    - rms [o]\n",
    "    - distance [o]\n",
    "- +header [o]\n",
    "- 3d-fits[o]"
   ]
  },
  {
   "cell_type": "markdown",
   "metadata": {},
   "source": [
    "### memo\n",
    "備忘録\n",
    "- astropy unitを駆使してわかりやすく書くべき（arcsec/degでバグを増やさないために）\n",
    "- あらかじめxfftsの分光データをra,dec対応させておく\n",
    "\n",
    "        \n",
    " 観測データについて\n",
    " - 解析に必要なファイルは？\n",
    "    - XFFTS分光データ ndf\n",
    "    - エンコーダ .db\n",
    "        - あらかじめfk5, galactic に変換して一時ファイルに保存する必要 (npy)\n",
    "    - weather .???\n",
    "        - これをどの形式にするか考え中 csv , db\n",
    "    - 観測時に使用した器差パラメータの入ったファイル hosei_230.txt + alpha\n",
    "        - これの仕様を早く決定しなくては\n",
    "        \n",
    " これらの複数のファイルをどうやってひとまとめにするか考える必要あり\n",
    " - necrecに接続したHDD にndfファイルは保存される\n",
    " - その他は全て観測pc\n",
    "     - nfs mount で観測終了時にHDDにcopyする\n",
    "     \n",
    " - necrec HDD\n",
    "   - /home/amigos/data/[observation name]/yyyymmhh_HHMMSS/"
   ]
  },
  {
   "cell_type": "code",
   "execution_count": 122,
   "metadata": {},
   "outputs": [
    {
     "name": "stdout",
     "output_type": "stream",
     "text": [
      "0727test.db\t\t\t    test2.db\ttest6.hdf5\r\n",
      "n20190824043335_12CO_2-1_otf_OriKL  test2.hdf5\ttest.db\r\n",
      "n20190824043539_12CO_2-1_otf_OriKL  test3.dat\ttest.hdf5\r\n",
      "n20190824043706_12CO_2-1_otf_OriKL  test3.hdf5\ttestwrite.dat\r\n",
      "n20190824070836_12CO_2-1_otf_OriKL  test4.dat\ttestwrite.txt\r\n",
      "n20190824071829_12CO_2-1_otf_OriKL  test4.hdf5\twrite_test.py\r\n",
      "n20190824074527_12CO_2-1_otf_OriKL  test5.dat\twrite_test.py~\r\n",
      "n20190824075446_12CO_2-1_otf_OriKL  test5.hdf5\r\n",
      "test01.dat\t\t\t    test6.dat\r\n"
     ]
    }
   ],
   "source": [
    "!ls /home/amigos/data/otf_2019\n",
    "import time\n",
    "start_time = time.time()"
   ]
  },
  {
   "cell_type": "code",
   "execution_count": 123,
   "metadata": {
    "collapsed": true
   },
   "outputs": [],
   "source": [
    "#radec 変換データ作成\n",
    "#! python analy_coordinates.py\n",
    "import sys\n",
    "sys.path.append(\"../script/\")\n",
    "import subprocess\n",
    "import os"
   ]
  },
  {
   "cell_type": "code",
   "execution_count": 245,
   "metadata": {},
   "outputs": [
    {
     "data": {
      "text/plain": [
       "['enc.db',\n",
       " 'enc.db-journal',\n",
       " 'encoder_radec.npy',\n",
       " 'hosei_230.txt',\n",
       " 'otf_test3y.obs',\n",
       " 'weather.csv',\n",
       " 'xffts.ndf',\n",
       " 'xffts_radec.npy']"
      ]
     },
     "execution_count": 245,
     "metadata": {},
     "output_type": "execute_result"
    }
   ],
   "source": [
    "#analy_dir = \"/home/amigos/data/otf_2019/n20190824043706_12CO_2-1_otf_OriKL\"\n",
    "#analy_dir = \"/home/amigos/data/otf_2019/n20190824070836_12CO_2-1_otf_OriKL\"\n",
    "#analy_dir = \"/home/amigos/data/otf_2019/n20190824071829_12CO_2-1_otf_OriKL\"\n",
    "#analy_dir = \"/home/amigos/data/otf_2019/n20190824074527_12CO_2-1_otf_OriKL\"\n",
    "#analy_dir = \"/home/amigos/data/otf_2019/n20190824075446_12CO_2-1_otf_OriKL\"\n",
    "#analy_dir = \"/home/amigos/data/otf_2019/n20190824081542_12CO_2-1_otf_OriKL\"\n",
    "analy_dir = \"/home/amigos/data/otf_2019/n20190824083421_12CO_2-1_otf_OriKL\"\n",
    "subprocess.getoutput([\"ls {}\".format(analy_dir)]).split(\"\\n\")"
   ]
  },
  {
   "cell_type": "code",
   "execution_count": 242,
   "metadata": {},
   "outputs": [
    {
     "name": "stdout",
     "output_type": "stream",
     "text": [
      "100%|███████████████████████████████████| 1687/1687 [00:00<00:00, 186839.29it/s]\n",
      "2019-08-24 08:58:43 : read_end\n",
      "2019-08-24 08:58:43 : indexing end\n",
      "2019-08-24 08:58:43 : hokan\n",
      "Az [-93.20166412 -93.20181593 -93.20200004 ... -92.8345484  -92.8345484\n",
      " -92.8345484 ]\n",
      "El [57.93825647 57.93783702 57.93738673 ... 57.17871448 57.17871448\n",
      " 57.17871448]\n",
      "[[5369.03539774 5369.03539686 5369.03539592 ... 5369.03386083\n",
      "  5369.03386083 5369.03386083]\n",
      " [6707.6300971  6707.63010034 6707.63010388 ... 6707.63425103\n",
      "  6707.63425103 6707.63425103]]\n",
      "2019-08-24 08:58:45 : coordinate trans end\n",
      "2019-08-24 08:58:45 : coordinate calc start\n",
      "Az [-92.09239509 -92.09239509 -92.09239509 ... -92.8345484  -92.8345484\n",
      " -92.8345484 ]\n",
      "El [59.0584187  59.0584187  59.0584187  ... 57.17871448 57.17871448\n",
      " 57.17871448]\n",
      "[[5369.03780115 5369.03780115 5369.03780115 ... 5369.03386083\n",
      "  5369.03386083 5369.03386083]\n",
      " [6707.61954405 6707.61954405 6707.61954405 ... 6707.63425103\n",
      "  6707.63425103 6707.63425103]]\n",
      "2019-08-24 08:59:00 : coordinate calc end\n",
      "2019-08-24 08:59:00 : coordinate trans encoder end\n",
      "2019-08-24 08:59:00 : end 17.16\n",
      "CPU times: user 352 ms, sys: 52 ms, total: 404 ms\n",
      "Wall time: 19.5 s\n"
     ]
    }
   ],
   "source": [
    "%%time\n",
    "!python /home/amigos/git/analy_n2data/script/analy_coordinates.py  /home/amigos/data/otf_2019/n20190824083421_12CO_2-1_otf_OriKL"
   ]
  },
  {
   "cell_type": "code",
   "execution_count": null,
   "metadata": {
    "collapsed": true
   },
   "outputs": [],
   "source": []
  },
  {
   "cell_type": "code",
   "execution_count": 243,
   "metadata": {
    "collapsed": true
   },
   "outputs": [],
   "source": [
    "import numpy\n",
    "import matplotlib.pyplot as plt\n",
    "from tqdm import tqdm\n",
    "from joblib import Parallel, delayed\n",
    "import numba\n",
    "from astropy.io import fits\n",
    "###以下独自\n",
    "import n2df\n",
    "import read_obsfile\n",
    "import doppler_nanten"
   ]
  },
  {
   "cell_type": "code",
   "execution_count": 246,
   "metadata": {},
   "outputs": [],
   "source": [
    "###AzEl情報をradecに変換したものの一時ファイルの読み込み\n",
    "path_to_xffts_c = os.path.join(analy_dir, \"xffts_radec.npy\")\n",
    "path_to_encoder_c = os.path.join(analy_dir, \"encoder_radec.npy\")\n",
    "xffts = numpy.load(path_to_xffts_c)\n",
    "encoder = numpy.load(path_to_encoder_c)"
   ]
  },
  {
   "cell_type": "code",
   "execution_count": 247,
   "metadata": {
    "collapsed": true
   },
   "outputs": [],
   "source": [
    "###-30 == 330deg なので。この辺どうしようかね？\n",
    "#xffts[0] = xffts[0]-360"
   ]
  },
  {
   "cell_type": "markdown",
   "metadata": {},
   "source": [
    "### gridの作成\n"
   ]
  },
  {
   "cell_type": "code",
   "execution_count": 248,
   "metadata": {},
   "outputs": [],
   "source": [
    "#観測プログラムから必要な情報を出す\n",
    "obsfile_dict = read_obsfile.read(os.path.join(analy_dir, \"otf_test3y.obs\"))\n",
    "lamda_on = obsfile_dict[\"lambda_on\"]\n",
    "beta_on = obsfile_dict[\"beta_on\"]\n",
    "N = obsfile_dict[\"N\"]\n",
    "grid = obsfile_dict[\"grid\"]/3600 #[deg]"
   ]
  },
  {
   "cell_type": "code",
   "execution_count": 249,
   "metadata": {},
   "outputs": [
    {
     "name": "stdout",
     "output_type": "stream",
     "text": [
      "0.80613\n",
      "-20.37432\n",
      "9\n",
      "0.008333333333333333\n"
     ]
    }
   ],
   "source": [
    "print(lamda_on)\n",
    "print(beta_on)\n",
    "print(N)\n",
    "print(grid)"
   ]
  },
  {
   "cell_type": "code",
   "execution_count": 250,
   "metadata": {
    "collapsed": true
   },
   "outputs": [],
   "source": [
    "#今回girdからどこまで離れた範囲まで解析の中に含めるかの値。これは外からいじれる値にしておかないと\n",
    "offset = 80#半径[arcsec]\n",
    "array_num = 2#1~16IF "
   ]
  },
  {
   "cell_type": "code",
   "execution_count": 251,
   "metadata": {
    "collapsed": true
   },
   "outputs": [],
   "source": [
    "#make gird\n",
    "ragrid = numpy.arange(lamda_on - ((N-1)/2)*grid, lamda_on + ((N-1)/2+1)*grid, grid)\n",
    "decgrid = numpy.arange(beta_on - ((N-1)/2)*grid, beta_on + ((N-1)/2+1)*grid, grid)\n",
    "radec_grid = numpy.meshgrid(ragrid, decgrid)"
   ]
  },
  {
   "cell_type": "code",
   "execution_count": 252,
   "metadata": {},
   "outputs": [
    {
     "data": {
      "text/plain": [
       "[<matplotlib.lines.Line2D at 0x7fcbd93e6828>,\n",
       " <matplotlib.lines.Line2D at 0x7fcbd93e6748>,\n",
       " <matplotlib.lines.Line2D at 0x7fcbd93e6208>,\n",
       " <matplotlib.lines.Line2D at 0x7fcbd93e6630>,\n",
       " <matplotlib.lines.Line2D at 0x7fcbd93e6470>,\n",
       " <matplotlib.lines.Line2D at 0x7fcbd93e6ac8>,\n",
       " <matplotlib.lines.Line2D at 0x7fcbd93e6908>,\n",
       " <matplotlib.lines.Line2D at 0x7fcbd95abef0>,\n",
       " <matplotlib.lines.Line2D at 0x7fcbd95ab7b8>]"
      ]
     },
     "execution_count": 252,
     "metadata": {},
     "output_type": "execute_result"
    }
   ],
   "source": [
    "plt.plot(radec_grid[0], radec_grid[1])"
   ]
  },
  {
   "cell_type": "code",
   "execution_count": 255,
   "metadata": {},
   "outputs": [
    {
     "data": {
      "image/png": "[encoded data removed]",
      "text/plain": [
       "<Figure size 432x288 with 1 Axes>"
      ]
     },
     "metadata": {},
     "output_type": "display_data"
    }
   ],
   "source": [
    "#gridの確認\n",
    "#girdとXFFTSの点がずれている。これはプロジェクションの問題でcosがかかっていないからか？\n",
    "plt.plot(radec_grid[0], radec_grid[1], \".\")\n",
    "plt.plot(xffts[0], xffts[1])\n",
    "#plt.plot(encoder[0], encoder[1], \".\")\n",
    "plt.xlim(0.7,0.9)\n",
    "plt.ylim(-20.48, -20.3)\n",
    "plt.savefig(\"neko.pdf\")\n",
    "plt.grid()\n",
    "plt.show()"
   ]
  },
  {
   "cell_type": "code",
   "execution_count": 256,
   "metadata": {},
   "outputs": [
    {
     "name": "stdout",
     "output_type": "stream",
     "text": [
      "-0.07000000000000028\n",
      "-0.06500000000000006\n"
     ]
    },
    {
     "data": {
      "text/plain": [
       "0.075"
      ]
     },
     "execution_count": 256,
     "metadata": {},
     "output_type": "execute_result"
    }
   ],
   "source": [
    "a = -20.40\n",
    "b = -20.33\n",
    "c = 0.725\n",
    "d = 0.79\n",
    "print(a-b)\n",
    "print(c-d)\n",
    "grid*9"
   ]
  },
  {
   "cell_type": "markdown",
   "metadata": {},
   "source": [
    "## doppler tracking\n"
   ]
  },
  {
   "cell_type": "code",
   "execution_count": 257,
   "metadata": {
    "collapsed": true
   },
   "outputs": [],
   "source": [
    "#this will be added"
   ]
  },
  {
   "cell_type": "markdown",
   "metadata": {},
   "source": [
    "### 分光データの読み出し\n",
    "on/off/hot indexの整理"
   ]
  },
  {
   "cell_type": "code",
   "execution_count": 258,
   "metadata": {
    "scrolled": true
   },
   "outputs": [
    {
     "name": "stderr",
     "output_type": "stream",
     "text": [
      "100%|██████████| 1687/1687 [00:00<00:00, 1691.29it/s]\n",
      "100%|██████████| 1687/1687 [00:00<00:00, 198395.93it/s]\n",
      "100%|██████████| 1687/1687 [00:00<00:00, 557719.78it/s]"
     ]
    },
    {
     "name": "stdout",
     "output_type": "stream",
     "text": [
      "CPU times: user 44 ms, sys: 88 ms, total: 132 ms\n",
      "Wall time: 1.03 s\n"
     ]
    },
    {
     "name": "stderr",
     "output_type": "stream",
     "text": [
      "\n"
     ]
    }
   ],
   "source": [
    "%%time\n",
    "n = n2df.Read(os.path.join(analy_dir, \"xffts.ndf\"))\n",
    "array_data = n.read_onearray(array_num)#1IFの分光データ\n",
    "obs_mode = n.read_obs_mode()#観測モード（ON/OFF/HOT）\n",
    "scan_num = n.read_scan_num()#スキャンライン（0,1,2,3,4,...）\n",
    "###array_data, scan_num, obs_mode = n.read_for_otf(1)#3分くらいかかた"
   ]
  },
  {
   "cell_type": "code",
   "execution_count": 259,
   "metadata": {
    "collapsed": true
   },
   "outputs": [],
   "source": [
    "###index探し\n",
    "obs_mode = numpy.array(obs_mode)\n",
    "scan_num = numpy.array(scan_num)\n",
    "\n",
    "offmask = obs_mode == \"OFF\"\n",
    "offindex = numpy.where(offmask == True)\n",
    "\n",
    "hotmask = obs_mode == \"HOT\"\n",
    "hotindex = numpy.where(hotmask == True)\n",
    "\n",
    "onmask = obs_mode == \"ON\"\n",
    "onindex = numpy.where(onmask == True)\n",
    "\n",
    "max_scannum = numpy.max(scan_num)#Caution! scan num starts from 0, so scan number of 26 indicates 27 times scan"
   ]
  },
  {
   "cell_type": "code",
   "execution_count": 260,
   "metadata": {},
   "outputs": [
    {
     "data": {
      "image/png": "[encoded data removed]",
      "text/plain": [
       "<Figure size 432x288 with 1 Axes>"
      ]
     },
     "metadata": {},
     "output_type": "display_data"
    }
   ],
   "source": [
    "#一応indexの可視化\n",
    "plt.plot(offindex[0], [1]*len(offindex[0]),\".\" , label = \"off\")\n",
    "plt.plot(hotindex[0], [1]*len(hotindex[0]),\".\" , label = \"hot\")\n",
    "plt.plot(onindex[0], [1]*len(onindex[0]),\".\" , label = \"on\")\n",
    "plt.xlim(0,1000)\n",
    "plt.legend()\n",
    "plt.show()"
   ]
  },
  {
   "cell_type": "code",
   "execution_count": 261,
   "metadata": {},
   "outputs": [
    {
     "name": "stdout",
     "output_type": "stream",
     "text": [
      "[0 0 0 ... 9 9 9]\n"
     ]
    },
    {
     "data": {
      "image/png": "[encoded data removed]",
      "text/plain": [
       "<Figure size 432x288 with 1 Axes>"
      ]
     },
     "metadata": {},
     "output_type": "display_data"
    },
    {
     "data": {
      "image/png": "[encoded data removed]",
      "text/plain": [
       "<Figure size 432x288 with 1 Axes>"
      ]
     },
     "metadata": {},
     "output_type": "display_data"
    },
    {
     "data": {
      "image/png": "[encoded data removed]",
      "text/plain": [
       "<Figure size 432x288 with 1 Axes>"
      ]
     },
     "metadata": {},
     "output_type": "display_data"
    }
   ],
   "source": [
    "#OFF 点のscan number を取得\n",
    "scan_num = numpy.array(scan_num)\n",
    "print(scan_num)\n",
    "offindex[0]\n",
    "plt.plot(scan_num[offindex[0]])\n",
    "plt.grid()\n",
    "plt.show()\n",
    "\n",
    "#HOT 点のscan number を取得\n",
    "scan_num = numpy.array(scan_num)\n",
    "hotindex[0]\n",
    "plt.plot(scan_num[hotindex[0]])\n",
    "plt.grid()\n",
    "plt.show()\n",
    "\n",
    "# ON 点のscan number を取得\n",
    "scan_num = numpy.array(scan_num)\n",
    "plt.plot(scan_num[onindex[0]])\n",
    "plt.grid()\n",
    "plt.show()"
   ]
  },
  {
   "cell_type": "markdown",
   "metadata": {},
   "source": [
    "### hot/offの積分"
   ]
  },
  {
   "cell_type": "code",
   "execution_count": 262,
   "metadata": {},
   "outputs": [
    {
     "name": "stderr",
     "output_type": "stream",
     "text": [
      "100%|██████████| 1/1 [00:00<00:00, 220.25it/s]"
     ]
    },
    {
     "name": "stdout",
     "output_type": "stream",
     "text": [
      "[9]\n"
     ]
    },
    {
     "name": "stderr",
     "output_type": "stream",
     "text": [
      "\n"
     ]
    }
   ],
   "source": [
    "#HOT積分\n",
    "print(numpy.unique(scan_num[hotindex[0]]))#HOT のscan number\n",
    "hotnum = numpy.unique(scan_num[hotindex[0]])#HOTの数\n",
    "\n",
    "hotdata = []\n",
    "\n",
    "for i in tqdm(hotnum):#i = scan number\n",
    "    mask = scan_num == i#特定のscannumのindexを抜き出す\n",
    "    index = numpy.where(mask == True)#特定のscannumのindex変数\n",
    "   ### \n",
    "    c = numpy.in1d(index[0], hotindex[0])#特定のscannumのindex&HOT index\n",
    "    c = numpy.where(c == True)[0]\n",
    "    ###\n",
    "    mm = index[0][c]#scan numの値でフィルターしたhot\n",
    "    #print(mm)\n",
    "    ###積分\n",
    "    tmp = [array_data[j] for j in mm]\n",
    "    hotdata.append(sum(tmp)/len(tmp))\n",
    "    pass\n",
    "\n",
    "#下は擬似データの質が低いための処理。将来的に削除\n",
    "hotdata = numpy.array(hotdata)\n",
    "hotdata = hotdata + 5000"
   ]
  },
  {
   "cell_type": "code",
   "execution_count": 263,
   "metadata": {},
   "outputs": [
    {
     "name": "stderr",
     "output_type": "stream",
     "text": [
      "100%|██████████| 9/9 [00:00<00:00, 532.08it/s]"
     ]
    },
    {
     "name": "stdout",
     "output_type": "stream",
     "text": [
      "[0 1 2 3 4 5 6 7 8]\n"
     ]
    },
    {
     "name": "stderr",
     "output_type": "stream",
     "text": [
      "\n"
     ]
    }
   ],
   "source": [
    "##OFFの積分\n",
    "print(numpy.unique(scan_num[offindex[0]]))#HOT のscan number\n",
    "offnum = numpy.unique(scan_num[offindex[0]])#HOTの数\n",
    "\n",
    "offdata = []\n",
    "scan_num = numpy.array(scan_num)\n",
    "\n",
    "for i in tqdm(offnum):\n",
    "    mask = scan_num == i#特定のscannumのindexを抜き出す\n",
    "    index = numpy.where(mask == True)#特定のscannumのindex変数\n",
    "   ### \n",
    "    c = numpy.in1d(index[0], offindex[0])#特定のscannumのindex&HOT index\n",
    "    c = numpy.where(c == True)[0]#scannumとhotで絞ったindex\n",
    "    mm = index[0][c]#scan numの値でフィルターしたhot\n",
    "    tmp = [array_data[j] for j in mm]\n",
    "    offdata.append(sum(tmp)/len(tmp))"
   ]
  },
  {
   "cell_type": "markdown",
   "metadata": {},
   "source": [
    "Hot のデータはscan line分あるわけでないので補完\n",
    "Off もscan line 分ある観測プログラムしかないはずだが、一応補完\n",
    "\n",
    "補完の方法は次のOFF/HOTの点の観測を行うまでは直近のデータを採用する形"
   ]
  },
  {
   "cell_type": "code",
   "execution_count": 264,
   "metadata": {},
   "outputs": [
    {
     "name": "stderr",
     "output_type": "stream",
     "text": [
      "100%|██████████| 9/9 [00:00<00:00, 29172.13it/s]\n"
     ]
    }
   ],
   "source": [
    "d = numpy.unique(scan_num[hotindex[0]])#HOT のscan number\n",
    "hotdata_ = []\n",
    "count = 0\n",
    "\n",
    "for i in tqdm(range(max_scannum)):\n",
    "        #print(i,count)\n",
    "        if i == d[count]:\n",
    "            hotdata_.append(d[count])\n",
    "            count +=1\n",
    "        elif i < d[count]:\n",
    "            hotdata_.append(d[count])\n",
    "        else:#この例外には入らないはず\n",
    "            print(i)"
   ]
  },
  {
   "cell_type": "code",
   "execution_count": 265,
   "metadata": {},
   "outputs": [
    {
     "name": "stderr",
     "output_type": "stream",
     "text": [
      "100%|██████████| 9/9 [00:00<00:00, 12433.71it/s]\n"
     ]
    }
   ],
   "source": [
    "d = numpy.unique(scan_num[offindex[0]])#HOT のscan number\n",
    "offdata_ = []\n",
    "count = 0\n",
    "\n",
    "for i in tqdm(range(max_scannum)):\n",
    "        #print(i,count)\n",
    "        if i == d[count]:\n",
    "            offdata_.append(d[count])\n",
    "            count +=1\n",
    "        elif i < d[count]:\n",
    "            offdata_.append(d[count])\n",
    "        else:#この例外には入らないはず\n",
    "            print(i)"
   ]
  },
  {
   "cell_type": "code",
   "execution_count": 266,
   "metadata": {
    "collapsed": true
   },
   "outputs": [],
   "source": [
    "# ###Choper wheel\n",
    "\n",
    "@numba.jit\n",
    "def chopper_wheel(on_index, scan_num, temprature = 300):    \n",
    "    #scan_num = n[on_index][\"scan_num\"]\n",
    "    #Tastar = (array_data[on_index] - offdata[scan_num])/(hotdata[scan_num] - offdata[scan_num]) * temprature\n",
    "    Tastar = (array_data[on_index] - offdata[0])/(hotdata[0] - offdata[0]) * temprature#test, this will be deleted（追記：hotdataとoffdataの補完部分作ってないからかな？）\n",
    "    return Tastar\n",
    "\n",
    "def calc(i):#on点をscan indexでmaskしchopper wheelする\n",
    "    mask = scan_num == i#特定のscannumのindexを抜き出す\n",
    "    index = numpy.where(mask == True)#特定のscannumのindex変数\n",
    "    c = numpy.intersect1d(index[0], onindex[0])\n",
    "    return [[j, chopper_wheel(j, i)] for j in c]###j= index "
   ]
  },
  {
   "cell_type": "code",
   "execution_count": 267,
   "metadata": {},
   "outputs": [
    {
     "name": "stderr",
     "output_type": "stream",
     "text": [
      "100%|██████████| 10/10 [00:01<00:00,  7.18it/s]\n"
     ]
    }
   ],
   "source": [
    "ondata = [calc(i) for i in tqdm(range(max_scannum+1))]#Chopper Wheelしたやつ"
   ]
  },
  {
   "cell_type": "code",
   "execution_count": 268,
   "metadata": {},
   "outputs": [
    {
     "ename": "KeyError",
     "evalue": "4433",
     "output_type": "error",
     "traceback": [
      "\u001b[0;31m---------------------------------------------------------------------------\u001b[0m",
      "\u001b[0;31mKeyError\u001b[0m                                  Traceback (most recent call last)",
      "\u001b[0;32m<timed exec>\u001b[0m in \u001b[0;36m<module>\u001b[0;34m()\u001b[0m\n",
      "\u001b[0;31mKeyError\u001b[0m: 4433"
     ]
    }
   ],
   "source": [
    "%%time\n",
    "data_on = {ondata[i][j][0]:ondata[i][j][1] for i in range(len(ondata)) for j in range(len(ondata[i]))}###d[onindex] = onarray\n",
    "data_on[4433][16000] += 100000000\n",
    "print(data_on[4433][16000])"
   ]
  },
  {
   "cell_type": "code",
   "execution_count": 269,
   "metadata": {
    "collapsed": true
   },
   "outputs": [],
   "source": [
    "#距離による重みつけ関数１\n",
    "#sigma == ビームサイズ\n",
    "def gauss(x, a = 1, mu = 0, sigma = 160):\n",
    "    return a * numpy.exp(-(x - mu)**2 / (2*sigma**2))\n",
    "\n",
    "\n",
    "#距離による重みつけ関数2 関数系わからないので今はgaussianだけど修正\n",
    "def bessel_gauss(x, a = 1, mu = 0, sigma = 160):\n",
    "    return a * numpy.exp(-(x - mu)**2 / (2*sigma**2))\n",
    "\n",
    "#球面なのでRA方向の長さがDECで変わります。なのでRA-DEC平面での距離(角度)を出すには、RAをcos(DEC)で割る必要があります。\n",
    "def calc_distance(d1, d2):\n",
    "    #d1 = [ra, dec] #deg   \n",
    "    factor = 3600#こういうことしなくてもいいようにastropy unitを使う（要編集）\n",
    "    d1[0] = d1[0]*factor\n",
    "    d1[1] = d1[1]*factor\n",
    "    d2[0] = d2[0]*factor\n",
    "    d2[1] = d2[1]*factor\n",
    "    return ((d1[0] - d2[0])**2 + (d1[1] - d2[1])**2)**0.5\n",
    "\n",
    "def calc_rms(arr):\n",
    "    return numpy.sqrt(numpy.mean(arr**2))\n",
    "\n",
    "def rms_dist_weighting(arr, dist, rms):\n",
    "    return [arr*gauss(dist)*(rms**-2), gauss(dist)*(rms**-2)]"
   ]
  },
  {
   "cell_type": "markdown",
   "metadata": {},
   "source": [
    "## Baseline fitting"
   ]
  },
  {
   "cell_type": "code",
   "execution_count": 270,
   "metadata": {},
   "outputs": [
    {
     "name": "stderr",
     "output_type": "stream",
     "text": [
      "  3%|▎         | 30/939 [00:00<00:03, 293.11it/s]"
     ]
    },
    {
     "name": "stdout",
     "output_type": "stream",
     "text": [
      "3000 7500 8500 30000\n"
     ]
    },
    {
     "name": "stderr",
     "output_type": "stream",
     "text": [
      "100%|██████████| 939/939 [00:02<00:00, 341.12it/s]\n"
     ]
    }
   ],
   "source": [
    "#baseline fitting parameter\n",
    "center = 8000\n",
    "width = 1000\n",
    "start = 3000\n",
    "end = 30000\n",
    "\n",
    "#baseline fitting function\n",
    "def f(x, a, b, c):\n",
    "    return a*x**2 + b*x + c\n",
    "\n",
    "def  baseline_fitting(arr_x, arr_y, index1, index2, index3, index4):\n",
    "    tmpdata_y1 = arr_y[index1:index2]\n",
    "    tmpdata_y2 = arr_y[index3:index4]\n",
    "    tmpdata_x1 = arr_x[index1:index2]\n",
    "    tmpdata_x2 = arr_x[index3:index4]\n",
    "    x = numpy.concatenate([tmpdata_x1, tmpdata_x2])\n",
    "    y = numpy.concatenate([tmpdata_y1, tmpdata_y2])\n",
    "    param = numpy.polyfit(x, y, 2)\n",
    "    arr_y = arr_y - f(arr_x, *param)\n",
    "    return arr_y\n",
    "    \n",
    "#ch\n",
    "xindex = numpy.linspace(0, 32768, 32768)\n",
    "\n",
    "#baseline fitting index\n",
    "index1 = int(start)\n",
    "index2 = int(center - width/2)\n",
    "index3 = int(center + width/2)\n",
    "index4 = int(end)\n",
    "print(index1, index2, index3, index4)\n",
    "\n",
    "testoffset = numpy.linspace(1, 32768, 32768)\n",
    "\n",
    "for i in tqdm(data_on.keys()):\n",
    "    data_on[i] = data_on[i] + testoffset#ベースラインフィッティングできているかの確認のため\n",
    "    origin = data_on[i]#for debug, this will be deleted\n",
    "    data_on[i] = baseline_fitting(data_on[i], xindex, index1, index2, index3, index4)\n",
    "    \n",
    "    \n",
    "plt.plot(data_on[i], label=\"after chopper wheel\")#after chopper wheel\n",
    "plt.plot(origin, label=\"before chopper wheel\")#before chopper wheel\n",
    "plt.legend()\n",
    "plt.grid()"
   ]
  },
  {
   "cell_type": "code",
   "execution_count": 271,
   "metadata": {},
   "outputs": [
    {
     "data": {
      "image/png": "[encoded data removed]",
      "text/plain": [
       "<Figure size 432x288 with 1 Axes>"
      ]
     },
     "metadata": {},
     "output_type": "display_data"
    }
   ],
   "source": [
    "#plt.plot(data_on[i], label=\"after chopper wheel\")#after chopper wheel\n",
    "%matplotlib inline\n",
    "plt.plot(origin-testoffset, label=\"before chopper wheel\")#before chopper wheel\n",
    "plt.legend()\n",
    "plt.grid()"
   ]
  },
  {
   "cell_type": "markdown",
   "metadata": {},
   "source": [
    "## grid内のデータ探索\n",
    "\n",
    "あるgridに採用するデータのindexを求める"
   ]
  },
  {
   "cell_type": "code",
   "execution_count": 275,
   "metadata": {},
   "outputs": [
    {
     "name": "stderr",
     "output_type": "stream",
     "text": [
      "100%|██████████| 9/9 [00:00<00:00, 105.51it/s]"
     ]
    },
    {
     "name": "stdout",
     "output_type": "stream",
     "text": [
      "CPU times: user 0 ns, sys: 0 ns, total: 0 ns\n",
      "Wall time: 3.58 µs\n"
     ]
    },
    {
     "name": "stderr",
     "output_type": "stream",
     "text": [
      "\n"
     ]
    }
   ],
   "source": [
    "%time\n",
    "index_list = []\n",
    "for i in tqdm(range(max_scannum)):\n",
    "    for j in range(max_scannum):\n",
    "       # print(ragrid[i], decgrid[j])\n",
    "        index1 = numpy.where((ragrid[i]-(offset/3600)<xffts[0]) & ((ragrid[i] + (offset/3600)>xffts[0])))\n",
    "        index2 = numpy.where((decgrid[j]-(offset/3600)<xffts[1]) & ((decgrid[j] + (offset/3600)>xffts[1])))\n",
    "        index_ = [i in index2[0] for i in index1[0]]\n",
    "        index_ = numpy.array(index_)\n",
    "        index_1and2 = numpy.where(index_ == True)\n",
    "        index_1and2 = index1[0][index_1and2]\n",
    "        index_list.append(index_1and2)\n"
   ]
  },
  {
   "cell_type": "markdown",
   "metadata": {},
   "source": [
    "### xfftsデータの確認"
   ]
  },
  {
   "cell_type": "markdown",
   "metadata": {},
   "source": [
    "### データをgridに入れる"
   ]
  },
  {
   "cell_type": "markdown",
   "metadata": {},
   "source": [
    "本番はもう少し賢く書くけど、ひとまず"
   ]
  },
  {
   "cell_type": "code",
   "execution_count": 288,
   "metadata": {
    "scrolled": true
   },
   "outputs": [
    {
     "name": "stderr",
     "output_type": "stream",
     "text": [
      "100%|██████████| 9/9 [00:02<00:00,  3.53it/s]"
     ]
    },
    {
     "name": "stdout",
     "output_type": "stream",
     "text": [
      "CPU times: user 2.29 s, sys: 16 ms, total: 2.31 s\n",
      "Wall time: 2.48 s\n"
     ]
    },
    {
     "name": "stderr",
     "output_type": "stream",
     "text": [
      "\n"
     ]
    }
   ],
   "source": [
    "%%time\n",
    "#cubeデータの作成\n",
    "#data_c = numpy.zeros((31, 31, 32768))#(ra, dec, ch)\n",
    "#index_list2 = numpy.reshape(index_list, (31,31))#index listの2次元化（これは前処理しておく） #これは正しいか？\n",
    "data_c = numpy.zeros((max_scannum, max_scannum, 32768))#(ra, dec, ch)\n",
    "index_list2 = numpy.reshape(index_list, (max_scannum, max_scannum))#index listの2次元化（これは前処理しておく） #これは正しいか？\n",
    "\n",
    "## Chopper wheelしたデータをdatacubeに入れる\n",
    "for i in tqdm(range(max_scannum)):#ra\n",
    "    for j in range(max_scannum):#dec\n",
    "        try:\n",
    "            numerator_list = []#分子\n",
    "            denominator_list= []#分母\n",
    "            for k in index_list2[i][j]:\n",
    "                dist = calc_distance([ragrid[i], decgrid[j]], [xffts[0][k], xffts[1][k]])\n",
    "                rms = calc_rms(data_on[k])\n",
    "                weighted_data = rms_dist_weighting(data_on[k], dist, rms)\n",
    "                #weighted_data = rms_dist_weighting(data_on[k], dist, 1)###RMSがうまく動いているかの確認\n",
    "                numerator_list.append(weighted_data[0])\n",
    "                denominator_list.append(weighted_data[1])\n",
    "            data_c[i][j] = sum(numerator_list)/sum(denominator_list)\n",
    "        except Exception as e:\n",
    "            print(\"[{},{}], {}\".format(i,j,e), end = \"\")"
   ]
  },
  {
   "cell_type": "markdown",
   "metadata": {},
   "source": [
    "距離を考慮すると..."
   ]
  },
  {
   "cell_type": "markdown",
   "metadata": {
    "collapsed": true
   },
   "source": [
    "### astropyでfitsに書き出す"
   ]
  },
  {
   "cell_type": "code",
   "execution_count": 289,
   "metadata": {},
   "outputs": [
    {
     "name": "stdout",
     "output_type": "stream",
     "text": [
      "(32768, 9, 9)\n"
     ]
    }
   ],
   "source": [
    "#3軸の入れ替え。\n",
    "data_c = numpy.swapaxes(data_c, 0,2)\n",
    "print(numpy.shape(data_c))#軸の入れ替えの確認"
   ]
  },
  {
   "cell_type": "markdown",
   "metadata": {},
   "source": [
    "ヘッダーの作成"
   ]
  },
  {
   "cell_type": "code",
   "execution_count": 290,
   "metadata": {
    "collapsed": true
   },
   "outputs": [],
   "source": [
    "header_dict = {\n",
    "\"object\" : obsfile_dict[\"object\"],\n",
    "\"crval1\" : obsfile_dict[\"lambda_on\"],\n",
    "\"cdelt1\" : obsfile_dict[\"grid\"]/3600,\n",
    "\"crpix1\" : obsfile_dict[\"N\"]-1/2,#中心ピクセル\n",
    "\"crval2\" : obsfile_dict[\"beta_on\"],\n",
    "\"cdelt2\" : obsfile_dict[\"grid\"]/3600,\n",
    "\"crpix2\" : obsfile_dict[\"N\"]-1/2 #中心ピクセル\n",
    "}"
   ]
  },
  {
   "cell_type": "code",
   "execution_count": 291,
   "metadata": {
    "collapsed": true
   },
   "outputs": [],
   "source": [
    "temp = \"\"\"\n",
    "SIMPLE  =                    T                                                  \n",
    "BITPIX  =                  -64                                                  \n",
    "NAXIS   =                    3                                                  \n",
    "NAXIS1  =                  31                                                 \n",
    "NAXIS2  =                  31                                                 \n",
    "NAXIS3  =                   32768                                                  \n",
    "OBJECT  = '{object}              '                                                  \n",
    "TELESCOP= 'NANTEN2            '                                                  \n",
    "INSTRUME= 'MULT2-11          '                                                  \n",
    "OBSERVER= 'z7510rk           '                                                  \n",
    "DATE-OBS= '2007-12-30        '                                                  \n",
    "DATE-MAP= '2012-01-19        '                                                  \n",
    "BSCALE  =    0.10000000000E+01                                                  \n",
    "BZERO   =    0.00000000000E+01                                                  \n",
    "BUNIT   = 'K                 '                                                  \n",
    "EPOCH   =    0.20000000000E+04                                                  \n",
    "OBSRA   =    8.38104170000E+01                                                  \n",
    "OBSDEC  =   -5.37511100000E+00                                                  \n",
    "DATAMAX =    1.16774444580E+02                                                  \n",
    "DATAMIN =   -8.33924560547E+01                                                  \n",
    "CTYPE1  = 'RA---GLS          '                                                  \n",
    "CRVAL1  =    {crval1}                                                  \n",
    "CDELT1  =    {cdelt1}                                                  \n",
    "CRPIX1  =      {crpix1}\n",
    "CROTA1  =     0.0000000000E+00                                                  \n",
    "CTYPE2  = 'DEC--GLS          '                                                  \n",
    "CRVAL2  =   {crval2}                                                  \n",
    "CDELT2  =   {cdelt2}                                               \n",
    "CRPIX2  =     {crpix2}                                               \n",
    "CROTA2  =     0.0000000000E+00                                                  \n",
    "CTYPE3  = 'VELO-LSR          '                                                  \n",
    "CRVAL3  =    2.50000000000E+02                                                  \n",
    "CDELT3  =    5.00000000000E+02                                                  \n",
    "CRPIX3  =    1.00000000000E+00                                                  \n",
    "CROTA3  =    0.00000000000E+00                                                  \n",
    "BLANK   =   -1.00000000000E+00 \"\"\".format(**header_dict)"
   ]
  },
  {
   "cell_type": "code",
   "execution_count": 292,
   "metadata": {
    "collapsed": true
   },
   "outputs": [],
   "source": [
    "target_header = fits.Header.fromstring(temp, sep = \"\\n\")"
   ]
  },
  {
   "cell_type": "code",
   "execution_count": 293,
   "metadata": {},
   "outputs": [
    {
     "name": "stderr",
     "output_type": "stream",
     "text": [
      "WARNING: VerifyWarning: Invalid value for 'BLANK' keyword in header: -1.0 The 'BLANK' keyword must be an integer.  It will be ignored in the meantime. [astropy.io.fits.hdu.image]\n",
      "WARNING: VerifyWarning: Invalid 'BLANK' keyword in header.  The 'BLANK' keyword is only applicable to integer data, and will be ignored in this HDU. [astropy.io.fits.hdu.image]\n"
     ]
    }
   ],
   "source": [
    "#書き出し\n",
    "hdu = fits.PrimaryHDU(data_c, target_header)\n",
    "hdulist = fits.HDUList([hdu])\n",
    "hdulist.writeto(\"test4.fits\", overwrite = True)"
   ]
  },
  {
   "cell_type": "code",
   "execution_count": 294,
   "metadata": {},
   "outputs": [
    {
     "name": "stderr",
     "output_type": "stream",
     "text": [
      "WARNING: VerifyWarning: Invalid value for 'BLANK' keyword in header: -1.0 The 'BLANK' keyword must be an integer.  It will be ignored in the meantime. [astropy.io.fits.hdu.image]\n",
      "WARNING: VerifyWarning: Invalid 'BLANK' keyword in header.  The 'BLANK' keyword is only applicable to integer data, and will be ignored in this HDU. [astropy.io.fits.hdu.image]\n"
     ]
    }
   ],
   "source": [
    "##読み込み\n",
    "hdu_list = fits.open(\"test4.fits\")\n",
    "hdu_r = hdu_list[0]\n",
    "data = hdu_r.data\n",
    "header = hdu_r.header"
   ]
  },
  {
   "cell_type": "code",
   "execution_count": 295,
   "metadata": {},
   "outputs": [
    {
     "name": "stdout",
     "output_type": "stream",
     "text": [
      "required time : 3800.3916099071503\n"
     ]
    }
   ],
   "source": [
    "#解析にかかった時間を出すため\n",
    "print(\"required time : {}\".format(time.time() - start_time))"
   ]
  },
  {
   "cell_type": "code",
   "execution_count": 296,
   "metadata": {},
   "outputs": [
    {
     "data": {
      "application/vnd.jupyter.widget-view+json": {
       "model_id": "67cf0a27ef78447695385b39540bca9e",
       "version_major": 2,
       "version_minor": 0
      },
      "text/plain": [
       "A Jupyter Widget"
      ]
     },
     "metadata": {},
     "output_type": "display_data"
    },
    {
     "data": {
      "text/plain": [
       "<function __main__.plot>"
      ]
     },
     "execution_count": 296,
     "metadata": {},
     "output_type": "execute_result"
    }
   ],
   "source": [
    "#%matplotlib notebook\n",
    "%matplotlib inline\n",
    "from ipywidgets import interact\n",
    "\n",
    "def plot(i):\n",
    "    plt.figure(figsize=(8, 8))\n",
    "    plt.imshow(data[i].T, cmap = \"gist_rainbow\")\n",
    "    #plt.xlabel(\"ra\")\n",
    "    #plt.ylabel(\"dec\")\n",
    "    plt.show()\n",
    "\n",
    "\n",
    "interact(plot, i = (0,16000,1))"
   ]
  },
  {
   "cell_type": "code",
   "execution_count": 287,
   "metadata": {},
   "outputs": [
    {
     "data": {
      "text/html": [
       "\n",
       "    <div class=\"bk-root\">\n",
       "        <a href=\"https://bokeh.pydata.org\" target=\"_blank\" class=\"bk-logo bk-logo-small bk-logo-notebook\"></a>\n",
       "        <span id=\"d6aacb3e-6983-4e01-a715-ee0866135851\">Loading BokehJS ...</span>\n",
       "    </div>"
      ]
     },
     "metadata": {},
     "output_type": "display_data"
    },
    {
     "data": {
      "application/javascript": [
       "\n",
       "(function(root) {\n",
       "  function now() {\n",
       "    return new Date();\n",
       "  }\n",
       "\n",
       "  var force = true;\n",
       "\n",
       "  if (typeof (root._bokeh_onload_callbacks) === \"undefined\" || force === true) {\n",
       "    root._bokeh_onload_callbacks = [];\n",
       "    root._bokeh_is_loading = undefined;\n",
       "  }\n",
       "\n",
       "  var JS_MIME_TYPE = 'application/javascript';\n",
       "  var HTML_MIME_TYPE = 'text/html';\n",
       "  var EXEC_MIME_TYPE = 'application/vnd.bokehjs_exec.v0+json';\n",
       "  var CLASS_NAME = 'output_bokeh rendered_html';\n",
       "\n",
       "  /**\n",
       "   * Render data to the DOM node\n",
       "   */\n",
       "  function render(props, node) {\n",
       "    var script = document.createElement(\"script\");\n",
       "    node.appendChild(script);\n",
       "  }\n",
       "\n",
       "  /**\n",
       "   * Handle when an output is cleared or removed\n",
       "   */\n",
       "  function handleClearOutput(event, handle) {\n",
       "    var cell = handle.cell;\n",
       "\n",
       "    var id = cell.output_area._bokeh_element_id;\n",
       "    var server_id = cell.output_area._bokeh_server_id;\n",
       "    // Clean up Bokeh references\n",
       "    if (id !== undefined) {\n",
       "      Bokeh.index[id].model.document.clear();\n",
       "      delete Bokeh.index[id];\n",
       "    }\n",
       "\n",
       "    if (server_id !== undefined) {\n",
       "      // Clean up Bokeh references\n",
       "      var cmd = \"from bokeh.io.state import curstate; print(curstate().uuid_to_server['\" + server_id + \"'].get_sessions()[0].document.roots[0]._id)\";\n",
       "      cell.notebook.kernel.execute(cmd, {\n",
       "        iopub: {\n",
       "          output: function(msg) {\n",
       "            var element_id = msg.content.text.trim();\n",
       "            Bokeh.index[element_id].model.document.clear();\n",
       "            delete Bokeh.index[element_id];\n",
       "          }\n",
       "        }\n",
       "      });\n",
       "      // Destroy server and session\n",
       "      var cmd = \"import bokeh.io.notebook as ion; ion.destroy_server('\" + server_id + \"')\";\n",
       "      cell.notebook.kernel.execute(cmd);\n",
       "    }\n",
       "  }\n",
       "\n",
       "  /**\n",
       "   * Handle when a new output is added\n",
       "   */\n",
       "  function handleAddOutput(event, handle) {\n",
       "    var output_area = handle.output_area;\n",
       "    var output = handle.output;\n",
       "\n",
       "    // limit handleAddOutput to display_data with EXEC_MIME_TYPE content only\n",
       "    if ((output.output_type != \"display_data\") || (!output.data.hasOwnProperty(EXEC_MIME_TYPE))) {\n",
       "      return\n",
       "    }\n",
       "\n",
       "    var toinsert = output_area.element.find(`.${CLASS_NAME.split(' ')[0]}`);\n",
       "\n",
       "    if (output.metadata[EXEC_MIME_TYPE][\"id\"] !== undefined) {\n",
       "      toinsert[0].firstChild.textContent = output.data[JS_MIME_TYPE];\n",
       "      // store reference to embed id on output_area\n",
       "      output_area._bokeh_element_id = output.metadata[EXEC_MIME_TYPE][\"id\"];\n",
       "    }\n",
       "    if (output.metadata[EXEC_MIME_TYPE][\"server_id\"] !== undefined) {\n",
       "      var bk_div = document.createElement(\"div\");\n",
       "      bk_div.innerHTML = output.data[HTML_MIME_TYPE];\n",
       "      var script_attrs = bk_div.children[0].attributes;\n",
       "      for (var i = 0; i < script_attrs.length; i++) {\n",
       "        toinsert[0].firstChild.setAttribute(script_attrs[i].name, script_attrs[i].value);\n",
       "      }\n",
       "      // store reference to server id on output_area\n",
       "      output_area._bokeh_server_id = output.metadata[EXEC_MIME_TYPE][\"server_id\"];\n",
       "    }\n",
       "  }\n",
       "\n",
       "  function register_renderer(events, OutputArea) {\n",
       "\n",
       "    function append_mime(data, metadata, element) {\n",
       "      // create a DOM node to render to\n",
       "      var toinsert = this.create_output_subarea(\n",
       "        metadata,\n",
       "        CLASS_NAME,\n",
       "        EXEC_MIME_TYPE\n",
       "      );\n",
       "      this.keyboard_manager.register_events(toinsert);\n",
       "      // Render to node\n",
       "      var props = {data: data, metadata: metadata[EXEC_MIME_TYPE]};\n",
       "      render(props, toinsert[0]);\n",
       "      element.append(toinsert);\n",
       "      return toinsert\n",
       "    }\n",
       "\n",
       "    /* Handle when an output is cleared or removed */\n",
       "    events.on('clear_output.CodeCell', handleClearOutput);\n",
       "    events.on('delete.Cell', handleClearOutput);\n",
       "\n",
       "    /* Handle when a new output is added */\n",
       "    events.on('output_added.OutputArea', handleAddOutput);\n",
       "\n",
       "    /**\n",
       "     * Register the mime type and append_mime function with output_area\n",
       "     */\n",
       "    OutputArea.prototype.register_mime_type(EXEC_MIME_TYPE, append_mime, {\n",
       "      /* Is output safe? */\n",
       "      safe: true,\n",
       "      /* Index of renderer in `output_area.display_order` */\n",
       "      index: 0\n",
       "    });\n",
       "  }\n",
       "\n",
       "  // register the mime type if in Jupyter Notebook environment and previously unregistered\n",
       "  if (root.Jupyter !== undefined) {\n",
       "    var events = require('base/js/events');\n",
       "    var OutputArea = require('notebook/js/outputarea').OutputArea;\n",
       "\n",
       "    if (OutputArea.prototype.mime_types().indexOf(EXEC_MIME_TYPE) == -1) {\n",
       "      register_renderer(events, OutputArea);\n",
       "    }\n",
       "  }\n",
       "\n",
       "  \n",
       "  if (typeof (root._bokeh_timeout) === \"undefined\" || force === true) {\n",
       "    root._bokeh_timeout = Date.now() + 5000;\n",
       "    root._bokeh_failed_load = false;\n",
       "  }\n",
       "\n",
       "  var NB_LOAD_WARNING = {'data': {'text/html':\n",
       "     \"<div style='background-color: #fdd'>\\n\"+\n",
       "     \"<p>\\n\"+\n",
       "     \"BokehJS does not appear to have successfully loaded. If loading BokehJS from CDN, this \\n\"+\n",
       "     \"may be due to a slow or bad network connection. Possible fixes:\\n\"+\n",
       "     \"</p>\\n\"+\n",
       "     \"<ul>\\n\"+\n",
       "     \"<li>re-rerun `output_notebook()` to attempt to load from CDN again, or</li>\\n\"+\n",
       "     \"<li>use INLINE resources instead, as so:</li>\\n\"+\n",
       "     \"</ul>\\n\"+\n",
       "     \"<code>\\n\"+\n",
       "     \"from bokeh.resources import INLINE\\n\"+\n",
       "     \"output_notebook(resources=INLINE)\\n\"+\n",
       "     \"</code>\\n\"+\n",
       "     \"</div>\"}};\n",
       "\n",
       "  function display_loaded() {\n",
       "    var el = document.getElementById(\"d6aacb3e-6983-4e01-a715-ee0866135851\");\n",
       "    if (el != null) {\n",
       "      el.textContent = \"BokehJS is loading...\";\n",
       "    }\n",
       "    if (root.Bokeh !== undefined) {\n",
       "      if (el != null) {\n",
       "        el.textContent = \"BokehJS \" + root.Bokeh.version + \" successfully loaded.\";\n",
       "      }\n",
       "    } else if (Date.now() < root._bokeh_timeout) {\n",
       "      setTimeout(display_loaded, 100)\n",
       "    }\n",
       "  }\n",
       "\n",
       "\n",
       "  function run_callbacks() {\n",
       "    try {\n",
       "      root._bokeh_onload_callbacks.forEach(function(callback) { callback() });\n",
       "    }\n",
       "    finally {\n",
       "      delete root._bokeh_onload_callbacks\n",
       "    }\n",
       "    console.info(\"Bokeh: all callbacks have finished\");\n",
       "  }\n",
       "\n",
       "  function load_libs(js_urls, callback) {\n",
       "    root._bokeh_onload_callbacks.push(callback);\n",
       "    if (root._bokeh_is_loading > 0) {\n",
       "      console.log(\"Bokeh: BokehJS is being loaded, scheduling callback at\", now());\n",
       "      return null;\n",
       "    }\n",
       "    if (js_urls == null || js_urls.length === 0) {\n",
       "      run_callbacks();\n",
       "      return null;\n",
       "    }\n",
       "    console.log(\"Bokeh: BokehJS not loaded, scheduling load and callback at\", now());\n",
       "    root._bokeh_is_loading = js_urls.length;\n",
       "    for (var i = 0; i < js_urls.length; i++) {\n",
       "      var url = js_urls[i];\n",
       "      var s = document.createElement('script');\n",
       "      s.src = url;\n",
       "      s.async = false;\n",
       "      s.onreadystatechange = s.onload = function() {\n",
       "        root._bokeh_is_loading--;\n",
       "        if (root._bokeh_is_loading === 0) {\n",
       "          console.log(\"Bokeh: all BokehJS libraries loaded\");\n",
       "          run_callbacks()\n",
       "        }\n",
       "      };\n",
       "      s.onerror = function() {\n",
       "        console.warn(\"failed to load library \" + url);\n",
       "      };\n",
       "      console.log(\"Bokeh: injecting script tag for BokehJS library: \", url);\n",
       "      document.getElementsByTagName(\"head\")[0].appendChild(s);\n",
       "    }\n",
       "  };var element = document.getElementById(\"d6aacb3e-6983-4e01-a715-ee0866135851\");\n",
       "  if (element == null) {\n",
       "    console.log(\"Bokeh: ERROR: autoload.js configured with elementid 'd6aacb3e-6983-4e01-a715-ee0866135851' but no matching script tag was found. \")\n",
       "    return false;\n",
       "  }\n",
       "\n",
       "  var js_urls = [\"https://cdn.pydata.org/bokeh/release/bokeh-0.12.10.min.js\", \"https://cdn.pydata.org/bokeh/release/bokeh-widgets-0.12.10.min.js\", \"https://cdn.pydata.org/bokeh/release/bokeh-tables-0.12.10.min.js\", \"https://cdn.pydata.org/bokeh/release/bokeh-gl-0.12.10.min.js\"];\n",
       "\n",
       "  var inline_js = [\n",
       "    function(Bokeh) {\n",
       "      Bokeh.set_log_level(\"info\");\n",
       "    },\n",
       "    \n",
       "    function(Bokeh) {\n",
       "      \n",
       "    },\n",
       "    function(Bokeh) {\n",
       "      console.log(\"Bokeh: injecting CSS: https://cdn.pydata.org/bokeh/release/bokeh-0.12.10.min.css\");\n",
       "      Bokeh.embed.inject_css(\"https://cdn.pydata.org/bokeh/release/bokeh-0.12.10.min.css\");\n",
       "      console.log(\"Bokeh: injecting CSS: https://cdn.pydata.org/bokeh/release/bokeh-widgets-0.12.10.min.css\");\n",
       "      Bokeh.embed.inject_css(\"https://cdn.pydata.org/bokeh/release/bokeh-widgets-0.12.10.min.css\");\n",
       "      console.log(\"Bokeh: injecting CSS: https://cdn.pydata.org/bokeh/release/bokeh-tables-0.12.10.min.css\");\n",
       "      Bokeh.embed.inject_css(\"https://cdn.pydata.org/bokeh/release/bokeh-tables-0.12.10.min.css\");\n",
       "    }\n",
       "  ];\n",
       "\n",
       "  function run_inline_js() {\n",
       "    \n",
       "    if ((root.Bokeh !== undefined) || (force === true)) {\n",
       "      for (var i = 0; i < inline_js.length; i++) {\n",
       "        inline_js[i].call(root, root.Bokeh);\n",
       "      }if (force === true) {\n",
       "        display_loaded();\n",
       "      }} else if (Date.now() < root._bokeh_timeout) {\n",
       "      setTimeout(run_inline_js, 100);\n",
       "    } else if (!root._bokeh_failed_load) {\n",
       "      console.log(\"Bokeh: BokehJS failed to load within specified timeout.\");\n",
       "      root._bokeh_failed_load = true;\n",
       "    } else if (force !== true) {\n",
       "      var cell = $(document.getElementById(\"d6aacb3e-6983-4e01-a715-ee0866135851\")).parents('.cell').data().cell;\n",
       "      cell.output_area.append_execute_result(NB_LOAD_WARNING)\n",
       "    }\n",
       "\n",
       "  }\n",
       "\n",
       "  if (root._bokeh_is_loading === 0) {\n",
       "    console.log(\"Bokeh: BokehJS loaded, going straight to plotting\");\n",
       "    run_inline_js();\n",
       "  } else {\n",
       "    load_libs(js_urls, function() {\n",
       "      console.log(\"Bokeh: BokehJS plotting callback run at\", now());\n",
       "      run_inline_js();\n",
       "    });\n",
       "  }\n",
       "}(window));"
      ],
      "application/vnd.bokehjs_load.v0+json": "\n(function(root) {\n  function now() {\n    return new Date();\n  }\n\n  var force = true;\n\n  if (typeof (root._bokeh_onload_callbacks) === \"undefined\" || force === true) {\n    root._bokeh_onload_callbacks = [];\n    root._bokeh_is_loading = undefined;\n  }\n\n  \n\n  \n  if (typeof (root._bokeh_timeout) === \"undefined\" || force === true) {\n    root._bokeh_timeout = Date.now() + 5000;\n    root._bokeh_failed_load = false;\n  }\n\n  var NB_LOAD_WARNING = {'data': {'text/html':\n     \"<div style='background-color: #fdd'>\\n\"+\n     \"<p>\\n\"+\n     \"BokehJS does not appear to have successfully loaded. If loading BokehJS from CDN, this \\n\"+\n     \"may be due to a slow or bad network connection. Possible fixes:\\n\"+\n     \"</p>\\n\"+\n     \"<ul>\\n\"+\n     \"<li>re-rerun `output_notebook()` to attempt to load from CDN again, or</li>\\n\"+\n     \"<li>use INLINE resources instead, as so:</li>\\n\"+\n     \"</ul>\\n\"+\n     \"<code>\\n\"+\n     \"from bokeh.resources import INLINE\\n\"+\n     \"output_notebook(resources=INLINE)\\n\"+\n     \"</code>\\n\"+\n     \"</div>\"}};\n\n  function display_loaded() {\n    var el = document.getElementById(\"d6aacb3e-6983-4e01-a715-ee0866135851\");\n    if (el != null) {\n      el.textContent = \"BokehJS is loading...\";\n    }\n    if (root.Bokeh !== undefined) {\n      if (el != null) {\n        el.textContent = \"BokehJS \" + root.Bokeh.version + \" successfully loaded.\";\n      }\n    } else if (Date.now() < root._bokeh_timeout) {\n      setTimeout(display_loaded, 100)\n    }\n  }\n\n\n  function run_callbacks() {\n    try {\n      root._bokeh_onload_callbacks.forEach(function(callback) { callback() });\n    }\n    finally {\n      delete root._bokeh_onload_callbacks\n    }\n    console.info(\"Bokeh: all callbacks have finished\");\n  }\n\n  function load_libs(js_urls, callback) {\n    root._bokeh_onload_callbacks.push(callback);\n    if (root._bokeh_is_loading > 0) {\n      console.log(\"Bokeh: BokehJS is being loaded, scheduling callback at\", now());\n      return null;\n    }\n    if (js_urls == null || js_urls.length === 0) {\n      run_callbacks();\n      return null;\n    }\n    console.log(\"Bokeh: BokehJS not loaded, scheduling load and callback at\", now());\n    root._bokeh_is_loading = js_urls.length;\n    for (var i = 0; i < js_urls.length; i++) {\n      var url = js_urls[i];\n      var s = document.createElement('script');\n      s.src = url;\n      s.async = false;\n      s.onreadystatechange = s.onload = function() {\n        root._bokeh_is_loading--;\n        if (root._bokeh_is_loading === 0) {\n          console.log(\"Bokeh: all BokehJS libraries loaded\");\n          run_callbacks()\n        }\n      };\n      s.onerror = function() {\n        console.warn(\"failed to load library \" + url);\n      };\n      console.log(\"Bokeh: injecting script tag for BokehJS library: \", url);\n      document.getElementsByTagName(\"head\")[0].appendChild(s);\n    }\n  };var element = document.getElementById(\"d6aacb3e-6983-4e01-a715-ee0866135851\");\n  if (element == null) {\n    console.log(\"Bokeh: ERROR: autoload.js configured with elementid 'd6aacb3e-6983-4e01-a715-ee0866135851' but no matching script tag was found. \")\n    return false;\n  }\n\n  var js_urls = [\"https://cdn.pydata.org/bokeh/release/bokeh-0.12.10.min.js\", \"https://cdn.pydata.org/bokeh/release/bokeh-widgets-0.12.10.min.js\", \"https://cdn.pydata.org/bokeh/release/bokeh-tables-0.12.10.min.js\", \"https://cdn.pydata.org/bokeh/release/bokeh-gl-0.12.10.min.js\"];\n\n  var inline_js = [\n    function(Bokeh) {\n      Bokeh.set_log_level(\"info\");\n    },\n    \n    function(Bokeh) {\n      \n    },\n    function(Bokeh) {\n      console.log(\"Bokeh: injecting CSS: https://cdn.pydata.org/bokeh/release/bokeh-0.12.10.min.css\");\n      Bokeh.embed.inject_css(\"https://cdn.pydata.org/bokeh/release/bokeh-0.12.10.min.css\");\n      console.log(\"Bokeh: injecting CSS: https://cdn.pydata.org/bokeh/release/bokeh-widgets-0.12.10.min.css\");\n      Bokeh.embed.inject_css(\"https://cdn.pydata.org/bokeh/release/bokeh-widgets-0.12.10.min.css\");\n      console.log(\"Bokeh: injecting CSS: https://cdn.pydata.org/bokeh/release/bokeh-tables-0.12.10.min.css\");\n      Bokeh.embed.inject_css(\"https://cdn.pydata.org/bokeh/release/bokeh-tables-0.12.10.min.css\");\n    }\n  ];\n\n  function run_inline_js() {\n    \n    if ((root.Bokeh !== undefined) || (force === true)) {\n      for (var i = 0; i < inline_js.length; i++) {\n        inline_js[i].call(root, root.Bokeh);\n      }if (force === true) {\n        display_loaded();\n      }} else if (Date.now() < root._bokeh_timeout) {\n      setTimeout(run_inline_js, 100);\n    } else if (!root._bokeh_failed_load) {\n      console.log(\"Bokeh: BokehJS failed to load within specified timeout.\");\n      root._bokeh_failed_load = true;\n    } else if (force !== true) {\n      var cell = $(document.getElementById(\"d6aacb3e-6983-4e01-a715-ee0866135851\")).parents('.cell').data().cell;\n      cell.output_area.append_execute_result(NB_LOAD_WARNING)\n    }\n\n  }\n\n  if (root._bokeh_is_loading === 0) {\n    console.log(\"Bokeh: BokehJS loaded, going straight to plotting\");\n    run_inline_js();\n  } else {\n    load_libs(js_urls, function() {\n      console.log(\"Bokeh: BokehJS plotting callback run at\", now());\n      run_inline_js();\n    });\n  }\n}(window));"
     },
     "metadata": {},
     "output_type": "display_data"
    },
    {
     "data": {
      "text/html": [
       "\n",
       "<div class=\"bk-root\">\n",
       "    <div class=\"bk-plotdiv\" id=\"33c658e1-e412-48c6-890b-2dbf75e8a5cf\"></div>\n",
       "</div>"
      ]
     },
     "metadata": {},
     "output_type": "display_data"
    },
    {
     "data": {
      "application/javascript": [
       "(function(root) {\n",
       "  function embed_document(root) {\n",
       "    var docs_json = {\"8731adb2-199c-4472-a476-2a75e7d4139d\":{\"roots\":{\"references\":[{\"attributes\":{\"plot\":{\"id\":\"2b0ca493-52e4-4d8e-bc73-3c883d1742f1\",\"subtype\":\"Figure\",\"type\":\"Plot\"},\"ticker\":{\"id\":\"4e491b1f-9881-40c6-8131-1f0f83bfe27a\",\"type\":\"BasicTicker\"}},\"id\":\"4bed1027-1fc8-424f-a461-cd5327ea77ae\",\"type\":\"Grid\"},{\"attributes\":{\"data_source\":{\"id\":\"d3607a59-c0fb-4d88-bd9c-0c435b0f121e\",\"type\":\"ColumnDataSource\"},\"glyph\":{\"id\":\"b75ca120-9f0d-4962-9807-fa6fdbbe6b35\",\"type\":\"Image\"},\"hover_glyph\":null,\"muted_glyph\":null,\"nonselection_glyph\":{\"id\":\"d7b3a877-a329-42d1-9c9c-989528c9bf64\",\"type\":\"Image\"},\"selection_glyph\":null,\"view\":{\"id\":\"f6b63a8f-397e-4be2-bed8-cf5f59ad1795\",\"type\":\"CDSView\"}},\"id\":\"ba77eaa2-665f-4bd5-8189-cb6899acfad9\",\"type\":\"GlyphRenderer\"},{\"attributes\":{},\"id\":\"a077cd39-b8b1-40a0-9069-2764f811878f\",\"type\":\"LinearScale\"},{\"attributes\":{},\"id\":\"84d9ff68-1470-4534-a3db-edc92bf95830\",\"type\":\"BasicTicker\"},{\"attributes\":{},\"id\":\"3ec63a13-be8a-446a-8519-d48fbc753a6c\",\"type\":\"WheelZoomTool\"},{\"attributes\":{\"palette\":[\"#0C0786\",\"#40039C\",\"#6A00A7\",\"#8F0DA3\",\"#B02A8F\",\"#CA4678\",\"#E06461\",\"#F1824C\",\"#FCA635\",\"#FCCC25\",\"#EFF821\"]},\"id\":\"ed4e48de-2b4e-4cd9-b05f-b401d3e5bc3d\",\"type\":\"LinearColorMapper\"},{\"attributes\":{\"overlay\":{\"id\":\"04ba6c7d-fdca-4036-ab1c-24a810f92034\",\"type\":\"BoxAnnotation\"}},\"id\":\"8a6cd0f2-a031-4a94-8cf6-e57f6bd95b39\",\"type\":\"BoxZoomTool\"},{\"attributes\":{},\"id\":\"e7688285-649e-425e-8b56-e6976c3d0340\",\"type\":\"SaveTool\"},{\"attributes\":{},\"id\":\"c642141d-5826-4326-a427-59bf304282cd\",\"type\":\"ResetTool\"},{\"attributes\":{\"callback\":null},\"id\":\"92da4186-1aa8-482f-8c8e-2b6067030dfa\",\"type\":\"DataRange1d\"},{\"attributes\":{},\"id\":\"a657697f-9ae4-43ca-883f-cd9788aa693a\",\"type\":\"HelpTool\"},{\"attributes\":{\"color_mapper\":{\"id\":\"4a4783f6-f114-4b01-bd0b-fe34fa0016df\",\"type\":\"LinearColorMapper\"},\"dh\":{\"units\":\"data\",\"value\":31},\"dw\":{\"units\":\"data\",\"value\":31},\"image\":{\"field\":\"image\"},\"x\":{\"value\":0},\"y\":{\"value\":0}},\"id\":\"d7b3a877-a329-42d1-9c9c-989528c9bf64\",\"type\":\"Image\"},{\"attributes\":{\"active_drag\":\"auto\",\"active_inspect\":\"auto\",\"active_scroll\":\"auto\",\"active_tap\":\"auto\",\"tools\":[{\"id\":\"4d0e91f7-7d6a-4ae3-ad7b-596d138d9ae2\",\"type\":\"PanTool\"},{\"id\":\"3ec63a13-be8a-446a-8519-d48fbc753a6c\",\"type\":\"WheelZoomTool\"},{\"id\":\"8a6cd0f2-a031-4a94-8cf6-e57f6bd95b39\",\"type\":\"BoxZoomTool\"},{\"id\":\"e7688285-649e-425e-8b56-e6976c3d0340\",\"type\":\"SaveTool\"},{\"id\":\"c642141d-5826-4326-a427-59bf304282cd\",\"type\":\"ResetTool\"},{\"id\":\"a657697f-9ae4-43ca-883f-cd9788aa693a\",\"type\":\"HelpTool\"}]},\"id\":\"1ca24840-48c0-40ab-af7e-a5d9c6ec3de0\",\"type\":\"Toolbar\"},{\"attributes\":{},\"id\":\"04abbf2b-1d5d-4507-aea5-fbd7173d0f18\",\"type\":\"BasicTickFormatter\"},{\"attributes\":{},\"id\":\"f8a3fe0b-1889-4804-99b1-c191f49948f5\",\"type\":\"LinearScale\"},{\"attributes\":{\"source\":{\"id\":\"d3607a59-c0fb-4d88-bd9c-0c435b0f121e\",\"type\":\"ColumnDataSource\"}},\"id\":\"f6b63a8f-397e-4be2-bed8-cf5f59ad1795\",\"type\":\"CDSView\"},{\"attributes\":{\"dimension\":1,\"plot\":{\"id\":\"2b0ca493-52e4-4d8e-bc73-3c883d1742f1\",\"subtype\":\"Figure\",\"type\":\"Plot\"},\"ticker\":{\"id\":\"84d9ff68-1470-4534-a3db-edc92bf95830\",\"type\":\"BasicTicker\"}},\"id\":\"c1609342-2360-49cb-ae5c-d9535a5c4d78\",\"type\":\"Grid\"},{\"attributes\":{\"formatter\":{\"id\":\"04abbf2b-1d5d-4507-aea5-fbd7173d0f18\",\"type\":\"BasicTickFormatter\"},\"plot\":{\"id\":\"2b0ca493-52e4-4d8e-bc73-3c883d1742f1\",\"subtype\":\"Figure\",\"type\":\"Plot\"},\"ticker\":{\"id\":\"4e491b1f-9881-40c6-8131-1f0f83bfe27a\",\"type\":\"BasicTicker\"}},\"id\":\"e1cdd054-b28f-47cb-86d8-1c030f7929bf\",\"type\":\"LinearAxis\"},{\"attributes\":{\"plot\":null,\"text\":\"\"},\"id\":\"003f8344-b608-4047-8b49-65964dcc4b0d\",\"type\":\"Title\"},{\"attributes\":{},\"id\":\"4e491b1f-9881-40c6-8131-1f0f83bfe27a\",\"type\":\"BasicTicker\"},{\"attributes\":{},\"id\":\"2e2bad9a-5b85-4edc-b08f-cf3c82b489e9\",\"type\":\"BasicTickFormatter\"},{\"attributes\":{\"formatter\":{\"id\":\"2e2bad9a-5b85-4edc-b08f-cf3c82b489e9\",\"type\":\"BasicTickFormatter\"},\"plot\":{\"id\":\"2b0ca493-52e4-4d8e-bc73-3c883d1742f1\",\"subtype\":\"Figure\",\"type\":\"Plot\"},\"ticker\":{\"id\":\"84d9ff68-1470-4534-a3db-edc92bf95830\",\"type\":\"BasicTicker\"}},\"id\":\"81fb41b6-5847-4acb-8daf-905cfc8fb75b\",\"type\":\"LinearAxis\"},{\"attributes\":{\"callback\":null,\"column_names\":[\"image\"],\"data\":{\"image\":[[[5.491860838545087,19.885211309068467,4.77541390689918,19.82724728691243,17.029746502511593,12.688653733903271,17.298806435761186,4.081320754074518,4.895975369725049],[-2.0362535346869595,11.275952049323125,1.5494963107785735,10.710678688872079,9.481350325006462,3.5447005912595935,4.7016898761053545,-2.5845084394251128,8.346298978374826],[-1.3157839439922887,3.187522063212439,-3.909870869639434,8.461583708964033,7.466158018769298,4.252603358442685,4.537287791829601,-0.5974515701496327,5.22675831154568],[-0.4016780567805703,-0.4115531674315844,-5.163774787762698,5.18964730584495,4.775047873267491,2.064338641253844,4.721067103864055,0.7267766035590293,8.87689732143219],[2.258853898714205,-0.513250325036178,-5.423262415216221,3.920506873825151,6.449652840406284,3.9878800315339396,3.3460754584331167,3.4058093819780413,12.52117145332678],[-0.8393460140720319,-6.123212812856618,-12.874338360479895,-4.2964958572405365,2.1976006916113753,1.2187639343430914,-0.2527520395542717,4.440884882220066,9.535296495483681],[6.953265668353379,-3.49186024782902,-4.345442880846627,-1.0778697505194572,2.932014694403664,-0.40526612419311175,-2.459162397292443,2.9105174074640656,4.745927336361355],[8.06566930827044,-0.5369654070466249,-4.5845939360636425,0.8309139851512105,5.970297785624093,3.968499943507387,3.3372102843056632,7.299407139107792,1.3298571977245286],[16.2303030910423,8.0979922112007,-1.307170841852074,-0.6821633733997047,5.184479804835835,1.9100067127815337,0.6711386833188113,6.49678638332257,2.106508249077326]]]}},\"id\":\"d3607a59-c0fb-4d88-bd9c-0c435b0f121e\",\"type\":\"ColumnDataSource\"},{\"attributes\":{\"bottom_units\":\"screen\",\"fill_alpha\":{\"value\":0.5},\"fill_color\":{\"value\":\"lightgrey\"},\"left_units\":\"screen\",\"level\":\"overlay\",\"line_alpha\":{\"value\":1.0},\"line_color\":{\"value\":\"black\"},\"line_dash\":[4,4],\"line_width\":{\"value\":2},\"plot\":null,\"render_mode\":\"css\",\"right_units\":\"screen\",\"top_units\":\"screen\"},\"id\":\"04ba6c7d-fdca-4036-ab1c-24a810f92034\",\"type\":\"BoxAnnotation\"},{\"attributes\":{\"color_mapper\":{\"id\":\"ed4e48de-2b4e-4cd9-b05f-b401d3e5bc3d\",\"type\":\"LinearColorMapper\"},\"dh\":{\"units\":\"data\",\"value\":31},\"dw\":{\"units\":\"data\",\"value\":31},\"image\":{\"field\":\"image\"},\"x\":{\"value\":0},\"y\":{\"value\":0}},\"id\":\"b75ca120-9f0d-4962-9807-fa6fdbbe6b35\",\"type\":\"Image\"},{\"attributes\":{\"palette\":[\"#0C0786\",\"#40039C\",\"#6A00A7\",\"#8F0DA3\",\"#B02A8F\",\"#CA4678\",\"#E06461\",\"#F1824C\",\"#FCA635\",\"#FCCC25\",\"#EFF821\"]},\"id\":\"4a4783f6-f114-4b01-bd0b-fe34fa0016df\",\"type\":\"LinearColorMapper\"},{\"attributes\":{\"below\":[{\"id\":\"e1cdd054-b28f-47cb-86d8-1c030f7929bf\",\"type\":\"LinearAxis\"}],\"left\":[{\"id\":\"81fb41b6-5847-4acb-8daf-905cfc8fb75b\",\"type\":\"LinearAxis\"}],\"renderers\":[{\"id\":\"e1cdd054-b28f-47cb-86d8-1c030f7929bf\",\"type\":\"LinearAxis\"},{\"id\":\"4bed1027-1fc8-424f-a461-cd5327ea77ae\",\"type\":\"Grid\"},{\"id\":\"81fb41b6-5847-4acb-8daf-905cfc8fb75b\",\"type\":\"LinearAxis\"},{\"id\":\"c1609342-2360-49cb-ae5c-d9535a5c4d78\",\"type\":\"Grid\"},{\"id\":\"04ba6c7d-fdca-4036-ab1c-24a810f92034\",\"type\":\"BoxAnnotation\"},{\"id\":\"ba77eaa2-665f-4bd5-8189-cb6899acfad9\",\"type\":\"GlyphRenderer\"}],\"title\":{\"id\":\"003f8344-b608-4047-8b49-65964dcc4b0d\",\"type\":\"Title\"},\"toolbar\":{\"id\":\"1ca24840-48c0-40ab-af7e-a5d9c6ec3de0\",\"type\":\"Toolbar\"},\"x_range\":{\"id\":\"92da4186-1aa8-482f-8c8e-2b6067030dfa\",\"type\":\"DataRange1d\"},\"x_scale\":{\"id\":\"a077cd39-b8b1-40a0-9069-2764f811878f\",\"type\":\"LinearScale\"},\"y_range\":{\"id\":\"b69768f3-77b8-48bf-8d88-a876332da104\",\"type\":\"DataRange1d\"},\"y_scale\":{\"id\":\"f8a3fe0b-1889-4804-99b1-c191f49948f5\",\"type\":\"LinearScale\"}},\"id\":\"2b0ca493-52e4-4d8e-bc73-3c883d1742f1\",\"subtype\":\"Figure\",\"type\":\"Plot\"},{\"attributes\":{},\"id\":\"4d0e91f7-7d6a-4ae3-ad7b-596d138d9ae2\",\"type\":\"PanTool\"},{\"attributes\":{\"callback\":null},\"id\":\"b69768f3-77b8-48bf-8d88-a876332da104\",\"type\":\"DataRange1d\"}],\"root_ids\":[\"2b0ca493-52e4-4d8e-bc73-3c883d1742f1\"]},\"title\":\"Bokeh Application\",\"version\":\"0.12.10\"}};\n",
       "    var render_items = [{\"docid\":\"8731adb2-199c-4472-a476-2a75e7d4139d\",\"elementid\":\"33c658e1-e412-48c6-890b-2dbf75e8a5cf\",\"modelid\":\"2b0ca493-52e4-4d8e-bc73-3c883d1742f1\"}];\n",
       "\n",
       "    root.Bokeh.embed.embed_items(docs_json, render_items);\n",
       "  }\n",
       "\n",
       "  if (root.Bokeh !== undefined) {\n",
       "    embed_document(root);\n",
       "  } else {\n",
       "    var attempts = 0;\n",
       "    var timer = setInterval(function(root) {\n",
       "      if (root.Bokeh !== undefined) {\n",
       "        embed_document(root);\n",
       "        clearInterval(timer);\n",
       "      }\n",
       "      attempts++;\n",
       "      if (attempts > 100) {\n",
       "        console.log(\"Bokeh: ERROR: Unable to embed document because BokehJS library is missing\")\n",
       "        clearInterval(timer);\n",
       "      }\n",
       "    }, 10, root)\n",
       "  }\n",
       "})(window);"
      ],
      "application/vnd.bokehjs_exec.v0+json": ""
     },
     "metadata": {
      "application/vnd.bokehjs_exec.v0+json": {
       "id": "2b0ca493-52e4-4d8e-bc73-3c883d1742f1"
      }
     },
     "output_type": "display_data"
    }
   ],
   "source": [
    "#bokeh  使い方あんまかしわからん\n",
    "from bokeh.plotting import figure\n",
    "from bokeh.io import show, output_notebook\n",
    "\n",
    "output_notebook()\n",
    "plt1 = figure()\n",
    "rend1 = plt1.image(image=[data[16000]], x=0, y=0, dw =31, dh=31, palette=\"Plasma11\")\n",
    "\n",
    "show(plt1)"
   ]
  },
  {
   "cell_type": "code",
   "execution_count": null,
   "metadata": {
    "collapsed": true
   },
   "outputs": [],
   "source": [
    "numpy.max(data)"
   ]
  },
  {
   "cell_type": "code",
   "execution_count": null,
   "metadata": {
    "collapsed": true
   },
   "outputs": [],
   "source": [
    "numpy.where(data > 213)"
   ]
  },
  {
   "cell_type": "code",
   "execution_count": null,
   "metadata": {
    "collapsed": true
   },
   "outputs": [],
   "source": []
  },
  {
   "cell_type": "code",
   "execution_count": null,
   "metadata": {
    "collapsed": true
   },
   "outputs": [],
   "source": []
  }
 ],
 "metadata": {
  "kernelspec": {
   "display_name": "Python 3",
   "language": "python",
   "name": "python3"
  },
  "language_info": {
   "codemirror_mode": {
    "name": "ipython",
    "version": 3
   },
   "file_extension": ".py",
   "mimetype": "text/x-python",
   "name": "python",
   "nbconvert_exporter": "python",
   "pygments_lexer": "ipython3",
   "version": "3.6.3"
  },
  "widgets": {
   "state": {
    "69cef02b5de64cd28537b73db5eaafe1": {
     "views": [
      {
       "cell_index": 46
      }
     ]
    },
    "a1def446d82c496b9beef01c766bc416": {
     "views": [
      {
       "cell_index": 46
      }
     ]
    },
    "c8da718324cb4a21bc4082d13c81de6b": {
     "views": [
      {
       "cell_index": 46
      }
     ]
    }
   },
   "version": "1.2.0"
  }
 },
 "nbformat": 4,
 "nbformat_minor": 2
}
