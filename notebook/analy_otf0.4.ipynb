{
 "cells": [
  {
   "cell_type": "markdown",
   "metadata": {},
   "source": [
    "### 観測データ\n",
    "解析に必要なデータ\n",
    "- XFFTS data\n",
    "- Encoder data\n",
    "- weather status\n",
    "- hosei copy\n",
    "- obs copy\n",
    "\n",
    "中間生成データ\n",
    "- encoder npy\n",
    "- xffts npy\n",
    "- vobs npy\n",
    "\n",
    "### 解析フロー\n",
    "\n",
    "- doppler tracking[o]\n",
    "     - XFFTSのtimestampとRa, Decの情報からvobsを計算します。\n",
    "     - vobsの量だけchをずらします。(小数chのずれは線形補完で計算してずらします)\n",
    "- Chopper Wheel [o]\n",
    "- baseline fitting [o]\n",
    "- Scaling(from standard object?) [x]\n",
    "- regrid [o]\n",
    "    - rms [o]\n",
    "    - distance [o]\n",
    "- +header [o]\n",
    "- 3d-fits[o]"
   ]
  },
  {
   "cell_type": "markdown",
   "metadata": {},
   "source": []
  },
  {
   "cell_type": "code",
   "execution_count": 64,
   "metadata": {
    "collapsed": true
   },
   "outputs": [],
   "source": [
    "import sys\n",
    "sys.path.append(\"../script/\")\n",
    "import time\n",
    "import subprocess\n",
    "import os\n",
    "import numpy\n",
    "import matplotlib.pyplot as plt\n",
    "from tqdm import tqdm\n",
    "from joblib import Parallel, delayed\n",
    "import numba\n",
    "from astropy.io import fits\n",
    "from scipy import interpolate\n",
    "import glob\n",
    "###以下独自\n",
    "import n2df\n",
    "import read_obsfile\n",
    "import analy_doppler_nanten\n",
    "import log_weather"
   ]
  },
  {
   "cell_type": "code",
   "execution_count": 65,
   "metadata": {},
   "outputs": [
    {
     "data": {
      "text/plain": [
       "['enc.db',\n",
       " 'encoder_radec.npy',\n",
       " 'hosei_230.txt',\n",
       " 'line_otf_OriKL_dcosy.obs',\n",
       " 'test20190905.fits',\n",
       " 'test20190906.fits',\n",
       " 'test20190906_v2.fits',\n",
       " 'test20190906_v3.fits',\n",
       " 'test20190906_v5.fits',\n",
       " 'test20190906_v6.fits',\n",
       " 'test20190906_v8.fits',\n",
       " 'test20190906_v.fits',\n",
       " 'test4.fits',\n",
       " 'vobs.npy',\n",
       " 'weather.csv',\n",
       " 'xffts.ndf',\n",
       " 'xffts_radec.npy']"
      ]
     },
     "execution_count": 65,
     "metadata": {},
     "output_type": "execute_result"
    }
   ],
   "source": [
    "analy_dir = \"/home/amigos/data/otf_2019/n20190904142646_12CO_2-1_otf_OriKL\"#新形式\n",
    "subprocess.getoutput([\"ls {}\".format(analy_dir)]).split(\"\\n\")"
   ]
  },
  {
   "cell_type": "code",
   "execution_count": 66,
   "metadata": {},
   "outputs": [
    {
     "name": "stdout",
     "output_type": "stream",
     "text": [
      "      timestamp     intemp    outtemp    inhumi   outhumi     winddir  \\\n",
      "0  1.567607e+09  15.165850  16.762726  1.233124  8.473565  268.908455   \n",
      "1  1.567607e+09  14.549850  16.380080  1.769449  8.764045  268.062679   \n",
      "2  1.567607e+09  14.352203  16.540349  1.371281  8.939968  268.232077   \n",
      "3  1.567607e+09  14.832550  16.516944  1.410851  8.499712  268.703383   \n",
      "4  1.567607e+09  15.014435  16.310218  1.383554  8.001146  268.403536   \n",
      "5  1.567607e+09  15.227496  16.502959  1.787469  8.020369  268.405620   \n",
      "6  1.567607e+09  14.941033  16.210031  1.054588  8.859497  268.497477   \n",
      "7  1.567607e+09  15.312008  16.305998  1.351483  8.623849  268.810436   \n",
      "8  1.567607e+09  14.806064  16.560436  1.701079  8.045723  268.784821   \n",
      "\n",
      "     windsp       press      rain  cabin_temp1  cabin_temp2  dome_temp1  \\\n",
      "0  6.788000  570.449484  0.367690    21.823577    31.744922    9.926390   \n",
      "1  6.283264  570.372420  0.431126    22.097574    32.098455   10.393100   \n",
      "2  5.868241  570.252858  0.744092    21.718747    32.531729   10.370442   \n",
      "3  6.016072  570.951161  0.479151    21.558676    32.319791   10.109734   \n",
      "4  5.875769  570.777552  0.459905    21.649836    32.417581   10.423639   \n",
      "5  5.916638  570.559643  0.481345    21.541441    32.293974   10.283336   \n",
      "6  6.412787  570.431062  0.277319    21.958664    31.698598   10.251249   \n",
      "7  5.855934  570.883870  0.048053    22.246497    31.605057   10.066899   \n",
      "8  6.597547  570.383483  0.792339    21.917709    32.086713   10.318847   \n",
      "\n",
      "   dome_temp2  gen_temp1  gen_temp2  scan_num  obs_mode  \n",
      "0   13.016132  10.722852  12.988488         0       NaN  \n",
      "1   13.242731   9.990005  13.703775         1       NaN  \n",
      "2   13.012921  10.170233  13.631688         2       NaN  \n",
      "3   13.131695  10.289689  13.343448         3       NaN  \n",
      "4   13.569433   9.956268  13.324624         4       NaN  \n",
      "5   13.192073  10.381206  13.880711         5       NaN  \n",
      "6   13.650977  10.054828  13.343051         6       NaN  \n",
      "7   13.193483  10.461166  12.980832         7       NaN  \n",
      "8   13.786313  10.677168  13.704803         8       NaN  \n"
     ]
    }
   ],
   "source": [
    "###気象情報の読み込み\n",
    "weather_data = log_weather.Weather_log(os.path.join(analy_dir, \"weather.csv\")).read()\n",
    "print(weather_data)\n",
    "#気象データの確認\n",
    "humi = numpy.mean(weather_data[\"outhumi\"])\n",
    "press = numpy.mean(weather_data[\"press\"])\n",
    "temprature = numpy.mean(weather_data[\"outtemp\"])\n",
    "lamda = 1300\n",
    "cabin_temp = weather_data[\"cabin_temp1\"] + 273"
   ]
  },
  {
   "cell_type": "code",
   "execution_count": 67,
   "metadata": {},
   "outputs": [
    {
     "name": "stdout",
     "output_type": "stream",
     "text": [
      "CPU times: user 0 ns, sys: 0 ns, total: 0 ns\n",
      "Wall time: 309 µs\n"
     ]
    }
   ],
   "source": [
    "%%time\n",
    "if not os.path.exists(os.path.join(analy_dir, \"xffts_radec.npy\")):\n",
    "    cmd = \"python /home/amigos/git/analy_n2data/script/analy_coordinates.py {analy_dir} -p {press} -l {lamda} -hu  {humi} -t {temprature}\".format(**locals())\n",
    "    subprocess.run(cmd.split())"
   ]
  },
  {
   "cell_type": "code",
   "execution_count": 68,
   "metadata": {
    "collapsed": true
   },
   "outputs": [],
   "source": [
    "###AzEl情報をradecに変換したものの一時ファイルの読み込み\n",
    "path_xffts_c = os.path.join(analy_dir, \"xffts_radec.npy\")\n",
    "path_encoder_c = os.path.join(analy_dir, \"encoder_radec.npy\")\n",
    "xffts = numpy.load(path_xffts_c)\n",
    "encoder = numpy.load(path_encoder_c)"
   ]
  },
  {
   "cell_type": "markdown",
   "metadata": {},
   "source": [
    "### gridの作成\n"
   ]
  },
  {
   "cell_type": "code",
   "execution_count": 69,
   "metadata": {
    "collapsed": true
   },
   "outputs": [],
   "source": [
    "#観測プログラムから必要な情報を出す\n",
    "obspath = glob.glob(analy_dir+\"/*obs\")\n",
    "obs = read_obsfile.read(obspath[0])\n",
    "lamda_on = obs[\"lambda_on\"]\n",
    "beta_on = obs[\"beta_on\"]\n",
    "N = obs[\"N\"]\n",
    "grid = obs[\"grid\"]/3600 #[deg]"
   ]
  },
  {
   "cell_type": "code",
   "execution_count": 70,
   "metadata": {},
   "outputs": [
    {
     "data": {
      "text/plain": [
       "{'N': 9,\n",
       " 'acc': 10,\n",
       " 'beta_off': -5.6683,\n",
       " 'beta_on': -5.37432,\n",
       " 'betdel_off': 0,\n",
       " 'cold_flag': 'N',\n",
       " 'coordsys': 'j2000',\n",
       " 'cosydel': 'j2000',\n",
       " 'datanum': 9.0,\n",
       " 'end_ch_1': 16383,\n",
       " 'end_ch_2': 16383,\n",
       " 'exposure': 0.6,\n",
       " 'exposure_off': 10.0,\n",
       " 'fpga_integtime': 100,\n",
       " 'grid': 30,\n",
       " 'if1st_freq_1': 4438.0,\n",
       " 'if1st_freq_2': 5701.3,\n",
       " 'if3rd_freq_1': 500.0,\n",
       " 'if3rd_freq_2': 500.0,\n",
       " 'lambda_off': 82.559,\n",
       " 'lambda_on': 83.80613,\n",
       " 'lamdel_off': 0,\n",
       " 'lamp_pixels': 4,\n",
       " 'lo1st_sb_1': 'U',\n",
       " 'lo1st_sb_2': 'L',\n",
       " 'lo2nd_sb_1': 'L',\n",
       " 'lo2nd_sb_2': 'L',\n",
       " 'lo3rd_freq_1': 4100.0,\n",
       " 'lo3rd_freq_2': 4100.0,\n",
       " 'lo3rd_sb_1': 'L',\n",
       " 'lo3rd_sb_2': 'L',\n",
       " 'load_interval': 5,\n",
       " 'molecule_1': '12CO',\n",
       " 'molecule_2': '13CO',\n",
       " 'multiple': 12,\n",
       " 'nTest': 1,\n",
       " 'object': 'OriKL',\n",
       " 'observer': 'amigos',\n",
       " 'obsfreq_1': 230538.0,\n",
       " 'obsfreq_2': 220398.684,\n",
       " 'obsmode': 'LINEOTF',\n",
       " 'offset_Az': 0,\n",
       " 'offset_El': 0,\n",
       " 'otadel': 'N',\n",
       " 'otadel_off': 'N',\n",
       " 'otflen': 5.4,\n",
       " 'otfvel': 50.0,\n",
       " 'pllharmonic': 1,\n",
       " 'pllref_if': 1,\n",
       " 'pllreffreq': 0,\n",
       " 'pllsideband': -1,\n",
       " 'purpose': 2,\n",
       " 'restfreq_1': 230538.0,\n",
       " 'restfreq_2': 220398.684,\n",
       " 'scan_direction': 0,\n",
       " 'start_ch_1': 0,\n",
       " 'start_ch_2': 0,\n",
       " 'start_pos_x': -120.0,\n",
       " 'start_pos_y': -120.0,\n",
       " 'transiti_1': 'J=2-1',\n",
       " 'transiti_2': 'J=2-1',\n",
       " 'tsys': 0,\n",
       " 'tuning_vlsr': 0.0,\n",
       " 'vlsr': 0.0}"
      ]
     },
     "execution_count": 70,
     "metadata": {},
     "output_type": "execute_result"
    }
   ],
   "source": [
    "obs"
   ]
  },
  {
   "cell_type": "code",
   "execution_count": 71,
   "metadata": {
    "collapsed": true
   },
   "outputs": [],
   "source": [
    "#今回girdからどこまで離れた範囲まで解析の中に含めるかの値。これは外からいじれる値にしておかないと\n",
    "offset = 80#半径[arcsec]\n",
    "array_num = 2#1~16IF "
   ]
  },
  {
   "cell_type": "code",
   "execution_count": 72,
   "metadata": {},
   "outputs": [
    {
     "data": {
      "text/plain": [
       "(2, 9, 9)"
      ]
     },
     "execution_count": 72,
     "metadata": {},
     "output_type": "execute_result"
    }
   ],
   "source": [
    "#make gird\n",
    "ragrid = numpy.linspace(lamda_on - ((N-1)/2)*grid, lamda_on + ((N-1)/2)*grid, num=9)\n",
    "decgrid = numpy.linspace(beta_on - ((N-1)/2)*grid, beta_on + ((N-1)/2)*grid, num=9)\n",
    "radec_grid = numpy.meshgrid(ragrid, decgrid)\n",
    "numpy.shape(radec_grid)"
   ]
  },
  {
   "cell_type": "code",
   "execution_count": 73,
   "metadata": {},
   "outputs": [
    {
     "data": {
      "image/png": "[encoded data removed]",
      "text/plain": [
       "<Figure size 432x288 with 1 Axes>"
      ]
     },
     "metadata": {},
     "output_type": "display_data"
    }
   ],
   "source": [
    "#gridの確認\n",
    "#girdとXFFTSの点がずれている。\n",
    "plt.plot(radec_grid[0], radec_grid[1], \".\")\n",
    "plt.plot(lamda_on, beta_on, \"*\")\n",
    "plt.plot(xffts[0], xffts[1])\n",
    "#plt.plot(encoder[0], encoder[1], \".\")\n",
    "plt.xlim(83.6, 83.9)\n",
    "plt.ylim(-5.45, -5.3)\n",
    "plt.savefig(\"neko.pdf\")\n",
    "plt.grid()\n",
    "plt.show()\n",
    "\n",
    "### なんで線と点がずれているんだ？"
   ]
  },
  {
   "cell_type": "code",
   "execution_count": 74,
   "metadata": {},
   "outputs": [
    {
     "name": "stderr",
     "output_type": "stream",
     "text": [
      "100%|██████████| 2146/2146 [00:00<00:00, 16868.78it/s]\n",
      "100%|██████████| 2146/2146 [00:00<00:00, 421630.90it/s]\n",
      "100%|██████████| 2146/2146 [00:00<00:00, 296299.18it/s]"
     ]
    },
    {
     "name": "stdout",
     "output_type": "stream",
     "text": [
      "CPU times: user 40 ms, sys: 92 ms, total: 132 ms\n",
      "Wall time: 153 ms\n"
     ]
    },
    {
     "name": "stderr",
     "output_type": "stream",
     "text": [
      "\n"
     ]
    }
   ],
   "source": [
    "%%time\n",
    "#分光データの読み出し\n",
    "n = n2df.Read(os.path.join(analy_dir, \"xffts.ndf\"))\n",
    "array_data = n.read_onearray(array_num)#1IFの分光データ\n",
    "obs_mode = n.read_obs_mode()#観測モード（ON/OFF/HOT）\n",
    "scan_num = n.read_scan_num()#スキャンライン（0,1,2,3,4,...）\n",
    "###array_data, scan_num, obs_mode = n.read_for_otf(1)#3分くらいかかた"
   ]
  },
  {
   "cell_type": "markdown",
   "metadata": {},
   "source": [
    "## doppler tracking\n"
   ]
  },
  {
   "cell_type": "code",
   "execution_count": 75,
   "metadata": {
    "scrolled": true
   },
   "outputs": [
    {
     "name": "stdout",
     "output_type": "stream",
     "text": [
      " vobs.npy already exists\n"
     ]
    }
   ],
   "source": [
    "if not os.path.exists(os.path.join(analy_dir, \"vobs.npy\")):\n",
    "    from numpy import deg2rad\n",
    "    d = analy_doppler_nanten.doppler_nanten()\n",
    "    vobs = [d.calc_vobs(deg2rad(xffts[0][i]),deg2rad(xffts[1][i]), xffts[2][i]) for i in tqdm(range(len(xffts[0])))]\n",
    "    numpy.save(os.path.join(analy_dir, \"vobs\"), vobs)\n",
    "    # joblib version\n",
    "    #vobs = Parallel(n_jobs=-1, verbose=2)([delayed(d.calc_vobs(deg2rad(xffts[0][i]), deg2rad(xffts[1][i]), xffts[2][i])) for i in tqdm(range(len(xffts[0])))])\n",
    "else:\n",
    "    print(\" vobs.npy already exists\")"
   ]
  },
  {
   "cell_type": "code",
   "execution_count": 76,
   "metadata": {
    "scrolled": true
   },
   "outputs": [
    {
     "name": "stderr",
     "output_type": "stream",
     "text": [
      "  2%|▏         | 38/2146 [00:00<00:05, 374.07it/s]"
     ]
    },
    {
     "name": "stdout",
     "output_type": "stream",
     "text": [
      "vobsは全て正\n"
     ]
    },
    {
     "name": "stderr",
     "output_type": "stream",
     "text": [
      "100%|██████████| 2146/2146 [00:05<00:00, 413.81it/s]\n",
      "  0%|          | 0/2146 [00:00<?, ?it/s]"
     ]
    },
    {
     "name": "stdout",
     "output_type": "stream",
     "text": [
      "[-1272. -1271. -1270. ... 31491. 31492. 31493.] 32766\n"
     ]
    },
    {
     "name": "stderr",
     "output_type": "stream",
     "text": [
      "100%|██████████| 2146/2146 [00:00<00:00, 11293.10it/s]\n"
     ]
    },
    {
     "data": {
      "text/plain": [
       "(2146, 32766)"
      ]
     },
     "execution_count": 76,
     "metadata": {},
     "output_type": "execute_result"
    }
   ],
   "source": [
    "vobs = numpy.load(os.path.join(analy_dir, \"./vobs.npy\"))\n",
    "vobs += 5\n",
    "# For debug\n",
    "if numpy.count_nonzero(vobs>0) == len(vobs):\n",
    "    print(\"vobsは全て正\")\n",
    "elif numpy.count_nonzero(vobs<0) == len(vobs):\n",
    "    print(\"vobsは全て負\")\n",
    "else:\n",
    "    print(\"vobsは正も負もある\")\n",
    "\n",
    "# config\n",
    "dv = 0.167#km/s\n",
    "ch = numpy.linspace(0, 32767, 32768)\n",
    "bch = list(map(int, vobs//dv))#ch数の移動\n",
    "slide_ch = (vobs/dv) - bch#interpolationによる移動量\n",
    "\n",
    "dp_data = []\n",
    "xx_data = []\n",
    "for i in tqdm(range(len(vobs))):\n",
    "    f = interpolate.interp1d(ch, array_data[i])\n",
    "    ch2 = ch+slide_ch[i]\n",
    "    if slide_ch[i] > 0:\n",
    "        n = f(ch2[:-1])\n",
    "    elif slide_ch[i] <0:\n",
    "        n = f(ch2[1:])\n",
    "    new_p = n\n",
    "    xx = ch[:-1] - bch[i]\n",
    "    yy = new_p\n",
    "    xx_data.append(xx)\n",
    "    dp_data.append(yy)\n",
    "    \n",
    "xx_data = numpy.array(xx_data)\n",
    "xx_min = numpy.max(xx_data.T[0])#regridの最小値\n",
    "xx_max = numpy.min(xx_data.T[-1])#regirdの最大値\n",
    "\n",
    "new_xx = numpy.arange(xx_min, xx_max+1, 1)\n",
    "print(new_xx, len(new_xx))\n",
    "vlen = len(new_xx)\n",
    "\n",
    "mask_list= []\n",
    "for i in range(len(xx_data)):\n",
    "    mask = (xx_data[i] >= xx_min) & (xx_data[i] <= xx_max)\n",
    "    mask_list.append(mask)\n",
    "    \n",
    "new_yy_list = []\n",
    "for i in tqdm(range(len(xx_data))):\n",
    "    new_yy_list.append(dp_data[i][mask_list[i]])\n",
    "    \n",
    "len(new_xx)\n",
    "origin_array_data = array_data\n",
    "array_data = new_yy_list\n",
    "numpy.shape(array_data)"
   ]
  },
  {
   "cell_type": "code",
   "execution_count": 77,
   "metadata": {},
   "outputs": [
    {
     "data": {
      "text/plain": [
       "(8000, 8100)"
      ]
     },
     "execution_count": 77,
     "metadata": {},
     "output_type": "execute_result"
    },
    {
     "data": {
      "image/png": "[encoded data removed]",
      "text/plain": [
       "<Figure size 432x288 with 1 Axes>"
      ]
     },
     "metadata": {},
     "output_type": "display_data"
    }
   ],
   "source": [
    "%matplotlib inline\n",
    "plt.plot(new_yy_list[0], label=\"interpolate\")\n",
    "plt.plot(origin_array_data[0], label=\"original\")\n",
    "plt.legend()\n",
    "plt.grid()\n",
    "plt.ylim(7000,8300)\n",
    "plt.xlim(8000,8100)\n",
    "#plt.ylim(7100, 7200)\n"
   ]
  },
  {
   "cell_type": "markdown",
   "metadata": {},
   "source": [
    "on/off/hot indexの整理"
   ]
  },
  {
   "cell_type": "code",
   "execution_count": 78,
   "metadata": {
    "collapsed": true
   },
   "outputs": [],
   "source": [
    "###index探し\n",
    "obs_mode = numpy.array(obs_mode)\n",
    "scan_num = numpy.array(scan_num)\n",
    "\n",
    "offmask = obs_mode == \"OFF\"\n",
    "offindex = numpy.where(offmask == True)\n",
    "\n",
    "hotmask = obs_mode == \"HOT\"\n",
    "hotindex = numpy.where(hotmask == True)\n",
    "\n",
    "onmask = obs_mode == \"ON\"\n",
    "onindex = numpy.where(onmask == True)\n",
    "\n",
    "max_scannum = numpy.max(scan_num)#Caution! scan num starts from 0, so scan number of 26 indicates 27 times scan"
   ]
  },
  {
   "cell_type": "code",
   "execution_count": 79,
   "metadata": {},
   "outputs": [
    {
     "data": {
      "image/png": "[encoded data removed]",
      "text/plain": [
       "<Figure size 432x288 with 1 Axes>"
      ]
     },
     "metadata": {},
     "output_type": "display_data"
    }
   ],
   "source": [
    "#一応indexの可視化\n",
    "plt.plot(offindex[0], [1]*len(offindex[0]),\".\" , label = \"off\")\n",
    "plt.plot(hotindex[0], [1]*len(hotindex[0]),\".\" , label = \"hot\")\n",
    "plt.plot(onindex[0], [1]*len(onindex[0]),\".\" , label = \"on\")\n",
    "# plt.xlim(0,1000)\n",
    "plt.legend()\n",
    "plt.show()"
   ]
  },
  {
   "cell_type": "code",
   "execution_count": 80,
   "metadata": {},
   "outputs": [
    {
     "name": "stdout",
     "output_type": "stream",
     "text": [
      "[0 0 0 ... 9 9 9]\n"
     ]
    },
    {
     "data": {
      "image/png": "[encoded data removed]",
      "text/plain": [
       "<Figure size 432x288 with 1 Axes>"
      ]
     },
     "metadata": {},
     "output_type": "display_data"
    },
    {
     "data": {
      "image/png": "[encoded data removed]",
      "text/plain": [
       "<Figure size 432x288 with 1 Axes>"
      ]
     },
     "metadata": {},
     "output_type": "display_data"
    },
    {
     "data": {
      "image/png": "[encoded data removed]",
      "text/plain": [
       "<Figure size 432x288 with 1 Axes>"
      ]
     },
     "metadata": {},
     "output_type": "display_data"
    }
   ],
   "source": [
    "#OFF 点のscan number を取得\n",
    "scan_num = numpy.array(scan_num)\n",
    "print(scan_num)\n",
    "offindex[0]\n",
    "plt.plot(scan_num[offindex[0]])\n",
    "plt.grid()\n",
    "plt.show()\n",
    "\n",
    "#HOT 点のscan number を取得\n",
    "scan_num = numpy.array(scan_num)\n",
    "hotindex[0]\n",
    "plt.plot(scan_num[hotindex[0]])\n",
    "plt.grid()\n",
    "plt.show()\n",
    "\n",
    "# ON 点のscan number を取得\n",
    "scan_num = numpy.array(scan_num)\n",
    "plt.plot(scan_num[onindex[0]])\n",
    "plt.grid()\n",
    "plt.show()"
   ]
  },
  {
   "cell_type": "markdown",
   "metadata": {},
   "source": [
    "### hot/offの積分"
   ]
  },
  {
   "cell_type": "code",
   "execution_count": 18,
   "metadata": {},
   "outputs": [
    {
     "data": {
      "text/plain": [
       "2146"
      ]
     },
     "execution_count": 18,
     "metadata": {},
     "output_type": "execute_result"
    }
   ],
   "source": [
    "len(array_data)"
   ]
  },
  {
   "cell_type": "code",
   "execution_count": 19,
   "metadata": {},
   "outputs": [
    {
     "name": "stderr",
     "output_type": "stream",
     "text": [
      "100%|██████████| 2/2 [00:00<00:00, 209.09it/s]"
     ]
    },
    {
     "name": "stdout",
     "output_type": "stream",
     "text": [
      "[0 9]\n",
      "[ 0  1  2  3  4  5  6  7  8  9 10 11 12 13 14 15 16 17 18 19 20 21 22 23\n",
      " 24 25 26 27 28 29 30 31 32 33 34 35 36 37 38 39 40 41 42 43 44 45 46 47\n",
      " 48 49 50 51 52 53 54 55 56 57 58 59 60 61 62 63 64 65 66 67 68 69 70 71\n",
      " 72 73 74 75 76 77 78 79 80 81 82 83 84 85 86 87 88]\n",
      "[2048 2049 2050 2051 2052 2053 2054 2055 2056 2057 2058 2059 2060 2061\n",
      " 2062 2063 2064 2065 2066 2067 2068 2069 2070 2071 2072 2073 2074 2075\n",
      " 2076 2077 2078 2079 2080 2081 2082 2083 2084 2085 2086 2087 2088 2089\n",
      " 2090 2091 2092 2093 2094 2095 2096 2097 2098 2099 2100 2101 2102 2103\n",
      " 2104 2105 2106 2107 2108 2109 2110 2111 2112 2113 2114 2115 2116 2117\n",
      " 2118 2119 2120 2121 2122 2123 2124 2125 2126 2127 2128 2129 2130 2131\n",
      " 2132 2133 2134 2135 2136 2137 2138 2139 2140 2141 2142 2143 2144 2145]\n"
     ]
    },
    {
     "name": "stderr",
     "output_type": "stream",
     "text": [
      "\n"
     ]
    }
   ],
   "source": [
    "#HOT積分\n",
    "print(numpy.unique(scan_num[hotindex[0]]))#HOT のscan number\n",
    "hotnum = numpy.unique(scan_num[hotindex[0]])#HOTの数\n",
    "\n",
    "hotdata = []\n",
    "\n",
    "for i in tqdm(hotnum):#i = scan number\n",
    "    mask = scan_num == i#特定のscannumのindexを抜き出す\n",
    "    index = numpy.where(mask == True)#特定のscannumのindex変数\n",
    "   ### \n",
    "    c = numpy.in1d(index[0], hotindex[0])#特定のscannumのindex&HOT index\n",
    "    c = numpy.where(c == True)[0]\n",
    "    ###\n",
    "    mm = index[0][c]#scan numの値でフィルターしたhot\n",
    "    print(mm)\n",
    "    ###積分\n",
    "    tmp = [array_data[j] for j in mm]\n",
    "    hotdata.append(sum(tmp)/len(tmp))\n",
    "    pass\n"
   ]
  },
  {
   "cell_type": "code",
   "execution_count": 20,
   "metadata": {},
   "outputs": [
    {
     "name": "stderr",
     "output_type": "stream",
     "text": [
      "100%|██████████| 9/9 [00:00<00:00, 345.92it/s]"
     ]
    },
    {
     "name": "stdout",
     "output_type": "stream",
     "text": [
      "[0 1 2 3 4 5 6 7 8]\n"
     ]
    },
    {
     "name": "stderr",
     "output_type": "stream",
     "text": [
      "\n"
     ]
    }
   ],
   "source": [
    "##OFFの積分\n",
    "print(numpy.unique(scan_num[offindex[0]]))#HOT のscan number\n",
    "offnum = numpy.unique(scan_num[offindex[0]])#HOTの数\n",
    "\n",
    "offdata = []\n",
    "scan_num = numpy.array(scan_num)\n",
    "\n",
    "for i in tqdm(offnum):\n",
    "    mask = scan_num == i#特定のscannumのindexを抜き出す\n",
    "    index = numpy.where(mask == True)#特定のscannumのindex変数\n",
    "   ### \n",
    "    c = numpy.in1d(index[0], offindex[0])#特定のscannumのindex&HOT index\n",
    "    c = numpy.where(c == True)[0]#scannumとhotで絞ったindex\n",
    "    mm = index[0][c]#scan numの値でフィルターしたhot\n",
    "    tmp = [array_data[j] for j in mm]\n",
    "    offdata.append(sum(tmp)/len(tmp))"
   ]
  },
  {
   "cell_type": "markdown",
   "metadata": {},
   "source": [
    "Hot のデータはscan line分あるわけでないので補完\n",
    "Off もscan line 分ある観測プログラムしかないはずだが、一応補完\n",
    "\n",
    "補完の方法は次のOFF/HOTの点の観測を行うまでは直近のデータを採用する形"
   ]
  },
  {
   "cell_type": "code",
   "execution_count": 21,
   "metadata": {},
   "outputs": [
    {
     "name": "stderr",
     "output_type": "stream",
     "text": [
      "100%|██████████| 9/9 [00:00<00:00, 29285.29it/s]\n"
     ]
    }
   ],
   "source": [
    "d = numpy.unique(scan_num[hotindex[0]])#HOT のscan number\n",
    "hotdata_ = []\n",
    "count = 0\n",
    "\n",
    "for i in tqdm(range(max_scannum)):\n",
    "        #print(i,count, d[count])\n",
    "        if i == d[count]:\n",
    "            hotdata_.append(d[count])\n",
    "            count +=1\n",
    "        elif i < d[count]:\n",
    "            hotdata_.append(d[count-1])\n",
    "        else:#この例外には入らないはず\n",
    "            print(i)"
   ]
  },
  {
   "cell_type": "code",
   "execution_count": 22,
   "metadata": {},
   "outputs": [
    {
     "name": "stderr",
     "output_type": "stream",
     "text": [
      "100%|██████████| 9/9 [00:00<00:00, 47602.44it/s]\n"
     ]
    }
   ],
   "source": [
    "d = numpy.unique(scan_num[offindex[0]])#HOT のscan number\n",
    "offdata_ = []\n",
    "count = 0\n",
    "\n",
    "for i in tqdm(range(max_scannum)):\n",
    "        #print(i,count)\n",
    "        if i == d[count]:\n",
    "            offdata_.append(d[count])\n",
    "            count +=1\n",
    "        elif i < d[count]:\n",
    "            offdata_.append(d[count-1])\n",
    "        else:#この例外には入らないはず\n",
    "            print(i)"
   ]
  },
  {
   "cell_type": "code",
   "execution_count": 23,
   "metadata": {},
   "outputs": [
    {
     "data": {
      "text/plain": [
       "[0, 0, 0, 0, 0, 0, 0, 0, 0]"
      ]
     },
     "execution_count": 23,
     "metadata": {},
     "output_type": "execute_result"
    }
   ],
   "source": [
    "hotdata_"
   ]
  },
  {
   "cell_type": "code",
   "execution_count": 127,
   "metadata": {},
   "outputs": [
    {
     "name": "stdout",
     "output_type": "stream",
     "text": [
      "0\n",
      "(10, 32766)\n"
     ]
    },
    {
     "data": {
      "image/png": "[encoded data removed]",
      "text/plain": [
       "<Figure size 432x288 with 1 Axes>"
      ]
     },
     "metadata": {},
     "output_type": "display_data"
    }
   ],
   "source": [
    "#hot の新しいやり方\n",
    "d = numpy.unique(scan_num[hotindex[0]])#HOT のscan number\n",
    "n_hotdata = []\n",
    "for i in range(len(d)-1):\n",
    "    print(i)\n",
    "    a = (hotdata[i+1] - hotdata[i])/(d[i+1] - d[i])\n",
    "    a = numpy.array(a)\n",
    "    b = d[i+1] -d[i]\n",
    "    x = numpy.linspace(0,b,b+1)\n",
    "    for j in x:\n",
    "        n_hotdata.append(a*j + hotdata[i])\n",
    "    \n",
    "\n",
    "n_hotdata = numpy.array(n_hotdata)\n",
    "#plt.plot(n_hotdata.T[3])\n",
    "print(numpy.shape(n_hotdata))\n",
    "%matplotlib inline\n",
    "plt.plot(n_hotdata.T[1000:1010])\n",
    "plt.show()"
   ]
  },
  {
   "cell_type": "code",
   "execution_count": 81,
   "metadata": {
    "collapsed": true
   },
   "outputs": [],
   "source": [
    "# ###Choper wheel\n",
    "\n",
    "@numba.jit\n",
    "def chopper_wheel(on_index, scan_num, temprature = 300):    \n",
    "    #scan_num = n[on_index][\"scan_num\"]\n",
    "    Tastar = (array_data[on_index] - offdata[offdata_[scan_num]])/(hotdata[hotdata_[scan_num]] - offdata[offdata_[scan_num]]) * temprature\n",
    "    #Tastar = (array_data[on_index] - offdata[0])/(hotdata[0] - offdata[0]) * temprature#test, this will be deleted（hotdata, offdata[0]しかつかってない！）\n",
    "    return Tastar\n",
    "\n",
    "def calc(i):#on点をscan indexでmaskしchopper wheelする\n",
    "    mask = scan_num == i#特定のscannumのindexを抜き出す\n",
    "    index = numpy.where(mask == True)#特定のscannumのindex変数\n",
    "    c = numpy.intersect1d(index[0], onindex[0])\n",
    "    return [[j, chopper_wheel(j, i, cabin_temp[i])] for j in c]###j= index "
   ]
  },
  {
   "cell_type": "code",
   "execution_count": 82,
   "metadata": {},
   "outputs": [
    {
     "name": "stderr",
     "output_type": "stream",
     "text": [
      "100%|██████████| 10/10 [00:01<00:00,  6.50it/s]\n"
     ]
    }
   ],
   "source": [
    "ondata = [calc(i) for i in tqdm(range(max_scannum+1))]#Chopper Wheelしたやつ"
   ]
  },
  {
   "cell_type": "code",
   "execution_count": 26,
   "metadata": {},
   "outputs": [
    {
     "name": "stdout",
     "output_type": "stream",
     "text": [
      "CPU times: user 0 ns, sys: 0 ns, total: 0 ns\n",
      "Wall time: 192 µs\n"
     ]
    }
   ],
   "source": [
    "%%time\n",
    "data_on = {ondata[i][j][0]:ondata[i][j][1] for i in range(len(ondata)) for j in range(len(ondata[i]))}###d[onindex] = onarray"
   ]
  },
  {
   "cell_type": "code",
   "execution_count": 27,
   "metadata": {
    "collapsed": true
   },
   "outputs": [],
   "source": [
    "#距離による重みつけ関数１\n",
    "#sigma == ビームサイズ\n",
    "def gauss(x, a = 1, mu = 0, sigma = 160):\n",
    "    return a * numpy.exp(-(x - mu)**2 / (2*sigma**2))\n",
    "\n",
    "\n",
    "#距離による重みつけ関数2 関数系わからないので今はgaussianだけど修正\n",
    "def bessel_gauss(x, a = 1, mu = 0, sigma = 160):\n",
    "    return a * numpy.exp(-(x - mu)**2 / (2*sigma**2))\n",
    "\n",
    "#球面なのでRA方向の長さがDECで変わります。なのでRA-DEC平面での距離(角度)を出すには、RAをcos(DEC)で割る必要があります。\n",
    "def calc_distance(d1, d2):\n",
    "    #d1 = [ra, dec] #deg   \n",
    "    factor = 3600#こういうことしなくてもいいようにastropy unitを使う（要編集）\n",
    "    d1[0] = d1[0]*factor\n",
    "    d1[1] = d1[1]*factor\n",
    "    d2[0] = d2[0]*factor\n",
    "    d2[1] = d2[1]*factor\n",
    "    return ((d1[0] - d2[0])**2 + (d1[1] - d2[1])**2)**0.5\n",
    "\n",
    "def calc_rms(arr):\n",
    "    return numpy.sqrt(numpy.mean(arr**2))\n",
    "\n",
    "def rms_dist_weighting(arr, dist, rms):\n",
    "    return [arr*gauss(dist)*(rms**-2), gauss(dist)*(rms**-2)]"
   ]
  },
  {
   "cell_type": "markdown",
   "metadata": {},
   "source": [
    "## Baseline fitting"
   ]
  },
  {
   "cell_type": "code",
   "execution_count": 28,
   "metadata": {},
   "outputs": [
    {
     "name": "stderr",
     "output_type": "stream",
     "text": [
      "  3%|▎         | 39/1145 [00:00<00:02, 384.83it/s]"
     ]
    },
    {
     "name": "stdout",
     "output_type": "stream",
     "text": [
      "3000 7500 8500 30000\n"
     ]
    },
    {
     "name": "stderr",
     "output_type": "stream",
     "text": [
      "100%|██████████| 1145/1145 [00:02<00:00, 414.83it/s]\n"
     ]
    },
    {
     "data": {
      "image/png": "[encoded data removed]",
      "text/plain": [
       "<Figure size 432x288 with 1 Axes>"
      ]
     },
     "metadata": {},
     "output_type": "display_data"
    }
   ],
   "source": [
    "#baseline fitting parameter\n",
    "center = 8000\n",
    "width = 1000\n",
    "start = 3000\n",
    "end = 30000\n",
    "\n",
    "#baseline fitting function\n",
    "def f(x, a, b, c):\n",
    "    return a*x**2 + b*x + c\n",
    "\n",
    "def  baseline_fitting(arr_x, arr_y, index1, index2, index3, index4):\n",
    "    tmpdata_y1 = arr_y[index1:index2]\n",
    "    tmpdata_y2 = arr_y[index3:index4]\n",
    "    tmpdata_x1 = arr_x[index1:index2]\n",
    "    tmpdata_x2 = arr_x[index3:index4]\n",
    "    x = numpy.concatenate([tmpdata_x1, tmpdata_x2])\n",
    "    y = numpy.concatenate([tmpdata_y1, tmpdata_y2])\n",
    "    param = numpy.polyfit(x, y, 2)\n",
    "    arr_y = arr_y - f(arr_x, *param)\n",
    "    return arr_y\n",
    "    \n",
    "#ch\n",
    "xindex = numpy.linspace(0, vlen, vlen)###要注意 32768==>32766 一時的\n",
    "\n",
    "#baseline fitting index\n",
    "index1 = int(start)\n",
    "index2 = int(center - width/2)\n",
    "index3 = int(center + width/2)\n",
    "index4 = int(end)\n",
    "print(index1, index2, index3, index4)\n",
    "\n",
    "testoffset = numpy.linspace(1, vlen, vlen)###要注意 32768==>32766 一時的\n",
    "\n",
    "for i in tqdm(data_on.keys()):\n",
    "    origin = data_on[i]#for debug, this will be deleted\n",
    "    data_on[i] = data_on[i] + testoffset#ベースラインフィッティングできているかの確認のため\n",
    "    data_on[i] = baseline_fitting(xindex, data_on[i], index1, index2, index3, index4)\n",
    "    \n",
    "    \n",
    "plt.plot(data_on[i], label=\"after chopper wheel\")#after chopper wheel\n",
    "plt.plot(origin, label=\"before chopper wheel\")#before chopper wheel\n",
    "plt.legend()\n",
    "plt.grid()"
   ]
  },
  {
   "cell_type": "code",
   "execution_count": 29,
   "metadata": {},
   "outputs": [
    {
     "data": {
      "image/png": "[encoded data removed]",
      "text/plain": [
       "<Figure size 432x288 with 1 Axes>"
      ]
     },
     "metadata": {},
     "output_type": "display_data"
    }
   ],
   "source": [
    "%matplotlib inline\n",
    "plt.plot(origin, label=\"before baseline-fitting\")#before chopper wheel\n",
    "plt.plot(data_on[i], \".\", label=\"after baseline-fitting\", alpha=0.4)#after chopper wheel\n",
    "plt.ylabel(\"Ta*\")\n",
    "plt.xlabel(\"ch\")\n",
    "plt.xlim(7900,8400)\n",
    "plt.ylim(-4.1,30.25)\n",
    "plt.legend()\n",
    "plt.grid()"
   ]
  },
  {
   "cell_type": "markdown",
   "metadata": {},
   "source": [
    "## grid内のデータ探索\n",
    "\n",
    "あるgridに採用するデータのindexを求める"
   ]
  },
  {
   "cell_type": "code",
   "execution_count": 30,
   "metadata": {},
   "outputs": [
    {
     "name": "stderr",
     "output_type": "stream",
     "text": [
      "100%|██████████| 9/9 [00:00<00:00, 86.51it/s]"
     ]
    },
    {
     "name": "stdout",
     "output_type": "stream",
     "text": [
      "CPU times: user 0 ns, sys: 0 ns, total: 0 ns\n",
      "Wall time: 6.44 µs\n"
     ]
    },
    {
     "name": "stderr",
     "output_type": "stream",
     "text": [
      "\n"
     ]
    }
   ],
   "source": [
    "%time\n",
    "index_list = []\n",
    "for i in tqdm(range(max_scannum)):\n",
    "    for j in range(max_scannum):\n",
    "       # print(ragrid[i], decgrid[j])\n",
    "        index1 = numpy.where((ragrid[i]-(offset/3600)<xffts[0]) & ((ragrid[i] + (offset/3600)>xffts[0])))\n",
    "        index2 = numpy.where((decgrid[j]-(offset/3600)<xffts[1]) & ((decgrid[j] + (offset/3600)>xffts[1])))\n",
    "        index_ = [i in index2[0] for i in index1[0]]\n",
    "        index_ = numpy.array(index_)\n",
    "        index_1and2 = numpy.where(index_ == True)\n",
    "        index_1and2 = index1[0][index_1and2]\n",
    "        index_list.append(index_1and2)\n"
   ]
  },
  {
   "cell_type": "markdown",
   "metadata": {},
   "source": [
    "### xfftsデータの確認"
   ]
  },
  {
   "cell_type": "markdown",
   "metadata": {},
   "source": [
    "### データをgridに入れる"
   ]
  },
  {
   "cell_type": "markdown",
   "metadata": {},
   "source": [
    "データの重みつけは以下\n",
    "$$\n",
    "    T = \\frac{\\sum_{n} T_n \\frac{1}{\\sigma_n^2}G(r_n)}{\\sum_{n} \\frac{1}{\\sigma_n^2}G(r_n)}\n",
    "$$\n",
    "\n",
    "- 𝑇：強度[K]\n",
    "- 𝜎 ：rms\n",
    "- 𝑟：pixelからデータまでの距離\n",
    "- 𝐺：Gaussian等"
   ]
  },
  {
   "cell_type": "code",
   "execution_count": 31,
   "metadata": {
    "scrolled": true
   },
   "outputs": [
    {
     "name": "stderr",
     "output_type": "stream",
     "text": [
      "100%|██████████| 9/9 [00:02<00:00,  3.19it/s]"
     ]
    },
    {
     "name": "stdout",
     "output_type": "stream",
     "text": [
      "CPU times: user 1.96 s, sys: 904 ms, total: 2.87 s\n",
      "Wall time: 2.91 s\n"
     ]
    },
    {
     "name": "stderr",
     "output_type": "stream",
     "text": [
      "\n"
     ]
    }
   ],
   "source": [
    "%%time\n",
    "#cubeデータの作成\n",
    "#data_c = numpy.zeros((31, 31, 32768))#(ra, dec, ch)\n",
    "#index_list2 = numpy.reshape(index_list, (31,31))#index listの2次元化（これは前処理しておく） #これは正しいか？\n",
    "data_c = numpy.zeros((max_scannum, max_scannum, vlen))#(ra, dec, ch)##要注意！！！\n",
    "index_list2 = numpy.reshape(index_list, (max_scannum, max_scannum))#index listの2次元化（これは前処理しておく） #これは正しいか？\n",
    "\n",
    "## Chopper wheelしたデータをdatacubeに入れる\n",
    "for i in tqdm(range(max_scannum)):#ra\n",
    "    for j in range(max_scannum):#dec\n",
    "        try:\n",
    "            numerator_list = []#分子\n",
    "            denominator_list= []#分母\n",
    "            for k in index_list2[i][j]:\n",
    "                dist = calc_distance([ragrid[i], decgrid[j]], [xffts[0][k], xffts[1][k]])\n",
    "                rms = calc_rms(data_on[k])\n",
    "                weighted_data = rms_dist_weighting(data_on[k], dist, rms)\n",
    "                #weighted_data = rms_dist_weighting(data_on[k], dist, 1)###RMSがうまく動いているかの確認\n",
    "                numerator_list.append(weighted_data[0])\n",
    "                denominator_list.append(weighted_data[1])\n",
    "            data_c[i][j] = sum(numerator_list)/sum(denominator_list)\n",
    "        except Exception as e:\n",
    "            print(\"[{},{}], {}\".format(i,j,e), end = \"\")"
   ]
  },
  {
   "cell_type": "code",
   "execution_count": 32,
   "metadata": {},
   "outputs": [
    {
     "name": "stdout",
     "output_type": "stream",
     "text": [
      "76.22589912720477\n"
     ]
    },
    {
     "data": {
      "text/plain": [
       "5.245732329925574e-06"
      ]
     },
     "execution_count": 32,
     "metadata": {},
     "output_type": "execute_result"
    }
   ],
   "source": [
    "print(dist)\n",
    "numerator_list[0]\n",
    "denominator_list[4]"
   ]
  },
  {
   "cell_type": "markdown",
   "metadata": {},
   "source": [
    "距離を考慮すると..."
   ]
  },
  {
   "cell_type": "markdown",
   "metadata": {
    "collapsed": true
   },
   "source": [
    "### astropyでfitsに書き出す"
   ]
  },
  {
   "cell_type": "code",
   "execution_count": 33,
   "metadata": {},
   "outputs": [
    {
     "name": "stdout",
     "output_type": "stream",
     "text": [
      "(32766, 9, 9)\n"
     ]
    }
   ],
   "source": [
    "#3軸の入れ替え。\n",
    "data_c = numpy.swapaxes(data_c, 0,2)\n",
    "print(numpy.shape(data_c))#軸の入れ替えの確認"
   ]
  },
  {
   "cell_type": "markdown",
   "metadata": {},
   "source": [
    "ヘッダーの作成"
   ]
  },
  {
   "cell_type": "code",
   "execution_count": 34,
   "metadata": {},
   "outputs": [
    {
     "name": "stdout",
     "output_type": "stream",
     "text": [
      "[-1272. -1271. -1270. ... 31491. 31492. 31493.]\n",
      "-2948.552\n"
     ]
    }
   ],
   "source": [
    "vch = new_xx - 16384\n",
    "crval3 = vch[0]*dv\n",
    "print(new_xx)\n",
    "print(crval3)\n",
    "\n",
    "header_dict = {\n",
    "\"object\": obs[\"object\"],\n",
    "\"crval1\": obs[\"lambda_on\"],\n",
    "\"cdelt1\": obs[\"grid\"]/3600,\n",
    "\"crpix1\": obs[\"N\"]-1/2,#中心ピクセル\n",
    "\"crval2\": obs[\"beta_on\"],\n",
    "\"cdelt2\": obs[\"grid\"]/3600,\n",
    "\"crpix2\": obs[\"N\"]-1/2, #中心ピクセル\n",
    "\"cdelt3\": dv,# km/s \n",
    "\"crval3\": crval3\n",
    "}"
   ]
  },
  {
   "cell_type": "code",
   "execution_count": 35,
   "metadata": {
    "collapsed": true
   },
   "outputs": [],
   "source": [
    "# temp = \"\"\"\n",
    "# SIMPLE  =                    T                                                  \n",
    "# BITPIX  =                  -32                                                  \n",
    "# NAXIS   =                    3                                                  \n",
    "# NAXIS1  =                  31                                                 \n",
    "# NAXIS2  =                  31                                                 \n",
    "# NAXIS3  =                   32768                                                  \n",
    "# OBJECT  = '{object}              '                                                  \n",
    "# TELESCOP= 'NANTEN2            '                                                  \n",
    "# INSTRUME= 'nasco          '                                                  \n",
    "# OBSERVER= 'amigos           '                                                  \n",
    "# DATE-OBS= '2007-12-30        '                                                  \n",
    "# DATE-MAP= '2012-01-19        '                                                  \n",
    "# BSCALE  =    0.10000000000E+01                                                  \n",
    "# BZERO   =    0.00000000000E+01                                                  \n",
    "# BUNIT   = 'K                 '                                                  \n",
    "# EPOCH   =    0.20000000000E+04                                                  \n",
    "# OBSRA   =    8.38104170000E+01                                                  \n",
    "# OBSDEC  =   -5.37511100000E+00                                                  \n",
    "# DATAMAX =    1.16774444580E+02                                                  \n",
    "# DATAMIN =   -8.33924560547E+01                                                  \n",
    "# CTYPE1  = 'RA---GLS          '                                                  \n",
    "# CRVAL1  =    {crval1}                                                  \n",
    "# CDELT1  =    {cdelt1}                                                  \n",
    "# CRPIX1  =      {crpix1}\n",
    "# CROTA1  =     0.0000000000E+00                                                  \n",
    "# CTYPE2  = 'DEC--GLS          '                                                  \n",
    "# CRVAL2  =   {crval2}                                                  \n",
    "# CDELT2  =   {cdelt2}                                               \n",
    "# CRPIX2  =     {crpix2}                                               \n",
    "# CROTA2  =     0.0000000000E+00                                                  \n",
    "# CTYPE3  = 'VELO-LSR          '                                                  \n",
    "# CRVAL3  =    {crval3}                                                  \n",
    "# CDELT3  =    {cdelt3}                                                  \n",
    "# CRPIX3  =    1.00000000000E+00                                                  \n",
    "# CROTA3  =    0.00000000000E+00                                                  \n",
    "# BLANK   =   -1.00000000000E+00 \"\"\".format(**header_dict)"
   ]
  },
  {
   "cell_type": "code",
   "execution_count": 36,
   "metadata": {
    "collapsed": true
   },
   "outputs": [],
   "source": [
    "temp = \"\"\"\n",
    "SIMPLE  =                    T                                                  \n",
    "BITPIX  =                  -32                                                  \n",
    "NAXIS   =                    3                                                  \n",
    "NAXIS1  =                  31                                                 \n",
    "NAXIS2  =                  31                                                 \n",
    "NAXIS3  =                   32768                                                  \n",
    "OBJECT  = '{object}              '                                                  \n",
    "TELESCOP= 'NANTEN2            '                                                  \n",
    "INSTRUME= 'nasco          '                                                  \n",
    "OBSERVER= 'amigos           '                                                  \n",
    "DATE-OBS= '2007-12-30        '                                                  \n",
    "DATE-MAP= '2012-01-19        '                                                  \n",
    "BSCALE  =    0.10000000000E+01                                                  \n",
    "BZERO   =    0.00000000000E+01                                                  \n",
    "BUNIT   = 'K                 '                                                  \n",
    "EPOCH   =    0.20000000000E+04                                                  \n",
    "OBSRA   =    8.38104170000E+01                                                  \n",
    "OBSDEC  =   -5.37511100000E+00                                                  \n",
    "DATAMAX =    1.16774444580E+02                                                  \n",
    "DATAMIN =   -8.33924560547E+01                                                  \n",
    "CTYPE1  = 'RA---GLS          '                                                  \n",
    "CRVAL1  =    {crval1}                                                  \n",
    "CDELT1  =    {cdelt1}                                                  \n",
    "CRPIX1  =      {crpix1}\n",
    "CROTA1  =     0.0000000000E+00                                                  \n",
    "CTYPE2  = 'DEC--GLS          '                                                  \n",
    "CRVAL2  =   {crval2}                                                  \n",
    "CDELT2  =   {cdelt2}                                               \n",
    "CRPIX2  =     {crpix2}                                               \n",
    "CROTA2  =     0.0000000000E+00                                                  \n",
    "CTYPE3  = 'km/s          '                                                  \n",
    "CRVAL3  =    {crval3}                                                  \n",
    "CDELT3  =    {cdelt3}                                                  \n",
    "CRPIX3  =    1.00000000000E+00                                                  \n",
    "CROTA3  =    0.00000000000E+00                                                  \n",
    "BLANK   =   -1.00000000000E+00 \"\"\".format(**header_dict)"
   ]
  },
  {
   "cell_type": "code",
   "execution_count": 37,
   "metadata": {
    "collapsed": true
   },
   "outputs": [],
   "source": [
    "target_header = fits.Header.fromstring(temp, sep = \"\\n\")"
   ]
  },
  {
   "cell_type": "code",
   "execution_count": 52,
   "metadata": {},
   "outputs": [
    {
     "name": "stderr",
     "output_type": "stream",
     "text": [
      "WARNING: VerifyWarning: Invalid value for 'BLANK' keyword in header: -1.0 The 'BLANK' keyword must be an integer.  It will be ignored in the meantime. [astropy.io.fits.hdu.image]\n",
      "WARNING: VerifyWarning: Invalid 'BLANK' keyword in header.  The 'BLANK' keyword is only applicable to integer data, and will be ignored in this HDU. [astropy.io.fits.hdu.image]\n"
     ]
    }
   ],
   "source": [
    "#書き出し\n",
    "hdu = fits.PrimaryHDU(data_c, target_header)\n",
    "hdulist = fits.HDUList([hdu])\n",
    "hdulist.writeto(os.path.join(analy_dir, \"test20190906_v8.fits\"), overwrite = True)"
   ]
  },
  {
   "cell_type": "code",
   "execution_count": 53,
   "metadata": {},
   "outputs": [
    {
     "name": "stderr",
     "output_type": "stream",
     "text": [
      "WARNING: VerifyWarning: Invalid value for 'BLANK' keyword in header: -1.0 The 'BLANK' keyword must be an integer.  It will be ignored in the meantime. [astropy.io.fits.hdu.image]\n",
      "WARNING: VerifyWarning: Invalid 'BLANK' keyword in header.  The 'BLANK' keyword is only applicable to integer data, and will be ignored in this HDU. [astropy.io.fits.hdu.image]\n"
     ]
    }
   ],
   "source": [
    "##読み込み\n",
    "hdu_list = fits.open(os.path.join(analy_dir, \"test20190906_v8.fits\"))\n",
    "hdu_r = hdu_list[0]\n",
    "data = hdu_r.data\n",
    "header = hdu_r.header"
   ]
  },
  {
   "cell_type": "markdown",
   "metadata": {},
   "source": [
    "### OTF MAP"
   ]
  },
  {
   "cell_type": "code",
   "execution_count": 54,
   "metadata": {},
   "outputs": [
    {
     "data": {
      "application/vnd.jupyter.widget-view+json": {
       "model_id": "b261bec6774c425ca807e080011543f9",
       "version_major": 2,
       "version_minor": 0
      },
      "text/plain": [
       "A Jupyter Widget"
      ]
     },
     "metadata": {},
     "output_type": "display_data"
    },
    {
     "data": {
      "text/plain": [
       "<function __main__.plot>"
      ]
     },
     "execution_count": 54,
     "metadata": {},
     "output_type": "execute_result"
    }
   ],
   "source": [
    "#%matplotlib notebook\n",
    "%matplotlib inline\n",
    "from ipywidgets import interact\n",
    "\n",
    "def plot(i):\n",
    "    plt.figure(figsize=(8, 8))\n",
    "    plt.imshow(data[i].T, cmap = \"gist_rainbow\")\n",
    "    #plt.xlabel(\"ra\")\n",
    "    #plt.ylabel(\"dec\")\n",
    "    plt.show()\n",
    "\n",
    "\n",
    "interact(plot, i = (0,16000,1))"
   ]
  },
  {
   "cell_type": "markdown",
   "metadata": {},
   "source": [
    "### RMS Map"
   ]
  },
  {
   "cell_type": "code",
   "execution_count": 55,
   "metadata": {
    "collapsed": true
   },
   "outputs": [],
   "source": [
    "#rms map\n",
    "data_rms = numpy.swapaxes(data, 0,2)"
   ]
  },
  {
   "cell_type": "code",
   "execution_count": 56,
   "metadata": {},
   "outputs": [
    {
     "data": {
      "text/plain": [
       "131587.9878166254"
      ]
     },
     "execution_count": 56,
     "metadata": {},
     "output_type": "execute_result"
    }
   ],
   "source": [
    "numpy.mean(data_rms[0][0]**2)"
   ]
  },
  {
   "cell_type": "code",
   "execution_count": 57,
   "metadata": {
    "collapsed": true
   },
   "outputs": [],
   "source": [
    "rms_map = numpy.zeros((9,9))\n",
    "for i in range(9):\n",
    "    for j in range(9):\n",
    "        rms_map[i][j] = numpy.sqrt(numpy.mean(data_rms[i][j]**2))"
   ]
  },
  {
   "cell_type": "code",
   "execution_count": 58,
   "metadata": {},
   "outputs": [
    {
     "data": {
      "text/plain": [
       "<matplotlib.image.AxesImage at 0x7f04414c4240>"
      ]
     },
     "execution_count": 58,
     "metadata": {},
     "output_type": "execute_result"
    },
    {
     "data": {
      "image/png": "[encoded data removed]",
      "text/plain": [
       "<Figure size 432x288 with 1 Axes>"
      ]
     },
     "metadata": {},
     "output_type": "display_data"
    }
   ],
   "source": [
    "plt.imshow(rms_map, cmap = \"gist_rainbow\")"
   ]
  },
  {
   "cell_type": "code",
   "execution_count": 59,
   "metadata": {},
   "outputs": [
    {
     "data": {
      "text/plain": [
       "[<matplotlib.lines.Line2D at 0x7f04416b8978>]"
      ]
     },
     "execution_count": 59,
     "metadata": {},
     "output_type": "execute_result"
    },
    {
     "data": {
      "image/png": "[encoded data removed]",
      "text/plain": [
       "<Figure size 432x288 with 1 Axes>"
      ]
     },
     "metadata": {},
     "output_type": "display_data"
    }
   ],
   "source": [
    "plt.plot(rms_map[4])"
   ]
  },
  {
   "cell_type": "code",
   "execution_count": 60,
   "metadata": {},
   "outputs": [
    {
     "data": {
      "text/plain": [
       "126"
      ]
     },
     "execution_count": 60,
     "metadata": {},
     "output_type": "execute_result"
    }
   ],
   "source": [
    "len(index_list2[0][8])"
   ]
  },
  {
   "cell_type": "code",
   "execution_count": 61,
   "metadata": {},
   "outputs": [
    {
     "data": {
      "text/html": [
       "\n",
       "    <div class=\"bk-root\">\n",
       "        <a href=\"https://bokeh.pydata.org\" target=\"_blank\" class=\"bk-logo bk-logo-small bk-logo-notebook\"></a>\n",
       "        <span id=\"20810368-6118-48ec-8626-fe1fd154c6af\">Loading BokehJS ...</span>\n",
       "    </div>"
      ]
     },
     "metadata": {},
     "output_type": "display_data"
    },
    {
     "data": {
      "application/javascript": [
       "\n",
       "(function(root) {\n",
       "  function now() {\n",
       "    return new Date();\n",
       "  }\n",
       "\n",
       "  var force = true;\n",
       "\n",
       "  if (typeof (root._bokeh_onload_callbacks) === \"undefined\" || force === true) {\n",
       "    root._bokeh_onload_callbacks = [];\n",
       "    root._bokeh_is_loading = undefined;\n",
       "  }\n",
       "\n",
       "  var JS_MIME_TYPE = 'application/javascript';\n",
       "  var HTML_MIME_TYPE = 'text/html';\n",
       "  var EXEC_MIME_TYPE = 'application/vnd.bokehjs_exec.v0+json';\n",
       "  var CLASS_NAME = 'output_bokeh rendered_html';\n",
       "\n",
       "  /**\n",
       "   * Render data to the DOM node\n",
       "   */\n",
       "  function render(props, node) {\n",
       "    var script = document.createElement(\"script\");\n",
       "    node.appendChild(script);\n",
       "  }\n",
       "\n",
       "  /**\n",
       "   * Handle when an output is cleared or removed\n",
       "   */\n",
       "  function handleClearOutput(event, handle) {\n",
       "    var cell = handle.cell;\n",
       "\n",
       "    var id = cell.output_area._bokeh_element_id;\n",
       "    var server_id = cell.output_area._bokeh_server_id;\n",
       "    // Clean up Bokeh references\n",
       "    if (id !== undefined) {\n",
       "      Bokeh.index[id].model.document.clear();\n",
       "      delete Bokeh.index[id];\n",
       "    }\n",
       "\n",
       "    if (server_id !== undefined) {\n",
       "      // Clean up Bokeh references\n",
       "      var cmd = \"from bokeh.io.state import curstate; print(curstate().uuid_to_server['\" + server_id + \"'].get_sessions()[0].document.roots[0]._id)\";\n",
       "      cell.notebook.kernel.execute(cmd, {\n",
       "        iopub: {\n",
       "          output: function(msg) {\n",
       "            var element_id = msg.content.text.trim();\n",
       "            Bokeh.index[element_id].model.document.clear();\n",
       "            delete Bokeh.index[element_id];\n",
       "          }\n",
       "        }\n",
       "      });\n",
       "      // Destroy server and session\n",
       "      var cmd = \"import bokeh.io.notebook as ion; ion.destroy_server('\" + server_id + \"')\";\n",
       "      cell.notebook.kernel.execute(cmd);\n",
       "    }\n",
       "  }\n",
       "\n",
       "  /**\n",
       "   * Handle when a new output is added\n",
       "   */\n",
       "  function handleAddOutput(event, handle) {\n",
       "    var output_area = handle.output_area;\n",
       "    var output = handle.output;\n",
       "\n",
       "    // limit handleAddOutput to display_data with EXEC_MIME_TYPE content only\n",
       "    if ((output.output_type != \"display_data\") || (!output.data.hasOwnProperty(EXEC_MIME_TYPE))) {\n",
       "      return\n",
       "    }\n",
       "\n",
       "    var toinsert = output_area.element.find(`.${CLASS_NAME.split(' ')[0]}`);\n",
       "\n",
       "    if (output.metadata[EXEC_MIME_TYPE][\"id\"] !== undefined) {\n",
       "      toinsert[0].firstChild.textContent = output.data[JS_MIME_TYPE];\n",
       "      // store reference to embed id on output_area\n",
       "      output_area._bokeh_element_id = output.metadata[EXEC_MIME_TYPE][\"id\"];\n",
       "    }\n",
       "    if (output.metadata[EXEC_MIME_TYPE][\"server_id\"] !== undefined) {\n",
       "      var bk_div = document.createElement(\"div\");\n",
       "      bk_div.innerHTML = output.data[HTML_MIME_TYPE];\n",
       "      var script_attrs = bk_div.children[0].attributes;\n",
       "      for (var i = 0; i < script_attrs.length; i++) {\n",
       "        toinsert[0].firstChild.setAttribute(script_attrs[i].name, script_attrs[i].value);\n",
       "      }\n",
       "      // store reference to server id on output_area\n",
       "      output_area._bokeh_server_id = output.metadata[EXEC_MIME_TYPE][\"server_id\"];\n",
       "    }\n",
       "  }\n",
       "\n",
       "  function register_renderer(events, OutputArea) {\n",
       "\n",
       "    function append_mime(data, metadata, element) {\n",
       "      // create a DOM node to render to\n",
       "      var toinsert = this.create_output_subarea(\n",
       "        metadata,\n",
       "        CLASS_NAME,\n",
       "        EXEC_MIME_TYPE\n",
       "      );\n",
       "      this.keyboard_manager.register_events(toinsert);\n",
       "      // Render to node\n",
       "      var props = {data: data, metadata: metadata[EXEC_MIME_TYPE]};\n",
       "      render(props, toinsert[0]);\n",
       "      element.append(toinsert);\n",
       "      return toinsert\n",
       "    }\n",
       "\n",
       "    /* Handle when an output is cleared or removed */\n",
       "    events.on('clear_output.CodeCell', handleClearOutput);\n",
       "    events.on('delete.Cell', handleClearOutput);\n",
       "\n",
       "    /* Handle when a new output is added */\n",
       "    events.on('output_added.OutputArea', handleAddOutput);\n",
       "\n",
       "    /**\n",
       "     * Register the mime type and append_mime function with output_area\n",
       "     */\n",
       "    OutputArea.prototype.register_mime_type(EXEC_MIME_TYPE, append_mime, {\n",
       "      /* Is output safe? */\n",
       "      safe: true,\n",
       "      /* Index of renderer in `output_area.display_order` */\n",
       "      index: 0\n",
       "    });\n",
       "  }\n",
       "\n",
       "  // register the mime type if in Jupyter Notebook environment and previously unregistered\n",
       "  if (root.Jupyter !== undefined) {\n",
       "    var events = require('base/js/events');\n",
       "    var OutputArea = require('notebook/js/outputarea').OutputArea;\n",
       "\n",
       "    if (OutputArea.prototype.mime_types().indexOf(EXEC_MIME_TYPE) == -1) {\n",
       "      register_renderer(events, OutputArea);\n",
       "    }\n",
       "  }\n",
       "\n",
       "  \n",
       "  if (typeof (root._bokeh_timeout) === \"undefined\" || force === true) {\n",
       "    root._bokeh_timeout = Date.now() + 5000;\n",
       "    root._bokeh_failed_load = false;\n",
       "  }\n",
       "\n",
       "  var NB_LOAD_WARNING = {'data': {'text/html':\n",
       "     \"<div style='background-color: #fdd'>\\n\"+\n",
       "     \"<p>\\n\"+\n",
       "     \"BokehJS does not appear to have successfully loaded. If loading BokehJS from CDN, this \\n\"+\n",
       "     \"may be due to a slow or bad network connection. Possible fixes:\\n\"+\n",
       "     \"</p>\\n\"+\n",
       "     \"<ul>\\n\"+\n",
       "     \"<li>re-rerun `output_notebook()` to attempt to load from CDN again, or</li>\\n\"+\n",
       "     \"<li>use INLINE resources instead, as so:</li>\\n\"+\n",
       "     \"</ul>\\n\"+\n",
       "     \"<code>\\n\"+\n",
       "     \"from bokeh.resources import INLINE\\n\"+\n",
       "     \"output_notebook(resources=INLINE)\\n\"+\n",
       "     \"</code>\\n\"+\n",
       "     \"</div>\"}};\n",
       "\n",
       "  function display_loaded() {\n",
       "    var el = document.getElementById(\"20810368-6118-48ec-8626-fe1fd154c6af\");\n",
       "    if (el != null) {\n",
       "      el.textContent = \"BokehJS is loading...\";\n",
       "    }\n",
       "    if (root.Bokeh !== undefined) {\n",
       "      if (el != null) {\n",
       "        el.textContent = \"BokehJS \" + root.Bokeh.version + \" successfully loaded.\";\n",
       "      }\n",
       "    } else if (Date.now() < root._bokeh_timeout) {\n",
       "      setTimeout(display_loaded, 100)\n",
       "    }\n",
       "  }\n",
       "\n",
       "\n",
       "  function run_callbacks() {\n",
       "    try {\n",
       "      root._bokeh_onload_callbacks.forEach(function(callback) { callback() });\n",
       "    }\n",
       "    finally {\n",
       "      delete root._bokeh_onload_callbacks\n",
       "    }\n",
       "    console.info(\"Bokeh: all callbacks have finished\");\n",
       "  }\n",
       "\n",
       "  function load_libs(js_urls, callback) {\n",
       "    root._bokeh_onload_callbacks.push(callback);\n",
       "    if (root._bokeh_is_loading > 0) {\n",
       "      console.log(\"Bokeh: BokehJS is being loaded, scheduling callback at\", now());\n",
       "      return null;\n",
       "    }\n",
       "    if (js_urls == null || js_urls.length === 0) {\n",
       "      run_callbacks();\n",
       "      return null;\n",
       "    }\n",
       "    console.log(\"Bokeh: BokehJS not loaded, scheduling load and callback at\", now());\n",
       "    root._bokeh_is_loading = js_urls.length;\n",
       "    for (var i = 0; i < js_urls.length; i++) {\n",
       "      var url = js_urls[i];\n",
       "      var s = document.createElement('script');\n",
       "      s.src = url;\n",
       "      s.async = false;\n",
       "      s.onreadystatechange = s.onload = function() {\n",
       "        root._bokeh_is_loading--;\n",
       "        if (root._bokeh_is_loading === 0) {\n",
       "          console.log(\"Bokeh: all BokehJS libraries loaded\");\n",
       "          run_callbacks()\n",
       "        }\n",
       "      };\n",
       "      s.onerror = function() {\n",
       "        console.warn(\"failed to load library \" + url);\n",
       "      };\n",
       "      console.log(\"Bokeh: injecting script tag for BokehJS library: \", url);\n",
       "      document.getElementsByTagName(\"head\")[0].appendChild(s);\n",
       "    }\n",
       "  };var element = document.getElementById(\"20810368-6118-48ec-8626-fe1fd154c6af\");\n",
       "  if (element == null) {\n",
       "    console.log(\"Bokeh: ERROR: autoload.js configured with elementid '20810368-6118-48ec-8626-fe1fd154c6af' but no matching script tag was found. \")\n",
       "    return false;\n",
       "  }\n",
       "\n",
       "  var js_urls = [\"https://cdn.pydata.org/bokeh/release/bokeh-0.12.10.min.js\", \"https://cdn.pydata.org/bokeh/release/bokeh-widgets-0.12.10.min.js\", \"https://cdn.pydata.org/bokeh/release/bokeh-tables-0.12.10.min.js\", \"https://cdn.pydata.org/bokeh/release/bokeh-gl-0.12.10.min.js\"];\n",
       "\n",
       "  var inline_js = [\n",
       "    function(Bokeh) {\n",
       "      Bokeh.set_log_level(\"info\");\n",
       "    },\n",
       "    \n",
       "    function(Bokeh) {\n",
       "      \n",
       "    },\n",
       "    function(Bokeh) {\n",
       "      console.log(\"Bokeh: injecting CSS: https://cdn.pydata.org/bokeh/release/bokeh-0.12.10.min.css\");\n",
       "      Bokeh.embed.inject_css(\"https://cdn.pydata.org/bokeh/release/bokeh-0.12.10.min.css\");\n",
       "      console.log(\"Bokeh: injecting CSS: https://cdn.pydata.org/bokeh/release/bokeh-widgets-0.12.10.min.css\");\n",
       "      Bokeh.embed.inject_css(\"https://cdn.pydata.org/bokeh/release/bokeh-widgets-0.12.10.min.css\");\n",
       "      console.log(\"Bokeh: injecting CSS: https://cdn.pydata.org/bokeh/release/bokeh-tables-0.12.10.min.css\");\n",
       "      Bokeh.embed.inject_css(\"https://cdn.pydata.org/bokeh/release/bokeh-tables-0.12.10.min.css\");\n",
       "    }\n",
       "  ];\n",
       "\n",
       "  function run_inline_js() {\n",
       "    \n",
       "    if ((root.Bokeh !== undefined) || (force === true)) {\n",
       "      for (var i = 0; i < inline_js.length; i++) {\n",
       "        inline_js[i].call(root, root.Bokeh);\n",
       "      }if (force === true) {\n",
       "        display_loaded();\n",
       "      }} else if (Date.now() < root._bokeh_timeout) {\n",
       "      setTimeout(run_inline_js, 100);\n",
       "    } else if (!root._bokeh_failed_load) {\n",
       "      console.log(\"Bokeh: BokehJS failed to load within specified timeout.\");\n",
       "      root._bokeh_failed_load = true;\n",
       "    } else if (force !== true) {\n",
       "      var cell = $(document.getElementById(\"20810368-6118-48ec-8626-fe1fd154c6af\")).parents('.cell').data().cell;\n",
       "      cell.output_area.append_execute_result(NB_LOAD_WARNING)\n",
       "    }\n",
       "\n",
       "  }\n",
       "\n",
       "  if (root._bokeh_is_loading === 0) {\n",
       "    console.log(\"Bokeh: BokehJS loaded, going straight to plotting\");\n",
       "    run_inline_js();\n",
       "  } else {\n",
       "    load_libs(js_urls, function() {\n",
       "      console.log(\"Bokeh: BokehJS plotting callback run at\", now());\n",
       "      run_inline_js();\n",
       "    });\n",
       "  }\n",
       "}(window));"
      ],
      "application/vnd.bokehjs_load.v0+json": "\n(function(root) {\n  function now() {\n    return new Date();\n  }\n\n  var force = true;\n\n  if (typeof (root._bokeh_onload_callbacks) === \"undefined\" || force === true) {\n    root._bokeh_onload_callbacks = [];\n    root._bokeh_is_loading = undefined;\n  }\n\n  \n\n  \n  if (typeof (root._bokeh_timeout) === \"undefined\" || force === true) {\n    root._bokeh_timeout = Date.now() + 5000;\n    root._bokeh_failed_load = false;\n  }\n\n  var NB_LOAD_WARNING = {'data': {'text/html':\n     \"<div style='background-color: #fdd'>\\n\"+\n     \"<p>\\n\"+\n     \"BokehJS does not appear to have successfully loaded. If loading BokehJS from CDN, this \\n\"+\n     \"may be due to a slow or bad network connection. Possible fixes:\\n\"+\n     \"</p>\\n\"+\n     \"<ul>\\n\"+\n     \"<li>re-rerun `output_notebook()` to attempt to load from CDN again, or</li>\\n\"+\n     \"<li>use INLINE resources instead, as so:</li>\\n\"+\n     \"</ul>\\n\"+\n     \"<code>\\n\"+\n     \"from bokeh.resources import INLINE\\n\"+\n     \"output_notebook(resources=INLINE)\\n\"+\n     \"</code>\\n\"+\n     \"</div>\"}};\n\n  function display_loaded() {\n    var el = document.getElementById(\"20810368-6118-48ec-8626-fe1fd154c6af\");\n    if (el != null) {\n      el.textContent = \"BokehJS is loading...\";\n    }\n    if (root.Bokeh !== undefined) {\n      if (el != null) {\n        el.textContent = \"BokehJS \" + root.Bokeh.version + \" successfully loaded.\";\n      }\n    } else if (Date.now() < root._bokeh_timeout) {\n      setTimeout(display_loaded, 100)\n    }\n  }\n\n\n  function run_callbacks() {\n    try {\n      root._bokeh_onload_callbacks.forEach(function(callback) { callback() });\n    }\n    finally {\n      delete root._bokeh_onload_callbacks\n    }\n    console.info(\"Bokeh: all callbacks have finished\");\n  }\n\n  function load_libs(js_urls, callback) {\n    root._bokeh_onload_callbacks.push(callback);\n    if (root._bokeh_is_loading > 0) {\n      console.log(\"Bokeh: BokehJS is being loaded, scheduling callback at\", now());\n      return null;\n    }\n    if (js_urls == null || js_urls.length === 0) {\n      run_callbacks();\n      return null;\n    }\n    console.log(\"Bokeh: BokehJS not loaded, scheduling load and callback at\", now());\n    root._bokeh_is_loading = js_urls.length;\n    for (var i = 0; i < js_urls.length; i++) {\n      var url = js_urls[i];\n      var s = document.createElement('script');\n      s.src = url;\n      s.async = false;\n      s.onreadystatechange = s.onload = function() {\n        root._bokeh_is_loading--;\n        if (root._bokeh_is_loading === 0) {\n          console.log(\"Bokeh: all BokehJS libraries loaded\");\n          run_callbacks()\n        }\n      };\n      s.onerror = function() {\n        console.warn(\"failed to load library \" + url);\n      };\n      console.log(\"Bokeh: injecting script tag for BokehJS library: \", url);\n      document.getElementsByTagName(\"head\")[0].appendChild(s);\n    }\n  };var element = document.getElementById(\"20810368-6118-48ec-8626-fe1fd154c6af\");\n  if (element == null) {\n    console.log(\"Bokeh: ERROR: autoload.js configured with elementid '20810368-6118-48ec-8626-fe1fd154c6af' but no matching script tag was found. \")\n    return false;\n  }\n\n  var js_urls = [\"https://cdn.pydata.org/bokeh/release/bokeh-0.12.10.min.js\", \"https://cdn.pydata.org/bokeh/release/bokeh-widgets-0.12.10.min.js\", \"https://cdn.pydata.org/bokeh/release/bokeh-tables-0.12.10.min.js\", \"https://cdn.pydata.org/bokeh/release/bokeh-gl-0.12.10.min.js\"];\n\n  var inline_js = [\n    function(Bokeh) {\n      Bokeh.set_log_level(\"info\");\n    },\n    \n    function(Bokeh) {\n      \n    },\n    function(Bokeh) {\n      console.log(\"Bokeh: injecting CSS: https://cdn.pydata.org/bokeh/release/bokeh-0.12.10.min.css\");\n      Bokeh.embed.inject_css(\"https://cdn.pydata.org/bokeh/release/bokeh-0.12.10.min.css\");\n      console.log(\"Bokeh: injecting CSS: https://cdn.pydata.org/bokeh/release/bokeh-widgets-0.12.10.min.css\");\n      Bokeh.embed.inject_css(\"https://cdn.pydata.org/bokeh/release/bokeh-widgets-0.12.10.min.css\");\n      console.log(\"Bokeh: injecting CSS: https://cdn.pydata.org/bokeh/release/bokeh-tables-0.12.10.min.css\");\n      Bokeh.embed.inject_css(\"https://cdn.pydata.org/bokeh/release/bokeh-tables-0.12.10.min.css\");\n    }\n  ];\n\n  function run_inline_js() {\n    \n    if ((root.Bokeh !== undefined) || (force === true)) {\n      for (var i = 0; i < inline_js.length; i++) {\n        inline_js[i].call(root, root.Bokeh);\n      }if (force === true) {\n        display_loaded();\n      }} else if (Date.now() < root._bokeh_timeout) {\n      setTimeout(run_inline_js, 100);\n    } else if (!root._bokeh_failed_load) {\n      console.log(\"Bokeh: BokehJS failed to load within specified timeout.\");\n      root._bokeh_failed_load = true;\n    } else if (force !== true) {\n      var cell = $(document.getElementById(\"20810368-6118-48ec-8626-fe1fd154c6af\")).parents('.cell').data().cell;\n      cell.output_area.append_execute_result(NB_LOAD_WARNING)\n    }\n\n  }\n\n  if (root._bokeh_is_loading === 0) {\n    console.log(\"Bokeh: BokehJS loaded, going straight to plotting\");\n    run_inline_js();\n  } else {\n    load_libs(js_urls, function() {\n      console.log(\"Bokeh: BokehJS plotting callback run at\", now());\n      run_inline_js();\n    });\n  }\n}(window));"
     },
     "metadata": {},
     "output_type": "display_data"
    },
    {
     "data": {
      "text/html": [
       "\n",
       "<div class=\"bk-root\">\n",
       "    <div class=\"bk-plotdiv\" id=\"cb4645af-a85e-48a7-8181-84193e1a0d32\"></div>\n",
       "</div>"
      ]
     },
     "metadata": {},
     "output_type": "display_data"
    },
    {
     "data": {
      "application/javascript": [
       "(function(root) {\n",
       "  function embed_document(root) {\n",
       "    var docs_json = {\"a9d95467-d489-47b3-bfad-b1bf77e1c8dc\":{\"roots\":{\"references\":[{\"attributes\":{\"palette\":[\"#0C0786\",\"#40039C\",\"#6A00A7\",\"#8F0DA3\",\"#B02A8F\",\"#CA4678\",\"#E06461\",\"#F1824C\",\"#FCA635\",\"#FCCC25\",\"#EFF821\"]},\"id\":\"22d54061-5d9a-4c5e-bc5c-a65424418b18\",\"type\":\"LinearColorMapper\"},{\"attributes\":{\"formatter\":{\"id\":\"c76ae6b3-e173-4379-965e-429c84a0c906\",\"type\":\"BasicTickFormatter\"},\"plot\":{\"id\":\"bf83543e-f971-4e19-bbc6-56b1bc728c93\",\"subtype\":\"Figure\",\"type\":\"Plot\"},\"ticker\":{\"id\":\"5ef89eff-14a4-45c9-a079-89f28705d0d9\",\"type\":\"BasicTicker\"}},\"id\":\"1e2fdb35-9fd4-46a8-9e24-1e33b35c3efa\",\"type\":\"LinearAxis\"},{\"attributes\":{\"active_drag\":\"auto\",\"active_inspect\":\"auto\",\"active_scroll\":\"auto\",\"active_tap\":\"auto\",\"tools\":[{\"id\":\"0058c28d-3a2b-4b8d-82b6-2bdfe28f28be\",\"type\":\"PanTool\"},{\"id\":\"2496e9b1-000c-4521-a9aa-b44d50c8cac2\",\"type\":\"WheelZoomTool\"},{\"id\":\"d645123b-3ea7-4c65-b275-9ef3c45cc48c\",\"type\":\"BoxZoomTool\"},{\"id\":\"fe717573-6d66-4050-9291-813d5ef3b67c\",\"type\":\"SaveTool\"},{\"id\":\"273d31f7-5ec6-4667-a26c-4aa986700a9d\",\"type\":\"ResetTool\"},{\"id\":\"1d31edb2-3f50-4acd-a5ad-878a243ea04f\",\"type\":\"HelpTool\"}]},\"id\":\"af448afb-a867-41df-97ea-95f343ea497e\",\"type\":\"Toolbar\"},{\"attributes\":{},\"id\":\"1d31edb2-3f50-4acd-a5ad-878a243ea04f\",\"type\":\"HelpTool\"},{\"attributes\":{},\"id\":\"273d31f7-5ec6-4667-a26c-4aa986700a9d\",\"type\":\"ResetTool\"},{\"attributes\":{\"bottom_units\":\"screen\",\"fill_alpha\":{\"value\":0.5},\"fill_color\":{\"value\":\"lightgrey\"},\"left_units\":\"screen\",\"level\":\"overlay\",\"line_alpha\":{\"value\":1.0},\"line_color\":{\"value\":\"black\"},\"line_dash\":[4,4],\"line_width\":{\"value\":2},\"plot\":null,\"render_mode\":\"css\",\"right_units\":\"screen\",\"top_units\":\"screen\"},\"id\":\"ecd1344a-1048-4458-9b4b-d38f49bae12a\",\"type\":\"BoxAnnotation\"},{\"attributes\":{\"data_source\":{\"id\":\"f1452ebb-904f-4544-8aa1-0a91c82744d3\",\"type\":\"ColumnDataSource\"},\"glyph\":{\"id\":\"cb26764c-49ba-4949-a420-3b5d28b31ca6\",\"type\":\"Image\"},\"hover_glyph\":null,\"muted_glyph\":null,\"nonselection_glyph\":{\"id\":\"d1054fe4-7a6b-400f-86cf-b603dd13c26a\",\"type\":\"Image\"},\"selection_glyph\":null,\"view\":{\"id\":\"cfd58cc6-9c96-4223-8490-fe6c6a46f58f\",\"type\":\"CDSView\"}},\"id\":\"2fc39de5-8357-4dcc-bbff-2e940b259770\",\"type\":\"GlyphRenderer\"},{\"attributes\":{\"plot\":null,\"text\":\"\"},\"id\":\"e3c175b5-0822-47bb-9858-285376ef802d\",\"type\":\"Title\"},{\"attributes\":{\"below\":[{\"id\":\"3c0aa4e5-1c94-48b7-b5f1-39a29e913aa4\",\"type\":\"LinearAxis\"}],\"left\":[{\"id\":\"1e2fdb35-9fd4-46a8-9e24-1e33b35c3efa\",\"type\":\"LinearAxis\"}],\"renderers\":[{\"id\":\"3c0aa4e5-1c94-48b7-b5f1-39a29e913aa4\",\"type\":\"LinearAxis\"},{\"id\":\"07b25f7b-de19-4921-b2c2-a553db7e7776\",\"type\":\"Grid\"},{\"id\":\"1e2fdb35-9fd4-46a8-9e24-1e33b35c3efa\",\"type\":\"LinearAxis\"},{\"id\":\"867c46ad-27d9-4d28-bf9f-e9dd05c7e832\",\"type\":\"Grid\"},{\"id\":\"ecd1344a-1048-4458-9b4b-d38f49bae12a\",\"type\":\"BoxAnnotation\"},{\"id\":\"2fc39de5-8357-4dcc-bbff-2e940b259770\",\"type\":\"GlyphRenderer\"}],\"title\":{\"id\":\"e3c175b5-0822-47bb-9858-285376ef802d\",\"type\":\"Title\"},\"toolbar\":{\"id\":\"af448afb-a867-41df-97ea-95f343ea497e\",\"type\":\"Toolbar\"},\"x_range\":{\"id\":\"e7a43cb2-7955-4e49-80f3-d76399d802f6\",\"type\":\"DataRange1d\"},\"x_scale\":{\"id\":\"1660512c-8c89-4f57-988c-673431643a26\",\"type\":\"LinearScale\"},\"y_range\":{\"id\":\"26d6b6e6-baeb-46c4-831a-ff8d2c5d5452\",\"type\":\"DataRange1d\"},\"y_scale\":{\"id\":\"31d08297-091c-43b7-84c9-25ba45bdd875\",\"type\":\"LinearScale\"}},\"id\":\"bf83543e-f971-4e19-bbc6-56b1bc728c93\",\"subtype\":\"Figure\",\"type\":\"Plot\"},{\"attributes\":{},\"id\":\"0058c28d-3a2b-4b8d-82b6-2bdfe28f28be\",\"type\":\"PanTool\"},{\"attributes\":{},\"id\":\"1660512c-8c89-4f57-988c-673431643a26\",\"type\":\"LinearScale\"},{\"attributes\":{},\"id\":\"5ef89eff-14a4-45c9-a079-89f28705d0d9\",\"type\":\"BasicTicker\"},{\"attributes\":{},\"id\":\"d2499e00-cea2-4bb1-93f2-a5d180dd07b4\",\"type\":\"BasicTickFormatter\"},{\"attributes\":{\"color_mapper\":{\"id\":\"6f009af8-91e0-4ab1-bfdb-effdf9459578\",\"type\":\"LinearColorMapper\"},\"dh\":{\"units\":\"data\",\"value\":31},\"dw\":{\"units\":\"data\",\"value\":31},\"image\":{\"field\":\"image\"},\"x\":{\"value\":0},\"y\":{\"value\":0}},\"id\":\"cb26764c-49ba-4949-a420-3b5d28b31ca6\",\"type\":\"Image\"},{\"attributes\":{\"dimension\":1,\"plot\":{\"id\":\"bf83543e-f971-4e19-bbc6-56b1bc728c93\",\"subtype\":\"Figure\",\"type\":\"Plot\"},\"ticker\":{\"id\":\"5ef89eff-14a4-45c9-a079-89f28705d0d9\",\"type\":\"BasicTicker\"}},\"id\":\"867c46ad-27d9-4d28-bf9f-e9dd05c7e832\",\"type\":\"Grid\"},{\"attributes\":{\"overlay\":{\"id\":\"ecd1344a-1048-4458-9b4b-d38f49bae12a\",\"type\":\"BoxAnnotation\"}},\"id\":\"d645123b-3ea7-4c65-b275-9ef3c45cc48c\",\"type\":\"BoxZoomTool\"},{\"attributes\":{\"palette\":[\"#0C0786\",\"#40039C\",\"#6A00A7\",\"#8F0DA3\",\"#B02A8F\",\"#CA4678\",\"#E06461\",\"#F1824C\",\"#FCA635\",\"#FCCC25\",\"#EFF821\"]},\"id\":\"6f009af8-91e0-4ab1-bfdb-effdf9459578\",\"type\":\"LinearColorMapper\"},{\"attributes\":{},\"id\":\"31d08297-091c-43b7-84c9-25ba45bdd875\",\"type\":\"LinearScale\"},{\"attributes\":{\"source\":{\"id\":\"f1452ebb-904f-4544-8aa1-0a91c82744d3\",\"type\":\"ColumnDataSource\"}},\"id\":\"cfd58cc6-9c96-4223-8490-fe6c6a46f58f\",\"type\":\"CDSView\"},{\"attributes\":{},\"id\":\"2496e9b1-000c-4521-a9aa-b44d50c8cac2\",\"type\":\"WheelZoomTool\"},{\"attributes\":{},\"id\":\"c76ae6b3-e173-4379-965e-429c84a0c906\",\"type\":\"BasicTickFormatter\"},{\"attributes\":{\"callback\":null},\"id\":\"e7a43cb2-7955-4e49-80f3-d76399d802f6\",\"type\":\"DataRange1d\"},{\"attributes\":{\"callback\":null},\"id\":\"26d6b6e6-baeb-46c4-831a-ff8d2c5d5452\",\"type\":\"DataRange1d\"},{\"attributes\":{\"color_mapper\":{\"id\":\"22d54061-5d9a-4c5e-bc5c-a65424418b18\",\"type\":\"LinearColorMapper\"},\"dh\":{\"units\":\"data\",\"value\":31},\"dw\":{\"units\":\"data\",\"value\":31},\"image\":{\"field\":\"image\"},\"x\":{\"value\":0},\"y\":{\"value\":0}},\"id\":\"d1054fe4-7a6b-400f-86cf-b603dd13c26a\",\"type\":\"Image\"},{\"attributes\":{\"formatter\":{\"id\":\"d2499e00-cea2-4bb1-93f2-a5d180dd07b4\",\"type\":\"BasicTickFormatter\"},\"plot\":{\"id\":\"bf83543e-f971-4e19-bbc6-56b1bc728c93\",\"subtype\":\"Figure\",\"type\":\"Plot\"},\"ticker\":{\"id\":\"e08a443e-30dd-43ab-a611-b2d1a98ea107\",\"type\":\"BasicTicker\"}},\"id\":\"3c0aa4e5-1c94-48b7-b5f1-39a29e913aa4\",\"type\":\"LinearAxis\"},{\"attributes\":{},\"id\":\"fe717573-6d66-4050-9291-813d5ef3b67c\",\"type\":\"SaveTool\"},{\"attributes\":{\"plot\":{\"id\":\"bf83543e-f971-4e19-bbc6-56b1bc728c93\",\"subtype\":\"Figure\",\"type\":\"Plot\"},\"ticker\":{\"id\":\"e08a443e-30dd-43ab-a611-b2d1a98ea107\",\"type\":\"BasicTicker\"}},\"id\":\"07b25f7b-de19-4921-b2c2-a553db7e7776\",\"type\":\"Grid\"},{\"attributes\":{\"callback\":null,\"column_names\":[\"image\"],\"data\":{\"image\":[[[-0.45568339802549096,-0.4713223566560325,-0.48666142623414316,-0.5031000187715368,-0.5218475763299434,-0.5380033707230187,-0.5541377339932101,-0.5733044820138897,-0.5897224445895132],[-0.5369179192282203,-0.5527914053267078,-0.5717884643138852,-0.5896989666279459,-0.6110972871412649,-0.6294058221574651,-0.645662235518936,-0.6688682887740955,-0.6858800918831512],[-0.5982517027977905,-0.6168896920523028,-0.6384345349593596,-0.6581393330933104,-0.6796010976890621,-0.6998097673959729,-0.7188866873950744,-0.7411065529346971,-0.7628184324712187],[-0.7916518949304966,-0.8155947269293967,-0.838646798590906,-0.8617436234818586,-0.8901110229801832,-0.9194981739059063,-0.9388247096430059,-0.9666783933497586,-0.9926385903311807],[-0.22565755999765327,-0.2373257261461814,-0.22442343837645598,-0.2569542086539781,-0.24633059028395582,-0.26884821957024957,-0.2716409056953013,-0.3065518486342546,-0.3002560632258793],[1.2600920957507522,1.266396500556634,1.305693122603325,1.3372316795095471,1.37396182320337,1.365726097723219,1.4199519858587675,1.4107876159121109,1.4382548734173575],[1.583123975732529,1.615035230519489,1.655515377656405,1.6926171420294043,1.7342097388605069,1.75590048355644,1.8059092552572367,1.8285705290718477,1.8630362832322958],[1.6835407994505645,1.7180823217097296,1.762332039991047,1.802935016779058,1.848262903000704,1.8738039862946927,1.9227921856120764,1.9551517557219722,1.992469387276089],[1.790462452548249,1.8301958766216522,1.87867370198041,1.9232097314087118,1.9696138826913094,1.9991874067047808,2.049587560706557,2.0857452326694768,2.133560747894119]]]}},\"id\":\"f1452ebb-904f-4544-8aa1-0a91c82744d3\",\"type\":\"ColumnDataSource\"},{\"attributes\":{},\"id\":\"e08a443e-30dd-43ab-a611-b2d1a98ea107\",\"type\":\"BasicTicker\"}],\"root_ids\":[\"bf83543e-f971-4e19-bbc6-56b1bc728c93\"]},\"title\":\"Bokeh Application\",\"version\":\"0.12.10\"}};\n",
       "    var render_items = [{\"docid\":\"a9d95467-d489-47b3-bfad-b1bf77e1c8dc\",\"elementid\":\"cb4645af-a85e-48a7-8181-84193e1a0d32\",\"modelid\":\"bf83543e-f971-4e19-bbc6-56b1bc728c93\"}];\n",
       "\n",
       "    root.Bokeh.embed.embed_items(docs_json, render_items);\n",
       "  }\n",
       "\n",
       "  if (root.Bokeh !== undefined) {\n",
       "    embed_document(root);\n",
       "  } else {\n",
       "    var attempts = 0;\n",
       "    var timer = setInterval(function(root) {\n",
       "      if (root.Bokeh !== undefined) {\n",
       "        embed_document(root);\n",
       "        clearInterval(timer);\n",
       "      }\n",
       "      attempts++;\n",
       "      if (attempts > 100) {\n",
       "        console.log(\"Bokeh: ERROR: Unable to embed document because BokehJS library is missing\")\n",
       "        clearInterval(timer);\n",
       "      }\n",
       "    }, 10, root)\n",
       "  }\n",
       "})(window);"
      ],
      "application/vnd.bokehjs_exec.v0+json": ""
     },
     "metadata": {
      "application/vnd.bokehjs_exec.v0+json": {
       "id": "bf83543e-f971-4e19-bbc6-56b1bc728c93"
      }
     },
     "output_type": "display_data"
    }
   ],
   "source": [
    "#bokeh  使い方あんまかしわからん\n",
    "from bokeh.plotting import figure\n",
    "from bokeh.io import show, output_notebook\n",
    "\n",
    "output_notebook()\n",
    "plt1 = figure()\n",
    "rend1 = plt1.image(image=[data[16000]], x=0, y=0, dw =31, dh=31, palette=\"Plasma11\")\n",
    "\n",
    "show(plt1)"
   ]
  },
  {
   "cell_type": "code",
   "execution_count": 62,
   "metadata": {},
   "outputs": [
    {
     "data": {
      "text/plain": [
       "(-1, 1)"
      ]
     },
     "execution_count": 62,
     "metadata": {},
     "output_type": "execute_result"
    },
    {
     "data": {
      "image/png": "[encoded data removed]",
      "text/plain": [
       "<Figure size 432x288 with 1 Axes>"
      ]
     },
     "metadata": {},
     "output_type": "display_data"
    }
   ],
   "source": [
    "plt.plot(ondata[0][1][1])\n",
    "plt.xlim(8000,8200)\n",
    "plt.ylim(-1,1)"
   ]
  },
  {
   "cell_type": "code",
   "execution_count": 63,
   "metadata": {},
   "outputs": [
    {
     "name": "stdout",
     "output_type": "stream",
     "text": [
      "/home/amigos/git/analy_n2data/notebook\r\n"
     ]
    }
   ],
   "source": [
    "!pwd"
   ]
  },
  {
   "cell_type": "code",
   "execution_count": 50,
   "metadata": {},
   "outputs": [
    {
     "data": {
      "text/plain": [
       "(-2, 2)"
      ]
     },
     "execution_count": 50,
     "metadata": {},
     "output_type": "execute_result"
    },
    {
     "data": {
      "image/png": "[encoded data removed]",
      "text/plain": [
       "<Figure size 432x288 with 1 Axes>"
      ]
     },
     "metadata": {},
     "output_type": "display_data"
    }
   ],
   "source": [
    "plt.plot(data_rms[0][0])\n",
    "plt.xlim(8000,8200)\n",
    "plt.ylim(-2,2)"
   ]
  },
  {
   "cell_type": "code",
   "execution_count": 51,
   "metadata": {},
   "outputs": [
    {
     "name": "stdout",
     "output_type": "stream",
     "text": [
      "()\n"
     ]
    },
    {
     "data": {
      "text/plain": [
       "[<matplotlib.lines.Line2D at 0x7f047f6786d8>]"
      ]
     },
     "execution_count": 51,
     "metadata": {},
     "output_type": "execute_result"
    },
    {
     "data": {
      "image/png": "[encoded data removed]",
      "text/plain": [
       "<Figure size 432x288 with 1 Axes>"
      ]
     },
     "metadata": {},
     "output_type": "display_data"
    }
   ],
   "source": [
    "print(numpy.shape(data_on))\n",
    "plt.plot(data_on[180])"
   ]
  },
  {
   "cell_type": "code",
   "execution_count": null,
   "metadata": {
    "collapsed": true
   },
   "outputs": [],
   "source": []
  },
  {
   "cell_type": "code",
   "execution_count": null,
   "metadata": {
    "collapsed": true
   },
   "outputs": [],
   "source": []
  },
  {
   "cell_type": "code",
   "execution_count": null,
   "metadata": {
    "collapsed": true
   },
   "outputs": [],
   "source": []
  },
  {
   "cell_type": "code",
   "execution_count": null,
   "metadata": {
    "collapsed": true
   },
   "outputs": [],
   "source": []
  }
 ],
 "metadata": {
  "kernelspec": {
   "display_name": "Python 3",
   "language": "python",
   "name": "python3"
  },
  "language_info": {
   "codemirror_mode": {
    "name": "ipython",
    "version": 3
   },
   "file_extension": ".py",
   "mimetype": "text/x-python",
   "name": "python",
   "nbconvert_exporter": "python",
   "pygments_lexer": "ipython3",
   "version": "3.6.3"
  },
  "widgets": {
   "state": {
    "69cef02b5de64cd28537b73db5eaafe1": {
     "views": [
      {
       "cell_index": 46
      }
     ]
    },
    "a1def446d82c496b9beef01c766bc416": {
     "views": [
      {
       "cell_index": 46
      }
     ]
    },
    "c8da718324cb4a21bc4082d13c81de6b": {
     "views": [
      {
       "cell_index": 46
      }
     ]
    }
   },
   "version": "1.2.0"
  }
 },
 "nbformat": 4,
 "nbformat_minor": 2
}
