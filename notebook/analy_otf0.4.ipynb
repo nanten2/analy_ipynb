{
 "cells": [
  {
   "cell_type": "markdown",
   "metadata": {},
   "source": [
    "### 観測データ\n",
    "解析に必要なデータ\n",
    "- XFFTS data\n",
    "- Encoder data\n",
    "- weather status\n",
    "- hosei copy\n",
    "- obs copy\n",
    "\n",
    "中間生成データ\n",
    "- encoder npy\n",
    "- xffts npy\n",
    "- vobs npy\n",
    "\n",
    "### 解析フロー\n",
    "\n",
    "- doppler tracking[o]\n",
    "     - XFFTSのtimestampとRa, Decの情報からvobsを計算します。\n",
    "     - vobsの量だけchをずらします。(小数chのずれは線形補完で計算してずらします)\n",
    "- Chopper Wheel [o]\n",
    "- baseline fitting [o]\n",
    "- Scaling(from standard object?) [x]\n",
    "- regrid [o]\n",
    "    - rms [o]\n",
    "    - distance [o]\n",
    "- +header [o]\n",
    "- 3d-fits[o]"
   ]
  },
  {
   "cell_type": "markdown",
   "metadata": {},
   "source": []
  },
  {
   "cell_type": "code",
   "execution_count": 13,
   "metadata": {},
   "outputs": [],
   "source": [
    "import sys\n",
    "sys.path.append(\"../script/\")\n",
    "import time\n",
    "import subprocess\n",
    "import os\n",
    "import numpy\n",
    "import matplotlib.pyplot as plt\n",
    "from tqdm import tqdm\n",
    "from joblib import Parallel, delayed\n",
    "import numba\n",
    "from astropy.io import fits\n",
    "from scipy import interpolate\n",
    "###以下独自\n",
    "import n2df\n",
    "import read_obsfile\n",
    "import analy_doppler_nanten\n",
    "import log_weather"
   ]
  },
  {
   "cell_type": "code",
   "execution_count": 14,
   "metadata": {},
   "outputs": [
    {
     "data": {
      "text/plain": [
       "['enc.db',\n",
       " 'encoder_radec.npy',\n",
       " 'hosei_230.txt',\n",
       " 'line_otf_OriKL_dcosy.obs',\n",
       " 'test20190905.fits',\n",
       " 'test20190906.fits',\n",
       " 'test20190906_v2.fits',\n",
       " 'test20190906_v3.fits',\n",
       " 'test20190906_v.fits',\n",
       " 'test4.fits',\n",
       " 'vobs.npy',\n",
       " 'weather.csv',\n",
       " 'xffts.ndf',\n",
       " 'xffts_radec.npy']"
      ]
     },
     "execution_count": 14,
     "metadata": {},
     "output_type": "execute_result"
    }
   ],
   "source": [
    "analy_dir = \"/home/amigos/data/otf_2019/n20190904142646_12CO_2-1_otf_OriKL\"#新形式\n",
    "subprocess.getoutput([\"ls {}\".format(analy_dir)]).split(\"\\n\")"
   ]
  },
  {
   "cell_type": "code",
   "execution_count": 15,
   "metadata": {},
   "outputs": [
    {
     "name": "stdout",
     "output_type": "stream",
     "text": [
      "      timestamp     intemp    outtemp    inhumi   outhumi     winddir  \\\n",
      "0  1.567607e+09  15.165850  16.762726  1.233124  8.473565  268.908455   \n",
      "1  1.567607e+09  14.549850  16.380080  1.769449  8.764045  268.062679   \n",
      "2  1.567607e+09  14.352203  16.540349  1.371281  8.939968  268.232077   \n",
      "3  1.567607e+09  14.832550  16.516944  1.410851  8.499712  268.703383   \n",
      "4  1.567607e+09  15.014435  16.310218  1.383554  8.001146  268.403536   \n",
      "5  1.567607e+09  15.227496  16.502959  1.787469  8.020369  268.405620   \n",
      "6  1.567607e+09  14.941033  16.210031  1.054588  8.859497  268.497477   \n",
      "7  1.567607e+09  15.312008  16.305998  1.351483  8.623849  268.810436   \n",
      "8  1.567607e+09  14.806064  16.560436  1.701079  8.045723  268.784821   \n",
      "\n",
      "     windsp       press      rain  cabin_temp1  cabin_temp2  dome_temp1  \\\n",
      "0  6.788000  570.449484  0.367690    21.823577    31.744922    9.926390   \n",
      "1  6.283264  570.372420  0.431126    22.097574    32.098455   10.393100   \n",
      "2  5.868241  570.252858  0.744092    21.718747    32.531729   10.370442   \n",
      "3  6.016072  570.951161  0.479151    21.558676    32.319791   10.109734   \n",
      "4  5.875769  570.777552  0.459905    21.649836    32.417581   10.423639   \n",
      "5  5.916638  570.559643  0.481345    21.541441    32.293974   10.283336   \n",
      "6  6.412787  570.431062  0.277319    21.958664    31.698598   10.251249   \n",
      "7  5.855934  570.883870  0.048053    22.246497    31.605057   10.066899   \n",
      "8  6.597547  570.383483  0.792339    21.917709    32.086713   10.318847   \n",
      "\n",
      "   dome_temp2  gen_temp1  gen_temp2  scan_num  obs_mode  \n",
      "0   13.016132  10.722852  12.988488         0       NaN  \n",
      "1   13.242731   9.990005  13.703775         1       NaN  \n",
      "2   13.012921  10.170233  13.631688         2       NaN  \n",
      "3   13.131695  10.289689  13.343448         3       NaN  \n",
      "4   13.569433   9.956268  13.324624         4       NaN  \n",
      "5   13.192073  10.381206  13.880711         5       NaN  \n",
      "6   13.650977  10.054828  13.343051         6       NaN  \n",
      "7   13.193483  10.461166  12.980832         7       NaN  \n",
      "8   13.786313  10.677168  13.704803         8       NaN  \n"
     ]
    }
   ],
   "source": [
    "###気象情報の読み込み\n",
    "weather_data = log_weather.Weather_log(os.path.join(analy_dir, \"weather.csv\")).read()\n",
    "print(weather_data)\n",
    "#気象データの確認\n",
    "humi = numpy.mean(weather_data[\"outhumi\"])\n",
    "press = numpy.mean(weather_data[\"press\"])\n",
    "temprature = numpy.mean(weather_data[\"outtemp\"])\n",
    "lamda = 1300\n",
    "cabin_temp = weather_data[\"cabin_temp1\"]"
   ]
  },
  {
   "cell_type": "code",
   "execution_count": 73,
   "metadata": {},
   "outputs": [
    {
     "name": "stdout",
     "output_type": "stream",
     "text": [
      "CPU times: user 0 ns, sys: 0 ns, total: 0 ns\n",
      "Wall time: 352 µs\n"
     ]
    }
   ],
   "source": [
    "%%time\n",
    "if not os.path.exists(os.path.join(analy_dir, \"xffts_radec.npy\")):\n",
    "    cmd = \"python /home/amigos/git/analy_n2data/script/analy_coordinates.py {analy_dir} -p {press} -l {lamda} -hu  {humi} -t {temprature}\".format(**locals())\n",
    "    subprocess.run(cmd.split())"
   ]
  },
  {
   "cell_type": "code",
   "execution_count": 74,
   "metadata": {
    "collapsed": true
   },
   "outputs": [],
   "source": [
    "###AzEl情報をradecに変換したものの一時ファイルの読み込み\n",
    "path_xffts_c = os.path.join(analy_dir, \"xffts_radec.npy\")\n",
    "path_encoder_c = os.path.join(analy_dir, \"encoder_radec.npy\")\n",
    "xffts = numpy.load(path_xffts_c)\n",
    "encoder = numpy.load(path_encoder_c)"
   ]
  },
  {
   "cell_type": "markdown",
   "metadata": {},
   "source": [
    "### gridの作成\n"
   ]
  },
  {
   "cell_type": "code",
   "execution_count": 20,
   "metadata": {
    "collapsed": true
   },
   "outputs": [],
   "source": [
    "#観測プログラムから必要な情報を出す\n",
    "obsfile_dict = read_obsfile.read(os.path.join(analy_dir, \"line_otf_OriKL_dcosy.obs\"))\n",
    "lamda_on = obsfile_dict[\"lambda_on\"]\n",
    "beta_on = obsfile_dict[\"beta_on\"]\n",
    "N = obsfile_dict[\"N\"]\n",
    "grid = obsfile_dict[\"grid\"]/3600 #[deg]"
   ]
  },
  {
   "cell_type": "code",
   "execution_count": 21,
   "metadata": {},
   "outputs": [
    {
     "data": {
      "text/plain": [
       "{'N': 9,\n",
       " 'acc': 10,\n",
       " 'beta_off': -5.6683,\n",
       " 'beta_on': -5.37432,\n",
       " 'betdel_off': 0,\n",
       " 'cold_flag': 'N',\n",
       " 'coordsys': 'j2000',\n",
       " 'cosydel': 'j2000',\n",
       " 'datanum': 9.0,\n",
       " 'end_ch_1': 16383,\n",
       " 'end_ch_2': 16383,\n",
       " 'exposure': 0.6,\n",
       " 'exposure_off': 10.0,\n",
       " 'fpga_integtime': 100,\n",
       " 'grid': 30,\n",
       " 'if1st_freq_1': 4438.0,\n",
       " 'if1st_freq_2': 5701.3,\n",
       " 'if3rd_freq_1': 500.0,\n",
       " 'if3rd_freq_2': 500.0,\n",
       " 'lambda_off': 82.559,\n",
       " 'lambda_on': 83.80613,\n",
       " 'lamdel_off': 0,\n",
       " 'lamp_pixels': 4,\n",
       " 'lo1st_sb_1': 'U',\n",
       " 'lo1st_sb_2': 'L',\n",
       " 'lo2nd_sb_1': 'L',\n",
       " 'lo2nd_sb_2': 'L',\n",
       " 'lo3rd_freq_1': 4100.0,\n",
       " 'lo3rd_freq_2': 4100.0,\n",
       " 'lo3rd_sb_1': 'L',\n",
       " 'lo3rd_sb_2': 'L',\n",
       " 'load_interval': 5,\n",
       " 'molecule_1': '12CO',\n",
       " 'molecule_2': '13CO',\n",
       " 'multiple': 12,\n",
       " 'nTest': 1,\n",
       " 'object': 'OriKL',\n",
       " 'observer': 'amigos',\n",
       " 'obsfreq_1': 230538.0,\n",
       " 'obsfreq_2': 220398.684,\n",
       " 'obsmode': 'LINEOTF',\n",
       " 'offset_Az': 0,\n",
       " 'offset_El': 0,\n",
       " 'otadel': 'N',\n",
       " 'otadel_off': 'N',\n",
       " 'otflen': 5.4,\n",
       " 'otfvel': 50.0,\n",
       " 'pllharmonic': 1,\n",
       " 'pllref_if': 1,\n",
       " 'pllreffreq': 0,\n",
       " 'pllsideband': -1,\n",
       " 'purpose': 2,\n",
       " 'restfreq_1': 230538.0,\n",
       " 'restfreq_2': 220398.684,\n",
       " 'scan_direction': 0,\n",
       " 'start_ch_1': 0,\n",
       " 'start_ch_2': 0,\n",
       " 'start_pos_x': -120.0,\n",
       " 'start_pos_y': -120.0,\n",
       " 'transiti_1': 'J=2-1',\n",
       " 'transiti_2': 'J=2-1',\n",
       " 'tsys': 0,\n",
       " 'tuning_vlsr': 0.0,\n",
       " 'vlsr': 0.0}"
      ]
     },
     "execution_count": 21,
     "metadata": {},
     "output_type": "execute_result"
    }
   ],
   "source": [
    "obsfile_dict"
   ]
  },
  {
   "cell_type": "code",
   "execution_count": 65,
   "metadata": {
    "collapsed": true
   },
   "outputs": [],
   "source": [
    "#今回girdからどこまで離れた範囲まで解析の中に含めるかの値。これは外からいじれる値にしておかないと\n",
    "offset = 80#半径[arcsec]\n",
    "array_num = 2#1~16IF "
   ]
  },
  {
   "cell_type": "code",
   "execution_count": 66,
   "metadata": {},
   "outputs": [
    {
     "data": {
      "text/plain": [
       "(2, 9, 9)"
      ]
     },
     "execution_count": 66,
     "metadata": {},
     "output_type": "execute_result"
    }
   ],
   "source": [
    "#make gird\n",
    "ragrid = numpy.linspace(lamda_on - ((N-1)/2)*grid, lamda_on + ((N-1)/2)*grid, num=9)\n",
    "decgrid = numpy.linspace(beta_on - ((N-1)/2)*grid, beta_on + ((N-1)/2)*grid, num=9)\n",
    "radec_grid = numpy.meshgrid(ragrid, decgrid)\n",
    "numpy.shape(radec_grid)"
   ]
  },
  {
   "cell_type": "code",
   "execution_count": 67,
   "metadata": {},
   "outputs": [
    {
     "data": {
      "image/png": "[encoded data removed]",
      "text/plain": [
       "<Figure size 432x288 with 1 Axes>"
      ]
     },
     "metadata": {},
     "output_type": "display_data"
    }
   ],
   "source": [
    "#gridの確認\n",
    "#girdとXFFTSの点がずれている。\n",
    "plt.plot(radec_grid[0], radec_grid[1], \".\")\n",
    "plt.plot(lamda_on, beta_on, \"*\")\n",
    "plt.plot(xffts[0], xffts[1])\n",
    "#plt.plot(encoder[0], encoder[1], \".\")\n",
    "plt.xlim(83.6, 83.9)\n",
    "plt.ylim(-5.45, -5.3)\n",
    "plt.savefig(\"neko.pdf\")\n",
    "plt.grid()\n",
    "plt.show()\n",
    "\n",
    "### なんで線と点がずれているんだ？"
   ]
  },
  {
   "cell_type": "code",
   "execution_count": 69,
   "metadata": {},
   "outputs": [
    {
     "name": "stderr",
     "output_type": "stream",
     "text": [
      "\n",
      "\n",
      "\n",
      "  0%|          | 0/2146 [00:00<?, ?it/s]\u001b[A\u001b[A\u001b[A\n",
      "\n",
      "\n",
      " 34%|███▍      | 738/2146 [00:00<00:01, 1239.50it/s]\u001b[A\u001b[A\u001b[A\n",
      "\n",
      "\n",
      " 63%|██████▎   | 1351/2146 [00:00<00:00, 1629.46it/s]\u001b[A\u001b[A\u001b[A\n",
      "\n",
      "\n",
      "100%|██████████| 2146/2146 [00:00<00:00, 2755.78it/s]\u001b[A\u001b[A\u001b[A\n",
      "\n",
      "\n",
      "  0%|          | 0/2146 [00:00<?, ?it/s]\u001b[A\u001b[A\u001b[A\n",
      "\n",
      "\n",
      "100%|██████████| 2146/2146 [00:00<00:00, 179152.43it/s]\u001b[A\u001b[A\u001b[A\n",
      "\n",
      "\n",
      "  0%|          | 0/2146 [00:00<?, ?it/s]\u001b[A\u001b[A\u001b[A\n",
      "\n",
      "\n",
      "100%|██████████| 2146/2146 [00:00<00:00, 507325.92it/s]\u001b[A\u001b[A\u001b[A"
     ]
    },
    {
     "name": "stdout",
     "output_type": "stream",
     "text": [
      "CPU times: user 84 ms, sys: 128 ms, total: 212 ms\n",
      "Wall time: 873 ms\n"
     ]
    }
   ],
   "source": [
    "%%time\n",
    "#分光データの読み出し\n",
    "n = n2df.Read(os.path.join(analy_dir, \"xffts.ndf\"))\n",
    "array_data = n.read_onearray(array_num)#1IFの分光データ\n",
    "obs_mode = n.read_obs_mode()#観測モード（ON/OFF/HOT）\n",
    "scan_num = n.read_scan_num()#スキャンライン（0,1,2,3,4,...）\n",
    "###array_data, scan_num, obs_mode = n.read_for_otf(1)#3分くらいかかた"
   ]
  },
  {
   "cell_type": "markdown",
   "metadata": {},
   "source": [
    "## doppler tracking\n"
   ]
  },
  {
   "cell_type": "code",
   "execution_count": 70,
   "metadata": {
    "scrolled": true
   },
   "outputs": [
    {
     "name": "stdout",
     "output_type": "stream",
     "text": [
      " vobs.npy already exists\n"
     ]
    }
   ],
   "source": [
    "if not os.path.exists(os.path.join(analy_dir, \"vobs.npy\")):\n",
    "    from numpy import deg2rad\n",
    "    d = analy_doppler_nanten.doppler_nanten()\n",
    "    vobs = [d.calc_vobs(deg2rad(xffts[0][i]),deg2rad(xffts[1][i]), xffts[2][i]) for i in tqdm(range(len(xffts[0])))]\n",
    "    #vobs = Parallel(n_jobs=-1, verbose=2)([delayed(d.calc_vobs(deg2rad(xffts[0][i]), deg2rad(xffts[1][i]), xffts[2][i])) for i in tqdm(range(len(xffts[0])))])\n",
    "else:\n",
    "    print(\" vobs.npy already exists\")"
   ]
  },
  {
   "cell_type": "code",
   "execution_count": 71,
   "metadata": {
    "collapsed": true
   },
   "outputs": [],
   "source": [
    "numpy.save(os.path.join(analy_dir, \"vobs\"), vobs)"
   ]
  },
  {
   "cell_type": "code",
   "execution_count": 75,
   "metadata": {
    "scrolled": true
   },
   "outputs": [
    {
     "name": "stderr",
     "output_type": "stream",
     "text": [
      "\n",
      "\n",
      "\n",
      "  0%|          | 0/2146 [00:00<?, ?it/s]\u001b[A\u001b[A\u001b[A\n",
      "\n",
      "\n",
      "  1%|          | 21/2146 [00:00<00:10, 207.56it/s]\u001b[A\u001b[A\u001b[A"
     ]
    },
    {
     "name": "stdout",
     "output_type": "stream",
     "text": [
      "(2146,)\n",
      "vobsは全て正\n",
      "(32768,)\n"
     ]
    },
    {
     "name": "stderr",
     "output_type": "stream",
     "text": [
      "\n",
      "\n",
      "\n",
      "  2%|▏         | 49/2146 [00:00<00:09, 223.79it/s]\u001b[A\u001b[A\u001b[A\n",
      "\n",
      "\n",
      "  3%|▎         | 74/2146 [00:00<00:08, 231.02it/s]\u001b[A\u001b[A\u001b[A\n",
      "\n",
      "\n",
      "  4%|▍         | 94/2146 [00:00<00:09, 218.77it/s]\u001b[A\u001b[A\u001b[A\n",
      "\n",
      "\n",
      "  6%|▌         | 123/2146 [00:00<00:08, 235.45it/s]\u001b[A\u001b[A\u001b[A\n",
      "\n",
      "\n",
      "  7%|▋         | 144/2146 [00:00<00:09, 220.04it/s]\u001b[A\u001b[A\u001b[A\n",
      "\n",
      "\n",
      "  8%|▊         | 170/2146 [00:00<00:08, 228.92it/s]\u001b[A\u001b[A\u001b[A\n",
      "\n",
      "\n",
      "  9%|▉         | 192/2146 [00:00<00:08, 219.61it/s]\u001b[A\u001b[A\u001b[A\n",
      "\n",
      "\n",
      " 10%|▉         | 214/2146 [00:00<00:08, 217.63it/s]\u001b[A\u001b[A\u001b[A\n",
      "\n",
      "\n",
      " 11%|█         | 236/2146 [00:01<00:09, 211.26it/s]\u001b[A\u001b[A\u001b[A\n",
      "\n",
      "\n",
      " 12%|█▏        | 261/2146 [00:01<00:08, 219.72it/s]\u001b[A\u001b[A\u001b[A\n",
      "\n",
      "\n",
      " 13%|█▎        | 283/2146 [00:01<00:08, 217.62it/s]\u001b[A\u001b[A\u001b[A\n",
      "\n",
      "\n",
      " 14%|█▍        | 308/2146 [00:01<00:08, 225.29it/s]\u001b[A\u001b[A\u001b[A\n",
      "\n",
      "\n",
      " 16%|█▌        | 336/2146 [00:01<00:07, 236.99it/s]\u001b[A\u001b[A\u001b[A\n",
      "\n",
      "\n",
      " 17%|█▋        | 360/2146 [00:01<00:07, 224.95it/s]\u001b[A\u001b[A\u001b[A\n",
      "\n",
      "\n",
      " 18%|█▊        | 383/2146 [00:01<00:08, 217.92it/s]\u001b[A\u001b[A\u001b[A\n",
      "\n",
      "\n",
      " 19%|█▉        | 406/2146 [00:01<00:07, 218.42it/s]\u001b[A\u001b[A\u001b[A\n",
      "\n",
      "\n",
      " 20%|██        | 431/2146 [00:01<00:07, 220.89it/s]\u001b[A\u001b[A\u001b[A\n",
      "\n",
      "\n",
      " 21%|██▏       | 458/2146 [00:02<00:07, 232.37it/s]\u001b[A\u001b[A\u001b[A\n",
      "\n",
      "\n",
      " 22%|██▏       | 482/2146 [00:02<00:07, 228.67it/s]\u001b[A\u001b[A\u001b[A\n",
      "\n",
      "\n",
      " 24%|██▎       | 506/2146 [00:02<00:07, 226.90it/s]\u001b[A\u001b[A\u001b[A\n",
      "\n",
      "\n",
      " 25%|██▍       | 529/2146 [00:02<00:07, 224.66it/s]\u001b[A\u001b[A\u001b[A\n",
      "\n",
      "\n",
      " 26%|██▌       | 552/2146 [00:02<00:07, 222.26it/s]\u001b[A\u001b[A\u001b[A\n",
      "\n",
      "\n",
      " 27%|██▋       | 578/2146 [00:02<00:06, 232.22it/s]\u001b[A\u001b[A\u001b[A\n",
      "\n",
      "\n",
      " 28%|██▊       | 608/2146 [00:02<00:06, 247.24it/s]\u001b[A\u001b[A\u001b[A\n",
      "\n",
      "\n",
      " 30%|██▉       | 640/2146 [00:02<00:05, 262.81it/s]\u001b[A\u001b[A\u001b[A\n",
      "\n",
      "\n",
      " 31%|███       | 668/2146 [00:02<00:05, 267.27it/s]\u001b[A\u001b[A\u001b[A\n",
      "\n",
      "\n",
      " 32%|███▏      | 696/2146 [00:02<00:05, 266.91it/s]\u001b[A\u001b[A\u001b[A\n",
      "\n",
      "\n",
      " 34%|███▎      | 723/2146 [00:03<00:05, 249.64it/s]\u001b[A\u001b[A\u001b[A\n",
      "\n",
      "\n",
      " 35%|███▍      | 749/2146 [00:03<00:05, 243.23it/s]\u001b[A\u001b[A\u001b[A\n",
      "\n",
      "\n",
      " 36%|███▋      | 778/2146 [00:03<00:05, 255.22it/s]\u001b[A\u001b[A\u001b[A\n",
      "\n",
      "\n",
      " 37%|███▋      | 804/2146 [00:03<00:05, 251.39it/s]\u001b[A\u001b[A\u001b[A\n",
      "\n",
      "\n",
      " 39%|███▉      | 832/2146 [00:03<00:05, 258.30it/s]\u001b[A\u001b[A\u001b[A\n",
      "\n",
      "\n",
      " 40%|████      | 861/2146 [00:03<00:04, 266.23it/s]\u001b[A\u001b[A\u001b[A\n",
      "\n",
      "\n",
      " 41%|████▏     | 889/2146 [00:03<00:04, 266.96it/s]\u001b[A\u001b[A\u001b[A\n",
      "\n",
      "\n",
      " 43%|████▎     | 916/2146 [00:03<00:04, 267.00it/s]\u001b[A\u001b[A\u001b[A\n",
      "\n",
      "\n",
      " 44%|████▍     | 944/2146 [00:03<00:04, 267.59it/s]\u001b[A\u001b[A\u001b[A\n",
      "\n",
      "\n",
      " 45%|████▌     | 971/2146 [00:04<00:04, 241.39it/s]\u001b[A\u001b[A\u001b[A\n",
      "\n",
      "\n",
      " 46%|████▋     | 996/2146 [00:04<00:05, 222.81it/s]\u001b[A\u001b[A\u001b[A\n",
      "\n",
      "\n",
      " 47%|████▋     | 1019/2146 [00:04<00:05, 215.80it/s]\u001b[A\u001b[A\u001b[A\n",
      "\n",
      "\n",
      " 49%|████▊     | 1042/2146 [00:04<00:05, 216.29it/s]\u001b[A\u001b[A\u001b[A\n",
      "\n",
      "\n",
      " 50%|████▉     | 1066/2146 [00:04<00:04, 222.75it/s]\u001b[A\u001b[A\u001b[A\n",
      "\n",
      "\n",
      " 51%|█████     | 1089/2146 [00:04<00:04, 213.19it/s]\u001b[A\u001b[A\u001b[A\n",
      "\n",
      "\n",
      " 52%|█████▏    | 1121/2146 [00:04<00:04, 232.00it/s]\u001b[A\u001b[A\u001b[A\n",
      "\n",
      "\n",
      " 53%|█████▎    | 1147/2146 [00:04<00:04, 238.49it/s]\u001b[A\u001b[A\u001b[A\n",
      "\n",
      "\n",
      " 55%|█████▍    | 1172/2146 [00:04<00:04, 241.07it/s]\u001b[A\u001b[A\u001b[A\n",
      "\n",
      "\n",
      " 56%|█████▌    | 1197/2146 [00:05<00:04, 233.03it/s]\u001b[A\u001b[A\u001b[A\n",
      "\n",
      "\n",
      " 57%|█████▋    | 1221/2146 [00:05<00:03, 234.99it/s]\u001b[A\u001b[A\u001b[A\n",
      "\n",
      "\n",
      " 58%|█████▊    | 1246/2146 [00:05<00:03, 239.15it/s]\u001b[A\u001b[A\u001b[A\n",
      "\n",
      "\n",
      " 59%|█████▉    | 1271/2146 [00:05<00:03, 230.96it/s]\u001b[A\u001b[A\u001b[A\n",
      "\n",
      "\n",
      " 60%|██████    | 1296/2146 [00:05<00:03, 235.22it/s]\u001b[A\u001b[A\u001b[A\n",
      "\n",
      "\n",
      " 62%|██████▏   | 1320/2146 [00:05<00:03, 233.68it/s]\u001b[A\u001b[A\u001b[A\n",
      "\n",
      "\n",
      " 63%|██████▎   | 1344/2146 [00:05<00:03, 214.78it/s]\u001b[A\u001b[A\u001b[A\n",
      "\n",
      "\n",
      " 64%|██████▎   | 1366/2146 [00:05<00:03, 212.92it/s]\u001b[A\u001b[A\u001b[A\n",
      "\n",
      "\n",
      " 65%|██████▌   | 1395/2146 [00:05<00:03, 230.98it/s]\u001b[A\u001b[A\u001b[A\n",
      "\n",
      "\n",
      " 66%|██████▌   | 1419/2146 [00:06<00:03, 230.75it/s]\u001b[A\u001b[A\u001b[A\n",
      "\n",
      "\n",
      " 67%|██████▋   | 1443/2146 [00:06<00:03, 225.25it/s]\u001b[A\u001b[A\u001b[A\n",
      "\n",
      "\n",
      " 68%|██████▊   | 1468/2146 [00:06<00:02, 229.92it/s]\u001b[A\u001b[A\u001b[A\n",
      "\n",
      "\n",
      " 70%|██████▉   | 1493/2146 [00:06<00:02, 232.08it/s]\u001b[A\u001b[A\u001b[A\n",
      "\n",
      "\n",
      " 71%|███████   | 1517/2146 [00:06<00:02, 219.29it/s]\u001b[A\u001b[A\u001b[A\n",
      "\n",
      "\n",
      " 72%|███████▏  | 1540/2146 [00:06<00:02, 207.20it/s]\u001b[A\u001b[A\u001b[A\n",
      "\n",
      "\n",
      " 73%|███████▎  | 1565/2146 [00:06<00:02, 216.64it/s]\u001b[A\u001b[A\u001b[A\n",
      "\n",
      "\n",
      " 74%|███████▍  | 1588/2146 [00:06<00:02, 211.09it/s]\u001b[A\u001b[A\u001b[A\n",
      "\n",
      "\n",
      " 75%|███████▌  | 1610/2146 [00:06<00:02, 207.80it/s]\u001b[A\u001b[A\u001b[A\n",
      "\n",
      "\n",
      " 76%|███████▌  | 1633/2146 [00:07<00:02, 212.07it/s]\u001b[A\u001b[A\u001b[A\n",
      "\n",
      "\n",
      " 77%|███████▋  | 1658/2146 [00:07<00:02, 221.44it/s]\u001b[A\u001b[A\u001b[A\n",
      "\n",
      "\n",
      " 78%|███████▊  | 1682/2146 [00:07<00:02, 226.31it/s]\u001b[A\u001b[A\u001b[A\n",
      "\n",
      "\n",
      " 80%|███████▉  | 1708/2146 [00:07<00:01, 233.58it/s]\u001b[A\u001b[A\u001b[A\n",
      "\n",
      "\n",
      " 81%|████████  | 1733/2146 [00:07<00:01, 236.40it/s]\u001b[A\u001b[A\u001b[A\n",
      "\n",
      "\n",
      " 82%|████████▏ | 1758/2146 [00:07<00:01, 237.18it/s]\u001b[A\u001b[A\u001b[A\n",
      "\n",
      "\n",
      " 83%|████████▎ | 1782/2146 [00:07<00:01, 231.42it/s]\u001b[A\u001b[A\u001b[A\n",
      "\n",
      "\n",
      " 84%|████████▍ | 1806/2146 [00:07<00:01, 232.07it/s]\u001b[A\u001b[A\u001b[A\n",
      "\n",
      "\n",
      " 86%|████████▌ | 1836/2146 [00:07<00:01, 247.89it/s]\u001b[A\u001b[A\u001b[A\n",
      "\n",
      "\n",
      " 87%|████████▋ | 1862/2146 [00:07<00:01, 248.19it/s]\u001b[A\u001b[A\u001b[A\n",
      "\n",
      "\n",
      " 88%|████████▊ | 1888/2146 [00:08<00:01, 247.35it/s]\u001b[A\u001b[A\u001b[A\n",
      "\n",
      "\n",
      " 89%|████████▉ | 1914/2146 [00:08<00:00, 246.15it/s]\u001b[A\u001b[A\u001b[A\n",
      "\n",
      "\n",
      " 90%|█████████ | 1939/2146 [00:08<00:00, 236.92it/s]\u001b[A\u001b[A\u001b[A\n",
      "\n",
      "\n",
      " 92%|█████████▏| 1964/2146 [00:08<00:00, 238.70it/s]\u001b[A\u001b[A\u001b[A\n",
      "\n",
      "\n",
      " 93%|█████████▎| 1988/2146 [00:08<00:00, 218.07it/s]\u001b[A\u001b[A\u001b[A\n",
      "\n",
      "\n",
      " 94%|█████████▎| 2011/2146 [00:08<00:00, 216.41it/s]\u001b[A\u001b[A\u001b[A\n",
      "\n",
      "\n",
      " 95%|█████████▍| 2033/2146 [00:08<00:00, 186.88it/s]\u001b[A\u001b[A\u001b[A\n",
      "\n",
      "\n",
      " 96%|█████████▌| 2053/2146 [00:08<00:00, 184.32it/s]\u001b[A\u001b[A\u001b[A\n",
      "\n",
      "\n",
      " 97%|█████████▋| 2073/2146 [00:08<00:00, 188.31it/s]\u001b[A\u001b[A\u001b[A\n",
      "\n",
      "\n",
      " 98%|█████████▊| 2097/2146 [00:09<00:00, 198.95it/s]\u001b[A\u001b[A\u001b[A\n",
      "\n",
      "\n",
      " 99%|█████████▊| 2118/2146 [00:09<00:00, 199.65it/s]\u001b[A\u001b[A\u001b[A\n",
      "\n",
      "\n",
      "100%|█████████▉| 2139/2146 [00:09<00:00, 200.93it/s]\u001b[A\u001b[A\u001b[A\n",
      "\n",
      "\n",
      "100%|██████████| 2146/2146 [00:09<00:00, 229.35it/s]\u001b[A\u001b[A\u001b[A"
     ]
    },
    {
     "name": "stdout",
     "output_type": "stream",
     "text": [
      "[0.37724248 0.3772242  0.37712113 ... 0.99931314 0.99896522 0.99855819]\n"
     ]
    }
   ],
   "source": [
    "vobs = numpy.load(os.path.join(analy_dir, \"./vobs.npy\"))\n",
    "vobs = numpy.array(vobs)\n",
    "vobs = vobs + 200.45\n",
    "print(numpy.shape(vobs))\n",
    "if numpy.count_nonzero(vobs>0) == len(vobs):\n",
    "    print(\"vobsは全て正\")\n",
    "elif numpy.count_nonzero(vobs<0) == len(vobs):\n",
    "    print(\"vobsは全て負\")\n",
    "else:\n",
    "    print(\"vobsは正も負もある\")\n",
    "\n",
    "#config\n",
    "dv = 0.167#km/s\n",
    "ch = numpy.linspace(0, 32767, 32768)\n",
    "bch = list(map(int, vobs//dv))#ch数の移動\n",
    "slide_ch = (vobs/dv) - bch#interpolationによる移動量\n",
    "bch_max = numpy.max(bch)\n",
    "bch_min = numpy.min(bch)\n",
    "\n",
    "dp_data = []\n",
    "xx_data = []\n",
    "print(numpy.shape(array_data[1]))\n",
    "for i in tqdm(range(len(vobs))):\n",
    "    f = interpolate.interp1d(ch, array_data[i])\n",
    "    ch2 = ch+slide_ch[i]\n",
    "    if slide_ch[i] > 0:\n",
    "        n = f(ch2[:-1])\n",
    "    elif slide_ch[i] <0:\n",
    "        n = f(ch2[1:])\n",
    "    new_p = n\n",
    "    if vobs[i] >0:\n",
    "        xx = ch[:-1] - bch[i]\n",
    "        #yy = new_p[bch[i]:]\n",
    "        yy = new_p\n",
    "    elif vobs[i]<0:\n",
    "        xx = ch[:-1] - bch[i]\n",
    "        yy = new_p\n",
    "        #yy = new_p[:bch[i]]\n",
    "    xx_data.append(xx)\n",
    "    dp_data.append(yy)\n",
    "    \n",
    "print(slide_ch)\n",
    "\n"
   ]
  },
  {
   "cell_type": "code",
   "execution_count": 240,
   "metadata": {},
   "outputs": [
    {
     "name": "stdout",
     "output_type": "stream",
     "text": [
      "[-3646. -3645. -3644. ... 29117. 29118. 29119.] 32766\n"
     ]
    }
   ],
   "source": [
    "xx_data = numpy.array(xx_data)\n",
    "xx_min = numpy.max(xx_data.T[0])#regridの最小値\n",
    "xx_max = numpy.min(xx_data.T[-1])#regirdの最大値\n",
    "\n",
    "new_xx = numpy.arange(xx_min, xx_max+1, 1)\n",
    "print(new_xx, len(new_xx))"
   ]
  },
  {
   "cell_type": "code",
   "execution_count": 241,
   "metadata": {},
   "outputs": [
    {
     "name": "stdout",
     "output_type": "stream",
     "text": [
      "(2146, 32767)\n"
     ]
    }
   ],
   "source": [
    "mask_list= []\n",
    "print(numpy.shape(xx_data))\n",
    "for i in range(len(xx_data)):\n",
    "    mask = (xx_data[i] >= xx_min) & (xx_data[i] <= xx_max)\n",
    "    mask_list.append(mask)"
   ]
  },
  {
   "cell_type": "code",
   "execution_count": 242,
   "metadata": {},
   "outputs": [
    {
     "name": "stderr",
     "output_type": "stream",
     "text": [
      "100%|██████████| 2146/2146 [00:00<00:00, 9020.78it/s]\n"
     ]
    }
   ],
   "source": [
    "new_yy_list = []\n",
    "for i in tqdm(range(len(xx_data))):\n",
    "    new_yy_list.append(dp_data[i][mask_list[i]])"
   ]
  },
  {
   "cell_type": "code",
   "execution_count": 243,
   "metadata": {},
   "outputs": [
    {
     "data": {
      "text/plain": [
       "(2146, 32766)"
      ]
     },
     "execution_count": 243,
     "metadata": {},
     "output_type": "execute_result"
    }
   ],
   "source": [
    "len(new_xx)\n",
    "origin_array_data = array_data\n",
    "array_data = new_yy_list\n",
    "numpy.shape(array_data)"
   ]
  },
  {
   "cell_type": "code",
   "execution_count": null,
   "metadata": {
    "collapsed": true
   },
   "outputs": [],
   "source": [
    "%matplotlib inline\n",
    "plt.plot(new_yy_list[0], label=\"interpolate\")\n",
    "plt.plot(origin_array_data[0], label=\"original\")\n",
    "plt.legend()\n",
    "plt.grid()\n",
    "#plt.xlim(7500,8300)\n",
    "plt.xlim(8000,8100)\n",
    "plt.ylim(7100, 7200)\n"
   ]
  },
  {
   "cell_type": "markdown",
   "metadata": {},
   "source": [
    "on/off/hot indexの整理"
   ]
  },
  {
   "cell_type": "code",
   "execution_count": 178,
   "metadata": {
    "collapsed": true
   },
   "outputs": [],
   "source": [
    "###index探し\n",
    "obs_mode = numpy.array(obs_mode)\n",
    "scan_num = numpy.array(scan_num)\n",
    "\n",
    "offmask = obs_mode == \"OFF\"\n",
    "offindex = numpy.where(offmask == True)\n",
    "\n",
    "hotmask = obs_mode == \"HOT\"\n",
    "hotindex = numpy.where(hotmask == True)\n",
    "\n",
    "onmask = obs_mode == \"ON\"\n",
    "onindex = numpy.where(onmask == True)\n",
    "\n",
    "max_scannum = numpy.max(scan_num)#Caution! scan num starts from 0, so scan number of 26 indicates 27 times scan"
   ]
  },
  {
   "cell_type": "code",
   "execution_count": 179,
   "metadata": {},
   "outputs": [
    {
     "data": {
      "image/png": "[encoded data removed]",
      "text/plain": [
       "<Figure size 432x288 with 1 Axes>"
      ]
     },
     "metadata": {},
     "output_type": "display_data"
    }
   ],
   "source": [
    "#一応indexの可視化\n",
    "plt.plot(offindex[0], [1]*len(offindex[0]),\".\" , label = \"off\")\n",
    "plt.plot(hotindex[0], [1]*len(hotindex[0]),\".\" , label = \"hot\")\n",
    "plt.plot(onindex[0], [1]*len(onindex[0]),\".\" , label = \"on\")\n",
    "# plt.xlim(0,1000)\n",
    "plt.legend()\n",
    "plt.show()"
   ]
  },
  {
   "cell_type": "code",
   "execution_count": 180,
   "metadata": {},
   "outputs": [
    {
     "name": "stdout",
     "output_type": "stream",
     "text": [
      "[0 0 0 ... 9 9 9]\n"
     ]
    },
    {
     "data": {
      "image/png": "[encoded data removed]",
      "text/plain": [
       "<Figure size 432x288 with 1 Axes>"
      ]
     },
     "metadata": {},
     "output_type": "display_data"
    },
    {
     "data": {
      "image/png": "[encoded data removed]",
      "text/plain": [
       "<Figure size 432x288 with 1 Axes>"
      ]
     },
     "metadata": {},
     "output_type": "display_data"
    },
    {
     "data": {
      "image/png": "[encoded data removed]",
      "text/plain": [
       "<Figure size 432x288 with 1 Axes>"
      ]
     },
     "metadata": {},
     "output_type": "display_data"
    }
   ],
   "source": [
    "#OFF 点のscan number を取得\n",
    "scan_num = numpy.array(scan_num)\n",
    "print(scan_num)\n",
    "offindex[0]\n",
    "plt.plot(scan_num[offindex[0]])\n",
    "plt.grid()\n",
    "plt.show()\n",
    "\n",
    "#HOT 点のscan number を取得\n",
    "scan_num = numpy.array(scan_num)\n",
    "hotindex[0]\n",
    "plt.plot(scan_num[hotindex[0]])\n",
    "plt.grid()\n",
    "plt.show()\n",
    "\n",
    "# ON 点のscan number を取得\n",
    "scan_num = numpy.array(scan_num)\n",
    "plt.plot(scan_num[onindex[0]])\n",
    "plt.grid()\n",
    "plt.show()"
   ]
  },
  {
   "cell_type": "markdown",
   "metadata": {},
   "source": [
    "### hot/offの積分"
   ]
  },
  {
   "cell_type": "code",
   "execution_count": 181,
   "metadata": {},
   "outputs": [
    {
     "data": {
      "text/plain": [
       "2146"
      ]
     },
     "execution_count": 181,
     "metadata": {},
     "output_type": "execute_result"
    }
   ],
   "source": [
    "len(array_data)"
   ]
  },
  {
   "cell_type": "code",
   "execution_count": 182,
   "metadata": {},
   "outputs": [
    {
     "name": "stderr",
     "output_type": "stream",
     "text": [
      "100%|██████████| 2/2 [00:00<00:00, 144.05it/s]"
     ]
    },
    {
     "name": "stdout",
     "output_type": "stream",
     "text": [
      "[0 9]\n",
      "[ 0  1  2  3  4  5  6  7  8  9 10 11 12 13 14 15 16 17 18 19 20 21 22 23\n",
      " 24 25 26 27 28 29 30 31 32 33 34 35 36 37 38 39 40 41 42 43 44 45 46 47\n",
      " 48 49 50 51 52 53 54 55 56 57 58 59 60 61 62 63 64 65 66 67 68 69 70 71\n",
      " 72 73 74 75 76 77 78 79 80 81 82 83 84 85 86 87 88]\n",
      "[2048 2049 2050 2051 2052 2053 2054 2055 2056 2057 2058 2059 2060 2061\n",
      " 2062 2063 2064 2065 2066 2067 2068 2069 2070 2071 2072 2073 2074 2075\n",
      " 2076 2077 2078 2079 2080 2081 2082 2083 2084 2085 2086 2087 2088 2089\n",
      " 2090 2091 2092 2093 2094 2095 2096 2097 2098 2099 2100 2101 2102 2103\n",
      " 2104 2105 2106 2107 2108 2109 2110 2111 2112 2113 2114 2115 2116 2117\n",
      " 2118 2119 2120 2121 2122 2123 2124 2125 2126 2127 2128 2129 2130 2131\n",
      " 2132 2133 2134 2135 2136 2137 2138 2139 2140 2141 2142 2143 2144 2145]\n"
     ]
    },
    {
     "name": "stderr",
     "output_type": "stream",
     "text": [
      "\n"
     ]
    }
   ],
   "source": [
    "#HOT積分\n",
    "print(numpy.unique(scan_num[hotindex[0]]))#HOT のscan number\n",
    "hotnum = numpy.unique(scan_num[hotindex[0]])#HOTの数\n",
    "\n",
    "hotdata = []\n",
    "\n",
    "for i in tqdm(hotnum):#i = scan number\n",
    "    mask = scan_num == i#特定のscannumのindexを抜き出す\n",
    "    index = numpy.where(mask == True)#特定のscannumのindex変数\n",
    "   ### \n",
    "    c = numpy.in1d(index[0], hotindex[0])#特定のscannumのindex&HOT index\n",
    "    c = numpy.where(c == True)[0]\n",
    "    ###\n",
    "    mm = index[0][c]#scan numの値でフィルターしたhot\n",
    "    print(mm)\n",
    "    ###積分\n",
    "    tmp = [array_data[j] for j in mm]\n",
    "    hotdata.append(sum(tmp)/len(tmp))\n",
    "    pass\n",
    "\n",
    "#下は擬似データの質が低いための処理。将来的に削除\n",
    "hotdata = numpy.array(hotdata)\n",
    "hotdata = hotdata + 5000"
   ]
  },
  {
   "cell_type": "code",
   "execution_count": 183,
   "metadata": {},
   "outputs": [
    {
     "name": "stderr",
     "output_type": "stream",
     "text": [
      "100%|██████████| 9/9 [00:00<00:00, 243.80it/s]"
     ]
    },
    {
     "name": "stdout",
     "output_type": "stream",
     "text": [
      "[0 1 2 3 4 5 6 7 8]\n"
     ]
    },
    {
     "name": "stderr",
     "output_type": "stream",
     "text": [
      "\n"
     ]
    }
   ],
   "source": [
    "##OFFの積分\n",
    "print(numpy.unique(scan_num[offindex[0]]))#HOT のscan number\n",
    "offnum = numpy.unique(scan_num[offindex[0]])#HOTの数\n",
    "\n",
    "offdata = []\n",
    "scan_num = numpy.array(scan_num)\n",
    "\n",
    "for i in tqdm(offnum):\n",
    "    mask = scan_num == i#特定のscannumのindexを抜き出す\n",
    "    index = numpy.where(mask == True)#特定のscannumのindex変数\n",
    "   ### \n",
    "    c = numpy.in1d(index[0], offindex[0])#特定のscannumのindex&HOT index\n",
    "    c = numpy.where(c == True)[0]#scannumとhotで絞ったindex\n",
    "    mm = index[0][c]#scan numの値でフィルターしたhot\n",
    "    tmp = [array_data[j] for j in mm]\n",
    "    offdata.append(sum(tmp)/len(tmp))"
   ]
  },
  {
   "cell_type": "markdown",
   "metadata": {},
   "source": [
    "Hot のデータはscan line分あるわけでないので補完\n",
    "Off もscan line 分ある観測プログラムしかないはずだが、一応補完\n",
    "\n",
    "補完の方法は次のOFF/HOTの点の観測を行うまでは直近のデータを採用する形"
   ]
  },
  {
   "cell_type": "code",
   "execution_count": 184,
   "metadata": {},
   "outputs": [
    {
     "name": "stderr",
     "output_type": "stream",
     "text": [
      "100%|██████████| 9/9 [00:00<00:00, 22850.32it/s]\n"
     ]
    }
   ],
   "source": [
    "d = numpy.unique(scan_num[hotindex[0]])#HOT のscan number\n",
    "hotdata_ = []\n",
    "count = 0\n",
    "\n",
    "for i in tqdm(range(max_scannum)):\n",
    "        #print(i,count)\n",
    "        if i == d[count]:\n",
    "            hotdata_.append(d[count])\n",
    "            count +=1\n",
    "        elif i < d[count]:\n",
    "            hotdata_.append(d[count])\n",
    "        else:#この例外には入らないはず\n",
    "            print(i)"
   ]
  },
  {
   "cell_type": "code",
   "execution_count": 185,
   "metadata": {},
   "outputs": [
    {
     "name": "stderr",
     "output_type": "stream",
     "text": [
      "100%|██████████| 9/9 [00:00<00:00, 43690.67it/s]\n"
     ]
    }
   ],
   "source": [
    "d = numpy.unique(scan_num[offindex[0]])#HOT のscan number\n",
    "offdata_ = []\n",
    "count = 0\n",
    "\n",
    "for i in tqdm(range(max_scannum)):\n",
    "        #print(i,count)\n",
    "        if i == d[count]:\n",
    "            offdata_.append(d[count])\n",
    "            count +=1\n",
    "        elif i < d[count]:\n",
    "            offdata_.append(d[count])\n",
    "        else:#この例外には入らないはず\n",
    "            print(i)"
   ]
  },
  {
   "cell_type": "code",
   "execution_count": 186,
   "metadata": {
    "collapsed": true
   },
   "outputs": [],
   "source": [
    "# ###Choper wheel\n",
    "\n",
    "@numba.jit\n",
    "def chopper_wheel(on_index, scan_num, temprature = 300):    \n",
    "    #scan_num = n[on_index][\"scan_num\"]\n",
    "    #Tastar = (array_data[on_index] - offdata[scan_num])/(hotdata[scan_num] - offdata[scan_num]) * temprature\n",
    "    Tastar = (array_data[on_index] - offdata[0])/(hotdata[0] - offdata[0]) * temprature#test, this will be deleted（hotdata, offdata[0]しかつかってない！）\n",
    "    return Tastar\n",
    "\n",
    "def calc(i):#on点をscan indexでmaskしchopper wheelする\n",
    "    mask = scan_num == i#特定のscannumのindexを抜き出す\n",
    "    index = numpy.where(mask == True)#特定のscannumのindex変数\n",
    "    c = numpy.intersect1d(index[0], onindex[0])\n",
    "    return [[j, chopper_wheel(j, i, cabin_temp[i])] for j in c]###j= index "
   ]
  },
  {
   "cell_type": "code",
   "execution_count": 212,
   "metadata": {},
   "outputs": [
    {
     "name": "stderr",
     "output_type": "stream",
     "text": [
      "100%|██████████| 10/10 [00:00<00:00, 41.05it/s]\n"
     ]
    }
   ],
   "source": [
    "ondata = [calc(i) for i in tqdm(range(max_scannum+1))]#Chopper Wheelしたやつ"
   ]
  },
  {
   "cell_type": "code",
   "execution_count": 213,
   "metadata": {},
   "outputs": [
    {
     "name": "stdout",
     "output_type": "stream",
     "text": [
      "CPU times: user 4 ms, sys: 0 ns, total: 4 ms\n",
      "Wall time: 3.37 ms\n"
     ]
    }
   ],
   "source": [
    "%%time\n",
    "data_on = {ondata[i][j][0]:ondata[i][j][1] for i in range(len(ondata)) for j in range(len(ondata[i]))}###d[onindex] = onarray"
   ]
  },
  {
   "cell_type": "code",
   "execution_count": 214,
   "metadata": {
    "collapsed": true
   },
   "outputs": [],
   "source": [
    "#距離による重みつけ関数１\n",
    "#sigma == ビームサイズ\n",
    "def gauss(x, a = 1, mu = 0, sigma = 160):\n",
    "    return a * numpy.exp(-(x - mu)**2 / (2*sigma**2))\n",
    "\n",
    "\n",
    "#距離による重みつけ関数2 関数系わからないので今はgaussianだけど修正\n",
    "def bessel_gauss(x, a = 1, mu = 0, sigma = 160):\n",
    "    return a * numpy.exp(-(x - mu)**2 / (2*sigma**2))\n",
    "\n",
    "#球面なのでRA方向の長さがDECで変わります。なのでRA-DEC平面での距離(角度)を出すには、RAをcos(DEC)で割る必要があります。\n",
    "def calc_distance(d1, d2):\n",
    "    #d1 = [ra, dec] #deg   \n",
    "    factor = 3600#こういうことしなくてもいいようにastropy unitを使う（要編集）\n",
    "    d1[0] = d1[0]*factor\n",
    "    d1[1] = d1[1]*factor\n",
    "    d2[0] = d2[0]*factor\n",
    "    d2[1] = d2[1]*factor\n",
    "    return ((d1[0] - d2[0])**2 + (d1[1] - d2[1])**2)**0.5\n",
    "\n",
    "def calc_rms(arr):\n",
    "    return numpy.sqrt(numpy.mean(arr**2))\n",
    "\n",
    "def rms_dist_weighting(arr, dist, rms):\n",
    "    return [arr*gauss(dist)*(rms**-2), gauss(dist)*(rms**-2)]"
   ]
  },
  {
   "cell_type": "markdown",
   "metadata": {},
   "source": [
    "## Baseline fitting"
   ]
  },
  {
   "cell_type": "code",
   "execution_count": 215,
   "metadata": {},
   "outputs": [
    {
     "name": "stderr",
     "output_type": "stream",
     "text": [
      "  2%|▏         | 26/1145 [00:00<00:04, 254.42it/s]"
     ]
    },
    {
     "name": "stdout",
     "output_type": "stream",
     "text": [
      "3000 7500 8500 30000\n"
     ]
    },
    {
     "name": "stderr",
     "output_type": "stream",
     "text": [
      "100%|██████████| 1145/1145 [00:03<00:00, 300.89it/s]\n"
     ]
    },
    {
     "data": {
      "image/png": "[encoded data removed]",
      "text/plain": [
       "<Figure size 432x288 with 1 Axes>"
      ]
     },
     "metadata": {},
     "output_type": "display_data"
    }
   ],
   "source": [
    "#baseline fitting parameter\n",
    "center = 8000\n",
    "width = 1000\n",
    "start = 3000\n",
    "end = 30000\n",
    "\n",
    "#baseline fitting function\n",
    "def f(x, a, b, c):\n",
    "    return a*x**2 + b*x + c\n",
    "\n",
    "def  baseline_fitting(arr_x, arr_y, index1, index2, index3, index4):\n",
    "    tmpdata_y1 = arr_y[index1:index2]\n",
    "    tmpdata_y2 = arr_y[index3:index4]\n",
    "    tmpdata_x1 = arr_x[index1:index2]\n",
    "    tmpdata_x2 = arr_x[index3:index4]\n",
    "    x = numpy.concatenate([tmpdata_x1, tmpdata_x2])\n",
    "    y = numpy.concatenate([tmpdata_y1, tmpdata_y2])\n",
    "    param = numpy.polyfit(x, y, 2)\n",
    "    arr_y = arr_y - f(arr_x, *param)\n",
    "    return arr_y\n",
    "    \n",
    "#ch\n",
    "xindex = numpy.linspace(0, 32767, 32767)###要注意 32768==>32766 一時的\n",
    "\n",
    "#baseline fitting index\n",
    "index1 = int(start)\n",
    "index2 = int(center - width/2)\n",
    "index3 = int(center + width/2)\n",
    "index4 = int(end)\n",
    "print(index1, index2, index3, index4)\n",
    "\n",
    "testoffset = numpy.linspace(1, 32767, 32767)###要注意 32768==>32766 一時的\n",
    "\n",
    "for i in tqdm(data_on.keys()):\n",
    "    origin = data_on[i]#for debug, this will be deleted\n",
    "    data_on[i] = data_on[i] + testoffset#ベースラインフィッティングできているかの確認のため\n",
    "    data_on[i] = baseline_fitting(xindex, data_on[i], index1, index2, index3, index4)\n",
    "    \n",
    "    \n",
    "plt.plot(data_on[i], label=\"after chopper wheel\")#after chopper wheel\n",
    "plt.plot(origin, label=\"before chopper wheel\")#before chopper wheel\n",
    "plt.legend()\n",
    "plt.grid()"
   ]
  },
  {
   "cell_type": "code",
   "execution_count": 223,
   "metadata": {},
   "outputs": [
    {
     "data": {
      "image/png": "[encoded data removed]",
      "text/plain": [
       "<Figure size 432x288 with 1 Axes>"
      ]
     },
     "metadata": {},
     "output_type": "display_data"
    }
   ],
   "source": [
    "%matplotlib inline\n",
    "plt.plot(origin, label=\"before baseline-fitting\")#before chopper wheel\n",
    "plt.plot(data_on[i], \".\", label=\"after baseline-fitting\", alpha=0.4)#after chopper wheel\n",
    "plt.ylabel(\"Ta*\")\n",
    "plt.xlabel(\"ch\")\n",
    "plt.xlim(7900,8400)\n",
    "plt.ylim(-0.1,1.25)\n",
    "plt.legend()\n",
    "plt.grid()"
   ]
  },
  {
   "cell_type": "markdown",
   "metadata": {},
   "source": [
    "## grid内のデータ探索\n",
    "\n",
    "あるgridに採用するデータのindexを求める"
   ]
  },
  {
   "cell_type": "code",
   "execution_count": 192,
   "metadata": {},
   "outputs": [
    {
     "name": "stderr",
     "output_type": "stream",
     "text": [
      " 44%|████▍     | 4/9 [00:00<00:00, 38.38it/s]"
     ]
    },
    {
     "name": "stdout",
     "output_type": "stream",
     "text": [
      "CPU times: user 0 ns, sys: 0 ns, total: 0 ns\n",
      "Wall time: 5.48 µs\n"
     ]
    },
    {
     "name": "stderr",
     "output_type": "stream",
     "text": [
      "100%|██████████| 9/9 [00:00<00:00, 37.64it/s]\n"
     ]
    }
   ],
   "source": [
    "%time\n",
    "index_list = []\n",
    "for i in tqdm(range(max_scannum)):\n",
    "    for j in range(max_scannum):\n",
    "       # print(ragrid[i], decgrid[j])\n",
    "        index1 = numpy.where((ragrid[i]-(offset/3600)<xffts[0]) & ((ragrid[i] + (offset/3600)>xffts[0])))\n",
    "        index2 = numpy.where((decgrid[j]-(offset/3600)<xffts[1]) & ((decgrid[j] + (offset/3600)>xffts[1])))\n",
    "        index_ = [i in index2[0] for i in index1[0]]\n",
    "        index_ = numpy.array(index_)\n",
    "        index_1and2 = numpy.where(index_ == True)\n",
    "        index_1and2 = index1[0][index_1and2]\n",
    "        index_list.append(index_1and2)\n"
   ]
  },
  {
   "cell_type": "markdown",
   "metadata": {},
   "source": [
    "### xfftsデータの確認"
   ]
  },
  {
   "cell_type": "markdown",
   "metadata": {},
   "source": [
    "### データをgridに入れる"
   ]
  },
  {
   "cell_type": "markdown",
   "metadata": {},
   "source": [
    "本番はもう少し賢く書くけど、ひとまず"
   ]
  },
  {
   "cell_type": "code",
   "execution_count": 193,
   "metadata": {
    "scrolled": true
   },
   "outputs": [
    {
     "name": "stderr",
     "output_type": "stream",
     "text": [
      "100%|██████████| 9/9 [00:03<00:00,  2.75it/s]"
     ]
    },
    {
     "name": "stdout",
     "output_type": "stream",
     "text": [
      "CPU times: user 2.62 s, sys: 20 ms, total: 2.64 s\n",
      "Wall time: 3.21 s\n"
     ]
    },
    {
     "name": "stderr",
     "output_type": "stream",
     "text": [
      "\n"
     ]
    }
   ],
   "source": [
    "%%time\n",
    "#cubeデータの作成\n",
    "#data_c = numpy.zeros((31, 31, 32768))#(ra, dec, ch)\n",
    "#index_list2 = numpy.reshape(index_list, (31,31))#index listの2次元化（これは前処理しておく） #これは正しいか？\n",
    "data_c = numpy.zeros((max_scannum, max_scannum, 32767))#(ra, dec, ch)##要注意！！！\n",
    "index_list2 = numpy.reshape(index_list, (max_scannum, max_scannum))#index listの2次元化（これは前処理しておく） #これは正しいか？\n",
    "\n",
    "## Chopper wheelしたデータをdatacubeに入れる\n",
    "for i in tqdm(range(max_scannum)):#ra\n",
    "    for j in range(max_scannum):#dec\n",
    "        try:\n",
    "            numerator_list = []#分子\n",
    "            denominator_list= []#分母\n",
    "            for k in index_list2[i][j]:\n",
    "                dist = calc_distance([ragrid[i], decgrid[j]], [xffts[0][k], xffts[1][k]])\n",
    "                rms = calc_rms(data_on[k])\n",
    "                weighted_data = rms_dist_weighting(data_on[k], dist, rms)\n",
    "                #weighted_data = rms_dist_weighting(data_on[k], dist, 1)###RMSがうまく動いているかの確認\n",
    "                numerator_list.append(weighted_data[0])\n",
    "                denominator_list.append(weighted_data[1])\n",
    "            data_c[i][j] = sum(numerator_list)/sum(denominator_list)\n",
    "        except Exception as e:\n",
    "            print(\"[{},{}], {}\".format(i,j,e), end = \"\")"
   ]
  },
  {
   "cell_type": "code",
   "execution_count": 194,
   "metadata": {},
   "outputs": [
    {
     "name": "stdout",
     "output_type": "stream",
     "text": [
      "77.17244976768113\n"
     ]
    },
    {
     "data": {
      "text/plain": [
       "2.71778104279242"
      ]
     },
     "execution_count": 194,
     "metadata": {},
     "output_type": "execute_result"
    }
   ],
   "source": [
    "print(dist)\n",
    "numerator_list[0]\n",
    "denominator_list[4]"
   ]
  },
  {
   "cell_type": "markdown",
   "metadata": {},
   "source": [
    "距離を考慮すると..."
   ]
  },
  {
   "cell_type": "markdown",
   "metadata": {
    "collapsed": true
   },
   "source": [
    "### astropyでfitsに書き出す"
   ]
  },
  {
   "cell_type": "code",
   "execution_count": 195,
   "metadata": {},
   "outputs": [
    {
     "name": "stdout",
     "output_type": "stream",
     "text": [
      "(32767, 9, 9)\n"
     ]
    }
   ],
   "source": [
    "#3軸の入れ替え。\n",
    "data_c = numpy.swapaxes(data_c, 0,2)\n",
    "print(numpy.shape(data_c))#軸の入れ替えの確認"
   ]
  },
  {
   "cell_type": "markdown",
   "metadata": {},
   "source": [
    "ヘッダーの作成"
   ]
  },
  {
   "cell_type": "code",
   "execution_count": 196,
   "metadata": {},
   "outputs": [
    {
     "name": "stdout",
     "output_type": "stream",
     "text": [
      "[-2446. -2445. -2444. ... 30318. 30319. 30320.]\n",
      "-3144.61\n"
     ]
    }
   ],
   "source": [
    "vch = new_xx - 16384\n",
    "crval3 = vch[0]*dv\n",
    "print(new_xx)\n",
    "print(crval3)\n",
    "\n",
    "header_dict = {\n",
    "\"object\": obsfile_dict[\"object\"],\n",
    "\"crval1\": obsfile_dict[\"lambda_on\"],\n",
    "\"cdelt1\": obsfile_dict[\"grid\"]/3600,\n",
    "\"crpix1\": obsfile_dict[\"N\"]-1/2,#中心ピクセル\n",
    "\"crval2\": obsfile_dict[\"beta_on\"],\n",
    "\"cdelt2\": obsfile_dict[\"grid\"]/3600,\n",
    "\"crpix2\": obsfile_dict[\"N\"]-1/2, #中心ピクセル\n",
    "\"cdelt3\": dv,# km/s \n",
    "\"crval3\": crval3\n",
    "}"
   ]
  },
  {
   "cell_type": "code",
   "execution_count": 197,
   "metadata": {
    "collapsed": true
   },
   "outputs": [],
   "source": [
    "# temp = \"\"\"\n",
    "# SIMPLE  =                    T                                                  \n",
    "# BITPIX  =                  -32                                                  \n",
    "# NAXIS   =                    3                                                  \n",
    "# NAXIS1  =                  31                                                 \n",
    "# NAXIS2  =                  31                                                 \n",
    "# NAXIS3  =                   32768                                                  \n",
    "# OBJECT  = '{object}              '                                                  \n",
    "# TELESCOP= 'NANTEN2            '                                                  \n",
    "# INSTRUME= 'nasco          '                                                  \n",
    "# OBSERVER= 'amigos           '                                                  \n",
    "# DATE-OBS= '2007-12-30        '                                                  \n",
    "# DATE-MAP= '2012-01-19        '                                                  \n",
    "# BSCALE  =    0.10000000000E+01                                                  \n",
    "# BZERO   =    0.00000000000E+01                                                  \n",
    "# BUNIT   = 'K                 '                                                  \n",
    "# EPOCH   =    0.20000000000E+04                                                  \n",
    "# OBSRA   =    8.38104170000E+01                                                  \n",
    "# OBSDEC  =   -5.37511100000E+00                                                  \n",
    "# DATAMAX =    1.16774444580E+02                                                  \n",
    "# DATAMIN =   -8.33924560547E+01                                                  \n",
    "# CTYPE1  = 'RA---GLS          '                                                  \n",
    "# CRVAL1  =    {crval1}                                                  \n",
    "# CDELT1  =    {cdelt1}                                                  \n",
    "# CRPIX1  =      {crpix1}\n",
    "# CROTA1  =     0.0000000000E+00                                                  \n",
    "# CTYPE2  = 'DEC--GLS          '                                                  \n",
    "# CRVAL2  =   {crval2}                                                  \n",
    "# CDELT2  =   {cdelt2}                                               \n",
    "# CRPIX2  =     {crpix2}                                               \n",
    "# CROTA2  =     0.0000000000E+00                                                  \n",
    "# CTYPE3  = 'VELO-LSR          '                                                  \n",
    "# CRVAL3  =    {crval3}                                                  \n",
    "# CDELT3  =    {cdelt3}                                                  \n",
    "# CRPIX3  =    1.00000000000E+00                                                  \n",
    "# CROTA3  =    0.00000000000E+00                                                  \n",
    "# BLANK   =   -1.00000000000E+00 \"\"\".format(**header_dict)"
   ]
  },
  {
   "cell_type": "code",
   "execution_count": 198,
   "metadata": {
    "collapsed": true
   },
   "outputs": [],
   "source": [
    "temp = \"\"\"\n",
    "SIMPLE  =                    T                                                  \n",
    "BITPIX  =                  -32                                                  \n",
    "NAXIS   =                    3                                                  \n",
    "NAXIS1  =                  31                                                 \n",
    "NAXIS2  =                  31                                                 \n",
    "NAXIS3  =                   32768                                                  \n",
    "OBJECT  = '{object}              '                                                  \n",
    "TELESCOP= 'NANTEN2            '                                                  \n",
    "INSTRUME= 'nasco          '                                                  \n",
    "OBSERVER= 'amigos           '                                                  \n",
    "DATE-OBS= '2007-12-30        '                                                  \n",
    "DATE-MAP= '2012-01-19        '                                                  \n",
    "BSCALE  =    0.10000000000E+01                                                  \n",
    "BZERO   =    0.00000000000E+01                                                  \n",
    "BUNIT   = 'K                 '                                                  \n",
    "EPOCH   =    0.20000000000E+04                                                  \n",
    "OBSRA   =    8.38104170000E+01                                                  \n",
    "OBSDEC  =   -5.37511100000E+00                                                  \n",
    "DATAMAX =    1.16774444580E+02                                                  \n",
    "DATAMIN =   -8.33924560547E+01                                                  \n",
    "CTYPE1  = 'RA---GLS          '                                                  \n",
    "CRVAL1  =    {crval1}                                                  \n",
    "CDELT1  =    {cdelt1}                                                  \n",
    "CRPIX1  =      {crpix1}\n",
    "CROTA1  =     0.0000000000E+00                                                  \n",
    "CTYPE2  = 'DEC--GLS          '                                                  \n",
    "CRVAL2  =   {crval2}                                                  \n",
    "CDELT2  =   {cdelt2}                                               \n",
    "CRPIX2  =     {crpix2}                                               \n",
    "CROTA2  =     0.0000000000E+00                                                  \n",
    "CTYPE3  = 'km/s          '                                                  \n",
    "CRVAL3  =    {crval3}                                                  \n",
    "CDELT3  =    {cdelt3}                                                  \n",
    "CRPIX3  =    1.00000000000E+00                                                  \n",
    "CROTA3  =    0.00000000000E+00                                                  \n",
    "BLANK   =   -1.00000000000E+00 \"\"\".format(**header_dict)"
   ]
  },
  {
   "cell_type": "code",
   "execution_count": 199,
   "metadata": {
    "collapsed": true
   },
   "outputs": [],
   "source": [
    "target_header = fits.Header.fromstring(temp, sep = \"\\n\")"
   ]
  },
  {
   "cell_type": "code",
   "execution_count": 200,
   "metadata": {},
   "outputs": [
    {
     "name": "stderr",
     "output_type": "stream",
     "text": [
      "WARNING: VerifyWarning: Invalid value for 'BLANK' keyword in header: -1.0 The 'BLANK' keyword must be an integer.  It will be ignored in the meantime. [astropy.io.fits.hdu.image]\n",
      "WARNING: VerifyWarning: Invalid 'BLANK' keyword in header.  The 'BLANK' keyword is only applicable to integer data, and will be ignored in this HDU. [astropy.io.fits.hdu.image]\n"
     ]
    }
   ],
   "source": [
    "#書き出し\n",
    "hdu = fits.PrimaryHDU(data_c, target_header)\n",
    "hdulist = fits.HDUList([hdu])\n",
    "hdulist.writeto(os.path.join(analy_dir, \"test20190906_v3.fits\"), overwrite = True)"
   ]
  },
  {
   "cell_type": "code",
   "execution_count": 201,
   "metadata": {},
   "outputs": [
    {
     "name": "stderr",
     "output_type": "stream",
     "text": [
      "WARNING: VerifyWarning: Invalid value for 'BLANK' keyword in header: -1.0 The 'BLANK' keyword must be an integer.  It will be ignored in the meantime. [astropy.io.fits.hdu.image]\n",
      "WARNING: VerifyWarning: Invalid 'BLANK' keyword in header.  The 'BLANK' keyword is only applicable to integer data, and will be ignored in this HDU. [astropy.io.fits.hdu.image]\n"
     ]
    }
   ],
   "source": [
    "##読み込み\n",
    "hdu_list = fits.open(os.path.join(analy_dir, \"test20190906_v3.fits\"))\n",
    "hdu_r = hdu_list[0]\n",
    "data = hdu_r.data\n",
    "header = hdu_r.header"
   ]
  },
  {
   "cell_type": "code",
   "execution_count": 159,
   "metadata": {},
   "outputs": [
    {
     "name": "stdout",
     "output_type": "stream",
     "text": [
      "required time : 3563.8493230342865\n"
     ]
    }
   ],
   "source": [
    "#解析にかかった時間を出すため\n",
    "print(\"required time : {}\".format(time.time() - start_time))"
   ]
  },
  {
   "cell_type": "markdown",
   "metadata": {},
   "source": [
    "### OTF MAP"
   ]
  },
  {
   "cell_type": "code",
   "execution_count": 160,
   "metadata": {},
   "outputs": [
    {
     "data": {
      "application/vnd.jupyter.widget-view+json": {
       "model_id": "b87557f8576d430188afcefff262d582",
       "version_major": 2,
       "version_minor": 0
      },
      "text/plain": [
       "A Jupyter Widget"
      ]
     },
     "metadata": {},
     "output_type": "display_data"
    },
    {
     "data": {
      "text/plain": [
       "<function __main__.plot>"
      ]
     },
     "execution_count": 160,
     "metadata": {},
     "output_type": "execute_result"
    }
   ],
   "source": [
    "#%matplotlib notebook\n",
    "%matplotlib inline\n",
    "from ipywidgets import interact\n",
    "\n",
    "def plot(i):\n",
    "    plt.figure(figsize=(8, 8))\n",
    "    plt.imshow(data[i].T, cmap = \"gist_rainbow\")\n",
    "    #plt.xlabel(\"ra\")\n",
    "    #plt.ylabel(\"dec\")\n",
    "    plt.show()\n",
    "\n",
    "\n",
    "interact(plot, i = (0,16000,1))"
   ]
  },
  {
   "cell_type": "code",
   "execution_count": 97,
   "metadata": {},
   "outputs": [
    {
     "data": {
      "image/png": "[encoded data removed]",
      "text/plain": [
       "<Figure size 432x288 with 1 Axes>"
      ]
     },
     "metadata": {},
     "output_type": "display_data"
    }
   ],
   "source": [
    "plt.plot(data[7][1])\n",
    "plt.show()"
   ]
  },
  {
   "cell_type": "markdown",
   "metadata": {},
   "source": [
    "### RMS Map"
   ]
  },
  {
   "cell_type": "code",
   "execution_count": 98,
   "metadata": {
    "collapsed": true
   },
   "outputs": [],
   "source": [
    "#rms map\n",
    "data_rms = numpy.swapaxes(data, 0,2)"
   ]
  },
  {
   "cell_type": "code",
   "execution_count": 99,
   "metadata": {},
   "outputs": [
    {
     "data": {
      "text/plain": [
       "0.3335260480938851"
      ]
     },
     "execution_count": 99,
     "metadata": {},
     "output_type": "execute_result"
    }
   ],
   "source": [
    "numpy.mean(data_rms[0][0]**2)"
   ]
  },
  {
   "cell_type": "code",
   "execution_count": 100,
   "metadata": {
    "collapsed": true
   },
   "outputs": [],
   "source": [
    "rms_map = numpy.zeros((9,9))\n",
    "for i in range(9):\n",
    "    for j in range(9):\n",
    "        rms_map[i][j] = numpy.sqrt(numpy.mean(data_rms[i][j]**2))"
   ]
  },
  {
   "cell_type": "code",
   "execution_count": 101,
   "metadata": {},
   "outputs": [
    {
     "data": {
      "text/plain": [
       "<matplotlib.image.AxesImage at 0x7fcc2147d4e0>"
      ]
     },
     "execution_count": 101,
     "metadata": {},
     "output_type": "execute_result"
    },
    {
     "data": {
      "image/png": "[encoded data removed]",
      "text/plain": [
       "<Figure size 432x288 with 1 Axes>"
      ]
     },
     "metadata": {},
     "output_type": "display_data"
    }
   ],
   "source": [
    "plt.imshow(rms_map, cmap = \"gist_rainbow\")"
   ]
  },
  {
   "cell_type": "code",
   "execution_count": 102,
   "metadata": {},
   "outputs": [
    {
     "data": {
      "text/plain": [
       "[<matplotlib.lines.Line2D at 0x7fcc1e297128>]"
      ]
     },
     "execution_count": 102,
     "metadata": {},
     "output_type": "execute_result"
    },
    {
     "data": {
      "image/png": "[encoded data removed]",
      "text/plain": [
       "<Figure size 432x288 with 1 Axes>"
      ]
     },
     "metadata": {},
     "output_type": "display_data"
    }
   ],
   "source": [
    "plt.plot(rms_map[4])"
   ]
  },
  {
   "cell_type": "code",
   "execution_count": 103,
   "metadata": {},
   "outputs": [
    {
     "data": {
      "text/plain": [
       "96"
      ]
     },
     "execution_count": 103,
     "metadata": {},
     "output_type": "execute_result"
    }
   ],
   "source": [
    "len(index_list2[0][8])"
   ]
  },
  {
   "cell_type": "code",
   "execution_count": 104,
   "metadata": {},
   "outputs": [
    {
     "data": {
      "text/html": [
       "\n",
       "    <div class=\"bk-root\">\n",
       "        <a href=\"https://bokeh.pydata.org\" target=\"_blank\" class=\"bk-logo bk-logo-small bk-logo-notebook\"></a>\n",
       "        <span id=\"3c261db5-9c23-48c9-9257-4b2aae790509\">Loading BokehJS ...</span>\n",
       "    </div>"
      ]
     },
     "metadata": {},
     "output_type": "display_data"
    },
    {
     "data": {
      "application/javascript": [
       "\n",
       "(function(root) {\n",
       "  function now() {\n",
       "    return new Date();\n",
       "  }\n",
       "\n",
       "  var force = true;\n",
       "\n",
       "  if (typeof (root._bokeh_onload_callbacks) === \"undefined\" || force === true) {\n",
       "    root._bokeh_onload_callbacks = [];\n",
       "    root._bokeh_is_loading = undefined;\n",
       "  }\n",
       "\n",
       "  var JS_MIME_TYPE = 'application/javascript';\n",
       "  var HTML_MIME_TYPE = 'text/html';\n",
       "  var EXEC_MIME_TYPE = 'application/vnd.bokehjs_exec.v0+json';\n",
       "  var CLASS_NAME = 'output_bokeh rendered_html';\n",
       "\n",
       "  /**\n",
       "   * Render data to the DOM node\n",
       "   */\n",
       "  function render(props, node) {\n",
       "    var script = document.createElement(\"script\");\n",
       "    node.appendChild(script);\n",
       "  }\n",
       "\n",
       "  /**\n",
       "   * Handle when an output is cleared or removed\n",
       "   */\n",
       "  function handleClearOutput(event, handle) {\n",
       "    var cell = handle.cell;\n",
       "\n",
       "    var id = cell.output_area._bokeh_element_id;\n",
       "    var server_id = cell.output_area._bokeh_server_id;\n",
       "    // Clean up Bokeh references\n",
       "    if (id !== undefined) {\n",
       "      Bokeh.index[id].model.document.clear();\n",
       "      delete Bokeh.index[id];\n",
       "    }\n",
       "\n",
       "    if (server_id !== undefined) {\n",
       "      // Clean up Bokeh references\n",
       "      var cmd = \"from bokeh.io.state import curstate; print(curstate().uuid_to_server['\" + server_id + \"'].get_sessions()[0].document.roots[0]._id)\";\n",
       "      cell.notebook.kernel.execute(cmd, {\n",
       "        iopub: {\n",
       "          output: function(msg) {\n",
       "            var element_id = msg.content.text.trim();\n",
       "            Bokeh.index[element_id].model.document.clear();\n",
       "            delete Bokeh.index[element_id];\n",
       "          }\n",
       "        }\n",
       "      });\n",
       "      // Destroy server and session\n",
       "      var cmd = \"import bokeh.io.notebook as ion; ion.destroy_server('\" + server_id + \"')\";\n",
       "      cell.notebook.kernel.execute(cmd);\n",
       "    }\n",
       "  }\n",
       "\n",
       "  /**\n",
       "   * Handle when a new output is added\n",
       "   */\n",
       "  function handleAddOutput(event, handle) {\n",
       "    var output_area = handle.output_area;\n",
       "    var output = handle.output;\n",
       "\n",
       "    // limit handleAddOutput to display_data with EXEC_MIME_TYPE content only\n",
       "    if ((output.output_type != \"display_data\") || (!output.data.hasOwnProperty(EXEC_MIME_TYPE))) {\n",
       "      return\n",
       "    }\n",
       "\n",
       "    var toinsert = output_area.element.find(`.${CLASS_NAME.split(' ')[0]}`);\n",
       "\n",
       "    if (output.metadata[EXEC_MIME_TYPE][\"id\"] !== undefined) {\n",
       "      toinsert[0].firstChild.textContent = output.data[JS_MIME_TYPE];\n",
       "      // store reference to embed id on output_area\n",
       "      output_area._bokeh_element_id = output.metadata[EXEC_MIME_TYPE][\"id\"];\n",
       "    }\n",
       "    if (output.metadata[EXEC_MIME_TYPE][\"server_id\"] !== undefined) {\n",
       "      var bk_div = document.createElement(\"div\");\n",
       "      bk_div.innerHTML = output.data[HTML_MIME_TYPE];\n",
       "      var script_attrs = bk_div.children[0].attributes;\n",
       "      for (var i = 0; i < script_attrs.length; i++) {\n",
       "        toinsert[0].firstChild.setAttribute(script_attrs[i].name, script_attrs[i].value);\n",
       "      }\n",
       "      // store reference to server id on output_area\n",
       "      output_area._bokeh_server_id = output.metadata[EXEC_MIME_TYPE][\"server_id\"];\n",
       "    }\n",
       "  }\n",
       "\n",
       "  function register_renderer(events, OutputArea) {\n",
       "\n",
       "    function append_mime(data, metadata, element) {\n",
       "      // create a DOM node to render to\n",
       "      var toinsert = this.create_output_subarea(\n",
       "        metadata,\n",
       "        CLASS_NAME,\n",
       "        EXEC_MIME_TYPE\n",
       "      );\n",
       "      this.keyboard_manager.register_events(toinsert);\n",
       "      // Render to node\n",
       "      var props = {data: data, metadata: metadata[EXEC_MIME_TYPE]};\n",
       "      render(props, toinsert[0]);\n",
       "      element.append(toinsert);\n",
       "      return toinsert\n",
       "    }\n",
       "\n",
       "    /* Handle when an output is cleared or removed */\n",
       "    events.on('clear_output.CodeCell', handleClearOutput);\n",
       "    events.on('delete.Cell', handleClearOutput);\n",
       "\n",
       "    /* Handle when a new output is added */\n",
       "    events.on('output_added.OutputArea', handleAddOutput);\n",
       "\n",
       "    /**\n",
       "     * Register the mime type and append_mime function with output_area\n",
       "     */\n",
       "    OutputArea.prototype.register_mime_type(EXEC_MIME_TYPE, append_mime, {\n",
       "      /* Is output safe? */\n",
       "      safe: true,\n",
       "      /* Index of renderer in `output_area.display_order` */\n",
       "      index: 0\n",
       "    });\n",
       "  }\n",
       "\n",
       "  // register the mime type if in Jupyter Notebook environment and previously unregistered\n",
       "  if (root.Jupyter !== undefined) {\n",
       "    var events = require('base/js/events');\n",
       "    var OutputArea = require('notebook/js/outputarea').OutputArea;\n",
       "\n",
       "    if (OutputArea.prototype.mime_types().indexOf(EXEC_MIME_TYPE) == -1) {\n",
       "      register_renderer(events, OutputArea);\n",
       "    }\n",
       "  }\n",
       "\n",
       "  \n",
       "  if (typeof (root._bokeh_timeout) === \"undefined\" || force === true) {\n",
       "    root._bokeh_timeout = Date.now() + 5000;\n",
       "    root._bokeh_failed_load = false;\n",
       "  }\n",
       "\n",
       "  var NB_LOAD_WARNING = {'data': {'text/html':\n",
       "     \"<div style='background-color: #fdd'>\\n\"+\n",
       "     \"<p>\\n\"+\n",
       "     \"BokehJS does not appear to have successfully loaded. If loading BokehJS from CDN, this \\n\"+\n",
       "     \"may be due to a slow or bad network connection. Possible fixes:\\n\"+\n",
       "     \"</p>\\n\"+\n",
       "     \"<ul>\\n\"+\n",
       "     \"<li>re-rerun `output_notebook()` to attempt to load from CDN again, or</li>\\n\"+\n",
       "     \"<li>use INLINE resources instead, as so:</li>\\n\"+\n",
       "     \"</ul>\\n\"+\n",
       "     \"<code>\\n\"+\n",
       "     \"from bokeh.resources import INLINE\\n\"+\n",
       "     \"output_notebook(resources=INLINE)\\n\"+\n",
       "     \"</code>\\n\"+\n",
       "     \"</div>\"}};\n",
       "\n",
       "  function display_loaded() {\n",
       "    var el = document.getElementById(\"3c261db5-9c23-48c9-9257-4b2aae790509\");\n",
       "    if (el != null) {\n",
       "      el.textContent = \"BokehJS is loading...\";\n",
       "    }\n",
       "    if (root.Bokeh !== undefined) {\n",
       "      if (el != null) {\n",
       "        el.textContent = \"BokehJS \" + root.Bokeh.version + \" successfully loaded.\";\n",
       "      }\n",
       "    } else if (Date.now() < root._bokeh_timeout) {\n",
       "      setTimeout(display_loaded, 100)\n",
       "    }\n",
       "  }\n",
       "\n",
       "\n",
       "  function run_callbacks() {\n",
       "    try {\n",
       "      root._bokeh_onload_callbacks.forEach(function(callback) { callback() });\n",
       "    }\n",
       "    finally {\n",
       "      delete root._bokeh_onload_callbacks\n",
       "    }\n",
       "    console.info(\"Bokeh: all callbacks have finished\");\n",
       "  }\n",
       "\n",
       "  function load_libs(js_urls, callback) {\n",
       "    root._bokeh_onload_callbacks.push(callback);\n",
       "    if (root._bokeh_is_loading > 0) {\n",
       "      console.log(\"Bokeh: BokehJS is being loaded, scheduling callback at\", now());\n",
       "      return null;\n",
       "    }\n",
       "    if (js_urls == null || js_urls.length === 0) {\n",
       "      run_callbacks();\n",
       "      return null;\n",
       "    }\n",
       "    console.log(\"Bokeh: BokehJS not loaded, scheduling load and callback at\", now());\n",
       "    root._bokeh_is_loading = js_urls.length;\n",
       "    for (var i = 0; i < js_urls.length; i++) {\n",
       "      var url = js_urls[i];\n",
       "      var s = document.createElement('script');\n",
       "      s.src = url;\n",
       "      s.async = false;\n",
       "      s.onreadystatechange = s.onload = function() {\n",
       "        root._bokeh_is_loading--;\n",
       "        if (root._bokeh_is_loading === 0) {\n",
       "          console.log(\"Bokeh: all BokehJS libraries loaded\");\n",
       "          run_callbacks()\n",
       "        }\n",
       "      };\n",
       "      s.onerror = function() {\n",
       "        console.warn(\"failed to load library \" + url);\n",
       "      };\n",
       "      console.log(\"Bokeh: injecting script tag for BokehJS library: \", url);\n",
       "      document.getElementsByTagName(\"head\")[0].appendChild(s);\n",
       "    }\n",
       "  };var element = document.getElementById(\"3c261db5-9c23-48c9-9257-4b2aae790509\");\n",
       "  if (element == null) {\n",
       "    console.log(\"Bokeh: ERROR: autoload.js configured with elementid '3c261db5-9c23-48c9-9257-4b2aae790509' but no matching script tag was found. \")\n",
       "    return false;\n",
       "  }\n",
       "\n",
       "  var js_urls = [\"https://cdn.pydata.org/bokeh/release/bokeh-0.12.10.min.js\", \"https://cdn.pydata.org/bokeh/release/bokeh-widgets-0.12.10.min.js\", \"https://cdn.pydata.org/bokeh/release/bokeh-tables-0.12.10.min.js\", \"https://cdn.pydata.org/bokeh/release/bokeh-gl-0.12.10.min.js\"];\n",
       "\n",
       "  var inline_js = [\n",
       "    function(Bokeh) {\n",
       "      Bokeh.set_log_level(\"info\");\n",
       "    },\n",
       "    \n",
       "    function(Bokeh) {\n",
       "      \n",
       "    },\n",
       "    function(Bokeh) {\n",
       "      console.log(\"Bokeh: injecting CSS: https://cdn.pydata.org/bokeh/release/bokeh-0.12.10.min.css\");\n",
       "      Bokeh.embed.inject_css(\"https://cdn.pydata.org/bokeh/release/bokeh-0.12.10.min.css\");\n",
       "      console.log(\"Bokeh: injecting CSS: https://cdn.pydata.org/bokeh/release/bokeh-widgets-0.12.10.min.css\");\n",
       "      Bokeh.embed.inject_css(\"https://cdn.pydata.org/bokeh/release/bokeh-widgets-0.12.10.min.css\");\n",
       "      console.log(\"Bokeh: injecting CSS: https://cdn.pydata.org/bokeh/release/bokeh-tables-0.12.10.min.css\");\n",
       "      Bokeh.embed.inject_css(\"https://cdn.pydata.org/bokeh/release/bokeh-tables-0.12.10.min.css\");\n",
       "    }\n",
       "  ];\n",
       "\n",
       "  function run_inline_js() {\n",
       "    \n",
       "    if ((root.Bokeh !== undefined) || (force === true)) {\n",
       "      for (var i = 0; i < inline_js.length; i++) {\n",
       "        inline_js[i].call(root, root.Bokeh);\n",
       "      }if (force === true) {\n",
       "        display_loaded();\n",
       "      }} else if (Date.now() < root._bokeh_timeout) {\n",
       "      setTimeout(run_inline_js, 100);\n",
       "    } else if (!root._bokeh_failed_load) {\n",
       "      console.log(\"Bokeh: BokehJS failed to load within specified timeout.\");\n",
       "      root._bokeh_failed_load = true;\n",
       "    } else if (force !== true) {\n",
       "      var cell = $(document.getElementById(\"3c261db5-9c23-48c9-9257-4b2aae790509\")).parents('.cell').data().cell;\n",
       "      cell.output_area.append_execute_result(NB_LOAD_WARNING)\n",
       "    }\n",
       "\n",
       "  }\n",
       "\n",
       "  if (root._bokeh_is_loading === 0) {\n",
       "    console.log(\"Bokeh: BokehJS loaded, going straight to plotting\");\n",
       "    run_inline_js();\n",
       "  } else {\n",
       "    load_libs(js_urls, function() {\n",
       "      console.log(\"Bokeh: BokehJS plotting callback run at\", now());\n",
       "      run_inline_js();\n",
       "    });\n",
       "  }\n",
       "}(window));"
      ],
      "application/vnd.bokehjs_load.v0+json": "\n(function(root) {\n  function now() {\n    return new Date();\n  }\n\n  var force = true;\n\n  if (typeof (root._bokeh_onload_callbacks) === \"undefined\" || force === true) {\n    root._bokeh_onload_callbacks = [];\n    root._bokeh_is_loading = undefined;\n  }\n\n  \n\n  \n  if (typeof (root._bokeh_timeout) === \"undefined\" || force === true) {\n    root._bokeh_timeout = Date.now() + 5000;\n    root._bokeh_failed_load = false;\n  }\n\n  var NB_LOAD_WARNING = {'data': {'text/html':\n     \"<div style='background-color: #fdd'>\\n\"+\n     \"<p>\\n\"+\n     \"BokehJS does not appear to have successfully loaded. If loading BokehJS from CDN, this \\n\"+\n     \"may be due to a slow or bad network connection. Possible fixes:\\n\"+\n     \"</p>\\n\"+\n     \"<ul>\\n\"+\n     \"<li>re-rerun `output_notebook()` to attempt to load from CDN again, or</li>\\n\"+\n     \"<li>use INLINE resources instead, as so:</li>\\n\"+\n     \"</ul>\\n\"+\n     \"<code>\\n\"+\n     \"from bokeh.resources import INLINE\\n\"+\n     \"output_notebook(resources=INLINE)\\n\"+\n     \"</code>\\n\"+\n     \"</div>\"}};\n\n  function display_loaded() {\n    var el = document.getElementById(\"3c261db5-9c23-48c9-9257-4b2aae790509\");\n    if (el != null) {\n      el.textContent = \"BokehJS is loading...\";\n    }\n    if (root.Bokeh !== undefined) {\n      if (el != null) {\n        el.textContent = \"BokehJS \" + root.Bokeh.version + \" successfully loaded.\";\n      }\n    } else if (Date.now() < root._bokeh_timeout) {\n      setTimeout(display_loaded, 100)\n    }\n  }\n\n\n  function run_callbacks() {\n    try {\n      root._bokeh_onload_callbacks.forEach(function(callback) { callback() });\n    }\n    finally {\n      delete root._bokeh_onload_callbacks\n    }\n    console.info(\"Bokeh: all callbacks have finished\");\n  }\n\n  function load_libs(js_urls, callback) {\n    root._bokeh_onload_callbacks.push(callback);\n    if (root._bokeh_is_loading > 0) {\n      console.log(\"Bokeh: BokehJS is being loaded, scheduling callback at\", now());\n      return null;\n    }\n    if (js_urls == null || js_urls.length === 0) {\n      run_callbacks();\n      return null;\n    }\n    console.log(\"Bokeh: BokehJS not loaded, scheduling load and callback at\", now());\n    root._bokeh_is_loading = js_urls.length;\n    for (var i = 0; i < js_urls.length; i++) {\n      var url = js_urls[i];\n      var s = document.createElement('script');\n      s.src = url;\n      s.async = false;\n      s.onreadystatechange = s.onload = function() {\n        root._bokeh_is_loading--;\n        if (root._bokeh_is_loading === 0) {\n          console.log(\"Bokeh: all BokehJS libraries loaded\");\n          run_callbacks()\n        }\n      };\n      s.onerror = function() {\n        console.warn(\"failed to load library \" + url);\n      };\n      console.log(\"Bokeh: injecting script tag for BokehJS library: \", url);\n      document.getElementsByTagName(\"head\")[0].appendChild(s);\n    }\n  };var element = document.getElementById(\"3c261db5-9c23-48c9-9257-4b2aae790509\");\n  if (element == null) {\n    console.log(\"Bokeh: ERROR: autoload.js configured with elementid '3c261db5-9c23-48c9-9257-4b2aae790509' but no matching script tag was found. \")\n    return false;\n  }\n\n  var js_urls = [\"https://cdn.pydata.org/bokeh/release/bokeh-0.12.10.min.js\", \"https://cdn.pydata.org/bokeh/release/bokeh-widgets-0.12.10.min.js\", \"https://cdn.pydata.org/bokeh/release/bokeh-tables-0.12.10.min.js\", \"https://cdn.pydata.org/bokeh/release/bokeh-gl-0.12.10.min.js\"];\n\n  var inline_js = [\n    function(Bokeh) {\n      Bokeh.set_log_level(\"info\");\n    },\n    \n    function(Bokeh) {\n      \n    },\n    function(Bokeh) {\n      console.log(\"Bokeh: injecting CSS: https://cdn.pydata.org/bokeh/release/bokeh-0.12.10.min.css\");\n      Bokeh.embed.inject_css(\"https://cdn.pydata.org/bokeh/release/bokeh-0.12.10.min.css\");\n      console.log(\"Bokeh: injecting CSS: https://cdn.pydata.org/bokeh/release/bokeh-widgets-0.12.10.min.css\");\n      Bokeh.embed.inject_css(\"https://cdn.pydata.org/bokeh/release/bokeh-widgets-0.12.10.min.css\");\n      console.log(\"Bokeh: injecting CSS: https://cdn.pydata.org/bokeh/release/bokeh-tables-0.12.10.min.css\");\n      Bokeh.embed.inject_css(\"https://cdn.pydata.org/bokeh/release/bokeh-tables-0.12.10.min.css\");\n    }\n  ];\n\n  function run_inline_js() {\n    \n    if ((root.Bokeh !== undefined) || (force === true)) {\n      for (var i = 0; i < inline_js.length; i++) {\n        inline_js[i].call(root, root.Bokeh);\n      }if (force === true) {\n        display_loaded();\n      }} else if (Date.now() < root._bokeh_timeout) {\n      setTimeout(run_inline_js, 100);\n    } else if (!root._bokeh_failed_load) {\n      console.log(\"Bokeh: BokehJS failed to load within specified timeout.\");\n      root._bokeh_failed_load = true;\n    } else if (force !== true) {\n      var cell = $(document.getElementById(\"3c261db5-9c23-48c9-9257-4b2aae790509\")).parents('.cell').data().cell;\n      cell.output_area.append_execute_result(NB_LOAD_WARNING)\n    }\n\n  }\n\n  if (root._bokeh_is_loading === 0) {\n    console.log(\"Bokeh: BokehJS loaded, going straight to plotting\");\n    run_inline_js();\n  } else {\n    load_libs(js_urls, function() {\n      console.log(\"Bokeh: BokehJS plotting callback run at\", now());\n      run_inline_js();\n    });\n  }\n}(window));"
     },
     "metadata": {},
     "output_type": "display_data"
    },
    {
     "data": {
      "text/html": [
       "\n",
       "<div class=\"bk-root\">\n",
       "    <div class=\"bk-plotdiv\" id=\"b4ebddc7-3fc5-425c-a5cd-5d873222ac95\"></div>\n",
       "</div>"
      ]
     },
     "metadata": {},
     "output_type": "display_data"
    },
    {
     "data": {
      "application/javascript": [
       "(function(root) {\n",
       "  function embed_document(root) {\n",
       "    var docs_json = {\"2974e53f-9b28-4360-92bd-802603c155cd\":{\"roots\":{\"references\":[{\"attributes\":{\"callback\":null},\"id\":\"fdcc5327-33cc-447f-a562-55a00a27ac54\",\"type\":\"DataRange1d\"},{\"attributes\":{},\"id\":\"c4d5fb2a-1e18-4c11-9ac0-8ec59ab1fb0f\",\"type\":\"BasicTicker\"},{\"attributes\":{},\"id\":\"c57cc964-85ff-4976-9b43-849dc564483a\",\"type\":\"SaveTool\"},{\"attributes\":{\"palette\":[\"#0C0786\",\"#40039C\",\"#6A00A7\",\"#8F0DA3\",\"#B02A8F\",\"#CA4678\",\"#E06461\",\"#F1824C\",\"#FCA635\",\"#FCCC25\",\"#EFF821\"]},\"id\":\"3e771847-c99f-4047-b031-11e1c063b199\",\"type\":\"LinearColorMapper\"},{\"attributes\":{\"bottom_units\":\"screen\",\"fill_alpha\":{\"value\":0.5},\"fill_color\":{\"value\":\"lightgrey\"},\"left_units\":\"screen\",\"level\":\"overlay\",\"line_alpha\":{\"value\":1.0},\"line_color\":{\"value\":\"black\"},\"line_dash\":[4,4],\"line_width\":{\"value\":2},\"plot\":null,\"render_mode\":\"css\",\"right_units\":\"screen\",\"top_units\":\"screen\"},\"id\":\"b9905c35-b133-4f8e-b155-3b4f97a46c75\",\"type\":\"BoxAnnotation\"},{\"attributes\":{},\"id\":\"939c67af-19ec-4042-bac1-c16552088e64\",\"type\":\"BasicTickFormatter\"},{\"attributes\":{\"plot\":null,\"text\":\"\"},\"id\":\"5ed2fea4-f2b3-4124-bd5a-d420ea68c554\",\"type\":\"Title\"},{\"attributes\":{\"dimension\":1,\"plot\":{\"id\":\"a8eaee42-cb62-4672-9772-5650ee9f613b\",\"subtype\":\"Figure\",\"type\":\"Plot\"},\"ticker\":{\"id\":\"b2147741-7ba4-43eb-a375-6b3aa8c61819\",\"type\":\"BasicTicker\"}},\"id\":\"d69f7aed-ad63-4580-9b43-82d640862eac\",\"type\":\"Grid\"},{\"attributes\":{\"callback\":null},\"id\":\"47ceea9b-12b6-4624-acd4-f6aa40ae5a35\",\"type\":\"DataRange1d\"},{\"attributes\":{\"formatter\":{\"id\":\"939c67af-19ec-4042-bac1-c16552088e64\",\"type\":\"BasicTickFormatter\"},\"plot\":{\"id\":\"a8eaee42-cb62-4672-9772-5650ee9f613b\",\"subtype\":\"Figure\",\"type\":\"Plot\"},\"ticker\":{\"id\":\"b2147741-7ba4-43eb-a375-6b3aa8c61819\",\"type\":\"BasicTicker\"}},\"id\":\"a5fc35d9-3b3b-40a3-aeba-7b884d053bf8\",\"type\":\"LinearAxis\"},{\"attributes\":{},\"id\":\"0df60056-5b56-4463-b605-b40f540d60c7\",\"type\":\"PanTool\"},{\"attributes\":{},\"id\":\"c86db3c6-d340-496a-9cf7-e7b0a5c88b64\",\"type\":\"WheelZoomTool\"},{\"attributes\":{\"active_drag\":\"auto\",\"active_inspect\":\"auto\",\"active_scroll\":\"auto\",\"active_tap\":\"auto\",\"tools\":[{\"id\":\"0df60056-5b56-4463-b605-b40f540d60c7\",\"type\":\"PanTool\"},{\"id\":\"c86db3c6-d340-496a-9cf7-e7b0a5c88b64\",\"type\":\"WheelZoomTool\"},{\"id\":\"77c2161f-ff24-42d6-94eb-f89fcb979e62\",\"type\":\"BoxZoomTool\"},{\"id\":\"c57cc964-85ff-4976-9b43-849dc564483a\",\"type\":\"SaveTool\"},{\"id\":\"6910aadf-7a5f-4905-b7de-5ef3c98fb09e\",\"type\":\"ResetTool\"},{\"id\":\"c7964b67-d1ad-49d4-ba91-7fecfc6a078a\",\"type\":\"HelpTool\"}]},\"id\":\"60346ad1-f03d-4d67-bdc1-fb35f9e59f47\",\"type\":\"Toolbar\"},{\"attributes\":{},\"id\":\"b2147741-7ba4-43eb-a375-6b3aa8c61819\",\"type\":\"BasicTicker\"},{\"attributes\":{\"data_source\":{\"id\":\"3952e529-e9aa-424c-94d5-12d6450756ac\",\"type\":\"ColumnDataSource\"},\"glyph\":{\"id\":\"10fac1ef-b865-4580-a5fc-a9c2e3ec0593\",\"type\":\"Image\"},\"hover_glyph\":null,\"muted_glyph\":null,\"nonselection_glyph\":{\"id\":\"25110867-ebe4-46ae-abca-93eb8f25cf6d\",\"type\":\"Image\"},\"selection_glyph\":null,\"view\":{\"id\":\"0a2debef-479d-409d-9f04-ec1fb58ef306\",\"type\":\"CDSView\"}},\"id\":\"fd41997c-037a-4252-965c-4d0ed5e6f7fa\",\"type\":\"GlyphRenderer\"},{\"attributes\":{},\"id\":\"e41c9afc-0b66-4d8c-9f07-636d204fb00e\",\"type\":\"LinearScale\"},{\"attributes\":{\"palette\":[\"#0C0786\",\"#40039C\",\"#6A00A7\",\"#8F0DA3\",\"#B02A8F\",\"#CA4678\",\"#E06461\",\"#F1824C\",\"#FCA635\",\"#FCCC25\",\"#EFF821\"]},\"id\":\"3ffc2346-6711-412a-af67-379f9ae2aea5\",\"type\":\"LinearColorMapper\"},{\"attributes\":{\"callback\":null,\"column_names\":[\"image\"],\"data\":{\"image\":[[[0.03628275264713231,0.036421842391516475,0.036558343319033286,0.036710524594006415,0.03683723191621867,0.03698748618388523,0.037123957954125465,0.03726817761493195,0.03739919092716555],[0.03595668641770905,0.03610308770667068,0.03624029369745655,0.036388037570486205,0.03651775019002167,0.03666159121529393,0.0368055278569011,0.03694253597018538,0.03707918523084766],[0.035707407378188026,0.03586279167588474,0.03599805368031274,0.036143261956871536,0.03627510988210352,0.036414163282161675,0.03656296033033583,0.036695675782748884,0.03683207834862419],[0.035281138961282765,0.03542995606269243,0.03557879263123601,0.035712183608072795,0.03584376985385871,0.03598753438723533,0.036133892643253035,0.036267615180686975,0.0364032838131361],[0.03496949757402898,0.03511306793226007,0.03525723038638751,0.03539421099491751,0.035529782463267746,0.03566392556438331,0.035813684315635926,0.03594784432991364,0.0360882942813957],[0.03484972619761876,0.03499604667865754,0.03513647512008306,0.03527605678137745,0.03541827451850557,0.03554826388127211,0.03569560615575564,0.035832654933871,0.03597077681050769],[0.03463716841830977,0.034779378072454535,0.0349280912650546,0.03506311491205089,0.03521624674811677,0.03534394962800795,0.03548718554917417,0.03562741407264983,0.03576512138107323],[0.0345681899096863,0.03471401858443358,0.034862798526190245,0.03499640789234856,0.035152390969547476,0.03528126290231003,0.03542030931284449,0.03556348060999602,0.03570043401479242],[0.03458476167920392,0.03473304951305696,0.03488136390150047,0.03501731567450194,0.035178274701142286,0.03530546966506426,0.03544455637137047,0.03558862344782116,0.035723762392978316]]]}},\"id\":\"3952e529-e9aa-424c-94d5-12d6450756ac\",\"type\":\"ColumnDataSource\"},{\"attributes\":{\"color_mapper\":{\"id\":\"3e771847-c99f-4047-b031-11e1c063b199\",\"type\":\"LinearColorMapper\"},\"dh\":{\"units\":\"data\",\"value\":31},\"dw\":{\"units\":\"data\",\"value\":31},\"image\":{\"field\":\"image\"},\"x\":{\"value\":0},\"y\":{\"value\":0}},\"id\":\"25110867-ebe4-46ae-abca-93eb8f25cf6d\",\"type\":\"Image\"},{\"attributes\":{\"overlay\":{\"id\":\"b9905c35-b133-4f8e-b155-3b4f97a46c75\",\"type\":\"BoxAnnotation\"}},\"id\":\"77c2161f-ff24-42d6-94eb-f89fcb979e62\",\"type\":\"BoxZoomTool\"},{\"attributes\":{},\"id\":\"6910aadf-7a5f-4905-b7de-5ef3c98fb09e\",\"type\":\"ResetTool\"},{\"attributes\":{\"plot\":{\"id\":\"a8eaee42-cb62-4672-9772-5650ee9f613b\",\"subtype\":\"Figure\",\"type\":\"Plot\"},\"ticker\":{\"id\":\"c4d5fb2a-1e18-4c11-9ac0-8ec59ab1fb0f\",\"type\":\"BasicTicker\"}},\"id\":\"0cf7efeb-570f-4b8e-bba1-19371b6546f0\",\"type\":\"Grid\"},{\"attributes\":{\"formatter\":{\"id\":\"38bd2403-1414-4b71-8aa0-a775d0f34299\",\"type\":\"BasicTickFormatter\"},\"plot\":{\"id\":\"a8eaee42-cb62-4672-9772-5650ee9f613b\",\"subtype\":\"Figure\",\"type\":\"Plot\"},\"ticker\":{\"id\":\"c4d5fb2a-1e18-4c11-9ac0-8ec59ab1fb0f\",\"type\":\"BasicTicker\"}},\"id\":\"f6902fb2-ab33-4227-9141-d1f9abdc6c84\",\"type\":\"LinearAxis\"},{\"attributes\":{\"source\":{\"id\":\"3952e529-e9aa-424c-94d5-12d6450756ac\",\"type\":\"ColumnDataSource\"}},\"id\":\"0a2debef-479d-409d-9f04-ec1fb58ef306\",\"type\":\"CDSView\"},{\"attributes\":{\"color_mapper\":{\"id\":\"3ffc2346-6711-412a-af67-379f9ae2aea5\",\"type\":\"LinearColorMapper\"},\"dh\":{\"units\":\"data\",\"value\":31},\"dw\":{\"units\":\"data\",\"value\":31},\"image\":{\"field\":\"image\"},\"x\":{\"value\":0},\"y\":{\"value\":0}},\"id\":\"10fac1ef-b865-4580-a5fc-a9c2e3ec0593\",\"type\":\"Image\"},{\"attributes\":{\"below\":[{\"id\":\"f6902fb2-ab33-4227-9141-d1f9abdc6c84\",\"type\":\"LinearAxis\"}],\"left\":[{\"id\":\"a5fc35d9-3b3b-40a3-aeba-7b884d053bf8\",\"type\":\"LinearAxis\"}],\"renderers\":[{\"id\":\"f6902fb2-ab33-4227-9141-d1f9abdc6c84\",\"type\":\"LinearAxis\"},{\"id\":\"0cf7efeb-570f-4b8e-bba1-19371b6546f0\",\"type\":\"Grid\"},{\"id\":\"a5fc35d9-3b3b-40a3-aeba-7b884d053bf8\",\"type\":\"LinearAxis\"},{\"id\":\"d69f7aed-ad63-4580-9b43-82d640862eac\",\"type\":\"Grid\"},{\"id\":\"b9905c35-b133-4f8e-b155-3b4f97a46c75\",\"type\":\"BoxAnnotation\"},{\"id\":\"fd41997c-037a-4252-965c-4d0ed5e6f7fa\",\"type\":\"GlyphRenderer\"}],\"title\":{\"id\":\"5ed2fea4-f2b3-4124-bd5a-d420ea68c554\",\"type\":\"Title\"},\"toolbar\":{\"id\":\"60346ad1-f03d-4d67-bdc1-fb35f9e59f47\",\"type\":\"Toolbar\"},\"x_range\":{\"id\":\"fdcc5327-33cc-447f-a562-55a00a27ac54\",\"type\":\"DataRange1d\"},\"x_scale\":{\"id\":\"e41c9afc-0b66-4d8c-9f07-636d204fb00e\",\"type\":\"LinearScale\"},\"y_range\":{\"id\":\"47ceea9b-12b6-4624-acd4-f6aa40ae5a35\",\"type\":\"DataRange1d\"},\"y_scale\":{\"id\":\"c6fd4db4-2c99-4473-8fc3-df448779cfa2\",\"type\":\"LinearScale\"}},\"id\":\"a8eaee42-cb62-4672-9772-5650ee9f613b\",\"subtype\":\"Figure\",\"type\":\"Plot\"},{\"attributes\":{},\"id\":\"c6fd4db4-2c99-4473-8fc3-df448779cfa2\",\"type\":\"LinearScale\"},{\"attributes\":{},\"id\":\"c7964b67-d1ad-49d4-ba91-7fecfc6a078a\",\"type\":\"HelpTool\"},{\"attributes\":{},\"id\":\"38bd2403-1414-4b71-8aa0-a775d0f34299\",\"type\":\"BasicTickFormatter\"}],\"root_ids\":[\"a8eaee42-cb62-4672-9772-5650ee9f613b\"]},\"title\":\"Bokeh Application\",\"version\":\"0.12.10\"}};\n",
       "    var render_items = [{\"docid\":\"2974e53f-9b28-4360-92bd-802603c155cd\",\"elementid\":\"b4ebddc7-3fc5-425c-a5cd-5d873222ac95\",\"modelid\":\"a8eaee42-cb62-4672-9772-5650ee9f613b\"}];\n",
       "\n",
       "    root.Bokeh.embed.embed_items(docs_json, render_items);\n",
       "  }\n",
       "\n",
       "  if (root.Bokeh !== undefined) {\n",
       "    embed_document(root);\n",
       "  } else {\n",
       "    var attempts = 0;\n",
       "    var timer = setInterval(function(root) {\n",
       "      if (root.Bokeh !== undefined) {\n",
       "        embed_document(root);\n",
       "        clearInterval(timer);\n",
       "      }\n",
       "      attempts++;\n",
       "      if (attempts > 100) {\n",
       "        console.log(\"Bokeh: ERROR: Unable to embed document because BokehJS library is missing\")\n",
       "        clearInterval(timer);\n",
       "      }\n",
       "    }, 10, root)\n",
       "  }\n",
       "})(window);"
      ],
      "application/vnd.bokehjs_exec.v0+json": ""
     },
     "metadata": {
      "application/vnd.bokehjs_exec.v0+json": {
       "id": "a8eaee42-cb62-4672-9772-5650ee9f613b"
      }
     },
     "output_type": "display_data"
    }
   ],
   "source": [
    "#bokeh  使い方あんまかしわからん\n",
    "from bokeh.plotting import figure\n",
    "from bokeh.io import show, output_notebook\n",
    "\n",
    "output_notebook()\n",
    "plt1 = figure()\n",
    "rend1 = plt1.image(image=[data[16000]], x=0, y=0, dw =31, dh=31, palette=\"Plasma11\")\n",
    "\n",
    "show(plt1)"
   ]
  },
  {
   "cell_type": "code",
   "execution_count": 105,
   "metadata": {},
   "outputs": [
    {
     "data": {
      "text/plain": [
       "59.81552424359247"
      ]
     },
     "execution_count": 105,
     "metadata": {},
     "output_type": "execute_result"
    }
   ],
   "source": [
    "numpy.max(data)"
   ]
  },
  {
   "cell_type": "code",
   "execution_count": 106,
   "metadata": {},
   "outputs": [
    {
     "data": {
      "text/plain": [
       "(array([], dtype=int64), array([], dtype=int64), array([], dtype=int64))"
      ]
     },
     "execution_count": 106,
     "metadata": {},
     "output_type": "execute_result"
    }
   ],
   "source": [
    "numpy.where(data > 213)"
   ]
  },
  {
   "cell_type": "code",
   "execution_count": 107,
   "metadata": {},
   "outputs": [
    {
     "data": {
      "application/javascript": [
       "/* Put everything inside the global mpl namespace */\n",
       "window.mpl = {};\n",
       "\n",
       "\n",
       "mpl.get_websocket_type = function() {\n",
       "    if (typeof(WebSocket) !== 'undefined') {\n",
       "        return WebSocket;\n",
       "    } else if (typeof(MozWebSocket) !== 'undefined') {\n",
       "        return MozWebSocket;\n",
       "    } else {\n",
       "        alert('Your browser does not have WebSocket support.' +\n",
       "              'Please try Chrome, Safari or Firefox ≥ 6. ' +\n",
       "              'Firefox 4 and 5 are also supported but you ' +\n",
       "              'have to enable WebSockets in about:config.');\n",
       "    };\n",
       "}\n",
       "\n",
       "mpl.figure = function(figure_id, websocket, ondownload, parent_element) {\n",
       "    this.id = figure_id;\n",
       "\n",
       "    this.ws = websocket;\n",
       "\n",
       "    this.supports_binary = (this.ws.binaryType != undefined);\n",
       "\n",
       "    if (!this.supports_binary) {\n",
       "        var warnings = document.getElementById(\"mpl-warnings\");\n",
       "        if (warnings) {\n",
       "            warnings.style.display = 'block';\n",
       "            warnings.textContent = (\n",
       "                \"This browser does not support binary websocket messages. \" +\n",
       "                    \"Performance may be slow.\");\n",
       "        }\n",
       "    }\n",
       "\n",
       "    this.imageObj = new Image();\n",
       "\n",
       "    this.context = undefined;\n",
       "    this.message = undefined;\n",
       "    this.canvas = undefined;\n",
       "    this.rubberband_canvas = undefined;\n",
       "    this.rubberband_context = undefined;\n",
       "    this.format_dropdown = undefined;\n",
       "\n",
       "    this.image_mode = 'full';\n",
       "\n",
       "    this.root = $('<div/>');\n",
       "    this._root_extra_style(this.root)\n",
       "    this.root.attr('style', 'display: inline-block');\n",
       "\n",
       "    $(parent_element).append(this.root);\n",
       "\n",
       "    this._init_header(this);\n",
       "    this._init_canvas(this);\n",
       "    this._init_toolbar(this);\n",
       "\n",
       "    var fig = this;\n",
       "\n",
       "    this.waiting = false;\n",
       "\n",
       "    this.ws.onopen =  function () {\n",
       "            fig.send_message(\"supports_binary\", {value: fig.supports_binary});\n",
       "            fig.send_message(\"send_image_mode\", {});\n",
       "            if (mpl.ratio != 1) {\n",
       "                fig.send_message(\"set_dpi_ratio\", {'dpi_ratio': mpl.ratio});\n",
       "            }\n",
       "            fig.send_message(\"refresh\", {});\n",
       "        }\n",
       "\n",
       "    this.imageObj.onload = function() {\n",
       "            if (fig.image_mode == 'full') {\n",
       "                // Full images could contain transparency (where diff images\n",
       "                // almost always do), so we need to clear the canvas so that\n",
       "                // there is no ghosting.\n",
       "                fig.context.clearRect(0, 0, fig.canvas.width, fig.canvas.height);\n",
       "            }\n",
       "            fig.context.drawImage(fig.imageObj, 0, 0);\n",
       "        };\n",
       "\n",
       "    this.imageObj.onunload = function() {\n",
       "        fig.ws.close();\n",
       "    }\n",
       "\n",
       "    this.ws.onmessage = this._make_on_message_function(this);\n",
       "\n",
       "    this.ondownload = ondownload;\n",
       "}\n",
       "\n",
       "mpl.figure.prototype._init_header = function() {\n",
       "    var titlebar = $(\n",
       "        '<div class=\"ui-dialog-titlebar ui-widget-header ui-corner-all ' +\n",
       "        'ui-helper-clearfix\"/>');\n",
       "    var titletext = $(\n",
       "        '<div class=\"ui-dialog-title\" style=\"width: 100%; ' +\n",
       "        'text-align: center; padding: 3px;\"/>');\n",
       "    titlebar.append(titletext)\n",
       "    this.root.append(titlebar);\n",
       "    this.header = titletext[0];\n",
       "}\n",
       "\n",
       "\n",
       "\n",
       "mpl.figure.prototype._canvas_extra_style = function(canvas_div) {\n",
       "\n",
       "}\n",
       "\n",
       "\n",
       "mpl.figure.prototype._root_extra_style = function(canvas_div) {\n",
       "\n",
       "}\n",
       "\n",
       "mpl.figure.prototype._init_canvas = function() {\n",
       "    var fig = this;\n",
       "\n",
       "    var canvas_div = $('<div/>');\n",
       "\n",
       "    canvas_div.attr('style', 'position: relative; clear: both; outline: 0');\n",
       "\n",
       "    function canvas_keyboard_event(event) {\n",
       "        return fig.key_event(event, event['data']);\n",
       "    }\n",
       "\n",
       "    canvas_div.keydown('key_press', canvas_keyboard_event);\n",
       "    canvas_div.keyup('key_release', canvas_keyboard_event);\n",
       "    this.canvas_div = canvas_div\n",
       "    this._canvas_extra_style(canvas_div)\n",
       "    this.root.append(canvas_div);\n",
       "\n",
       "    var canvas = $('<canvas/>');\n",
       "    canvas.addClass('mpl-canvas');\n",
       "    canvas.attr('style', \"left: 0; top: 0; z-index: 0; outline: 0\")\n",
       "\n",
       "    this.canvas = canvas[0];\n",
       "    this.context = canvas[0].getContext(\"2d\");\n",
       "\n",
       "    var backingStore = this.context.backingStorePixelRatio ||\n",
       "\tthis.context.webkitBackingStorePixelRatio ||\n",
       "\tthis.context.mozBackingStorePixelRatio ||\n",
       "\tthis.context.msBackingStorePixelRatio ||\n",
       "\tthis.context.oBackingStorePixelRatio ||\n",
       "\tthis.context.backingStorePixelRatio || 1;\n",
       "\n",
       "    mpl.ratio = (window.devicePixelRatio || 1) / backingStore;\n",
       "\n",
       "    var rubberband = $('<canvas/>');\n",
       "    rubberband.attr('style', \"position: absolute; left: 0; top: 0; z-index: 1;\")\n",
       "\n",
       "    var pass_mouse_events = true;\n",
       "\n",
       "    canvas_div.resizable({\n",
       "        start: function(event, ui) {\n",
       "            pass_mouse_events = false;\n",
       "        },\n",
       "        resize: function(event, ui) {\n",
       "            fig.request_resize(ui.size.width, ui.size.height);\n",
       "        },\n",
       "        stop: function(event, ui) {\n",
       "            pass_mouse_events = true;\n",
       "            fig.request_resize(ui.size.width, ui.size.height);\n",
       "        },\n",
       "    });\n",
       "\n",
       "    function mouse_event_fn(event) {\n",
       "        if (pass_mouse_events)\n",
       "            return fig.mouse_event(event, event['data']);\n",
       "    }\n",
       "\n",
       "    rubberband.mousedown('button_press', mouse_event_fn);\n",
       "    rubberband.mouseup('button_release', mouse_event_fn);\n",
       "    // Throttle sequential mouse events to 1 every 20ms.\n",
       "    rubberband.mousemove('motion_notify', mouse_event_fn);\n",
       "\n",
       "    rubberband.mouseenter('figure_enter', mouse_event_fn);\n",
       "    rubberband.mouseleave('figure_leave', mouse_event_fn);\n",
       "\n",
       "    canvas_div.on(\"wheel\", function (event) {\n",
       "        event = event.originalEvent;\n",
       "        event['data'] = 'scroll'\n",
       "        if (event.deltaY < 0) {\n",
       "            event.step = 1;\n",
       "        } else {\n",
       "            event.step = -1;\n",
       "        }\n",
       "        mouse_event_fn(event);\n",
       "    });\n",
       "\n",
       "    canvas_div.append(canvas);\n",
       "    canvas_div.append(rubberband);\n",
       "\n",
       "    this.rubberband = rubberband;\n",
       "    this.rubberband_canvas = rubberband[0];\n",
       "    this.rubberband_context = rubberband[0].getContext(\"2d\");\n",
       "    this.rubberband_context.strokeStyle = \"#000000\";\n",
       "\n",
       "    this._resize_canvas = function(width, height) {\n",
       "        // Keep the size of the canvas, canvas container, and rubber band\n",
       "        // canvas in synch.\n",
       "        canvas_div.css('width', width)\n",
       "        canvas_div.css('height', height)\n",
       "\n",
       "        canvas.attr('width', width * mpl.ratio);\n",
       "        canvas.attr('height', height * mpl.ratio);\n",
       "        canvas.attr('style', 'width: ' + width + 'px; height: ' + height + 'px;');\n",
       "\n",
       "        rubberband.attr('width', width);\n",
       "        rubberband.attr('height', height);\n",
       "    }\n",
       "\n",
       "    // Set the figure to an initial 600x600px, this will subsequently be updated\n",
       "    // upon first draw.\n",
       "    this._resize_canvas(600, 600);\n",
       "\n",
       "    // Disable right mouse context menu.\n",
       "    $(this.rubberband_canvas).bind(\"contextmenu\",function(e){\n",
       "        return false;\n",
       "    });\n",
       "\n",
       "    function set_focus () {\n",
       "        canvas.focus();\n",
       "        canvas_div.focus();\n",
       "    }\n",
       "\n",
       "    window.setTimeout(set_focus, 100);\n",
       "}\n",
       "\n",
       "mpl.figure.prototype._init_toolbar = function() {\n",
       "    var fig = this;\n",
       "\n",
       "    var nav_element = $('<div/>')\n",
       "    nav_element.attr('style', 'width: 100%');\n",
       "    this.root.append(nav_element);\n",
       "\n",
       "    // Define a callback function for later on.\n",
       "    function toolbar_event(event) {\n",
       "        return fig.toolbar_button_onclick(event['data']);\n",
       "    }\n",
       "    function toolbar_mouse_event(event) {\n",
       "        return fig.toolbar_button_onmouseover(event['data']);\n",
       "    }\n",
       "\n",
       "    for(var toolbar_ind in mpl.toolbar_items) {\n",
       "        var name = mpl.toolbar_items[toolbar_ind][0];\n",
       "        var tooltip = mpl.toolbar_items[toolbar_ind][1];\n",
       "        var image = mpl.toolbar_items[toolbar_ind][2];\n",
       "        var method_name = mpl.toolbar_items[toolbar_ind][3];\n",
       "\n",
       "        if (!name) {\n",
       "            // put a spacer in here.\n",
       "            continue;\n",
       "        }\n",
       "        var button = $('<button/>');\n",
       "        button.addClass('ui-button ui-widget ui-state-default ui-corner-all ' +\n",
       "                        'ui-button-icon-only');\n",
       "        button.attr('role', 'button');\n",
       "        button.attr('aria-disabled', 'false');\n",
       "        button.click(method_name, toolbar_event);\n",
       "        button.mouseover(tooltip, toolbar_mouse_event);\n",
       "\n",
       "        var icon_img = $('<span/>');\n",
       "        icon_img.addClass('ui-button-icon-primary ui-icon');\n",
       "        icon_img.addClass(image);\n",
       "        icon_img.addClass('ui-corner-all');\n",
       "\n",
       "        var tooltip_span = $('<span/>');\n",
       "        tooltip_span.addClass('ui-button-text');\n",
       "        tooltip_span.html(tooltip);\n",
       "\n",
       "        button.append(icon_img);\n",
       "        button.append(tooltip_span);\n",
       "\n",
       "        nav_element.append(button);\n",
       "    }\n",
       "\n",
       "    var fmt_picker_span = $('<span/>');\n",
       "\n",
       "    var fmt_picker = $('<select/>');\n",
       "    fmt_picker.addClass('mpl-toolbar-option ui-widget ui-widget-content');\n",
       "    fmt_picker_span.append(fmt_picker);\n",
       "    nav_element.append(fmt_picker_span);\n",
       "    this.format_dropdown = fmt_picker[0];\n",
       "\n",
       "    for (var ind in mpl.extensions) {\n",
       "        var fmt = mpl.extensions[ind];\n",
       "        var option = $(\n",
       "            '<option/>', {selected: fmt === mpl.default_extension}).html(fmt);\n",
       "        fmt_picker.append(option)\n",
       "    }\n",
       "\n",
       "    // Add hover states to the ui-buttons\n",
       "    $( \".ui-button\" ).hover(\n",
       "        function() { $(this).addClass(\"ui-state-hover\");},\n",
       "        function() { $(this).removeClass(\"ui-state-hover\");}\n",
       "    );\n",
       "\n",
       "    var status_bar = $('<span class=\"mpl-message\"/>');\n",
       "    nav_element.append(status_bar);\n",
       "    this.message = status_bar[0];\n",
       "}\n",
       "\n",
       "mpl.figure.prototype.request_resize = function(x_pixels, y_pixels) {\n",
       "    // Request matplotlib to resize the figure. Matplotlib will then trigger a resize in the client,\n",
       "    // which will in turn request a refresh of the image.\n",
       "    this.send_message('resize', {'width': x_pixels, 'height': y_pixels});\n",
       "}\n",
       "\n",
       "mpl.figure.prototype.send_message = function(type, properties) {\n",
       "    properties['type'] = type;\n",
       "    properties['figure_id'] = this.id;\n",
       "    this.ws.send(JSON.stringify(properties));\n",
       "}\n",
       "\n",
       "mpl.figure.prototype.send_draw_message = function() {\n",
       "    if (!this.waiting) {\n",
       "        this.waiting = true;\n",
       "        this.ws.send(JSON.stringify({type: \"draw\", figure_id: this.id}));\n",
       "    }\n",
       "}\n",
       "\n",
       "\n",
       "mpl.figure.prototype.handle_save = function(fig, msg) {\n",
       "    var format_dropdown = fig.format_dropdown;\n",
       "    var format = format_dropdown.options[format_dropdown.selectedIndex].value;\n",
       "    fig.ondownload(fig, format);\n",
       "}\n",
       "\n",
       "\n",
       "mpl.figure.prototype.handle_resize = function(fig, msg) {\n",
       "    var size = msg['size'];\n",
       "    if (size[0] != fig.canvas.width || size[1] != fig.canvas.height) {\n",
       "        fig._resize_canvas(size[0], size[1]);\n",
       "        fig.send_message(\"refresh\", {});\n",
       "    };\n",
       "}\n",
       "\n",
       "mpl.figure.prototype.handle_rubberband = function(fig, msg) {\n",
       "    var x0 = msg['x0'] / mpl.ratio;\n",
       "    var y0 = (fig.canvas.height - msg['y0']) / mpl.ratio;\n",
       "    var x1 = msg['x1'] / mpl.ratio;\n",
       "    var y1 = (fig.canvas.height - msg['y1']) / mpl.ratio;\n",
       "    x0 = Math.floor(x0) + 0.5;\n",
       "    y0 = Math.floor(y0) + 0.5;\n",
       "    x1 = Math.floor(x1) + 0.5;\n",
       "    y1 = Math.floor(y1) + 0.5;\n",
       "    var min_x = Math.min(x0, x1);\n",
       "    var min_y = Math.min(y0, y1);\n",
       "    var width = Math.abs(x1 - x0);\n",
       "    var height = Math.abs(y1 - y0);\n",
       "\n",
       "    fig.rubberband_context.clearRect(\n",
       "        0, 0, fig.canvas.width, fig.canvas.height);\n",
       "\n",
       "    fig.rubberband_context.strokeRect(min_x, min_y, width, height);\n",
       "}\n",
       "\n",
       "mpl.figure.prototype.handle_figure_label = function(fig, msg) {\n",
       "    // Updates the figure title.\n",
       "    fig.header.textContent = msg['label'];\n",
       "}\n",
       "\n",
       "mpl.figure.prototype.handle_cursor = function(fig, msg) {\n",
       "    var cursor = msg['cursor'];\n",
       "    switch(cursor)\n",
       "    {\n",
       "    case 0:\n",
       "        cursor = 'pointer';\n",
       "        break;\n",
       "    case 1:\n",
       "        cursor = 'default';\n",
       "        break;\n",
       "    case 2:\n",
       "        cursor = 'crosshair';\n",
       "        break;\n",
       "    case 3:\n",
       "        cursor = 'move';\n",
       "        break;\n",
       "    }\n",
       "    fig.rubberband_canvas.style.cursor = cursor;\n",
       "}\n",
       "\n",
       "mpl.figure.prototype.handle_message = function(fig, msg) {\n",
       "    fig.message.textContent = msg['message'];\n",
       "}\n",
       "\n",
       "mpl.figure.prototype.handle_draw = function(fig, msg) {\n",
       "    // Request the server to send over a new figure.\n",
       "    fig.send_draw_message();\n",
       "}\n",
       "\n",
       "mpl.figure.prototype.handle_image_mode = function(fig, msg) {\n",
       "    fig.image_mode = msg['mode'];\n",
       "}\n",
       "\n",
       "mpl.figure.prototype.updated_canvas_event = function() {\n",
       "    // Called whenever the canvas gets updated.\n",
       "    this.send_message(\"ack\", {});\n",
       "}\n",
       "\n",
       "// A function to construct a web socket function for onmessage handling.\n",
       "// Called in the figure constructor.\n",
       "mpl.figure.prototype._make_on_message_function = function(fig) {\n",
       "    return function socket_on_message(evt) {\n",
       "        if (evt.data instanceof Blob) {\n",
       "            /* FIXME: We get \"Resource interpreted as Image but\n",
       "             * transferred with MIME type text/plain:\" errors on\n",
       "             * Chrome.  But how to set the MIME type?  It doesn't seem\n",
       "             * to be part of the websocket stream */\n",
       "            evt.data.type = \"image/png\";\n",
       "\n",
       "            /* Free the memory for the previous frames */\n",
       "            if (fig.imageObj.src) {\n",
       "                (window.URL || window.webkitURL).revokeObjectURL(\n",
       "                    fig.imageObj.src);\n",
       "            }\n",
       "\n",
       "            fig.imageObj.src = (window.URL || window.webkitURL).createObjectURL(\n",
       "                evt.data);\n",
       "            fig.updated_canvas_event();\n",
       "            fig.waiting = false;\n",
       "            return;\n",
       "        }\n",
       "        else if (typeof evt.data === 'string' && evt.data.slice(0, 21) == \"data:image/png;base64\") {\n",
       "            fig.imageObj.src = evt.data;\n",
       "            fig.updated_canvas_event();\n",
       "            fig.waiting = false;\n",
       "            return;\n",
       "        }\n",
       "\n",
       "        var msg = JSON.parse(evt.data);\n",
       "        var msg_type = msg['type'];\n",
       "\n",
       "        // Call the  \"handle_{type}\" callback, which takes\n",
       "        // the figure and JSON message as its only arguments.\n",
       "        try {\n",
       "            var callback = fig[\"handle_\" + msg_type];\n",
       "        } catch (e) {\n",
       "            console.log(\"No handler for the '\" + msg_type + \"' message type: \", msg);\n",
       "            return;\n",
       "        }\n",
       "\n",
       "        if (callback) {\n",
       "            try {\n",
       "                // console.log(\"Handling '\" + msg_type + \"' message: \", msg);\n",
       "                callback(fig, msg);\n",
       "            } catch (e) {\n",
       "                console.log(\"Exception inside the 'handler_\" + msg_type + \"' callback:\", e, e.stack, msg);\n",
       "            }\n",
       "        }\n",
       "    };\n",
       "}\n",
       "\n",
       "// from http://stackoverflow.com/questions/1114465/getting-mouse-location-in-canvas\n",
       "mpl.findpos = function(e) {\n",
       "    //this section is from http://www.quirksmode.org/js/events_properties.html\n",
       "    var targ;\n",
       "    if (!e)\n",
       "        e = window.event;\n",
       "    if (e.target)\n",
       "        targ = e.target;\n",
       "    else if (e.srcElement)\n",
       "        targ = e.srcElement;\n",
       "    if (targ.nodeType == 3) // defeat Safari bug\n",
       "        targ = targ.parentNode;\n",
       "\n",
       "    // jQuery normalizes the pageX and pageY\n",
       "    // pageX,Y are the mouse positions relative to the document\n",
       "    // offset() returns the position of the element relative to the document\n",
       "    var x = e.pageX - $(targ).offset().left;\n",
       "    var y = e.pageY - $(targ).offset().top;\n",
       "\n",
       "    return {\"x\": x, \"y\": y};\n",
       "};\n",
       "\n",
       "/*\n",
       " * return a copy of an object with only non-object keys\n",
       " * we need this to avoid circular references\n",
       " * http://stackoverflow.com/a/24161582/3208463\n",
       " */\n",
       "function simpleKeys (original) {\n",
       "  return Object.keys(original).reduce(function (obj, key) {\n",
       "    if (typeof original[key] !== 'object')\n",
       "        obj[key] = original[key]\n",
       "    return obj;\n",
       "  }, {});\n",
       "}\n",
       "\n",
       "mpl.figure.prototype.mouse_event = function(event, name) {\n",
       "    var canvas_pos = mpl.findpos(event)\n",
       "\n",
       "    if (name === 'button_press')\n",
       "    {\n",
       "        this.canvas.focus();\n",
       "        this.canvas_div.focus();\n",
       "    }\n",
       "\n",
       "    var x = canvas_pos.x * mpl.ratio;\n",
       "    var y = canvas_pos.y * mpl.ratio;\n",
       "\n",
       "    this.send_message(name, {x: x, y: y, button: event.button,\n",
       "                             step: event.step,\n",
       "                             guiEvent: simpleKeys(event)});\n",
       "\n",
       "    /* This prevents the web browser from automatically changing to\n",
       "     * the text insertion cursor when the button is pressed.  We want\n",
       "     * to control all of the cursor setting manually through the\n",
       "     * 'cursor' event from matplotlib */\n",
       "    event.preventDefault();\n",
       "    return false;\n",
       "}\n",
       "\n",
       "mpl.figure.prototype._key_event_extra = function(event, name) {\n",
       "    // Handle any extra behaviour associated with a key event\n",
       "}\n",
       "\n",
       "mpl.figure.prototype.key_event = function(event, name) {\n",
       "\n",
       "    // Prevent repeat events\n",
       "    if (name == 'key_press')\n",
       "    {\n",
       "        if (event.which === this._key)\n",
       "            return;\n",
       "        else\n",
       "            this._key = event.which;\n",
       "    }\n",
       "    if (name == 'key_release')\n",
       "        this._key = null;\n",
       "\n",
       "    var value = '';\n",
       "    if (event.ctrlKey && event.which != 17)\n",
       "        value += \"ctrl+\";\n",
       "    if (event.altKey && event.which != 18)\n",
       "        value += \"alt+\";\n",
       "    if (event.shiftKey && event.which != 16)\n",
       "        value += \"shift+\";\n",
       "\n",
       "    value += 'k';\n",
       "    value += event.which.toString();\n",
       "\n",
       "    this._key_event_extra(event, name);\n",
       "\n",
       "    this.send_message(name, {key: value,\n",
       "                             guiEvent: simpleKeys(event)});\n",
       "    return false;\n",
       "}\n",
       "\n",
       "mpl.figure.prototype.toolbar_button_onclick = function(name) {\n",
       "    if (name == 'download') {\n",
       "        this.handle_save(this, null);\n",
       "    } else {\n",
       "        this.send_message(\"toolbar_button\", {name: name});\n",
       "    }\n",
       "};\n",
       "\n",
       "mpl.figure.prototype.toolbar_button_onmouseover = function(tooltip) {\n",
       "    this.message.textContent = tooltip;\n",
       "};\n",
       "mpl.toolbar_items = [[\"Home\", \"Reset original view\", \"fa fa-home icon-home\", \"home\"], [\"Back\", \"Back to  previous view\", \"fa fa-arrow-left icon-arrow-left\", \"back\"], [\"Forward\", \"Forward to next view\", \"fa fa-arrow-right icon-arrow-right\", \"forward\"], [\"\", \"\", \"\", \"\"], [\"Pan\", \"Pan axes with left mouse, zoom with right\", \"fa fa-arrows icon-move\", \"pan\"], [\"Zoom\", \"Zoom to rectangle\", \"fa fa-square-o icon-check-empty\", \"zoom\"], [\"\", \"\", \"\", \"\"], [\"Download\", \"Download plot\", \"fa fa-floppy-o icon-save\", \"download\"]];\n",
       "\n",
       "mpl.extensions = [\"eps\", \"jpeg\", \"pdf\", \"png\", \"ps\", \"raw\", \"svg\", \"tif\"];\n",
       "\n",
       "mpl.default_extension = \"png\";var comm_websocket_adapter = function(comm) {\n",
       "    // Create a \"websocket\"-like object which calls the given IPython comm\n",
       "    // object with the appropriate methods. Currently this is a non binary\n",
       "    // socket, so there is still some room for performance tuning.\n",
       "    var ws = {};\n",
       "\n",
       "    ws.close = function() {\n",
       "        comm.close()\n",
       "    };\n",
       "    ws.send = function(m) {\n",
       "        //console.log('sending', m);\n",
       "        comm.send(m);\n",
       "    };\n",
       "    // Register the callback with on_msg.\n",
       "    comm.on_msg(function(msg) {\n",
       "        //console.log('receiving', msg['content']['data'], msg);\n",
       "        // Pass the mpl event to the overridden (by mpl) onmessage function.\n",
       "        ws.onmessage(msg['content']['data'])\n",
       "    });\n",
       "    return ws;\n",
       "}\n",
       "\n",
       "mpl.mpl_figure_comm = function(comm, msg) {\n",
       "    // This is the function which gets called when the mpl process\n",
       "    // starts-up an IPython Comm through the \"matplotlib\" channel.\n",
       "\n",
       "    var id = msg.content.data.id;\n",
       "    // Get hold of the div created by the display call when the Comm\n",
       "    // socket was opened in Python.\n",
       "    var element = $(\"#\" + id);\n",
       "    var ws_proxy = comm_websocket_adapter(comm)\n",
       "\n",
       "    function ondownload(figure, format) {\n",
       "        window.open(figure.imageObj.src);\n",
       "    }\n",
       "\n",
       "    var fig = new mpl.figure(id, ws_proxy,\n",
       "                           ondownload,\n",
       "                           element.get(0));\n",
       "\n",
       "    // Call onopen now - mpl needs it, as it is assuming we've passed it a real\n",
       "    // web socket which is closed, not our websocket->open comm proxy.\n",
       "    ws_proxy.onopen();\n",
       "\n",
       "    fig.parent_element = element.get(0);\n",
       "    fig.cell_info = mpl.find_output_cell(\"<div id='\" + id + \"'></div>\");\n",
       "    if (!fig.cell_info) {\n",
       "        console.error(\"Failed to find cell for figure\", id, fig);\n",
       "        return;\n",
       "    }\n",
       "\n",
       "    var output_index = fig.cell_info[2]\n",
       "    var cell = fig.cell_info[0];\n",
       "\n",
       "};\n",
       "\n",
       "mpl.figure.prototype.handle_close = function(fig, msg) {\n",
       "    var width = fig.canvas.width/mpl.ratio\n",
       "    fig.root.unbind('remove')\n",
       "\n",
       "    // Update the output cell to use the data from the current canvas.\n",
       "    fig.push_to_output();\n",
       "    var dataURL = fig.canvas.toDataURL();\n",
       "    // Re-enable the keyboard manager in IPython - without this line, in FF,\n",
       "    // the notebook keyboard shortcuts fail.\n",
       "    IPython.keyboard_manager.enable()\n",
       "    $(fig.parent_element).html('<img src=\"' + dataURL + '\" width=\"' + width + '\">');\n",
       "    fig.close_ws(fig, msg);\n",
       "}\n",
       "\n",
       "mpl.figure.prototype.close_ws = function(fig, msg){\n",
       "    fig.send_message('closing', msg);\n",
       "    // fig.ws.close()\n",
       "}\n",
       "\n",
       "mpl.figure.prototype.push_to_output = function(remove_interactive) {\n",
       "    // Turn the data on the canvas into data in the output cell.\n",
       "    var width = this.canvas.width/mpl.ratio\n",
       "    var dataURL = this.canvas.toDataURL();\n",
       "    this.cell_info[1]['text/html'] = '<img src=\"' + dataURL + '\" width=\"' + width + '\">';\n",
       "}\n",
       "\n",
       "mpl.figure.prototype.updated_canvas_event = function() {\n",
       "    // Tell IPython that the notebook contents must change.\n",
       "    IPython.notebook.set_dirty(true);\n",
       "    this.send_message(\"ack\", {});\n",
       "    var fig = this;\n",
       "    // Wait a second, then push the new image to the DOM so\n",
       "    // that it is saved nicely (might be nice to debounce this).\n",
       "    setTimeout(function () { fig.push_to_output() }, 1000);\n",
       "}\n",
       "\n",
       "mpl.figure.prototype._init_toolbar = function() {\n",
       "    var fig = this;\n",
       "\n",
       "    var nav_element = $('<div/>')\n",
       "    nav_element.attr('style', 'width: 100%');\n",
       "    this.root.append(nav_element);\n",
       "\n",
       "    // Define a callback function for later on.\n",
       "    function toolbar_event(event) {\n",
       "        return fig.toolbar_button_onclick(event['data']);\n",
       "    }\n",
       "    function toolbar_mouse_event(event) {\n",
       "        return fig.toolbar_button_onmouseover(event['data']);\n",
       "    }\n",
       "\n",
       "    for(var toolbar_ind in mpl.toolbar_items){\n",
       "        var name = mpl.toolbar_items[toolbar_ind][0];\n",
       "        var tooltip = mpl.toolbar_items[toolbar_ind][1];\n",
       "        var image = mpl.toolbar_items[toolbar_ind][2];\n",
       "        var method_name = mpl.toolbar_items[toolbar_ind][3];\n",
       "\n",
       "        if (!name) { continue; };\n",
       "\n",
       "        var button = $('<button class=\"btn btn-default\" href=\"#\" title=\"' + name + '\"><i class=\"fa ' + image + ' fa-lg\"></i></button>');\n",
       "        button.click(method_name, toolbar_event);\n",
       "        button.mouseover(tooltip, toolbar_mouse_event);\n",
       "        nav_element.append(button);\n",
       "    }\n",
       "\n",
       "    // Add the status bar.\n",
       "    var status_bar = $('<span class=\"mpl-message\" style=\"text-align:right; float: right;\"/>');\n",
       "    nav_element.append(status_bar);\n",
       "    this.message = status_bar[0];\n",
       "\n",
       "    // Add the close button to the window.\n",
       "    var buttongrp = $('<div class=\"btn-group inline pull-right\"></div>');\n",
       "    var button = $('<button class=\"btn btn-mini btn-primary\" href=\"#\" title=\"Stop Interaction\"><i class=\"fa fa-power-off icon-remove icon-large\"></i></button>');\n",
       "    button.click(function (evt) { fig.handle_close(fig, {}); } );\n",
       "    button.mouseover('Stop Interaction', toolbar_mouse_event);\n",
       "    buttongrp.append(button);\n",
       "    var titlebar = this.root.find($('.ui-dialog-titlebar'));\n",
       "    titlebar.prepend(buttongrp);\n",
       "}\n",
       "\n",
       "mpl.figure.prototype._root_extra_style = function(el){\n",
       "    var fig = this\n",
       "    el.on(\"remove\", function(){\n",
       "\tfig.close_ws(fig, {});\n",
       "    });\n",
       "}\n",
       "\n",
       "mpl.figure.prototype._canvas_extra_style = function(el){\n",
       "    // this is important to make the div 'focusable\n",
       "    el.attr('tabindex', 0)\n",
       "    // reach out to IPython and tell the keyboard manager to turn it's self\n",
       "    // off when our div gets focus\n",
       "\n",
       "    // location in version 3\n",
       "    if (IPython.notebook.keyboard_manager) {\n",
       "        IPython.notebook.keyboard_manager.register_events(el);\n",
       "    }\n",
       "    else {\n",
       "        // location in version 2\n",
       "        IPython.keyboard_manager.register_events(el);\n",
       "    }\n",
       "\n",
       "}\n",
       "\n",
       "mpl.figure.prototype._key_event_extra = function(event, name) {\n",
       "    var manager = IPython.notebook.keyboard_manager;\n",
       "    if (!manager)\n",
       "        manager = IPython.keyboard_manager;\n",
       "\n",
       "    // Check for shift+enter\n",
       "    if (event.shiftKey && event.which == 13) {\n",
       "        this.canvas_div.blur();\n",
       "        event.shiftKey = false;\n",
       "        // Send a \"J\" for go to next cell\n",
       "        event.which = 74;\n",
       "        event.keyCode = 74;\n",
       "        manager.command_mode();\n",
       "        manager.handle_keydown(event);\n",
       "    }\n",
       "}\n",
       "\n",
       "mpl.figure.prototype.handle_save = function(fig, msg) {\n",
       "    fig.ondownload(fig, null);\n",
       "}\n",
       "\n",
       "\n",
       "mpl.find_output_cell = function(html_output) {\n",
       "    // Return the cell and output element which can be found *uniquely* in the notebook.\n",
       "    // Note - this is a bit hacky, but it is done because the \"notebook_saving.Notebook\"\n",
       "    // IPython event is triggered only after the cells have been serialised, which for\n",
       "    // our purposes (turning an active figure into a static one), is too late.\n",
       "    var cells = IPython.notebook.get_cells();\n",
       "    var ncells = cells.length;\n",
       "    for (var i=0; i<ncells; i++) {\n",
       "        var cell = cells[i];\n",
       "        if (cell.cell_type === 'code'){\n",
       "            for (var j=0; j<cell.output_area.outputs.length; j++) {\n",
       "                var data = cell.output_area.outputs[j];\n",
       "                if (data.data) {\n",
       "                    // IPython >= 3 moved mimebundle to data attribute of output\n",
       "                    data = data.data;\n",
       "                }\n",
       "                if (data['text/html'] == html_output) {\n",
       "                    return [cell, data, j];\n",
       "                }\n",
       "            }\n",
       "        }\n",
       "    }\n",
       "}\n",
       "\n",
       "// Register the function which deals with the matplotlib target/channel.\n",
       "// The kernel may be null if the page has been refreshed.\n",
       "if (IPython.notebook.kernel != null) {\n",
       "    IPython.notebook.kernel.comm_manager.register_target('matplotlib', mpl.mpl_figure_comm);\n",
       "}\n"
      ],
      "text/plain": [
       "<IPython.core.display.Javascript object>"
      ]
     },
     "metadata": {},
     "output_type": "display_data"
    },
    {
     "data": {
      "text/html": [
       "<img src=\"data:image/png;base64,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\" width=\"431.818172458775\">"
      ],
      "text/plain": [
       "<IPython.core.display.HTML object>"
      ]
     },
     "metadata": {},
     "output_type": "display_data"
    },
    {
     "data": {
      "application/javascript": [
       "/* Put everything inside the global mpl namespace */\n",
       "window.mpl = {};\n",
       "\n",
       "\n",
       "mpl.get_websocket_type = function() {\n",
       "    if (typeof(WebSocket) !== 'undefined') {\n",
       "        return WebSocket;\n",
       "    } else if (typeof(MozWebSocket) !== 'undefined') {\n",
       "        return MozWebSocket;\n",
       "    } else {\n",
       "        alert('Your browser does not have WebSocket support.' +\n",
       "              'Please try Chrome, Safari or Firefox ≥ 6. ' +\n",
       "              'Firefox 4 and 5 are also supported but you ' +\n",
       "              'have to enable WebSockets in about:config.');\n",
       "    };\n",
       "}\n",
       "\n",
       "mpl.figure = function(figure_id, websocket, ondownload, parent_element) {\n",
       "    this.id = figure_id;\n",
       "\n",
       "    this.ws = websocket;\n",
       "\n",
       "    this.supports_binary = (this.ws.binaryType != undefined);\n",
       "\n",
       "    if (!this.supports_binary) {\n",
       "        var warnings = document.getElementById(\"mpl-warnings\");\n",
       "        if (warnings) {\n",
       "            warnings.style.display = 'block';\n",
       "            warnings.textContent = (\n",
       "                \"This browser does not support binary websocket messages. \" +\n",
       "                    \"Performance may be slow.\");\n",
       "        }\n",
       "    }\n",
       "\n",
       "    this.imageObj = new Image();\n",
       "\n",
       "    this.context = undefined;\n",
       "    this.message = undefined;\n",
       "    this.canvas = undefined;\n",
       "    this.rubberband_canvas = undefined;\n",
       "    this.rubberband_context = undefined;\n",
       "    this.format_dropdown = undefined;\n",
       "\n",
       "    this.image_mode = 'full';\n",
       "\n",
       "    this.root = $('<div/>');\n",
       "    this._root_extra_style(this.root)\n",
       "    this.root.attr('style', 'display: inline-block');\n",
       "\n",
       "    $(parent_element).append(this.root);\n",
       "\n",
       "    this._init_header(this);\n",
       "    this._init_canvas(this);\n",
       "    this._init_toolbar(this);\n",
       "\n",
       "    var fig = this;\n",
       "\n",
       "    this.waiting = false;\n",
       "\n",
       "    this.ws.onopen =  function () {\n",
       "            fig.send_message(\"supports_binary\", {value: fig.supports_binary});\n",
       "            fig.send_message(\"send_image_mode\", {});\n",
       "            if (mpl.ratio != 1) {\n",
       "                fig.send_message(\"set_dpi_ratio\", {'dpi_ratio': mpl.ratio});\n",
       "            }\n",
       "            fig.send_message(\"refresh\", {});\n",
       "        }\n",
       "\n",
       "    this.imageObj.onload = function() {\n",
       "            if (fig.image_mode == 'full') {\n",
       "                // Full images could contain transparency (where diff images\n",
       "                // almost always do), so we need to clear the canvas so that\n",
       "                // there is no ghosting.\n",
       "                fig.context.clearRect(0, 0, fig.canvas.width, fig.canvas.height);\n",
       "            }\n",
       "            fig.context.drawImage(fig.imageObj, 0, 0);\n",
       "        };\n",
       "\n",
       "    this.imageObj.onunload = function() {\n",
       "        fig.ws.close();\n",
       "    }\n",
       "\n",
       "    this.ws.onmessage = this._make_on_message_function(this);\n",
       "\n",
       "    this.ondownload = ondownload;\n",
       "}\n",
       "\n",
       "mpl.figure.prototype._init_header = function() {\n",
       "    var titlebar = $(\n",
       "        '<div class=\"ui-dialog-titlebar ui-widget-header ui-corner-all ' +\n",
       "        'ui-helper-clearfix\"/>');\n",
       "    var titletext = $(\n",
       "        '<div class=\"ui-dialog-title\" style=\"width: 100%; ' +\n",
       "        'text-align: center; padding: 3px;\"/>');\n",
       "    titlebar.append(titletext)\n",
       "    this.root.append(titlebar);\n",
       "    this.header = titletext[0];\n",
       "}\n",
       "\n",
       "\n",
       "\n",
       "mpl.figure.prototype._canvas_extra_style = function(canvas_div) {\n",
       "\n",
       "}\n",
       "\n",
       "\n",
       "mpl.figure.prototype._root_extra_style = function(canvas_div) {\n",
       "\n",
       "}\n",
       "\n",
       "mpl.figure.prototype._init_canvas = function() {\n",
       "    var fig = this;\n",
       "\n",
       "    var canvas_div = $('<div/>');\n",
       "\n",
       "    canvas_div.attr('style', 'position: relative; clear: both; outline: 0');\n",
       "\n",
       "    function canvas_keyboard_event(event) {\n",
       "        return fig.key_event(event, event['data']);\n",
       "    }\n",
       "\n",
       "    canvas_div.keydown('key_press', canvas_keyboard_event);\n",
       "    canvas_div.keyup('key_release', canvas_keyboard_event);\n",
       "    this.canvas_div = canvas_div\n",
       "    this._canvas_extra_style(canvas_div)\n",
       "    this.root.append(canvas_div);\n",
       "\n",
       "    var canvas = $('<canvas/>');\n",
       "    canvas.addClass('mpl-canvas');\n",
       "    canvas.attr('style', \"left: 0; top: 0; z-index: 0; outline: 0\")\n",
       "\n",
       "    this.canvas = canvas[0];\n",
       "    this.context = canvas[0].getContext(\"2d\");\n",
       "\n",
       "    var backingStore = this.context.backingStorePixelRatio ||\n",
       "\tthis.context.webkitBackingStorePixelRatio ||\n",
       "\tthis.context.mozBackingStorePixelRatio ||\n",
       "\tthis.context.msBackingStorePixelRatio ||\n",
       "\tthis.context.oBackingStorePixelRatio ||\n",
       "\tthis.context.backingStorePixelRatio || 1;\n",
       "\n",
       "    mpl.ratio = (window.devicePixelRatio || 1) / backingStore;\n",
       "\n",
       "    var rubberband = $('<canvas/>');\n",
       "    rubberband.attr('style', \"position: absolute; left: 0; top: 0; z-index: 1;\")\n",
       "\n",
       "    var pass_mouse_events = true;\n",
       "\n",
       "    canvas_div.resizable({\n",
       "        start: function(event, ui) {\n",
       "            pass_mouse_events = false;\n",
       "        },\n",
       "        resize: function(event, ui) {\n",
       "            fig.request_resize(ui.size.width, ui.size.height);\n",
       "        },\n",
       "        stop: function(event, ui) {\n",
       "            pass_mouse_events = true;\n",
       "            fig.request_resize(ui.size.width, ui.size.height);\n",
       "        },\n",
       "    });\n",
       "\n",
       "    function mouse_event_fn(event) {\n",
       "        if (pass_mouse_events)\n",
       "            return fig.mouse_event(event, event['data']);\n",
       "    }\n",
       "\n",
       "    rubberband.mousedown('button_press', mouse_event_fn);\n",
       "    rubberband.mouseup('button_release', mouse_event_fn);\n",
       "    // Throttle sequential mouse events to 1 every 20ms.\n",
       "    rubberband.mousemove('motion_notify', mouse_event_fn);\n",
       "\n",
       "    rubberband.mouseenter('figure_enter', mouse_event_fn);\n",
       "    rubberband.mouseleave('figure_leave', mouse_event_fn);\n",
       "\n",
       "    canvas_div.on(\"wheel\", function (event) {\n",
       "        event = event.originalEvent;\n",
       "        event['data'] = 'scroll'\n",
       "        if (event.deltaY < 0) {\n",
       "            event.step = 1;\n",
       "        } else {\n",
       "            event.step = -1;\n",
       "        }\n",
       "        mouse_event_fn(event);\n",
       "    });\n",
       "\n",
       "    canvas_div.append(canvas);\n",
       "    canvas_div.append(rubberband);\n",
       "\n",
       "    this.rubberband = rubberband;\n",
       "    this.rubberband_canvas = rubberband[0];\n",
       "    this.rubberband_context = rubberband[0].getContext(\"2d\");\n",
       "    this.rubberband_context.strokeStyle = \"#000000\";\n",
       "\n",
       "    this._resize_canvas = function(width, height) {\n",
       "        // Keep the size of the canvas, canvas container, and rubber band\n",
       "        // canvas in synch.\n",
       "        canvas_div.css('width', width)\n",
       "        canvas_div.css('height', height)\n",
       "\n",
       "        canvas.attr('width', width * mpl.ratio);\n",
       "        canvas.attr('height', height * mpl.ratio);\n",
       "        canvas.attr('style', 'width: ' + width + 'px; height: ' + height + 'px;');\n",
       "\n",
       "        rubberband.attr('width', width);\n",
       "        rubberband.attr('height', height);\n",
       "    }\n",
       "\n",
       "    // Set the figure to an initial 600x600px, this will subsequently be updated\n",
       "    // upon first draw.\n",
       "    this._resize_canvas(600, 600);\n",
       "\n",
       "    // Disable right mouse context menu.\n",
       "    $(this.rubberband_canvas).bind(\"contextmenu\",function(e){\n",
       "        return false;\n",
       "    });\n",
       "\n",
       "    function set_focus () {\n",
       "        canvas.focus();\n",
       "        canvas_div.focus();\n",
       "    }\n",
       "\n",
       "    window.setTimeout(set_focus, 100);\n",
       "}\n",
       "\n",
       "mpl.figure.prototype._init_toolbar = function() {\n",
       "    var fig = this;\n",
       "\n",
       "    var nav_element = $('<div/>')\n",
       "    nav_element.attr('style', 'width: 100%');\n",
       "    this.root.append(nav_element);\n",
       "\n",
       "    // Define a callback function for later on.\n",
       "    function toolbar_event(event) {\n",
       "        return fig.toolbar_button_onclick(event['data']);\n",
       "    }\n",
       "    function toolbar_mouse_event(event) {\n",
       "        return fig.toolbar_button_onmouseover(event['data']);\n",
       "    }\n",
       "\n",
       "    for(var toolbar_ind in mpl.toolbar_items) {\n",
       "        var name = mpl.toolbar_items[toolbar_ind][0];\n",
       "        var tooltip = mpl.toolbar_items[toolbar_ind][1];\n",
       "        var image = mpl.toolbar_items[toolbar_ind][2];\n",
       "        var method_name = mpl.toolbar_items[toolbar_ind][3];\n",
       "\n",
       "        if (!name) {\n",
       "            // put a spacer in here.\n",
       "            continue;\n",
       "        }\n",
       "        var button = $('<button/>');\n",
       "        button.addClass('ui-button ui-widget ui-state-default ui-corner-all ' +\n",
       "                        'ui-button-icon-only');\n",
       "        button.attr('role', 'button');\n",
       "        button.attr('aria-disabled', 'false');\n",
       "        button.click(method_name, toolbar_event);\n",
       "        button.mouseover(tooltip, toolbar_mouse_event);\n",
       "\n",
       "        var icon_img = $('<span/>');\n",
       "        icon_img.addClass('ui-button-icon-primary ui-icon');\n",
       "        icon_img.addClass(image);\n",
       "        icon_img.addClass('ui-corner-all');\n",
       "\n",
       "        var tooltip_span = $('<span/>');\n",
       "        tooltip_span.addClass('ui-button-text');\n",
       "        tooltip_span.html(tooltip);\n",
       "\n",
       "        button.append(icon_img);\n",
       "        button.append(tooltip_span);\n",
       "\n",
       "        nav_element.append(button);\n",
       "    }\n",
       "\n",
       "    var fmt_picker_span = $('<span/>');\n",
       "\n",
       "    var fmt_picker = $('<select/>');\n",
       "    fmt_picker.addClass('mpl-toolbar-option ui-widget ui-widget-content');\n",
       "    fmt_picker_span.append(fmt_picker);\n",
       "    nav_element.append(fmt_picker_span);\n",
       "    this.format_dropdown = fmt_picker[0];\n",
       "\n",
       "    for (var ind in mpl.extensions) {\n",
       "        var fmt = mpl.extensions[ind];\n",
       "        var option = $(\n",
       "            '<option/>', {selected: fmt === mpl.default_extension}).html(fmt);\n",
       "        fmt_picker.append(option)\n",
       "    }\n",
       "\n",
       "    // Add hover states to the ui-buttons\n",
       "    $( \".ui-button\" ).hover(\n",
       "        function() { $(this).addClass(\"ui-state-hover\");},\n",
       "        function() { $(this).removeClass(\"ui-state-hover\");}\n",
       "    );\n",
       "\n",
       "    var status_bar = $('<span class=\"mpl-message\"/>');\n",
       "    nav_element.append(status_bar);\n",
       "    this.message = status_bar[0];\n",
       "}\n",
       "\n",
       "mpl.figure.prototype.request_resize = function(x_pixels, y_pixels) {\n",
       "    // Request matplotlib to resize the figure. Matplotlib will then trigger a resize in the client,\n",
       "    // which will in turn request a refresh of the image.\n",
       "    this.send_message('resize', {'width': x_pixels, 'height': y_pixels});\n",
       "}\n",
       "\n",
       "mpl.figure.prototype.send_message = function(type, properties) {\n",
       "    properties['type'] = type;\n",
       "    properties['figure_id'] = this.id;\n",
       "    this.ws.send(JSON.stringify(properties));\n",
       "}\n",
       "\n",
       "mpl.figure.prototype.send_draw_message = function() {\n",
       "    if (!this.waiting) {\n",
       "        this.waiting = true;\n",
       "        this.ws.send(JSON.stringify({type: \"draw\", figure_id: this.id}));\n",
       "    }\n",
       "}\n",
       "\n",
       "\n",
       "mpl.figure.prototype.handle_save = function(fig, msg) {\n",
       "    var format_dropdown = fig.format_dropdown;\n",
       "    var format = format_dropdown.options[format_dropdown.selectedIndex].value;\n",
       "    fig.ondownload(fig, format);\n",
       "}\n",
       "\n",
       "\n",
       "mpl.figure.prototype.handle_resize = function(fig, msg) {\n",
       "    var size = msg['size'];\n",
       "    if (size[0] != fig.canvas.width || size[1] != fig.canvas.height) {\n",
       "        fig._resize_canvas(size[0], size[1]);\n",
       "        fig.send_message(\"refresh\", {});\n",
       "    };\n",
       "}\n",
       "\n",
       "mpl.figure.prototype.handle_rubberband = function(fig, msg) {\n",
       "    var x0 = msg['x0'] / mpl.ratio;\n",
       "    var y0 = (fig.canvas.height - msg['y0']) / mpl.ratio;\n",
       "    var x1 = msg['x1'] / mpl.ratio;\n",
       "    var y1 = (fig.canvas.height - msg['y1']) / mpl.ratio;\n",
       "    x0 = Math.floor(x0) + 0.5;\n",
       "    y0 = Math.floor(y0) + 0.5;\n",
       "    x1 = Math.floor(x1) + 0.5;\n",
       "    y1 = Math.floor(y1) + 0.5;\n",
       "    var min_x = Math.min(x0, x1);\n",
       "    var min_y = Math.min(y0, y1);\n",
       "    var width = Math.abs(x1 - x0);\n",
       "    var height = Math.abs(y1 - y0);\n",
       "\n",
       "    fig.rubberband_context.clearRect(\n",
       "        0, 0, fig.canvas.width, fig.canvas.height);\n",
       "\n",
       "    fig.rubberband_context.strokeRect(min_x, min_y, width, height);\n",
       "}\n",
       "\n",
       "mpl.figure.prototype.handle_figure_label = function(fig, msg) {\n",
       "    // Updates the figure title.\n",
       "    fig.header.textContent = msg['label'];\n",
       "}\n",
       "\n",
       "mpl.figure.prototype.handle_cursor = function(fig, msg) {\n",
       "    var cursor = msg['cursor'];\n",
       "    switch(cursor)\n",
       "    {\n",
       "    case 0:\n",
       "        cursor = 'pointer';\n",
       "        break;\n",
       "    case 1:\n",
       "        cursor = 'default';\n",
       "        break;\n",
       "    case 2:\n",
       "        cursor = 'crosshair';\n",
       "        break;\n",
       "    case 3:\n",
       "        cursor = 'move';\n",
       "        break;\n",
       "    }\n",
       "    fig.rubberband_canvas.style.cursor = cursor;\n",
       "}\n",
       "\n",
       "mpl.figure.prototype.handle_message = function(fig, msg) {\n",
       "    fig.message.textContent = msg['message'];\n",
       "}\n",
       "\n",
       "mpl.figure.prototype.handle_draw = function(fig, msg) {\n",
       "    // Request the server to send over a new figure.\n",
       "    fig.send_draw_message();\n",
       "}\n",
       "\n",
       "mpl.figure.prototype.handle_image_mode = function(fig, msg) {\n",
       "    fig.image_mode = msg['mode'];\n",
       "}\n",
       "\n",
       "mpl.figure.prototype.updated_canvas_event = function() {\n",
       "    // Called whenever the canvas gets updated.\n",
       "    this.send_message(\"ack\", {});\n",
       "}\n",
       "\n",
       "// A function to construct a web socket function for onmessage handling.\n",
       "// Called in the figure constructor.\n",
       "mpl.figure.prototype._make_on_message_function = function(fig) {\n",
       "    return function socket_on_message(evt) {\n",
       "        if (evt.data instanceof Blob) {\n",
       "            /* FIXME: We get \"Resource interpreted as Image but\n",
       "             * transferred with MIME type text/plain:\" errors on\n",
       "             * Chrome.  But how to set the MIME type?  It doesn't seem\n",
       "             * to be part of the websocket stream */\n",
       "            evt.data.type = \"image/png\";\n",
       "\n",
       "            /* Free the memory for the previous frames */\n",
       "            if (fig.imageObj.src) {\n",
       "                (window.URL || window.webkitURL).revokeObjectURL(\n",
       "                    fig.imageObj.src);\n",
       "            }\n",
       "\n",
       "            fig.imageObj.src = (window.URL || window.webkitURL).createObjectURL(\n",
       "                evt.data);\n",
       "            fig.updated_canvas_event();\n",
       "            fig.waiting = false;\n",
       "            return;\n",
       "        }\n",
       "        else if (typeof evt.data === 'string' && evt.data.slice(0, 21) == \"data:image/png;base64\") {\n",
       "            fig.imageObj.src = evt.data;\n",
       "            fig.updated_canvas_event();\n",
       "            fig.waiting = false;\n",
       "            return;\n",
       "        }\n",
       "\n",
       "        var msg = JSON.parse(evt.data);\n",
       "        var msg_type = msg['type'];\n",
       "\n",
       "        // Call the  \"handle_{type}\" callback, which takes\n",
       "        // the figure and JSON message as its only arguments.\n",
       "        try {\n",
       "            var callback = fig[\"handle_\" + msg_type];\n",
       "        } catch (e) {\n",
       "            console.log(\"No handler for the '\" + msg_type + \"' message type: \", msg);\n",
       "            return;\n",
       "        }\n",
       "\n",
       "        if (callback) {\n",
       "            try {\n",
       "                // console.log(\"Handling '\" + msg_type + \"' message: \", msg);\n",
       "                callback(fig, msg);\n",
       "            } catch (e) {\n",
       "                console.log(\"Exception inside the 'handler_\" + msg_type + \"' callback:\", e, e.stack, msg);\n",
       "            }\n",
       "        }\n",
       "    };\n",
       "}\n",
       "\n",
       "// from http://stackoverflow.com/questions/1114465/getting-mouse-location-in-canvas\n",
       "mpl.findpos = function(e) {\n",
       "    //this section is from http://www.quirksmode.org/js/events_properties.html\n",
       "    var targ;\n",
       "    if (!e)\n",
       "        e = window.event;\n",
       "    if (e.target)\n",
       "        targ = e.target;\n",
       "    else if (e.srcElement)\n",
       "        targ = e.srcElement;\n",
       "    if (targ.nodeType == 3) // defeat Safari bug\n",
       "        targ = targ.parentNode;\n",
       "\n",
       "    // jQuery normalizes the pageX and pageY\n",
       "    // pageX,Y are the mouse positions relative to the document\n",
       "    // offset() returns the position of the element relative to the document\n",
       "    var x = e.pageX - $(targ).offset().left;\n",
       "    var y = e.pageY - $(targ).offset().top;\n",
       "\n",
       "    return {\"x\": x, \"y\": y};\n",
       "};\n",
       "\n",
       "/*\n",
       " * return a copy of an object with only non-object keys\n",
       " * we need this to avoid circular references\n",
       " * http://stackoverflow.com/a/24161582/3208463\n",
       " */\n",
       "function simpleKeys (original) {\n",
       "  return Object.keys(original).reduce(function (obj, key) {\n",
       "    if (typeof original[key] !== 'object')\n",
       "        obj[key] = original[key]\n",
       "    return obj;\n",
       "  }, {});\n",
       "}\n",
       "\n",
       "mpl.figure.prototype.mouse_event = function(event, name) {\n",
       "    var canvas_pos = mpl.findpos(event)\n",
       "\n",
       "    if (name === 'button_press')\n",
       "    {\n",
       "        this.canvas.focus();\n",
       "        this.canvas_div.focus();\n",
       "    }\n",
       "\n",
       "    var x = canvas_pos.x * mpl.ratio;\n",
       "    var y = canvas_pos.y * mpl.ratio;\n",
       "\n",
       "    this.send_message(name, {x: x, y: y, button: event.button,\n",
       "                             step: event.step,\n",
       "                             guiEvent: simpleKeys(event)});\n",
       "\n",
       "    /* This prevents the web browser from automatically changing to\n",
       "     * the text insertion cursor when the button is pressed.  We want\n",
       "     * to control all of the cursor setting manually through the\n",
       "     * 'cursor' event from matplotlib */\n",
       "    event.preventDefault();\n",
       "    return false;\n",
       "}\n",
       "\n",
       "mpl.figure.prototype._key_event_extra = function(event, name) {\n",
       "    // Handle any extra behaviour associated with a key event\n",
       "}\n",
       "\n",
       "mpl.figure.prototype.key_event = function(event, name) {\n",
       "\n",
       "    // Prevent repeat events\n",
       "    if (name == 'key_press')\n",
       "    {\n",
       "        if (event.which === this._key)\n",
       "            return;\n",
       "        else\n",
       "            this._key = event.which;\n",
       "    }\n",
       "    if (name == 'key_release')\n",
       "        this._key = null;\n",
       "\n",
       "    var value = '';\n",
       "    if (event.ctrlKey && event.which != 17)\n",
       "        value += \"ctrl+\";\n",
       "    if (event.altKey && event.which != 18)\n",
       "        value += \"alt+\";\n",
       "    if (event.shiftKey && event.which != 16)\n",
       "        value += \"shift+\";\n",
       "\n",
       "    value += 'k';\n",
       "    value += event.which.toString();\n",
       "\n",
       "    this._key_event_extra(event, name);\n",
       "\n",
       "    this.send_message(name, {key: value,\n",
       "                             guiEvent: simpleKeys(event)});\n",
       "    return false;\n",
       "}\n",
       "\n",
       "mpl.figure.prototype.toolbar_button_onclick = function(name) {\n",
       "    if (name == 'download') {\n",
       "        this.handle_save(this, null);\n",
       "    } else {\n",
       "        this.send_message(\"toolbar_button\", {name: name});\n",
       "    }\n",
       "};\n",
       "\n",
       "mpl.figure.prototype.toolbar_button_onmouseover = function(tooltip) {\n",
       "    this.message.textContent = tooltip;\n",
       "};\n",
       "mpl.toolbar_items = [[\"Home\", \"Reset original view\", \"fa fa-home icon-home\", \"home\"], [\"Back\", \"Back to  previous view\", \"fa fa-arrow-left icon-arrow-left\", \"back\"], [\"Forward\", \"Forward to next view\", \"fa fa-arrow-right icon-arrow-right\", \"forward\"], [\"\", \"\", \"\", \"\"], [\"Pan\", \"Pan axes with left mouse, zoom with right\", \"fa fa-arrows icon-move\", \"pan\"], [\"Zoom\", \"Zoom to rectangle\", \"fa fa-square-o icon-check-empty\", \"zoom\"], [\"\", \"\", \"\", \"\"], [\"Download\", \"Download plot\", \"fa fa-floppy-o icon-save\", \"download\"]];\n",
       "\n",
       "mpl.extensions = [\"eps\", \"jpeg\", \"pdf\", \"png\", \"ps\", \"raw\", \"svg\", \"tif\"];\n",
       "\n",
       "mpl.default_extension = \"png\";var comm_websocket_adapter = function(comm) {\n",
       "    // Create a \"websocket\"-like object which calls the given IPython comm\n",
       "    // object with the appropriate methods. Currently this is a non binary\n",
       "    // socket, so there is still some room for performance tuning.\n",
       "    var ws = {};\n",
       "\n",
       "    ws.close = function() {\n",
       "        comm.close()\n",
       "    };\n",
       "    ws.send = function(m) {\n",
       "        //console.log('sending', m);\n",
       "        comm.send(m);\n",
       "    };\n",
       "    // Register the callback with on_msg.\n",
       "    comm.on_msg(function(msg) {\n",
       "        //console.log('receiving', msg['content']['data'], msg);\n",
       "        // Pass the mpl event to the overridden (by mpl) onmessage function.\n",
       "        ws.onmessage(msg['content']['data'])\n",
       "    });\n",
       "    return ws;\n",
       "}\n",
       "\n",
       "mpl.mpl_figure_comm = function(comm, msg) {\n",
       "    // This is the function which gets called when the mpl process\n",
       "    // starts-up an IPython Comm through the \"matplotlib\" channel.\n",
       "\n",
       "    var id = msg.content.data.id;\n",
       "    // Get hold of the div created by the display call when the Comm\n",
       "    // socket was opened in Python.\n",
       "    var element = $(\"#\" + id);\n",
       "    var ws_proxy = comm_websocket_adapter(comm)\n",
       "\n",
       "    function ondownload(figure, format) {\n",
       "        window.open(figure.imageObj.src);\n",
       "    }\n",
       "\n",
       "    var fig = new mpl.figure(id, ws_proxy,\n",
       "                           ondownload,\n",
       "                           element.get(0));\n",
       "\n",
       "    // Call onopen now - mpl needs it, as it is assuming we've passed it a real\n",
       "    // web socket which is closed, not our websocket->open comm proxy.\n",
       "    ws_proxy.onopen();\n",
       "\n",
       "    fig.parent_element = element.get(0);\n",
       "    fig.cell_info = mpl.find_output_cell(\"<div id='\" + id + \"'></div>\");\n",
       "    if (!fig.cell_info) {\n",
       "        console.error(\"Failed to find cell for figure\", id, fig);\n",
       "        return;\n",
       "    }\n",
       "\n",
       "    var output_index = fig.cell_info[2]\n",
       "    var cell = fig.cell_info[0];\n",
       "\n",
       "};\n",
       "\n",
       "mpl.figure.prototype.handle_close = function(fig, msg) {\n",
       "    var width = fig.canvas.width/mpl.ratio\n",
       "    fig.root.unbind('remove')\n",
       "\n",
       "    // Update the output cell to use the data from the current canvas.\n",
       "    fig.push_to_output();\n",
       "    var dataURL = fig.canvas.toDataURL();\n",
       "    // Re-enable the keyboard manager in IPython - without this line, in FF,\n",
       "    // the notebook keyboard shortcuts fail.\n",
       "    IPython.keyboard_manager.enable()\n",
       "    $(fig.parent_element).html('<img src=\"' + dataURL + '\" width=\"' + width + '\">');\n",
       "    fig.close_ws(fig, msg);\n",
       "}\n",
       "\n",
       "mpl.figure.prototype.close_ws = function(fig, msg){\n",
       "    fig.send_message('closing', msg);\n",
       "    // fig.ws.close()\n",
       "}\n",
       "\n",
       "mpl.figure.prototype.push_to_output = function(remove_interactive) {\n",
       "    // Turn the data on the canvas into data in the output cell.\n",
       "    var width = this.canvas.width/mpl.ratio\n",
       "    var dataURL = this.canvas.toDataURL();\n",
       "    this.cell_info[1]['text/html'] = '<img src=\"' + dataURL + '\" width=\"' + width + '\">';\n",
       "}\n",
       "\n",
       "mpl.figure.prototype.updated_canvas_event = function() {\n",
       "    // Tell IPython that the notebook contents must change.\n",
       "    IPython.notebook.set_dirty(true);\n",
       "    this.send_message(\"ack\", {});\n",
       "    var fig = this;\n",
       "    // Wait a second, then push the new image to the DOM so\n",
       "    // that it is saved nicely (might be nice to debounce this).\n",
       "    setTimeout(function () { fig.push_to_output() }, 1000);\n",
       "}\n",
       "\n",
       "mpl.figure.prototype._init_toolbar = function() {\n",
       "    var fig = this;\n",
       "\n",
       "    var nav_element = $('<div/>')\n",
       "    nav_element.attr('style', 'width: 100%');\n",
       "    this.root.append(nav_element);\n",
       "\n",
       "    // Define a callback function for later on.\n",
       "    function toolbar_event(event) {\n",
       "        return fig.toolbar_button_onclick(event['data']);\n",
       "    }\n",
       "    function toolbar_mouse_event(event) {\n",
       "        return fig.toolbar_button_onmouseover(event['data']);\n",
       "    }\n",
       "\n",
       "    for(var toolbar_ind in mpl.toolbar_items){\n",
       "        var name = mpl.toolbar_items[toolbar_ind][0];\n",
       "        var tooltip = mpl.toolbar_items[toolbar_ind][1];\n",
       "        var image = mpl.toolbar_items[toolbar_ind][2];\n",
       "        var method_name = mpl.toolbar_items[toolbar_ind][3];\n",
       "\n",
       "        if (!name) { continue; };\n",
       "\n",
       "        var button = $('<button class=\"btn btn-default\" href=\"#\" title=\"' + name + '\"><i class=\"fa ' + image + ' fa-lg\"></i></button>');\n",
       "        button.click(method_name, toolbar_event);\n",
       "        button.mouseover(tooltip, toolbar_mouse_event);\n",
       "        nav_element.append(button);\n",
       "    }\n",
       "\n",
       "    // Add the status bar.\n",
       "    var status_bar = $('<span class=\"mpl-message\" style=\"text-align:right; float: right;\"/>');\n",
       "    nav_element.append(status_bar);\n",
       "    this.message = status_bar[0];\n",
       "\n",
       "    // Add the close button to the window.\n",
       "    var buttongrp = $('<div class=\"btn-group inline pull-right\"></div>');\n",
       "    var button = $('<button class=\"btn btn-mini btn-primary\" href=\"#\" title=\"Stop Interaction\"><i class=\"fa fa-power-off icon-remove icon-large\"></i></button>');\n",
       "    button.click(function (evt) { fig.handle_close(fig, {}); } );\n",
       "    button.mouseover('Stop Interaction', toolbar_mouse_event);\n",
       "    buttongrp.append(button);\n",
       "    var titlebar = this.root.find($('.ui-dialog-titlebar'));\n",
       "    titlebar.prepend(buttongrp);\n",
       "}\n",
       "\n",
       "mpl.figure.prototype._root_extra_style = function(el){\n",
       "    var fig = this\n",
       "    el.on(\"remove\", function(){\n",
       "\tfig.close_ws(fig, {});\n",
       "    });\n",
       "}\n",
       "\n",
       "mpl.figure.prototype._canvas_extra_style = function(el){\n",
       "    // this is important to make the div 'focusable\n",
       "    el.attr('tabindex', 0)\n",
       "    // reach out to IPython and tell the keyboard manager to turn it's self\n",
       "    // off when our div gets focus\n",
       "\n",
       "    // location in version 3\n",
       "    if (IPython.notebook.keyboard_manager) {\n",
       "        IPython.notebook.keyboard_manager.register_events(el);\n",
       "    }\n",
       "    else {\n",
       "        // location in version 2\n",
       "        IPython.keyboard_manager.register_events(el);\n",
       "    }\n",
       "\n",
       "}\n",
       "\n",
       "mpl.figure.prototype._key_event_extra = function(event, name) {\n",
       "    var manager = IPython.notebook.keyboard_manager;\n",
       "    if (!manager)\n",
       "        manager = IPython.keyboard_manager;\n",
       "\n",
       "    // Check for shift+enter\n",
       "    if (event.shiftKey && event.which == 13) {\n",
       "        this.canvas_div.blur();\n",
       "        event.shiftKey = false;\n",
       "        // Send a \"J\" for go to next cell\n",
       "        event.which = 74;\n",
       "        event.keyCode = 74;\n",
       "        manager.command_mode();\n",
       "        manager.handle_keydown(event);\n",
       "    }\n",
       "}\n",
       "\n",
       "mpl.figure.prototype.handle_save = function(fig, msg) {\n",
       "    fig.ondownload(fig, null);\n",
       "}\n",
       "\n",
       "\n",
       "mpl.find_output_cell = function(html_output) {\n",
       "    // Return the cell and output element which can be found *uniquely* in the notebook.\n",
       "    // Note - this is a bit hacky, but it is done because the \"notebook_saving.Notebook\"\n",
       "    // IPython event is triggered only after the cells have been serialised, which for\n",
       "    // our purposes (turning an active figure into a static one), is too late.\n",
       "    var cells = IPython.notebook.get_cells();\n",
       "    var ncells = cells.length;\n",
       "    for (var i=0; i<ncells; i++) {\n",
       "        var cell = cells[i];\n",
       "        if (cell.cell_type === 'code'){\n",
       "            for (var j=0; j<cell.output_area.outputs.length; j++) {\n",
       "                var data = cell.output_area.outputs[j];\n",
       "                if (data.data) {\n",
       "                    // IPython >= 3 moved mimebundle to data attribute of output\n",
       "                    data = data.data;\n",
       "                }\n",
       "                if (data['text/html'] == html_output) {\n",
       "                    return [cell, data, j];\n",
       "                }\n",
       "            }\n",
       "        }\n",
       "    }\n",
       "}\n",
       "\n",
       "// Register the function which deals with the matplotlib target/channel.\n",
       "// The kernel may be null if the page has been refreshed.\n",
       "if (IPython.notebook.kernel != null) {\n",
       "    IPython.notebook.kernel.comm_manager.register_target('matplotlib', mpl.mpl_figure_comm);\n",
       "}\n"
      ],
      "text/plain": [
       "<IPython.core.display.Javascript object>"
      ]
     },
     "metadata": {},
     "output_type": "display_data"
    },
    {
     "data": {
      "text/html": [
       "<img src=\"data:image/png;base64,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\" width=\"431.818172458775\">"
      ],
      "text/plain": [
       "<IPython.core.display.HTML object>"
      ]
     },
     "metadata": {},
     "output_type": "display_data"
    }
   ],
   "source": [
    "%matplotlib notebook\n",
    "plt.plot(data_rms[5][5])\n",
    "plt.grid()\n",
    "plt.show()"
   ]
  },
  {
   "cell_type": "code",
   "execution_count": 108,
   "metadata": {},
   "outputs": [
    {
     "data": {
      "image/png": "[encoded data removed]",
      "text/plain": [
       "<Figure size 432x288 with 1 Axes>"
      ]
     },
     "metadata": {},
     "output_type": "display_data"
    }
   ],
   "source": [
    "%matplotlib inline\n",
    "plt.plot(offdata[0])\n",
    "plt.plot(hotdata[0])\n",
    "plt.xlim(8000,8500)\n",
    "plt.show()"
   ]
  },
  {
   "cell_type": "code",
   "execution_count": 109,
   "metadata": {},
   "outputs": [
    {
     "data": {
      "text/plain": [
       "(-1, 1)"
      ]
     },
     "execution_count": 109,
     "metadata": {},
     "output_type": "execute_result"
    },
    {
     "data": {
      "image/png": "[encoded data removed]",
      "text/plain": [
       "<Figure size 432x288 with 1 Axes>"
      ]
     },
     "metadata": {},
     "output_type": "display_data"
    }
   ],
   "source": [
    "plt.plot(ondata[0][1][1])\n",
    "plt.xlim(8000,8200)\n",
    "plt.ylim(-1,1)"
   ]
  },
  {
   "cell_type": "code",
   "execution_count": 110,
   "metadata": {},
   "outputs": [
    {
     "name": "stdout",
     "output_type": "stream",
     "text": [
      "/home/amigos/git/analy_n2data/notebook\r\n"
     ]
    }
   ],
   "source": [
    "!pwd"
   ]
  },
  {
   "cell_type": "code",
   "execution_count": 111,
   "metadata": {},
   "outputs": [
    {
     "data": {
      "text/plain": [
       "(-2, 2)"
      ]
     },
     "execution_count": 111,
     "metadata": {},
     "output_type": "execute_result"
    },
    {
     "data": {
      "image/png": "[encoded data removed]",
      "text/plain": [
       "<Figure size 432x288 with 1 Axes>"
      ]
     },
     "metadata": {},
     "output_type": "display_data"
    }
   ],
   "source": [
    "plt.plot(data_rms[0][0])\n",
    "plt.xlim(8000,8200)\n",
    "plt.ylim(-2,2)"
   ]
  },
  {
   "cell_type": "code",
   "execution_count": 112,
   "metadata": {},
   "outputs": [
    {
     "name": "stdout",
     "output_type": "stream",
     "text": [
      "()\n"
     ]
    },
    {
     "data": {
      "text/plain": [
       "[<matplotlib.lines.Line2D at 0x7fcc1e336fd0>]"
      ]
     },
     "execution_count": 112,
     "metadata": {},
     "output_type": "execute_result"
    },
    {
     "data": {
      "image/png": "[encoded data removed]",
      "text/plain": [
       "<Figure size 432x288 with 1 Axes>"
      ]
     },
     "metadata": {},
     "output_type": "display_data"
    }
   ],
   "source": [
    "print(numpy.shape(data_on))\n",
    "plt.plot(data_on[180])"
   ]
  },
  {
   "cell_type": "code",
   "execution_count": null,
   "metadata": {
    "collapsed": true
   },
   "outputs": [],
   "source": []
  },
  {
   "cell_type": "code",
   "execution_count": null,
   "metadata": {
    "collapsed": true
   },
   "outputs": [],
   "source": []
  },
  {
   "cell_type": "code",
   "execution_count": null,
   "metadata": {
    "collapsed": true
   },
   "outputs": [],
   "source": []
  },
  {
   "cell_type": "code",
   "execution_count": null,
   "metadata": {
    "collapsed": true
   },
   "outputs": [],
   "source": []
  }
 ],
 "metadata": {
  "kernelspec": {
   "display_name": "Python 3",
   "language": "python",
   "name": "python3"
  },
  "language_info": {
   "codemirror_mode": {
    "name": "ipython",
    "version": 3
   },
   "file_extension": ".py",
   "mimetype": "text/x-python",
   "name": "python",
   "nbconvert_exporter": "python",
   "pygments_lexer": "ipython3",
   "version": "3.6.3"
  },
  "widgets": {
   "state": {
    "69cef02b5de64cd28537b73db5eaafe1": {
     "views": [
      {
       "cell_index": 46
      }
     ]
    },
    "a1def446d82c496b9beef01c766bc416": {
     "views": [
      {
       "cell_index": 46
      }
     ]
    },
    "c8da718324cb4a21bc4082d13c81de6b": {
     "views": [
      {
       "cell_index": 46
      }
     ]
    }
   },
   "version": "1.2.0"
  }
 },
 "nbformat": 4,
 "nbformat_minor": 2
}
